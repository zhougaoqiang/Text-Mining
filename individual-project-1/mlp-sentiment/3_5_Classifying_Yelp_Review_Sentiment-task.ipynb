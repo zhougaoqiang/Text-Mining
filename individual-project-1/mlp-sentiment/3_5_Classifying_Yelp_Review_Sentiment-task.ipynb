{
 "cells": [
  {
   "cell_type": "markdown",
   "metadata": {},
   "source": [
    "# Classifying Yelp Reviews (Classifying Sentiment of Restaurant Reviews, chapter 3) \n",
    "\n",
    "### Source: Chapter 3, Natural Language Processing with Pytorch. (2019). Delip Rao and Brian McMahan. O’Reilly: source code available on https://github.com/joosthub/PyTorchNLPBook\n",
    "\n",
    "### PyTorch tutorial: refer to https://pytorch.org/tutorials/"
   ]
  },
  {
   "cell_type": "markdown",
   "metadata": {},
   "source": [
    "## Imports"
   ]
  },
  {
   "cell_type": "code",
   "execution_count": 1,
   "metadata": {},
   "outputs": [
    {
     "data": {
      "text/plain": [
       "'\\nimport os\\nos.environ[\"KMP_DUPLICATE_LIB_OK\"] = \"TRUE\"\\nuse to prevent kernal crash due to re-initializing  libiomp5md.dll\\n'"
      ]
     },
     "execution_count": 1,
     "metadata": {},
     "output_type": "execute_result"
    }
   ],
   "source": [
    "'''\n",
    "import os\n",
    "os.environ[\"KMP_DUPLICATE_LIB_OK\"] = \"TRUE\"\n",
    "use to prevent kernal crash due to re-initializing  libiomp5md.dll\n",
    "'''\n",
    "# import os\n",
    "# os.environ[\"KMP_DUPLICATE_LIB_OK\"] = \"TRUE\""
   ]
  },
  {
   "cell_type": "code",
   "execution_count": 2,
   "metadata": {},
   "outputs": [],
   "source": [
    "from argparse import Namespace\n",
    "from collections import Counter\n",
    "import json\n",
    "import os\n",
    "import re\n",
    "import string\n",
    "\n",
    "import numpy as np\n",
    "import pandas as pd\n",
    "import torch\n",
    "import torch.nn as nn\n",
    "import torch.nn.functional as F\n",
    "import torch.optim as optim\n",
    "from torch.utils.data import Dataset, DataLoader\n",
    "from tqdm.notebook import tqdm\n",
    "\n",
    "from sklearn.feature_extraction.text import TfidfVectorizer"
   ]
  },
  {
   "cell_type": "markdown",
   "metadata": {},
   "source": [
    "## Data Vectorization classes"
   ]
  },
  {
   "cell_type": "markdown",
   "metadata": {},
   "source": [
    "### The Vocabulary"
   ]
  },
  {
   "cell_type": "code",
   "execution_count": 3,
   "metadata": {
    "code_folding": []
   },
   "outputs": [],
   "source": [
    "class Vocabulary(object):\n",
    "    \"\"\"Class to process text and extract vocabulary for mapping\"\"\"\n",
    "\n",
    "    def __init__(self, token_to_idx=None, add_unk=True, unk_token=\"<UNK>\"):\n",
    "        \"\"\"\n",
    "        Args:\n",
    "            token_to_idx (dict): a pre-existing map of tokens to indices\n",
    "            add_unk (bool): a flag that indicates whether to add the UNK token\n",
    "            unk_token (str): the UNK token to add into the Vocabulary\n",
    "        \"\"\"\n",
    "\n",
    "        if token_to_idx is None:\n",
    "            token_to_idx = {}\n",
    "        self._token_to_idx = token_to_idx         # _token_to_idx: {'<UNK>':0, 'apple':1, 'banana':2, ....., 'zzz':10000}\n",
    "                                                  # _idx_to_token: {0:'<UNK>', 1:'apple', 2:'banana', ....., 10000:'zzz'}\n",
    "\n",
    "        self._idx_to_token = {idx: token          \n",
    "                              for token, idx in self._token_to_idx.items()} \n",
    "        \n",
    "        self._add_unk = add_unk\n",
    "        self._unk_token = unk_token\n",
    "        \n",
    "        self.unk_index = -1\n",
    "        if add_unk:\n",
    "            self.unk_index = self.add_token(unk_token) \n",
    "              \n",
    "    def add_token(self, token):\n",
    "        \"\"\"Update mapping dicts based on the token.\n",
    "\n",
    "        Args:\n",
    "            token (str): the item to add into the Vocabulary\n",
    "        Returns:\n",
    "            index (int): the integer corresponding to the token\n",
    "        \"\"\"\n",
    "        if token in self._token_to_idx:\n",
    "            index = self._token_to_idx[token]\n",
    "        else:\n",
    "            index = len(self._token_to_idx)\n",
    "            self._token_to_idx[token] = index\n",
    "            self._idx_to_token[index] = token\n",
    "        return index\n",
    "    \n",
    "    def lookup_token(self, token):\n",
    "        \"\"\"Retrieve the index associated with the token \n",
    "          or the UNK index if token isn't present.\n",
    "        \n",
    "        Args:\n",
    "            token (str): the token to look up \n",
    "        Returns:\n",
    "            index (int): the index corresponding to the token\n",
    "        Notes:\n",
    "            `unk_index` needs to be >=0 (having been added into the Vocabulary) \n",
    "              for the UNK functionality \n",
    "        \"\"\"\n",
    "        if self.unk_index >= 0:                   # if unk_token is defined, unknown words are handled\n",
    "            return self._token_to_idx.get(token, self.unk_index)\n",
    "        else:\n",
    "            return self._token_to_idx[token]\n",
    "\n",
    "    def lookup_index(self, index):\n",
    "        \"\"\"Return the token associated with the index\n",
    "        \n",
    "        Args: \n",
    "            index (int): the index to look up\n",
    "        Returns:\n",
    "            token (str): the token corresponding to the index\n",
    "        Raises:\n",
    "            KeyError: if the index is not in the Vocabulary\n",
    "        \"\"\"\n",
    "        if index not in self._idx_to_token:\n",
    "            raise KeyError(\"the index (%d) is not in the Vocabulary\" % index)\n",
    "        return self._idx_to_token[index]\n",
    "\n",
    "    def __str__(self):\n",
    "        return \"<Vocabulary(size=%d)>\" % len(self)\n",
    "\n",
    "    def __len__(self):\n",
    "        return len(self._token_to_idx)"
   ]
  },
  {
   "cell_type": "markdown",
   "metadata": {},
   "source": [
    "作用：\n",
    "\n",
    "负责 管理词汇表，即 单词和索引的映射关系。\n",
    "允许从 单词 → 索引 或 索引 → 单词 进行查找。\n",
    "可以自动处理 未知单词（UNK Token），防止模型遇到未见过的单词时报错。"
   ]
  },
  {
   "cell_type": "markdown",
   "metadata": {},
   "source": [
    "### The Vectorizer"
   ]
  },
  {
   "cell_type": "code",
   "execution_count": 4,
   "metadata": {},
   "outputs": [],
   "source": [
    "from enum import Enum\n",
    "class Vectorizer_Type(Enum):\n",
    "    One_Hot = \"one-hot\"\n",
    "    Term_Freq = \"term-freq\"\n",
    "    TF_IDF = \"tf-idf\""
   ]
  },
  {
   "cell_type": "code",
   "execution_count": 5,
   "metadata": {},
   "outputs": [
    {
     "name": "stderr",
     "output_type": "stream",
     "text": [
      "[nltk_data] Downloading package stopwords to\n",
      "[nltk_data]     C:\\Users\\Zhou&Wan\\AppData\\Roaming\\nltk_data...\n",
      "[nltk_data]   Package stopwords is already up-to-date!\n",
      "[nltk_data] Downloading package punkt to\n",
      "[nltk_data]     C:\\Users\\Zhou&Wan\\AppData\\Roaming\\nltk_data...\n",
      "[nltk_data]   Package punkt is already up-to-date!\n",
      "[nltk_data] Downloading package wordnet to\n",
      "[nltk_data]     C:\\Users\\Zhou&Wan\\AppData\\Roaming\\nltk_data...\n",
      "[nltk_data]   Package wordnet is already up-to-date!\n",
      "[nltk_data] Downloading package opinion_lexicon to\n",
      "[nltk_data]     C:\\Users\\Zhou&Wan\\AppData\\Roaming\\nltk_data...\n",
      "[nltk_data]   Package opinion_lexicon is already up-to-date!\n"
     ]
    }
   ],
   "source": [
    "'''Followings are preprocessing functions'''\n",
    "\n",
    "import nltk\n",
    "from nltk.corpus import stopwords\n",
    "from nltk.tokenize import word_tokenize\n",
    "from nltk.stem import WordNetLemmatizer\n",
    "import contractions\n",
    "from nltk.corpus import opinion_lexicon\n",
    "import gensim\n",
    "import gensim.downloader as api\n",
    "\n",
    "nltk.download('stopwords')\n",
    "nltk.download('punkt')\n",
    "nltk.download('wordnet')\n",
    "nltk.download('opinion_lexicon')\n",
    "\n",
    "stop_words = set(stopwords.words('english'))\n",
    "lemmatizer = WordNetLemmatizer()  ###better for Sentiment Analysis\n",
    "\n",
    "def remove_special_char(text) :\n",
    "    return re.sub(r'[^a-zA-Z\\s]', '', text, re.I|re.A)\n",
    "\n",
    "def case_folding(text) :\n",
    "    return text.lower()\n",
    "\n",
    "def expand_contractions(text):\n",
    "    return contractions.fix(text)\n",
    "\n",
    "def remove_stop_words(text) :\n",
    "    tokens = word_tokenize(text)\n",
    "    return  \" \".join([word for word in tokens if word not in stop_words])\n",
    "\n",
    "def wordnet_lemmatizer(text) : \n",
    "    ''' tokens = word_tokenize(text) should not tokenize again, directly split '''\n",
    "    tokens = text.split()\n",
    "    return  \" \".join( [lemmatizer.lemmatize(word) for word in tokens ])\n",
    "\n",
    "def remove_punctuation(text):\n",
    "    return re.sub(r'[^\\w\\s]', '', text) "
   ]
  },
  {
   "cell_type": "code",
   "execution_count": 6,
   "metadata": {},
   "outputs": [],
   "source": [
    "class ReviewVectorizer(object):\n",
    "    \"\"\" The Vectorizer which coordinates the Vocabularies and puts them to use\"\"\"\n",
    "    def __init__(self, review_vocab, rating_vocab, vectorizer_type, tfidf_vectorizer=None, enable_opinion_lexicon=False, use_word_embedding=False):\n",
    "        \"\"\"\n",
    "        Args:\n",
    "            review_vocab (Vocabulary): maps words to integers\n",
    "            rating_vocab (Vocabulary): maps class labels to integers; {'negative':0, 'positive':1}\n",
    "        \"\"\"\n",
    "        self.review_vocab = review_vocab     # {'<UNK>':0, 'apple':1, 'banana':2, ....., 'zzz':10000}\n",
    "        self.rating_vocab = rating_vocab     # {'negative':0, 'positive':1}\n",
    "\n",
    "        ####newly added\n",
    "        self.vectorize_type = vectorizer_type\n",
    "        self.tfidf_vectorizer = tfidf_vectorizer\n",
    "        self.enable_opinion_lexicon = enable_opinion_lexicon\n",
    "        self.use_word_embedding = use_word_embedding\n",
    "\n",
    "        if self.enable_opinion_lexicon :\n",
    "            self.positive_words = set(opinion_lexicon.positive())\n",
    "            self.negative_words = set(opinion_lexicon.negative())\n",
    "        \n",
    "        if self.use_word_embedding:\n",
    "            self.glove_vectors = api.load(\"glove-wiki-gigaword-300\")\n",
    "            self.embedding_dim = 300\n",
    "            print(\"GloVe model loaded!\")\n",
    "\n",
    "    def vectorize(self, review):\n",
    "        \"\"\"Create a collapsed one-hot vector for the review\n",
    "        \n",
    "        Args:\n",
    "            review (str): the review \n",
    "        Returns:\n",
    "            one_hot (np.ndarray): the collapsed one-hot encoding   \n",
    "        \"\"\"         \n",
    "        if self.vectorize_type == Vectorizer_Type.TF_IDF:  # if use TF-IDF, directly return\n",
    "            text_vector = self.tfidf_vectorizer.transform([review]).toarray().flatten() # i.e. [0.85, 0.47, ......, 0.0, 0.0] \n",
    "        elif self.vectorize_type == Vectorizer_Type.Term_Freq: ##if enable term_frequency\n",
    "            text_vector = np.zeros(len(self.review_vocab), dtype=np.float32)\n",
    "            for token in review.split(\" \"):\n",
    "                if token not in string.punctuation:\n",
    "                    index = self.review_vocab.lookup_token(token)\n",
    "                    text_vector[index] += 1\n",
    "        else:  # One-Hot Encoding\n",
    "            text_vector = np.zeros(len(self.review_vocab), dtype=np.float32)\n",
    "            for token in review.split(\" \"):\n",
    "                if token not in string.punctuation:\n",
    "                    text_vector[self.review_vocab.lookup_token(token)] = 1  # E.g., \"Unfortunately, the frustration of being Dr. Go...\" -> [0, 0, 1, 0, 1, ....., 0, 0]\n",
    "\n",
    "        '''\n",
    "        Word Embedding(GloVe)\n",
    "        In sentiment analysis, glove is more suitable than word2vec.\n",
    "\n",
    "        If the word embedding is flattened directly, the dimensions will be too large. if the length of words in sentence is 100, the dims will be 100 * 300 = 30000, cannot control the dims.\n",
    "        hence, I decide to use word embedding as additional dims instead of acting directly on vectorization, which means not parallel to IF-IDF, one-hot and term-freq.\n",
    "        after deciede to act as additional dims, the calculation use mean instead of others (such as max, weighting), because this is sentiment classification, the overall feeling may be more important\n",
    "        '''\n",
    "        if self.use_word_embedding:\n",
    "            embedding_vector = self.word_embedding_vector(review)\n",
    "            text_vector = np.concatenate((text_vector, embedding_vector))  # concatenate vector #add 300 dims\n",
    "\n",
    "        '''\n",
    "        To maintain the independence of different features to avoid information loss, \n",
    "        hence, decided to add two more dimensions instead of feature reweighting\n",
    "        '''\n",
    "        if self.enable_opinion_lexicon :  \n",
    "            lexicon_features = self.sentiment_lexicon_features(review)\n",
    "            combined_vector = np.concatenate((text_vector, lexicon_features)) #add 2 dims\n",
    "            return combined_vector\n",
    "        else:\n",
    "            return text_vector\n",
    "    \n",
    "    '''for opinion lexicon'''\n",
    "    def sentiment_lexicon_features(self, review):\n",
    "        tokens = review.split()\n",
    "        pos_count = sum(1 for word in tokens if word in self.positive_words)\n",
    "        neg_count = sum(1 for word in tokens if word in self.negative_words)\n",
    "        return np.array([pos_count, neg_count], dtype=np.float32)\n",
    "    \n",
    "    '''for word embedding'''\n",
    "    def word_embedding_vector(self, review):\n",
    "        tokens = review.split()\n",
    "        word_vectors = []\n",
    "        \n",
    "        for word in tokens:\n",
    "            if word in self.glove_vectors:\n",
    "                word_vectors.append(self.glove_vectors[word])  # get word gloVe vector\n",
    "        \n",
    "        if len(word_vectors) == 0:\n",
    "            return np.zeros(self.embedding_dim, dtype=np.float32)  # if not find, return 0\n",
    "        else:\n",
    "            return np.mean(word_vectors, axis=0)\n",
    "\n",
    "    @classmethod\n",
    "    def from_dataframe(cls, review_df, vectorizer_type, enable_opinion_lexicon, use_word_embedding, cutoff=25):\n",
    "        \"\"\"Instantiate the vectorizer from the dataset dataframe\n",
    "        \n",
    "        Args:\n",
    "            cls: class name, i.e. ReviewVectorizer\n",
    "            review_df (pandas.DataFrame): the review dataset\n",
    "            cutoff (int): the parameter for frequency-based filtering\n",
    "        Returns:\n",
    "            an instance of the ReviewVectorizer\n",
    "        \"\"\"\n",
    "        review_vocab = Vocabulary(add_unk=True)   # create an instance of Vocabulary class\n",
    "        rating_vocab = Vocabulary(add_unk=False)\n",
    "        \n",
    "        # Add ratings\n",
    "        for rating in sorted(set(review_df.rating)):  \n",
    "            rating_vocab.add_token(rating)            # {'negative':0, 'positive':1}\n",
    "\n",
    "        # Add top words if count > provided count\n",
    "        word_counts = Counter()\n",
    "        for review in review_df.review:\n",
    "            for word in review.split(\" \"):\n",
    "                if word not in string.punctuation:\n",
    "                    word_counts[word] += 1\n",
    "               \n",
    "        for word, count in word_counts.items():\n",
    "            if count > cutoff:\n",
    "                review_vocab.add_token(word)          # {'<UNK>':0, 'apple':1, 'banana':2, ....., 'zzz':10000}\n",
    "\n",
    "        if vectorizer_type == Vectorizer_Type.TF_IDF :\n",
    "            tfidf_vectorizer = TfidfVectorizer(analyzer='word', token_pattern=r'\\w{1,}', ngram_range=(1,2))  # support unigram + bigram words\n",
    "            tfidf_vectorizer.fit(review_df.review)\n",
    "        else :\n",
    "            tfidf_vectorizer = None\n",
    "\n",
    "        return cls(review_vocab, rating_vocab, vectorizer_type, tfidf_vectorizer, enable_opinion_lexicon, use_word_embedding)"
   ]
  },
  {
   "cell_type": "markdown",
   "metadata": {},
   "source": [
    "作用：\n",
    "\n",
    "负责 将文本转换为数值向量，用于机器学习模型训练。\n",
    "支持 词频 (Term Frequency) 统计 或 One-hot 编码。\n",
    "该类主要负责 文本向量化，将文本转换为模型可以使用的 数值表示。"
   ]
  },
  {
   "cell_type": "markdown",
   "metadata": {},
   "source": [
    "### The Dataset"
   ]
  },
  {
   "cell_type": "code",
   "execution_count": 7,
   "metadata": {},
   "outputs": [],
   "source": [
    "class ReviewDataset(Dataset):\n",
    "    def __init__(self, review_df, vectorizer):\n",
    "        \"\"\"\n",
    "        Args:\n",
    "            review_df (pandas.DataFrame): the dataset\n",
    "            vectorizer (ReviewVectorizer): vectorizer instantiated from dataset\n",
    "        \"\"\"\n",
    "        self.review_df = review_df\n",
    "        self._vectorizer = vectorizer\n",
    "\n",
    "        self.train_df = self.review_df[self.review_df.split=='train']\n",
    "        self.train_size = len(self.train_df)\n",
    "\n",
    "        self.val_df = self.review_df[self.review_df.split=='val']\n",
    "        self.validation_size = len(self.val_df)\n",
    "\n",
    "        self.test_df = self.review_df[self.review_df.split=='test']\n",
    "        self.test_size = len(self.test_df)\n",
    "\n",
    "        self._lookup_dict = {'train': (self.train_df, self.train_size),\n",
    "                             'val': (self.val_df, self.validation_size),\n",
    "                             'test': (self.test_df, self.test_size)}\n",
    "\n",
    "        self.set_split('train')\n",
    "\n",
    "    @classmethod\n",
    "    def load_dataset_and_make_vectorizer(cls, review_csv, preprocessing_args, vectorizer_type, enable_opinion_lexicon, use_word_embedding, frequency_cutoff):\n",
    "        \"\"\"Load dataset and make a new vectorizer from scratch\n",
    "        \n",
    "        Args:\n",
    "            cls: class name, i.e. ReviewDataset\n",
    "            review_csv (str): location of the dataset\n",
    "        Returns:\n",
    "            an instance of ReviewDataset\n",
    "        \"\"\"\n",
    "        review_df = pd.read_csv(review_csv)\n",
    "        # train_review_df = review_df[review_df.split=='train']\n",
    "        train_review_df = review_df[review_df.split=='train'].copy() ### avoid too many alerts\n",
    "\n",
    "        ##### APPLY PREPROCESSING HERE\n",
    "        text_col = \"review\"\n",
    "        if preprocessing_args.remove_special_char :\n",
    "            train_review_df[text_col] = train_review_df[text_col].apply(remove_special_char)\n",
    "\n",
    "        if preprocessing_args.case_folding :\n",
    "            train_review_df[text_col] = train_review_df[text_col].apply(case_folding)\n",
    "\n",
    "        if preprocessing_args.remove_punctuation :\n",
    "            train_review_df[text_col] = train_review_df[text_col].apply(remove_punctuation)\n",
    "\n",
    "        if preprocessing_args.expand_contractions :\n",
    "            train_review_df[text_col] = train_review_df[text_col].apply(expand_contractions)\n",
    "        \n",
    "        if preprocessing_args.remove_stop_words :\n",
    "            train_review_df[text_col] = train_review_df[text_col].apply(remove_stop_words)\n",
    "\n",
    "        if preprocessing_args.wordnet_lemmatizer :\n",
    "            train_review_df[text_col] = train_review_df[text_col].apply(wordnet_lemmatizer)\n",
    "\n",
    "\n",
    "        return cls(review_df, ReviewVectorizer.from_dataframe(train_review_df, vectorizer_type, enable_opinion_lexicon, use_word_embedding, frequency_cutoff))\n",
    "    \n",
    "    def get_vectorizer(self):\n",
    "        \"\"\" returns the vectorizer \"\"\"\n",
    "        return self._vectorizer\n",
    "\n",
    "    def set_split(self, split=\"train\"):\n",
    "        \"\"\" selects the splits in the dataset using a column in the dataframe \n",
    "        \n",
    "        Args:\n",
    "            split (str): one of \"train\", \"val\", or \"test\"\n",
    "        \"\"\"\n",
    "        self._target_split = split\n",
    "        self._target_df, self._target_size = self._lookup_dict[split]\n",
    "\n",
    "    def __len__(self):\n",
    "        return self._target_size\n",
    "\n",
    "    def __getitem__(self, index):\n",
    "        \"\"\"the primary entry point method for PyTorch datasets\n",
    "        \n",
    "        Args:\n",
    "            index (int): the index to the data point \n",
    "        Returns:\n",
    "            a dictionary holding the data point's features (x_data) and label (y_target)\n",
    "        \"\"\"\n",
    "        row = self._target_df.iloc[index]\n",
    "\n",
    "        review_vector = \\\n",
    "            self._vectorizer.vectorize(row.review)\n",
    "\n",
    "        rating_index = \\\n",
    "            self._vectorizer.rating_vocab.lookup_token(row.rating)\n",
    "\n",
    "        return {'x_data': review_vector,           #  e.g., { 'x_data': [0, 0, 1, 0, 1, ....., 0, 0],\n",
    "                'y_target': rating_index}          #          'y_target': 0  }\n",
    "\n",
    "    def get_num_batches(self, batch_size):\n",
    "        \"\"\"Given a batch size, return the number of batches in the dataset\n",
    "        \n",
    "        Args:\n",
    "            batch_size (int)\n",
    "        Returns:\n",
    "            number of batches in the dataset\n",
    "        \"\"\"\n",
    "        return len(self) // batch_size  # the floor division // rounds the result down to the nearest whole number\n",
    "    \n",
    "def generate_batches(dataset, batch_size, shuffle=True,\n",
    "                     drop_last=True, device=\"cpu\"):\n",
    "    \"\"\"\n",
    "    A generator function which wraps the PyTorch DataLoader. It will \n",
    "      ensure each tensor is on the write device location.\n",
    "    \"\"\"\n",
    "    # drop_last: set to True to drop the last incomplete batch, if the dataset size is not divisible by the batch size. \n",
    "    # If False and the size of dataset is not divisible by the batch size, then the last batch will be smaller. (default: False)\n",
    "    # need to use sampler option for balanced data: \n",
    "    # https://discuss.pytorch.org/t/balanced-sampling-between-classes-with-torchvision-dataloader/2703\n",
    "    dataloader = DataLoader(dataset=dataset, batch_size=batch_size,\n",
    "                            shuffle=shuffle, drop_last=drop_last)\n",
    "    \n",
    "    for data_dict in dataloader:\n",
    "        out_data_dict = {}\n",
    "        for name, tensor in data_dict.items():  # name: x_data & y_target\n",
    "            out_data_dict[name] = data_dict[name].to(device)\n",
    "        yield out_data_dict"
   ]
  },
  {
   "cell_type": "markdown",
   "metadata": {},
   "source": [
    "## The Model: ReviewClassifier"
   ]
  },
  {
   "cell_type": "code",
   "execution_count": 8,
   "metadata": {},
   "outputs": [],
   "source": [
    "class ReviewClassifier(nn.Module):\n",
    "    \"\"\" a simple perceptron based classifier \"\"\"\n",
    "    def __init__(self, num_features, hidden_dim, enable_second_hidden_layer, enable_drop_out, enable_batch_norm):\n",
    "        \"\"\"\n",
    "        Args:\n",
    "            num_features (int): the size of the input feature vector\n",
    "            hidden_dim   (int): the size of hidden dimension\n",
    "        \"\"\"\n",
    "        super(ReviewClassifier, self).__init__()\n",
    "        self.dropout_rate = 0.5\n",
    "        self.enable_second_hidden_layer = enable_second_hidden_layer\n",
    "        self.enable_drop_out = enable_drop_out\n",
    "        self.enable_batch_norm = enable_batch_norm\n",
    "\n",
    "        self.fc1 = nn.Linear(in_features=num_features, out_features=hidden_dim)\n",
    "        if enable_batch_norm:\n",
    "            self.batch_norm1 = nn.BatchNorm1d(hidden_dim)\n",
    "        if enable_drop_out :\n",
    "            self.dropout1 = nn.Dropout(p=self.dropout_rate)\n",
    "\n",
    "        if enable_second_hidden_layer :\n",
    "            self.fc2 = nn.Linear(hidden_dim, hidden_dim // 2) ###base on experience from lab assignment 1\n",
    "            if enable_batch_norm:\n",
    "                self.batch_norm2 = nn.BatchNorm1d(hidden_dim // 2)\n",
    "            if enable_drop_out :    \n",
    "                self.dropout2 = nn.Dropout(p=self.dropout_rate)\n",
    "            self.fc_final = nn.Linear(hidden_dim // 2, out_features=1)\n",
    "        else :\n",
    "            self.fc_final = nn.Linear(hidden_dim, out_features=1)\n",
    "\n",
    "    def forward(self, x_in):\n",
    "        \"\"\"The forward pass of the classifier    \n",
    "        Args:\n",
    "            x_in (torch.Tensor): an input data tensor. \n",
    "                x_in.shape should be [batch, num_features]\n",
    "        Returns:\n",
    "            the resulting tensor. tensor.shape should be [batch]\n",
    "        \"\"\"\n",
    "        intermediate = self.fc1(x_in)            # [batch, num_features] -> [batch, hidden_dim]\n",
    "        if self.enable_batch_norm:\n",
    "            intermediate = self.batch_norm1(intermediate)  \n",
    "        intermediate = F.relu(intermediate)      # [batch, hidden_dim]\n",
    "        if self.enable_drop_out :\n",
    "            intermediate = self.dropout1(intermediate)\n",
    "\n",
    "        if self.enable_second_hidden_layer:\n",
    "            # Second hidden layer\n",
    "            intermediate = self.fc2(intermediate)\n",
    "            if self.enable_batch_norm:\n",
    "                intermediate = self.batch_norm2(intermediate)\n",
    "            intermediate = F.relu(intermediate)\n",
    "            if self.enable_drop_out :\n",
    "                intermediate = self.dropout2(intermediate)\n",
    "\n",
    "        y_out = self.fc_final(intermediate)           # [batch, hidden_dim] -> [batch, out_features]\n",
    "        return torch.sigmoid(y_out).squeeze()    # [batch, 1] -> [batch] (e.g., [0.3, 0.1, 0.7, 0.8, ..., 0.5])"
   ]
  },
  {
   "cell_type": "markdown",
   "metadata": {},
   "source": [
    "## Training Routine"
   ]
  },
  {
   "cell_type": "markdown",
   "metadata": {},
   "source": [
    "### Helper functions"
   ]
  },
  {
   "cell_type": "code",
   "execution_count": 9,
   "metadata": {
    "code_folding": []
   },
   "outputs": [],
   "source": [
    "def make_train_state(args):\n",
    "    return {'stop_early': False,\n",
    "            'early_stopping_step': 0,\n",
    "            'early_stopping_best_val': 1e8,\n",
    "            'learning_rate': args.learning_rate,\n",
    "            'epoch_index': 0,\n",
    "            'train_loss': [],\n",
    "            'train_acc': [],\n",
    "            'val_loss': [],\n",
    "            'val_acc': [],\n",
    "            'test_loss': -1,\n",
    "            'test_acc': -1,\n",
    "            'model_filename': args.model_state_file}\n",
    "\n",
    "def update_train_state(args, model, train_state):\n",
    "    \"\"\"Handle the training state updates.\n",
    "\n",
    "    Components:\n",
    "     - Early Stopping: Prevent overfitting.\n",
    "     - Model Checkpoint: Model is saved if the model is better\n",
    "\n",
    "    :param args: main arguments\n",
    "    :param model: model to train\n",
    "    :param train_state: a dictionary representing the training state values\n",
    "    :returns:\n",
    "        a new train_state\n",
    "    \"\"\"\n",
    "\n",
    "    # Save one model at least\n",
    "    if train_state['epoch_index'] == 0:\n",
    "        torch.save(model.state_dict(), train_state['model_filename'])\n",
    "        train_state['stop_early'] = False\n",
    "\n",
    "    # Save model if performance improved\n",
    "    elif train_state['epoch_index'] >= 1:\n",
    "        loss_tm1, loss_t = train_state['val_loss'][-2:]\n",
    "\n",
    "        # If loss worsened\n",
    "        if loss_t >= train_state['early_stopping_best_val']:\n",
    "            # Update step\n",
    "            train_state['early_stopping_step'] += 1\n",
    "        # Loss decreased\n",
    "        else:\n",
    "            # Save the best model\n",
    "            if loss_t < train_state['early_stopping_best_val']:\n",
    "                torch.save(model.state_dict(), train_state['model_filename'])\n",
    "                train_state['early_stopping_best_val'] = loss_t  # update 'early_stopping_best_val'\n",
    "\n",
    "            # Reset early stopping step\n",
    "            train_state['early_stopping_step'] = 0\n",
    "\n",
    "        # Stop early ?\n",
    "        # print(train_state['train_acc'])\n",
    "        if train_state['early_stopping_step'] >= args.early_stopping_criteria or train_state['train_acc'][-1] > 99.9 : ### if  train_state['train_acc'] > 0.999 also can stop directly\n",
    "            train_state['stop_early'] = True\n",
    "        else : \n",
    "            train_state['stop_early'] = False\n",
    "\n",
    "    return train_state\n",
    "\n",
    "def compute_accuracy(y_pred, y_target):\n",
    "    y_target = y_target.cpu()\n",
    "    y_pred_indices = (y_pred>0.5).cpu().long()\n",
    "    n_correct = torch.eq(y_pred_indices, y_target).sum().item()  # item() to get a Python number from a tensor containing a single value\n",
    "    return n_correct / len(y_pred_indices) * 100"
   ]
  },
  {
   "cell_type": "markdown",
   "metadata": {},
   "source": [
    "#### General utilities"
   ]
  },
  {
   "cell_type": "code",
   "execution_count": 10,
   "metadata": {},
   "outputs": [],
   "source": [
    "def set_seed_everywhere(seed, cuda):\n",
    "    np.random.seed(seed)\n",
    "    torch.manual_seed(seed)\n",
    "    if cuda:\n",
    "        torch.cuda.manual_seed_all(seed)\n",
    "\n",
    "def handle_dirs(dirpath):\n",
    "    if not os.path.exists(dirpath):\n",
    "        os.makedirs(dirpath)"
   ]
  },
  {
   "cell_type": "markdown",
   "metadata": {},
   "source": [
    "### Settings and some prep work"
   ]
  },
  {
   "cell_type": "code",
   "execution_count": 11,
   "metadata": {},
   "outputs": [
    {
     "name": "stdout",
     "output_type": "stream",
     "text": [
      "Expanded filepaths: \n",
      "\tmodel_storage/ch3/yelp/model.pth\n",
      "Using CUDA: True\n"
     ]
    }
   ],
   "source": [
    "'''newly added for preprocessing'''\n",
    "preprocessing_args = Namespace(\n",
    "    remove_special_char=False,\n",
    "    case_folding=False,\n",
    "    remove_punctuation=False,\n",
    "    expand_contractions=False,\n",
    "    remove_stop_words=False,\n",
    "    wordnet_lemmatizer=False,\n",
    ")\n",
    "\n",
    "args = Namespace(\n",
    "    # Data and Path information\n",
    "    frequency_cutoff=25,\n",
    "    model_state_file='model.pth',\n",
    "    review_csv='data/yelp/reviews_with_splits_lite.csv',\n",
    "    save_dir='model_storage/ch3/yelp/',\n",
    "    # No Model hyper parameters\n",
    "    hidden_dim=20,\n",
    "    # Training hyper parameters\n",
    "    batch_size=128,\n",
    "    early_stopping_criteria=5,\n",
    "    learning_rate=0.001,\n",
    "    num_epochs=100,\n",
    "    seed=1337,\n",
    "    # Runtime options\n",
    "    catch_keyboard_interrupt=True,\n",
    "    cuda=True,\n",
    "    expand_filepaths_to_save_dir=True,\n",
    "    reload_from_files=False,\n",
    "\n",
    "\n",
    "    ###Newly added\n",
    "    \n",
    "    ######for vectorizer\n",
    "    vectorizer_type=Vectorizer_Type.One_Hot,\n",
    "    enable_opinion_lexicon=False,\n",
    "    use_word_embedding=False,\n",
    "\n",
    "    ####for ReviewClassifier\n",
    "    enable_second_hidden_layer=False,\n",
    "    enable_drop_out=False,\n",
    "    enable_batch_norm=False,\n",
    "\n",
    "    ####for optimizer\n",
    "    weight_decay=0, ##change to 0 to disable\n",
    ")\n",
    "\n",
    "if args.expand_filepaths_to_save_dir:\n",
    "    args.model_state_file = os.path.join(args.save_dir,\n",
    "                                         args.model_state_file)    \n",
    "    print(\"Expanded filepaths: \")\n",
    "    print(\"\\t{}\".format(args.model_state_file))\n",
    "    \n",
    "# Check CUDA\n",
    "if not torch.cuda.is_available():\n",
    "    args.cuda = False\n",
    "\n",
    "print(\"Using CUDA: {}\".format(args.cuda))\n",
    "\n",
    "args.device = torch.device(\"cuda\" if args.cuda else \"cpu\")\n",
    "\n",
    "# Set seed for reproducibility\n",
    "set_seed_everywhere(args.seed, args.cuda)\n",
    "\n",
    "# handle dirs ; creat dirs if they don't exist\n",
    "handle_dirs(args.save_dir)"
   ]
  },
  {
   "cell_type": "markdown",
   "metadata": {},
   "source": [
    "### Initializations"
   ]
  },
  {
   "cell_type": "code",
   "execution_count": 12,
   "metadata": {},
   "outputs": [],
   "source": [
    "def init(preprocessing_args, args) :\n",
    "    # print(\"Loading dataset and creating vectorizer\")\n",
    "    # create dataset and vectorizer\n",
    "    dataset = ReviewDataset.load_dataset_and_make_vectorizer(args.review_csv, preprocessing_args, \n",
    "                                                            vectorizer_type=args.vectorizer_type,\n",
    "                                                            enable_opinion_lexicon=args.enable_opinion_lexicon,\n",
    "                                                            use_word_embedding=args.use_word_embedding,\n",
    "                                                            frequency_cutoff=args.frequency_cutoff)\n",
    "\n",
    "    vectorizer = dataset.get_vectorizer()\n",
    "    if args.vectorizer_type == Vectorizer_Type.TF_IDF :\n",
    "        num_features = len(vectorizer.tfidf_vectorizer.vocabulary_)\n",
    "        print(f'number of features => {num_features}')\n",
    "        if args.enable_opinion_lexicon :\n",
    "            num_features = num_features + 2\n",
    "        if args.use_word_embedding :\n",
    "            num_features = num_features + 300\n",
    "        classifier = ReviewClassifier(num_features=num_features, hidden_dim=args.hidden_dim, enable_second_hidden_layer=args.enable_second_hidden_layer, enable_batch_norm=args.enable_batch_norm,enable_drop_out=args.enable_drop_out)\n",
    "    else :\n",
    "        num_features=len(vectorizer.review_vocab) ### original code\n",
    "        print(f'number of features => {num_features}')\n",
    "        if args.enable_opinion_lexicon :\n",
    "            num_features = num_features + 2\n",
    "        if args.use_word_embedding :\n",
    "            num_features = num_features + 300\n",
    "        classifier = ReviewClassifier(num_features=num_features, hidden_dim=args.hidden_dim, enable_second_hidden_layer=args.enable_second_hidden_layer, enable_batch_norm=args.enable_batch_norm,enable_drop_out=args.enable_drop_out)\n",
    "    return dataset, vectorizer, classifier"
   ]
  },
  {
   "cell_type": "code",
   "execution_count": 13,
   "metadata": {},
   "outputs": [],
   "source": [
    "#str(vectorizer.review_vocab), str(vectorizer.rating_vocab)"
   ]
  },
  {
   "cell_type": "markdown",
   "metadata": {},
   "source": [
    "### Training loop\n",
    "\n",
    "1. lr_scheduler.ReduceLROnPlateau(): Reduce learning rate when a metric has stopped improving. Models often benefit from reducing the learning rate by a factor of 2-10 once learning stagnates. This scheduler reads a metrics quantity and if no improvement is seen for a ‘patience’ number of epochs, the learning rate is reduced.(https://pytorch.org/docs/stable/optim.html)\n",
    "> - mode (str) – One of min, max. In min mode, lr will be reduced when the quantity monitored has stopped decreasing; in max mode it will be reduced when the quantity monitored has stopped increasing. Default: ‘min’.<br>\n",
    ">- factor (float) – Factor by which the learning rate will be reduced. new_lr = lr * factor. Default: 0.1.<br>\n",
    ">- patience (int) – Number of epochs with no improvement after which learning rate will be reduced. For example, if patience = 2, then we will ignore the first 2 epochs with no improvement, and will only decrease the LR after the 3rd epoch if the loss still hasn’t improved then. Default: 10."
   ]
  },
  {
   "cell_type": "code",
   "execution_count": 14,
   "metadata": {
    "code_folding": [
     30
    ]
   },
   "outputs": [],
   "source": [
    "def train_model(preprocessing_args, args, dataset, classifier) :\n",
    "    classifier = classifier.to(args.device)\n",
    "\n",
    "    loss_func = nn.BCELoss()\n",
    "    optimizer = optim.Adam(classifier.parameters(), lr=args.learning_rate, weight_decay=args.weight_decay)\n",
    "    scheduler = optim.lr_scheduler.ReduceLROnPlateau(optimizer=optimizer,\n",
    "                                                    mode='min', factor=0.1,\n",
    "                                                    patience=10) # Reduce learning rate when a metric has stopped improving.\n",
    "\n",
    "    train_state = make_train_state(args)\n",
    "\n",
    "    epoch_bar = tqdm(desc='training routine', total=args.num_epochs, position=0)  # progress bar\n",
    "\n",
    "    dataset.set_split('train')\n",
    "    train_bar = tqdm(desc='split=train', total=dataset.get_num_batches(args.batch_size), position=1, leave=True)\n",
    "\n",
    "    dataset.set_split('val')\n",
    "    val_bar = tqdm(desc='split=val', total=dataset.get_num_batches(args.batch_size), position=1, leave=True)\n",
    "\n",
    "    try:\n",
    "        for epoch_index in range(args.num_epochs):\n",
    "            train_state['epoch_index'] = epoch_index\n",
    "\n",
    "            # Iterate over training dataset\n",
    "\n",
    "            # setup: batch generator, set loss and acc to 0, set train mode on\n",
    "            dataset.set_split('train')\n",
    "            batch_generator = generate_batches(dataset, \n",
    "                                            batch_size=args.batch_size, \n",
    "                                            device=args.device)\n",
    "            running_loss = 0.0\n",
    "            running_acc = 0.0\n",
    "            classifier.train()\n",
    "\n",
    "            for batch_index, batch_dict in enumerate(batch_generator):\n",
    "                # the training routine is these 5 steps:\n",
    "\n",
    "                # --------------------------------------\n",
    "                # step 1. zero the gradients\n",
    "                optimizer.zero_grad()\n",
    "\n",
    "                # step 2. compute the output\n",
    "                y_pred = classifier(x_in=batch_dict['x_data'].float())  # [batch, num_features] -> [batch]\n",
    "\n",
    "                # step 3. compute the loss\n",
    "                loss = loss_func(y_pred, batch_dict['y_target'].float())\n",
    "                loss_t = loss.item()\n",
    "                running_loss += (loss_t - running_loss) / (batch_index + 1)\n",
    "\n",
    "                # step 4. use loss to produce gradients\n",
    "                loss.backward()\n",
    "\n",
    "                # step 5. use optimizer to take gradient step\n",
    "                optimizer.step()\n",
    "                # -----------------------------------------\n",
    "                # compute the accuracy\n",
    "                acc_t = compute_accuracy(y_pred, batch_dict['y_target'])\n",
    "                running_acc += (acc_t - running_acc) / (batch_index + 1)\n",
    "                \n",
    "                # update bar\n",
    "                train_bar.set_postfix(loss=running_loss, \n",
    "                                    acc=running_acc, \n",
    "                                    epoch=epoch_index)\n",
    "                train_bar.update()\n",
    "            \n",
    "            train_state['train_loss'].append(running_loss)  # train_loss for each epoch\n",
    "            train_state['train_acc'].append(running_acc)    # train_acc for each epoch\n",
    "            \n",
    "            # Iterate over val dataset\n",
    "\n",
    "            # setup: batch generator, set loss and acc to 0; set eval mode on\n",
    "            dataset.set_split('val')\n",
    "            batch_generator = generate_batches(dataset, \n",
    "                                            batch_size=args.batch_size, \n",
    "                                            device=args.device)\n",
    "            running_loss = 0.\n",
    "            running_acc = 0.\n",
    "            classifier.eval()\n",
    "\n",
    "            for batch_index, batch_dict in enumerate(batch_generator):\n",
    "\n",
    "                # compute the output\n",
    "                y_pred = classifier(x_in=batch_dict['x_data'].float())\n",
    "\n",
    "                # step 3. compute the loss\n",
    "                loss = loss_func(y_pred, batch_dict['y_target'].float())\n",
    "                loss_t = loss.item()\n",
    "                running_loss += (loss_t - running_loss) / (batch_index + 1)\n",
    "\n",
    "                # compute the accuracy\n",
    "                acc_t = compute_accuracy(y_pred, batch_dict['y_target'])\n",
    "                running_acc += (acc_t - running_acc) / (batch_index + 1)\n",
    "                \n",
    "                val_bar.set_postfix(loss=running_loss, \n",
    "                                    acc=running_acc, \n",
    "                                    epoch=epoch_index)\n",
    "                val_bar.update()\n",
    "\n",
    "            train_state['val_loss'].append(running_loss)  # val_loss for each epoch\n",
    "            train_state['val_acc'].append(running_acc)    # val_acc for each epoch\n",
    "\n",
    "            train_state = update_train_state(args=args, model=classifier,\n",
    "                                            train_state=train_state)\n",
    "\n",
    "            scheduler.step(train_state['val_loss'][-1])  # adjust learning rate\n",
    "\n",
    "            if train_state['stop_early']:\n",
    "                break\n",
    "\n",
    "            train_bar.n = 0   # reset number of finished iterations\n",
    "            val_bar.n = 0\n",
    "            epoch_bar.update()\n",
    "    except KeyboardInterrupt:\n",
    "        print(\"Exiting loop\")\n",
    "    return train_state, loss_func"
   ]
  },
  {
   "cell_type": "code",
   "execution_count": 15,
   "metadata": {},
   "outputs": [],
   "source": [
    "import matplotlib.pyplot as plt\n",
    "\n",
    "def draw_loss_and_acc(train_state, title) :\n",
    "    epochs = range(1, len(train_state['train_acc']) + 1)\n",
    "    fig, ax1 = plt.subplots(1, 2, figsize=(15, 7))\n",
    "\n",
    "    fig.suptitle(title, fontsize=16, fontweight=\"bold\")\n",
    "\n",
    "    ax1[0].plot(epochs, train_state['train_loss'], 'bo-', label='Training Loss')\n",
    "    ax1[0].plot(epochs, train_state['val_loss'], 'r-', label='Validation Loss') \n",
    "    ax1[0].set_title('Training and Validation Loss')\n",
    "    ax1[0].set_xlabel('Epochs')\n",
    "    ax1[0].set_ylabel('Loss')\n",
    "    ax1[0].legend()\n",
    "\n",
    "    ax1[1].plot(epochs, train_state['train_acc'], 'go-', label='Training Accuracy')\n",
    "    ax1[1].plot(epochs, train_state['val_acc'], 'm-', label='Validation Accuracy') \n",
    "    ax1[1].set_title('Training and Validation Accuracy')\n",
    "    ax1[1].set_xlabel('Epochs')\n",
    "    ax1[1].set_ylabel('Accuracy')\n",
    "    ax1[1].legend()\n",
    "\n",
    "    plt.tight_layout(rect=[0, 0, 1, 0.95])\n",
    "    plt.tight_layout() \n",
    "    plt.show()"
   ]
  },
  {
   "cell_type": "code",
   "execution_count": 16,
   "metadata": {},
   "outputs": [],
   "source": [
    "# compute the loss & accuracy on the test set using the best available model\n",
    "from sklearn.metrics import classification_report, confusion_matrix, accuracy_score\n",
    "import pandas as pd\n",
    "\n",
    "def check_test_data(preprocessing_args, args, dataset, classifier, train_state, loss_func, enable_print_info=True) :\n",
    "    classifier.load_state_dict(torch.load(train_state['model_filename'], weights_only=False))\n",
    "    classifier = classifier.to(args.device)\n",
    "\n",
    "    dataset.set_split('test')\n",
    "    batch_generator = generate_batches(dataset, \n",
    "                                    batch_size=args.batch_size, \n",
    "                                    device=args.device)\n",
    "    running_loss = 0.\n",
    "    running_acc = 0.\n",
    "    classifier.eval()\n",
    "\n",
    "    y_pred_list = []    # store predicted values for confusion matrix\n",
    "    y_target_list = []  # ground truth value\n",
    "\n",
    "    for batch_index, batch_dict in enumerate(batch_generator):\n",
    "        # compute the output\n",
    "        y_pred = classifier(x_in=batch_dict['x_data'].float())\n",
    "        \n",
    "        # store predicted values and ground truth values for calculating confusion matrix\n",
    "        y_pred_list.extend((y_pred>0.5).cpu().long().numpy())\n",
    "        y_target_list.extend(batch_dict['y_target'].cpu().numpy())\n",
    "        \n",
    "        # compute the loss\n",
    "        loss = loss_func(y_pred, batch_dict['y_target'].float())\n",
    "        loss_t = loss.item()\n",
    "        running_loss += (loss_t - running_loss) / (batch_index + 1)\n",
    "\n",
    "        # compute the accuracy\n",
    "        acc_t = compute_accuracy(y_pred, batch_dict['y_target'])\n",
    "        running_acc += (acc_t - running_acc) / (batch_index + 1)\n",
    "\n",
    "    train_state['test_loss'] = running_loss\n",
    "    train_state['test_acc'] = running_acc\n",
    "\n",
    "    if enable_print_info: \n",
    "        print(\"==================================dividing line==================================\")\n",
    "        print(\"Test loss: {:.3f}\".format(train_state['test_loss']))\n",
    "        print(\"Test Accuracy: {:.2f}\".format(train_state['test_acc']))\n",
    "\n",
    "    if enable_print_info: \n",
    "        rating_classes = []\n",
    "        for i in range(len(dataset._vectorizer.rating_vocab)):\n",
    "            rating_classes.append(dataset._vectorizer.rating_vocab.lookup_index(i))\n",
    "        # print(\"==================================dividing line=======================\")\n",
    "        # print(rating_classes)\n",
    "\n",
    "    if enable_print_info: \n",
    "        cm = confusion_matrix(y_target_list, y_pred_list)\n",
    "        cm_df = pd.DataFrame(cm.T, index=rating_classes, columns=rating_classes)\n",
    "        cm_df.index.name = 'Predicted'\n",
    "        cm_df.columns.name = 'True'\n",
    "        print(\"==================================dividing line==================================\")\n",
    "        print(cm_df)\n",
    "\n",
    "        print(\"==================================dividing line==================================\")\n",
    "        print(classification_report(y_target_list, y_pred_list))\n",
    "\n",
    "    return train_state['test_acc']"
   ]
  },
  {
   "cell_type": "markdown",
   "metadata": {},
   "source": [
    "### orignial result"
   ]
  },
  {
   "cell_type": "code",
   "execution_count": 17,
   "metadata": {},
   "outputs": [
    {
     "name": "stdout",
     "output_type": "stream",
     "text": [
      "number of features => 2256\n"
     ]
    },
    {
     "data": {
      "application/vnd.jupyter.widget-view+json": {
       "model_id": "95e288f0c900466abd8b5aae7dadbc4a",
       "version_major": 2,
       "version_minor": 0
      },
      "text/plain": [
       "training routine:   0%|          | 0/100 [00:00<?, ?it/s]"
      ]
     },
     "metadata": {},
     "output_type": "display_data"
    },
    {
     "data": {
      "application/vnd.jupyter.widget-view+json": {
       "model_id": "14b29b2d54f2437ca86d6778cd8f083f",
       "version_major": 2,
       "version_minor": 0
      },
      "text/plain": [
       "split=train:   0%|          | 0/39 [00:00<?, ?it/s]"
      ]
     },
     "metadata": {},
     "output_type": "display_data"
    },
    {
     "data": {
      "application/vnd.jupyter.widget-view+json": {
       "model_id": "45dffadb56e94fa591f037ad07c593e2",
       "version_major": 2,
       "version_minor": 0
      },
      "text/plain": [
       "split=val:   0%|          | 0/8 [00:00<?, ?it/s]"
      ]
     },
     "metadata": {},
     "output_type": "display_data"
    },
    {
     "data": {
      "image/png": "[encoded data removed]",
      "text/plain": [
       "<Figure size 1500x700 with 2 Axes>"
      ]
     },
     "metadata": {},
     "output_type": "display_data"
    },
    {
     "name": "stdout",
     "output_type": "stream",
     "text": [
      "==================================dividing line==================================\n",
      "Test loss: 0.345\n",
      "Test Accuracy: 85.64\n",
      "==================================dividing line==================================\n",
      "True       negative  positive\n",
      "Predicted                    \n",
      "negative        437        75\n",
      "positive         72       440\n",
      "==================================dividing line==================================\n",
      "              precision    recall  f1-score   support\n",
      "\n",
      "           0       0.85      0.86      0.86       509\n",
      "           1       0.86      0.85      0.86       515\n",
      "\n",
      "    accuracy                           0.86      1024\n",
      "   macro avg       0.86      0.86      0.86      1024\n",
      "weighted avg       0.86      0.86      0.86      1024\n",
      "\n"
     ]
    },
    {
     "data": {
      "text/plain": [
       "85.64453125"
      ]
     },
     "execution_count": 17,
     "metadata": {},
     "output_type": "execute_result"
    }
   ],
   "source": [
    "dataset, vectorizer, classifier = init(preprocessing_args, args)\n",
    "train_state, loss_func = train_model(preprocessing_args, args, dataset=dataset, classifier=classifier)\n",
    "draw_loss_and_acc(train_state, \"ORIGINAL\")\n",
    "check_test_data(preprocessing_args, args, dataset, classifier, train_state, loss_func, enable_print_info=True)"
   ]
  },
  {
   "cell_type": "markdown",
   "metadata": {},
   "source": [
    "# paramters selection"
   ]
  },
  {
   "cell_type": "code",
   "execution_count": null,
   "metadata": {},
   "outputs": [
    {
     "name": "stderr",
     "output_type": "stream",
     "text": [
      "[I 2025-02-27 23:58:03,475] A new study created in memory with name: no-name-d80ca5be-9973-4166-8443-f30b14b09add\n"
     ]
    },
    {
     "name": "stdout",
     "output_type": "stream",
     "text": [
      "GloVe model loaded!\n",
      "number of features => 242067\n"
     ]
    },
    {
     "data": {
      "application/vnd.jupyter.widget-view+json": {
       "model_id": "2b9406c1aa5340b4b0ac9c5a248f82bb",
       "version_major": 2,
       "version_minor": 0
      },
      "text/plain": [
       "training routine:   0%|          | 0/100 [00:00<?, ?it/s]"
      ]
     },
     "metadata": {},
     "output_type": "display_data"
    },
    {
     "data": {
      "application/vnd.jupyter.widget-view+json": {
       "model_id": "556da00220bc4f66a9fc6b62cf7bfaa8",
       "version_major": 2,
       "version_minor": 0
      },
      "text/plain": [
       "split=train:   0%|          | 0/19 [00:00<?, ?it/s]"
      ]
     },
     "metadata": {},
     "output_type": "display_data"
    },
    {
     "data": {
      "application/vnd.jupyter.widget-view+json": {
       "model_id": "30e9719f3b0b464885e1e49c0261168a",
       "version_major": 2,
       "version_minor": 0
      },
      "text/plain": [
       "split=val:   0%|          | 0/4 [00:00<?, ?it/s]"
      ]
     },
     "metadata": {},
     "output_type": "display_data"
    },
    {
     "name": "stderr",
     "output_type": "stream",
     "text": [
      "[I 2025-02-28 00:01:53,367] Trial 0 finished with value: 91.30859375 and parameters: {'remove_special_char': True, 'case_folding': False, 'remove_punctuation': True, 'expand_contractions': True, 'remove_stop_words': False, 'wordnet_lemmatizer': True, 'vectorizer_type': 'tf-idf', 'frequency_cutoff': 25, 'learning_rate': 0.01, 'hidden_dim': 50, 'batch_size': 256, 'enable_opinion_lexicon': False, 'use_word_embedding': True, 'enable_second_hidden_layer': False, 'enable_drop_out': True, 'enable_batch_norm': False, 'weight_decay': 0}. Best is trial 0 with value: 91.30859375.\n"
     ]
    },
    {
     "name": "stdout",
     "output_type": "stream",
     "text": [
      "number of features => 1927\n"
     ]
    },
    {
     "data": {
      "application/vnd.jupyter.widget-view+json": {
       "model_id": "f861397efa39433c8aabcfd89b008174",
       "version_major": 2,
       "version_minor": 0
      },
      "text/plain": [
       "training routine:   0%|          | 0/100 [00:00<?, ?it/s]"
      ]
     },
     "metadata": {},
     "output_type": "display_data"
    },
    {
     "data": {
      "application/vnd.jupyter.widget-view+json": {
       "model_id": "2c8b6f4f8f2e47a182895067d4aa0184",
       "version_major": 2,
       "version_minor": 0
      },
      "text/plain": [
       "split=train:   0%|          | 0/39 [00:00<?, ?it/s]"
      ]
     },
     "metadata": {},
     "output_type": "display_data"
    },
    {
     "data": {
      "application/vnd.jupyter.widget-view+json": {
       "model_id": "9a49a6acc5dd4edca76133f9153196ea",
       "version_major": 2,
       "version_minor": 0
      },
      "text/plain": [
       "split=val:   0%|          | 0/8 [00:00<?, ?it/s]"
      ]
     },
     "metadata": {},
     "output_type": "display_data"
    },
    {
     "name": "stderr",
     "output_type": "stream",
     "text": [
      "[I 2025-02-28 00:02:19,113] Trial 1 finished with value: 81.73828125 and parameters: {'remove_special_char': True, 'case_folding': True, 'remove_punctuation': False, 'expand_contractions': False, 'remove_stop_words': True, 'wordnet_lemmatizer': False, 'vectorizer_type': 'term-freq', 'frequency_cutoff': 25, 'learning_rate': 0.01, 'hidden_dim': 10, 'batch_size': 128, 'enable_opinion_lexicon': False, 'use_word_embedding': False, 'enable_second_hidden_layer': False, 'enable_drop_out': True, 'enable_batch_norm': False, 'weight_decay': 0}. Best is trial 0 with value: 91.30859375.\n"
     ]
    },
    {
     "name": "stdout",
     "output_type": "stream",
     "text": [
      "number of features => 32181\n"
     ]
    },
    {
     "data": {
      "application/vnd.jupyter.widget-view+json": {
       "model_id": "19d6d4bd04c04bf398d1296752884d6b",
       "version_major": 2,
       "version_minor": 0
      },
      "text/plain": [
       "training routine:   0%|          | 0/100 [00:00<?, ?it/s]"
      ]
     },
     "metadata": {},
     "output_type": "display_data"
    },
    {
     "data": {
      "application/vnd.jupyter.widget-view+json": {
       "model_id": "a3e86f6288dd4f4f89a1e85325e40c28",
       "version_major": 2,
       "version_minor": 0
      },
      "text/plain": [
       "split=train:   0%|          | 0/79 [00:00<?, ?it/s]"
      ]
     },
     "metadata": {},
     "output_type": "display_data"
    },
    {
     "data": {
      "application/vnd.jupyter.widget-view+json": {
       "model_id": "0d7696d1dbab42af900793f76000ca87",
       "version_major": 2,
       "version_minor": 0
      },
      "text/plain": [
       "split=val:   0%|          | 0/17 [00:00<?, ?it/s]"
      ]
     },
     "metadata": {},
     "output_type": "display_data"
    },
    {
     "name": "stderr",
     "output_type": "stream",
     "text": [
      "[I 2025-02-28 00:02:49,457] Trial 2 finished with value: 86.67279411764707 and parameters: {'remove_special_char': True, 'case_folding': False, 'remove_punctuation': True, 'expand_contractions': True, 'remove_stop_words': False, 'wordnet_lemmatizer': False, 'vectorizer_type': 'term-freq', 'frequency_cutoff': 0, 'learning_rate': 0.0005, 'hidden_dim': 100, 'batch_size': 64, 'enable_opinion_lexicon': True, 'use_word_embedding': False, 'enable_second_hidden_layer': True, 'enable_drop_out': False, 'enable_batch_norm': False, 'weight_decay': 0.001}. Best is trial 0 with value: 91.30859375.\n"
     ]
    },
    {
     "name": "stdout",
     "output_type": "stream",
     "text": [
      "number of features => 25301\n"
     ]
    },
    {
     "data": {
      "application/vnd.jupyter.widget-view+json": {
       "model_id": "2fdab3cce98345549f024bd28dbcad41",
       "version_major": 2,
       "version_minor": 0
      },
      "text/plain": [
       "training routine:   0%|          | 0/100 [00:00<?, ?it/s]"
      ]
     },
     "metadata": {},
     "output_type": "display_data"
    },
    {
     "data": {
      "application/vnd.jupyter.widget-view+json": {
       "model_id": "19a6e6f9adaf42bea345fe58b044c8bd",
       "version_major": 2,
       "version_minor": 0
      },
      "text/plain": [
       "split=train:   0%|          | 0/79 [00:00<?, ?it/s]"
      ]
     },
     "metadata": {},
     "output_type": "display_data"
    },
    {
     "data": {
      "application/vnd.jupyter.widget-view+json": {
       "model_id": "0694da414fba44de82b9e676fa48f99b",
       "version_major": 2,
       "version_minor": 0
      },
      "text/plain": [
       "split=val:   0%|          | 0/17 [00:00<?, ?it/s]"
      ]
     },
     "metadata": {},
     "output_type": "display_data"
    },
    {
     "name": "stderr",
     "output_type": "stream",
     "text": [
      "[I 2025-02-28 00:03:29,019] Trial 3 finished with value: 81.15808823529412 and parameters: {'remove_special_char': True, 'case_folding': True, 'remove_punctuation': False, 'expand_contractions': False, 'remove_stop_words': False, 'wordnet_lemmatizer': True, 'vectorizer_type': 'one-hot', 'frequency_cutoff': 0, 'learning_rate': 0.01, 'hidden_dim': 100, 'batch_size': 64, 'enable_opinion_lexicon': False, 'use_word_embedding': False, 'enable_second_hidden_layer': True, 'enable_drop_out': False, 'enable_batch_norm': False, 'weight_decay': 0.01}. Best is trial 0 with value: 91.30859375.\n"
     ]
    },
    {
     "name": "stdout",
     "output_type": "stream",
     "text": [
      "number of features => 2065\n"
     ]
    },
    {
     "data": {
      "application/vnd.jupyter.widget-view+json": {
       "model_id": "6f0c41f015da4e809d8b3044750bae17",
       "version_major": 2,
       "version_minor": 0
      },
      "text/plain": [
       "training routine:   0%|          | 0/100 [00:00<?, ?it/s]"
      ]
     },
     "metadata": {},
     "output_type": "display_data"
    },
    {
     "data": {
      "application/vnd.jupyter.widget-view+json": {
       "model_id": "dddbdd6c09b141119b62310cd3a3277d",
       "version_major": 2,
       "version_minor": 0
      },
      "text/plain": [
       "split=train:   0%|          | 0/19 [00:00<?, ?it/s]"
      ]
     },
     "metadata": {},
     "output_type": "display_data"
    },
    {
     "data": {
      "application/vnd.jupyter.widget-view+json": {
       "model_id": "2703fd7d48294fb695f4ca3020515104",
       "version_major": 2,
       "version_minor": 0
      },
      "text/plain": [
       "split=val:   0%|          | 0/4 [00:00<?, ?it/s]"
      ]
     },
     "metadata": {},
     "output_type": "display_data"
    },
    {
     "name": "stderr",
     "output_type": "stream",
     "text": [
      "[I 2025-02-28 00:04:24,187] Trial 4 finished with value: 83.10546875 and parameters: {'remove_special_char': True, 'case_folding': False, 'remove_punctuation': True, 'expand_contractions': False, 'remove_stop_words': False, 'wordnet_lemmatizer': True, 'vectorizer_type': 'term-freq', 'frequency_cutoff': 25, 'learning_rate': 0.0001, 'hidden_dim': 100, 'batch_size': 256, 'enable_opinion_lexicon': False, 'use_word_embedding': False, 'enable_second_hidden_layer': True, 'enable_drop_out': False, 'enable_batch_norm': True, 'weight_decay': 0.001}. Best is trial 0 with value: 91.30859375.\n"
     ]
    },
    {
     "name": "stdout",
     "output_type": "stream",
     "text": [
      "number of features => 264415\n"
     ]
    },
    {
     "data": {
      "application/vnd.jupyter.widget-view+json": {
       "model_id": "6441545b02674e969908141422a44c95",
       "version_major": 2,
       "version_minor": 0
      },
      "text/plain": [
       "training routine:   0%|          | 0/100 [00:00<?, ?it/s]"
      ]
     },
     "metadata": {},
     "output_type": "display_data"
    },
    {
     "data": {
      "application/vnd.jupyter.widget-view+json": {
       "model_id": "7cf8ed863b624793a3162c1b114e4eee",
       "version_major": 2,
       "version_minor": 0
      },
      "text/plain": [
       "split=train:   0%|          | 0/79 [00:00<?, ?it/s]"
      ]
     },
     "metadata": {},
     "output_type": "display_data"
    },
    {
     "data": {
      "application/vnd.jupyter.widget-view+json": {
       "model_id": "3ae6a0bceba74cc2a6d9875aa1a7e119",
       "version_major": 2,
       "version_minor": 0
      },
      "text/plain": [
       "split=val:   0%|          | 0/17 [00:00<?, ?it/s]"
      ]
     },
     "metadata": {},
     "output_type": "display_data"
    },
    {
     "name": "stderr",
     "output_type": "stream",
     "text": [
      "[I 2025-02-28 00:07:10,793] Trial 5 finished with value: 87.95955882352942 and parameters: {'remove_special_char': False, 'case_folding': False, 'remove_punctuation': False, 'expand_contractions': True, 'remove_stop_words': True, 'wordnet_lemmatizer': False, 'vectorizer_type': 'tf-idf', 'frequency_cutoff': 25, 'learning_rate': 0.01, 'hidden_dim': 10, 'batch_size': 64, 'enable_opinion_lexicon': False, 'use_word_embedding': False, 'enable_second_hidden_layer': True, 'enable_drop_out': False, 'enable_batch_norm': True, 'weight_decay': 0.001}. Best is trial 0 with value: 91.30859375.\n"
     ]
    },
    {
     "name": "stdout",
     "output_type": "stream",
     "text": [
      "number of features => 29926\n"
     ]
    },
    {
     "data": {
      "application/vnd.jupyter.widget-view+json": {
       "model_id": "582f41ba7cc545158acab1a94048d3e9",
       "version_major": 2,
       "version_minor": 0
      },
      "text/plain": [
       "training routine:   0%|          | 0/100 [00:00<?, ?it/s]"
      ]
     },
     "metadata": {},
     "output_type": "display_data"
    },
    {
     "data": {
      "application/vnd.jupyter.widget-view+json": {
       "model_id": "382f633d32de45d4a3fc3729e4bbc09b",
       "version_major": 2,
       "version_minor": 0
      },
      "text/plain": [
       "split=train:   0%|          | 0/39 [00:00<?, ?it/s]"
      ]
     },
     "metadata": {},
     "output_type": "display_data"
    },
    {
     "data": {
      "application/vnd.jupyter.widget-view+json": {
       "model_id": "c6b3fc2cea144f6e9f21128fe235a3c5",
       "version_major": 2,
       "version_minor": 0
      },
      "text/plain": [
       "split=val:   0%|          | 0/8 [00:00<?, ?it/s]"
      ]
     },
     "metadata": {},
     "output_type": "display_data"
    },
    {
     "name": "stderr",
     "output_type": "stream",
     "text": [
      "[I 2025-02-28 00:07:44,592] Trial 6 finished with value: 84.9609375 and parameters: {'remove_special_char': True, 'case_folding': False, 'remove_punctuation': True, 'expand_contractions': True, 'remove_stop_words': True, 'wordnet_lemmatizer': True, 'vectorizer_type': 'term-freq', 'frequency_cutoff': 0, 'learning_rate': 0.001, 'hidden_dim': 50, 'batch_size': 128, 'enable_opinion_lexicon': True, 'use_word_embedding': False, 'enable_second_hidden_layer': True, 'enable_drop_out': False, 'enable_batch_norm': False, 'weight_decay': 0.001}. Best is trial 0 with value: 91.30859375.\n"
     ]
    },
    {
     "name": "stdout",
     "output_type": "stream",
     "text": [
      "number of features => 1847\n"
     ]
    },
    {
     "data": {
      "application/vnd.jupyter.widget-view+json": {
       "model_id": "c642a63d07f342459b34a30d02419698",
       "version_major": 2,
       "version_minor": 0
      },
      "text/plain": [
       "training routine:   0%|          | 0/100 [00:00<?, ?it/s]"
      ]
     },
     "metadata": {},
     "output_type": "display_data"
    },
    {
     "data": {
      "application/vnd.jupyter.widget-view+json": {
       "model_id": "4ba0e326a2e74205aa32a4fb08ce8000",
       "version_major": 2,
       "version_minor": 0
      },
      "text/plain": [
       "split=train:   0%|          | 0/19 [00:00<?, ?it/s]"
      ]
     },
     "metadata": {},
     "output_type": "display_data"
    },
    {
     "data": {
      "application/vnd.jupyter.widget-view+json": {
       "model_id": "07a91d2b79ed402f8bdd065aa80206ee",
       "version_major": 2,
       "version_minor": 0
      },
      "text/plain": [
       "split=val:   0%|          | 0/4 [00:00<?, ?it/s]"
      ]
     },
     "metadata": {},
     "output_type": "display_data"
    },
    {
     "name": "stderr",
     "output_type": "stream",
     "text": [
      "[I 2025-02-28 00:07:56,211] Trial 7 finished with value: 81.34765625 and parameters: {'remove_special_char': False, 'case_folding': True, 'remove_punctuation': True, 'expand_contractions': True, 'remove_stop_words': True, 'wordnet_lemmatizer': True, 'vectorizer_type': 'one-hot', 'frequency_cutoff': 25, 'learning_rate': 0.001, 'hidden_dim': 50, 'batch_size': 256, 'enable_opinion_lexicon': True, 'use_word_embedding': False, 'enable_second_hidden_layer': False, 'enable_drop_out': False, 'enable_batch_norm': True, 'weight_decay': 0.0001}. Best is trial 0 with value: 91.30859375.\n"
     ]
    },
    {
     "name": "stdout",
     "output_type": "stream",
     "text": [
      "number of features => 2256\n"
     ]
    },
    {
     "data": {
      "application/vnd.jupyter.widget-view+json": {
       "model_id": "0e8d233c52c34697867ca6d8ff296c32",
       "version_major": 2,
       "version_minor": 0
      },
      "text/plain": [
       "training routine:   0%|          | 0/100 [00:00<?, ?it/s]"
      ]
     },
     "metadata": {},
     "output_type": "display_data"
    },
    {
     "data": {
      "application/vnd.jupyter.widget-view+json": {
       "model_id": "8c2b257c92a24760bb6a981d3d3fb232",
       "version_major": 2,
       "version_minor": 0
      },
      "text/plain": [
       "split=train:   0%|          | 0/79 [00:00<?, ?it/s]"
      ]
     },
     "metadata": {},
     "output_type": "display_data"
    },
    {
     "data": {
      "application/vnd.jupyter.widget-view+json": {
       "model_id": "d318676a1b294c15b345a3f0d9c5d106",
       "version_major": 2,
       "version_minor": 0
      },
      "text/plain": [
       "split=val:   0%|          | 0/17 [00:00<?, ?it/s]"
      ]
     },
     "metadata": {},
     "output_type": "display_data"
    },
    {
     "name": "stderr",
     "output_type": "stream",
     "text": [
      "[I 2025-02-28 00:08:09,943] Trial 8 finished with value: 86.67279411764706 and parameters: {'remove_special_char': False, 'case_folding': False, 'remove_punctuation': False, 'expand_contractions': False, 'remove_stop_words': False, 'wordnet_lemmatizer': False, 'vectorizer_type': 'one-hot', 'frequency_cutoff': 25, 'learning_rate': 0.0005, 'hidden_dim': 50, 'batch_size': 64, 'enable_opinion_lexicon': True, 'use_word_embedding': False, 'enable_second_hidden_layer': False, 'enable_drop_out': True, 'enable_batch_norm': True, 'weight_decay': 0.0001}. Best is trial 0 with value: 91.30859375.\n"
     ]
    },
    {
     "name": "stdout",
     "output_type": "stream",
     "text": [
      "GloVe model loaded!\n",
      "number of features => 2085\n"
     ]
    },
    {
     "data": {
      "application/vnd.jupyter.widget-view+json": {
       "model_id": "87ab2ae7a9664cce8fafb8a40b7234a9",
       "version_major": 2,
       "version_minor": 0
      },
      "text/plain": [
       "training routine:   0%|          | 0/100 [00:00<?, ?it/s]"
      ]
     },
     "metadata": {},
     "output_type": "display_data"
    },
    {
     "data": {
      "application/vnd.jupyter.widget-view+json": {
       "model_id": "28e7ff53c4614756ad3d35642264b159",
       "version_major": 2,
       "version_minor": 0
      },
      "text/plain": [
       "split=train:   0%|          | 0/79 [00:00<?, ?it/s]"
      ]
     },
     "metadata": {},
     "output_type": "display_data"
    },
    {
     "data": {
      "application/vnd.jupyter.widget-view+json": {
       "model_id": "d430b541dc384ed9936ffef851d42822",
       "version_major": 2,
       "version_minor": 0
      },
      "text/plain": [
       "split=val:   0%|          | 0/17 [00:00<?, ?it/s]"
      ]
     },
     "metadata": {},
     "output_type": "display_data"
    },
    {
     "name": "stderr",
     "output_type": "stream",
     "text": [
      "[I 2025-02-28 00:11:19,226] Trial 9 finished with value: 83.2720588235294 and parameters: {'remove_special_char': False, 'case_folding': True, 'remove_punctuation': False, 'expand_contractions': True, 'remove_stop_words': False, 'wordnet_lemmatizer': True, 'vectorizer_type': 'one-hot', 'frequency_cutoff': 25, 'learning_rate': 0.0005, 'hidden_dim': 10, 'batch_size': 64, 'enable_opinion_lexicon': False, 'use_word_embedding': True, 'enable_second_hidden_layer': True, 'enable_drop_out': True, 'enable_batch_norm': False, 'weight_decay': 0.01}. Best is trial 0 with value: 91.30859375.\n"
     ]
    },
    {
     "name": "stdout",
     "output_type": "stream",
     "text": [
      "GloVe model loaded!\n",
      "number of features => 242067\n"
     ]
    },
    {
     "data": {
      "application/vnd.jupyter.widget-view+json": {
       "model_id": "788695bc818441b28802faa153726089",
       "version_major": 2,
       "version_minor": 0
      },
      "text/plain": [
       "training routine:   0%|          | 0/100 [00:00<?, ?it/s]"
      ]
     },
     "metadata": {},
     "output_type": "display_data"
    },
    {
     "data": {
      "application/vnd.jupyter.widget-view+json": {
       "model_id": "3fbe0dbd59ba4770954f08097d0658f3",
       "version_major": 2,
       "version_minor": 0
      },
      "text/plain": [
       "split=train:   0%|          | 0/19 [00:00<?, ?it/s]"
      ]
     },
     "metadata": {},
     "output_type": "display_data"
    },
    {
     "data": {
      "application/vnd.jupyter.widget-view+json": {
       "model_id": "28c104e080b14928bb37d9684e7fed64",
       "version_major": 2,
       "version_minor": 0
      },
      "text/plain": [
       "split=val:   0%|          | 0/4 [00:00<?, ?it/s]"
      ]
     },
     "metadata": {},
     "output_type": "display_data"
    },
    {
     "name": "stderr",
     "output_type": "stream",
     "text": [
      "[I 2025-02-28 00:43:11,792] Trial 10 finished with value: 88.57421875 and parameters: {'remove_special_char': True, 'case_folding': False, 'remove_punctuation': True, 'expand_contractions': True, 'remove_stop_words': False, 'wordnet_lemmatizer': True, 'vectorizer_type': 'tf-idf', 'frequency_cutoff': 0, 'learning_rate': 0.0001, 'hidden_dim': 20, 'batch_size': 256, 'enable_opinion_lexicon': False, 'use_word_embedding': True, 'enable_second_hidden_layer': False, 'enable_drop_out': True, 'enable_batch_norm': False, 'weight_decay': 0}. Best is trial 0 with value: 91.30859375.\n"
     ]
    },
    {
     "name": "stdout",
     "output_type": "stream",
     "text": [
      "GloVe model loaded!\n",
      "number of features => 242067\n"
     ]
    },
    {
     "data": {
      "application/vnd.jupyter.widget-view+json": {
       "model_id": "68db4357e21b4290bb92be88a2ecc4c4",
       "version_major": 2,
       "version_minor": 0
      },
      "text/plain": [
       "training routine:   0%|          | 0/100 [00:00<?, ?it/s]"
      ]
     },
     "metadata": {},
     "output_type": "display_data"
    },
    {
     "data": {
      "application/vnd.jupyter.widget-view+json": {
       "model_id": "47ea3d4b979142c7ad4149193216d0d1",
       "version_major": 2,
       "version_minor": 0
      },
      "text/plain": [
       "split=train:   0%|          | 0/19 [00:00<?, ?it/s]"
      ]
     },
     "metadata": {},
     "output_type": "display_data"
    },
    {
     "data": {
      "application/vnd.jupyter.widget-view+json": {
       "model_id": "a843a4e40b4640b592de84ebd3dc525f",
       "version_major": 2,
       "version_minor": 0
      },
      "text/plain": [
       "split=val:   0%|          | 0/4 [00:00<?, ?it/s]"
      ]
     },
     "metadata": {},
     "output_type": "display_data"
    },
    {
     "name": "stderr",
     "output_type": "stream",
     "text": [
      "[I 2025-02-28 01:15:16,495] Trial 11 finished with value: 88.57421875 and parameters: {'remove_special_char': True, 'case_folding': False, 'remove_punctuation': True, 'expand_contractions': True, 'remove_stop_words': False, 'wordnet_lemmatizer': True, 'vectorizer_type': 'tf-idf', 'frequency_cutoff': 0, 'learning_rate': 0.0001, 'hidden_dim': 20, 'batch_size': 256, 'enable_opinion_lexicon': False, 'use_word_embedding': True, 'enable_second_hidden_layer': False, 'enable_drop_out': True, 'enable_batch_norm': False, 'weight_decay': 0}. Best is trial 0 with value: 91.30859375.\n"
     ]
    },
    {
     "name": "stdout",
     "output_type": "stream",
     "text": [
      "GloVe model loaded!\n",
      "number of features => 242067\n"
     ]
    },
    {
     "data": {
      "application/vnd.jupyter.widget-view+json": {
       "model_id": "2429a8641908420b813b16329b89456b",
       "version_major": 2,
       "version_minor": 0
      },
      "text/plain": [
       "training routine:   0%|          | 0/100 [00:00<?, ?it/s]"
      ]
     },
     "metadata": {},
     "output_type": "display_data"
    },
    {
     "data": {
      "application/vnd.jupyter.widget-view+json": {
       "model_id": "8f04d44f9b6a4be987614c15eef063fc",
       "version_major": 2,
       "version_minor": 0
      },
      "text/plain": [
       "split=train:   0%|          | 0/19 [00:00<?, ?it/s]"
      ]
     },
     "metadata": {},
     "output_type": "display_data"
    },
    {
     "data": {
      "application/vnd.jupyter.widget-view+json": {
       "model_id": "70e8fa9803554cf7b4d91dc96a6cf360",
       "version_major": 2,
       "version_minor": 0
      },
      "text/plain": [
       "split=val:   0%|          | 0/4 [00:00<?, ?it/s]"
      ]
     },
     "metadata": {},
     "output_type": "display_data"
    },
    {
     "name": "stderr",
     "output_type": "stream",
     "text": [
      "[I 2025-02-28 01:47:11,834] Trial 12 finished with value: 88.57421875 and parameters: {'remove_special_char': True, 'case_folding': False, 'remove_punctuation': True, 'expand_contractions': True, 'remove_stop_words': False, 'wordnet_lemmatizer': True, 'vectorizer_type': 'tf-idf', 'frequency_cutoff': 0, 'learning_rate': 0.0001, 'hidden_dim': 20, 'batch_size': 256, 'enable_opinion_lexicon': False, 'use_word_embedding': True, 'enable_second_hidden_layer': False, 'enable_drop_out': True, 'enable_batch_norm': False, 'weight_decay': 0}. Best is trial 0 with value: 91.30859375.\n"
     ]
    },
    {
     "name": "stdout",
     "output_type": "stream",
     "text": [
      "GloVe model loaded!\n",
      "number of features => 242067\n"
     ]
    },
    {
     "data": {
      "application/vnd.jupyter.widget-view+json": {
       "model_id": "6d0abc1978404cf6b45337c46c152dc8",
       "version_major": 2,
       "version_minor": 0
      },
      "text/plain": [
       "training routine:   0%|          | 0/100 [00:00<?, ?it/s]"
      ]
     },
     "metadata": {},
     "output_type": "display_data"
    },
    {
     "data": {
      "application/vnd.jupyter.widget-view+json": {
       "model_id": "3ab19ab5a5d64388be41f39eb6ccab06",
       "version_major": 2,
       "version_minor": 0
      },
      "text/plain": [
       "split=train:   0%|          | 0/19 [00:00<?, ?it/s]"
      ]
     },
     "metadata": {},
     "output_type": "display_data"
    },
    {
     "data": {
      "application/vnd.jupyter.widget-view+json": {
       "model_id": "f583a33736af49de9f866dea324277ee",
       "version_major": 2,
       "version_minor": 0
      },
      "text/plain": [
       "split=val:   0%|          | 0/4 [00:00<?, ?it/s]"
      ]
     },
     "metadata": {},
     "output_type": "display_data"
    },
    {
     "name": "stderr",
     "output_type": "stream",
     "text": [
      "[I 2025-02-28 01:51:34,083] Trial 13 finished with value: 91.11328125 and parameters: {'remove_special_char': True, 'case_folding': False, 'remove_punctuation': True, 'expand_contractions': True, 'remove_stop_words': False, 'wordnet_lemmatizer': True, 'vectorizer_type': 'tf-idf', 'frequency_cutoff': 0, 'learning_rate': 0.01, 'hidden_dim': 20, 'batch_size': 256, 'enable_opinion_lexicon': False, 'use_word_embedding': True, 'enable_second_hidden_layer': False, 'enable_drop_out': True, 'enable_batch_norm': False, 'weight_decay': 0}. Best is trial 0 with value: 91.30859375.\n"
     ]
    },
    {
     "name": "stdout",
     "output_type": "stream",
     "text": [
      "GloVe model loaded!\n",
      "number of features => 242067\n"
     ]
    },
    {
     "data": {
      "application/vnd.jupyter.widget-view+json": {
       "model_id": "7d5025299d73436f85a52565b452414e",
       "version_major": 2,
       "version_minor": 0
      },
      "text/plain": [
       "training routine:   0%|          | 0/100 [00:00<?, ?it/s]"
      ]
     },
     "metadata": {},
     "output_type": "display_data"
    },
    {
     "data": {
      "application/vnd.jupyter.widget-view+json": {
       "model_id": "b30ed4f9dac04a0e881c33ab39285a19",
       "version_major": 2,
       "version_minor": 0
      },
      "text/plain": [
       "split=train:   0%|          | 0/19 [00:00<?, ?it/s]"
      ]
     },
     "metadata": {},
     "output_type": "display_data"
    },
    {
     "data": {
      "application/vnd.jupyter.widget-view+json": {
       "model_id": "c83b675ef14045afae91b99781ca206f",
       "version_major": 2,
       "version_minor": 0
      },
      "text/plain": [
       "split=val:   0%|          | 0/4 [00:00<?, ?it/s]"
      ]
     },
     "metadata": {},
     "output_type": "display_data"
    },
    {
     "name": "stderr",
     "output_type": "stream",
     "text": [
      "[I 2025-02-28 01:55:55,873] Trial 14 finished with value: 91.11328125 and parameters: {'remove_special_char': True, 'case_folding': False, 'remove_punctuation': True, 'expand_contractions': True, 'remove_stop_words': False, 'wordnet_lemmatizer': True, 'vectorizer_type': 'tf-idf', 'frequency_cutoff': 25, 'learning_rate': 0.01, 'hidden_dim': 20, 'batch_size': 256, 'enable_opinion_lexicon': False, 'use_word_embedding': True, 'enable_second_hidden_layer': False, 'enable_drop_out': True, 'enable_batch_norm': False, 'weight_decay': 0}. Best is trial 0 with value: 91.30859375.\n"
     ]
    },
    {
     "name": "stdout",
     "output_type": "stream",
     "text": [
      "GloVe model loaded!\n",
      "number of features => 242067\n"
     ]
    },
    {
     "data": {
      "application/vnd.jupyter.widget-view+json": {
       "model_id": "5f29e8e68a7948e2b44c0e67cc08d0a9",
       "version_major": 2,
       "version_minor": 0
      },
      "text/plain": [
       "training routine:   0%|          | 0/100 [00:00<?, ?it/s]"
      ]
     },
     "metadata": {},
     "output_type": "display_data"
    },
    {
     "data": {
      "application/vnd.jupyter.widget-view+json": {
       "model_id": "b411a1124964478394cbdaa4520a664e",
       "version_major": 2,
       "version_minor": 0
      },
      "text/plain": [
       "split=train:   0%|          | 0/19 [00:00<?, ?it/s]"
      ]
     },
     "metadata": {},
     "output_type": "display_data"
    },
    {
     "data": {
      "application/vnd.jupyter.widget-view+json": {
       "model_id": "53a4b703b75b4d8d843f4163bca0d503",
       "version_major": 2,
       "version_minor": 0
      },
      "text/plain": [
       "split=val:   0%|          | 0/4 [00:00<?, ?it/s]"
      ]
     },
     "metadata": {},
     "output_type": "display_data"
    },
    {
     "name": "stderr",
     "output_type": "stream",
     "text": [
      "[I 2025-02-28 01:59:44,119] Trial 15 finished with value: 91.30859375 and parameters: {'remove_special_char': True, 'case_folding': False, 'remove_punctuation': True, 'expand_contractions': True, 'remove_stop_words': False, 'wordnet_lemmatizer': True, 'vectorizer_type': 'tf-idf', 'frequency_cutoff': 0, 'learning_rate': 0.01, 'hidden_dim': 50, 'batch_size': 256, 'enable_opinion_lexicon': False, 'use_word_embedding': True, 'enable_second_hidden_layer': False, 'enable_drop_out': True, 'enable_batch_norm': False, 'weight_decay': 0}. Best is trial 0 with value: 91.30859375.\n"
     ]
    },
    {
     "name": "stdout",
     "output_type": "stream",
     "text": [
      "GloVe model loaded!\n",
      "number of features => 242067\n"
     ]
    },
    {
     "data": {
      "application/vnd.jupyter.widget-view+json": {
       "model_id": "046343fa98b84ab4b065c6c9dfa9aea5",
       "version_major": 2,
       "version_minor": 0
      },
      "text/plain": [
       "training routine:   0%|          | 0/100 [00:00<?, ?it/s]"
      ]
     },
     "metadata": {},
     "output_type": "display_data"
    },
    {
     "data": {
      "application/vnd.jupyter.widget-view+json": {
       "model_id": "048f656110d542b78d66abba1c233565",
       "version_major": 2,
       "version_minor": 0
      },
      "text/plain": [
       "split=train:   0%|          | 0/19 [00:00<?, ?it/s]"
      ]
     },
     "metadata": {},
     "output_type": "display_data"
    },
    {
     "data": {
      "application/vnd.jupyter.widget-view+json": {
       "model_id": "23d5fbfa3f8045c7835ae70d03a18ae6",
       "version_major": 2,
       "version_minor": 0
      },
      "text/plain": [
       "split=val:   0%|          | 0/4 [00:00<?, ?it/s]"
      ]
     },
     "metadata": {},
     "output_type": "display_data"
    },
    {
     "name": "stderr",
     "output_type": "stream",
     "text": [
      "[I 2025-02-28 02:03:31,341] Trial 16 finished with value: 91.30859375 and parameters: {'remove_special_char': True, 'case_folding': False, 'remove_punctuation': True, 'expand_contractions': True, 'remove_stop_words': False, 'wordnet_lemmatizer': True, 'vectorizer_type': 'tf-idf', 'frequency_cutoff': 0, 'learning_rate': 0.01, 'hidden_dim': 50, 'batch_size': 256, 'enable_opinion_lexicon': False, 'use_word_embedding': True, 'enable_second_hidden_layer': False, 'enable_drop_out': True, 'enable_batch_norm': False, 'weight_decay': 0}. Best is trial 0 with value: 91.30859375.\n"
     ]
    },
    {
     "name": "stdout",
     "output_type": "stream",
     "text": [
      "GloVe model loaded!\n",
      "number of features => 242067\n"
     ]
    },
    {
     "data": {
      "application/vnd.jupyter.widget-view+json": {
       "model_id": "71636323dbfa49bb8a2cb1705d66b2f4",
       "version_major": 2,
       "version_minor": 0
      },
      "text/plain": [
       "training routine:   0%|          | 0/100 [00:00<?, ?it/s]"
      ]
     },
     "metadata": {},
     "output_type": "display_data"
    },
    {
     "data": {
      "application/vnd.jupyter.widget-view+json": {
       "model_id": "d93457ce283847fabaaf055c9abcbad9",
       "version_major": 2,
       "version_minor": 0
      },
      "text/plain": [
       "split=train:   0%|          | 0/39 [00:00<?, ?it/s]"
      ]
     },
     "metadata": {},
     "output_type": "display_data"
    },
    {
     "data": {
      "application/vnd.jupyter.widget-view+json": {
       "model_id": "ed6a52381dc243e5811f63e2157ac3b0",
       "version_major": 2,
       "version_minor": 0
      },
      "text/plain": [
       "split=val:   0%|          | 0/8 [00:00<?, ?it/s]"
      ]
     },
     "metadata": {},
     "output_type": "display_data"
    },
    {
     "name": "stderr",
     "output_type": "stream",
     "text": [
      "[I 2025-02-28 02:08:10,690] Trial 17 finished with value: 90.8203125 and parameters: {'remove_special_char': True, 'case_folding': False, 'remove_punctuation': True, 'expand_contractions': True, 'remove_stop_words': False, 'wordnet_lemmatizer': True, 'vectorizer_type': 'tf-idf', 'frequency_cutoff': 25, 'learning_rate': 0.01, 'hidden_dim': 50, 'batch_size': 128, 'enable_opinion_lexicon': False, 'use_word_embedding': True, 'enable_second_hidden_layer': False, 'enable_drop_out': True, 'enable_batch_norm': False, 'weight_decay': 0}. Best is trial 0 with value: 91.30859375.\n"
     ]
    },
    {
     "name": "stdout",
     "output_type": "stream",
     "text": [
      "GloVe model loaded!\n",
      "number of features => 275180\n"
     ]
    },
    {
     "data": {
      "application/vnd.jupyter.widget-view+json": {
       "model_id": "fd75119256b941d2aee1da1cbd194ff1",
       "version_major": 2,
       "version_minor": 0
      },
      "text/plain": [
       "training routine:   0%|          | 0/100 [00:00<?, ?it/s]"
      ]
     },
     "metadata": {},
     "output_type": "display_data"
    },
    {
     "data": {
      "application/vnd.jupyter.widget-view+json": {
       "model_id": "f339c165304c44ee96e750d8afff62f9",
       "version_major": 2,
       "version_minor": 0
      },
      "text/plain": [
       "split=train:   0%|          | 0/19 [00:00<?, ?it/s]"
      ]
     },
     "metadata": {},
     "output_type": "display_data"
    },
    {
     "data": {
      "application/vnd.jupyter.widget-view+json": {
       "model_id": "d701a39558c144e4a632622d8571260c",
       "version_major": 2,
       "version_minor": 0
      },
      "text/plain": [
       "split=val:   0%|          | 0/4 [00:00<?, ?it/s]"
      ]
     },
     "metadata": {},
     "output_type": "display_data"
    },
    {
     "name": "stderr",
     "output_type": "stream",
     "text": [
      "[I 2025-02-28 02:12:20,594] Trial 18 finished with value: 87.3046875 and parameters: {'remove_special_char': False, 'case_folding': True, 'remove_punctuation': True, 'expand_contractions': False, 'remove_stop_words': True, 'wordnet_lemmatizer': False, 'vectorizer_type': 'tf-idf', 'frequency_cutoff': 0, 'learning_rate': 0.01, 'hidden_dim': 50, 'batch_size': 256, 'enable_opinion_lexicon': True, 'use_word_embedding': True, 'enable_second_hidden_layer': False, 'enable_drop_out': True, 'enable_batch_norm': True, 'weight_decay': 0.0001}. Best is trial 0 with value: 91.30859375.\n"
     ]
    },
    {
     "name": "stdout",
     "output_type": "stream",
     "text": [
      "GloVe model loaded!\n",
      "number of features => 242067\n"
     ]
    },
    {
     "data": {
      "application/vnd.jupyter.widget-view+json": {
       "model_id": "23dc405527e94dc09cf87ac8e3e6eaa6",
       "version_major": 2,
       "version_minor": 0
      },
      "text/plain": [
       "training routine:   0%|          | 0/100 [00:00<?, ?it/s]"
      ]
     },
     "metadata": {},
     "output_type": "display_data"
    },
    {
     "data": {
      "application/vnd.jupyter.widget-view+json": {
       "model_id": "b170fa75083846da82db8a83b77411a5",
       "version_major": 2,
       "version_minor": 0
      },
      "text/plain": [
       "split=train:   0%|          | 0/19 [00:00<?, ?it/s]"
      ]
     },
     "metadata": {},
     "output_type": "display_data"
    },
    {
     "data": {
      "application/vnd.jupyter.widget-view+json": {
       "model_id": "2913efa74ea543898d213615d50e956e",
       "version_major": 2,
       "version_minor": 0
      },
      "text/plain": [
       "split=val:   0%|          | 0/4 [00:00<?, ?it/s]"
      ]
     },
     "metadata": {},
     "output_type": "display_data"
    },
    {
     "name": "stderr",
     "output_type": "stream",
     "text": [
      "[I 2025-02-28 02:29:42,119] Trial 19 finished with value: 81.93359375 and parameters: {'remove_special_char': True, 'case_folding': False, 'remove_punctuation': True, 'expand_contractions': True, 'remove_stop_words': False, 'wordnet_lemmatizer': True, 'vectorizer_type': 'tf-idf', 'frequency_cutoff': 25, 'learning_rate': 0.001, 'hidden_dim': 50, 'batch_size': 256, 'enable_opinion_lexicon': False, 'use_word_embedding': True, 'enable_second_hidden_layer': False, 'enable_drop_out': True, 'enable_batch_norm': False, 'weight_decay': 0.01}. Best is trial 0 with value: 91.30859375.\n"
     ]
    },
    {
     "name": "stdout",
     "output_type": "stream",
     "text": [
      "GloVe model loaded!\n",
      "number of features => 242067\n"
     ]
    },
    {
     "data": {
      "application/vnd.jupyter.widget-view+json": {
       "model_id": "0ba63c09e1e14bdabdbe018c4810bdcc",
       "version_major": 2,
       "version_minor": 0
      },
      "text/plain": [
       "training routine:   0%|          | 0/100 [00:00<?, ?it/s]"
      ]
     },
     "metadata": {},
     "output_type": "display_data"
    },
    {
     "data": {
      "application/vnd.jupyter.widget-view+json": {
       "model_id": "2e347ccd92cd4cb88c078481b19ece3e",
       "version_major": 2,
       "version_minor": 0
      },
      "text/plain": [
       "split=train:   0%|          | 0/39 [00:00<?, ?it/s]"
      ]
     },
     "metadata": {},
     "output_type": "display_data"
    },
    {
     "data": {
      "application/vnd.jupyter.widget-view+json": {
       "model_id": "db2a333e93414a8e98eb1f644321883f",
       "version_major": 2,
       "version_minor": 0
      },
      "text/plain": [
       "split=val:   0%|          | 0/8 [00:00<?, ?it/s]"
      ]
     },
     "metadata": {},
     "output_type": "display_data"
    },
    {
     "name": "stderr",
     "output_type": "stream",
     "text": [
      "[I 2025-02-28 02:34:20,401] Trial 20 finished with value: 90.8203125 and parameters: {'remove_special_char': True, 'case_folding': False, 'remove_punctuation': True, 'expand_contractions': True, 'remove_stop_words': False, 'wordnet_lemmatizer': True, 'vectorizer_type': 'tf-idf', 'frequency_cutoff': 25, 'learning_rate': 0.01, 'hidden_dim': 50, 'batch_size': 128, 'enable_opinion_lexicon': False, 'use_word_embedding': True, 'enable_second_hidden_layer': False, 'enable_drop_out': True, 'enable_batch_norm': False, 'weight_decay': 0}. Best is trial 0 with value: 91.30859375.\n"
     ]
    },
    {
     "name": "stdout",
     "output_type": "stream",
     "text": [
      "GloVe model loaded!\n",
      "number of features => 242067\n"
     ]
    },
    {
     "data": {
      "application/vnd.jupyter.widget-view+json": {
       "model_id": "ee472cd2a9924eb096d8add444f69fce",
       "version_major": 2,
       "version_minor": 0
      },
      "text/plain": [
       "training routine:   0%|          | 0/100 [00:00<?, ?it/s]"
      ]
     },
     "metadata": {},
     "output_type": "display_data"
    },
    {
     "data": {
      "application/vnd.jupyter.widget-view+json": {
       "model_id": "edef5b3b67254865ba0ff4d99150763a",
       "version_major": 2,
       "version_minor": 0
      },
      "text/plain": [
       "split=train:   0%|          | 0/19 [00:00<?, ?it/s]"
      ]
     },
     "metadata": {},
     "output_type": "display_data"
    },
    {
     "data": {
      "application/vnd.jupyter.widget-view+json": {
       "model_id": "2e95743150944c64b132b1dac716fc68",
       "version_major": 2,
       "version_minor": 0
      },
      "text/plain": [
       "split=val:   0%|          | 0/4 [00:00<?, ?it/s]"
      ]
     },
     "metadata": {},
     "output_type": "display_data"
    },
    {
     "name": "stderr",
     "output_type": "stream",
     "text": [
      "[I 2025-02-28 02:38:07,394] Trial 21 finished with value: 91.30859375 and parameters: {'remove_special_char': True, 'case_folding': False, 'remove_punctuation': True, 'expand_contractions': True, 'remove_stop_words': False, 'wordnet_lemmatizer': True, 'vectorizer_type': 'tf-idf', 'frequency_cutoff': 0, 'learning_rate': 0.01, 'hidden_dim': 50, 'batch_size': 256, 'enable_opinion_lexicon': False, 'use_word_embedding': True, 'enable_second_hidden_layer': False, 'enable_drop_out': True, 'enable_batch_norm': False, 'weight_decay': 0}. Best is trial 0 with value: 91.30859375.\n"
     ]
    },
    {
     "name": "stdout",
     "output_type": "stream",
     "text": [
      "GloVe model loaded!\n",
      "number of features => 242067\n"
     ]
    },
    {
     "data": {
      "application/vnd.jupyter.widget-view+json": {
       "model_id": "53e15896d4e040299a5e5038c4517282",
       "version_major": 2,
       "version_minor": 0
      },
      "text/plain": [
       "training routine:   0%|          | 0/100 [00:00<?, ?it/s]"
      ]
     },
     "metadata": {},
     "output_type": "display_data"
    },
    {
     "data": {
      "application/vnd.jupyter.widget-view+json": {
       "model_id": "5108113b4cb1442c970e5e408c525364",
       "version_major": 2,
       "version_minor": 0
      },
      "text/plain": [
       "split=train:   0%|          | 0/19 [00:00<?, ?it/s]"
      ]
     },
     "metadata": {},
     "output_type": "display_data"
    },
    {
     "data": {
      "application/vnd.jupyter.widget-view+json": {
       "model_id": "d959651ba79e4e4d88e12342fe445da3",
       "version_major": 2,
       "version_minor": 0
      },
      "text/plain": [
       "split=val:   0%|          | 0/4 [00:00<?, ?it/s]"
      ]
     },
     "metadata": {},
     "output_type": "display_data"
    },
    {
     "name": "stderr",
     "output_type": "stream",
     "text": [
      "[I 2025-02-28 02:41:54,843] Trial 22 finished with value: 91.30859375 and parameters: {'remove_special_char': True, 'case_folding': False, 'remove_punctuation': True, 'expand_contractions': True, 'remove_stop_words': False, 'wordnet_lemmatizer': True, 'vectorizer_type': 'tf-idf', 'frequency_cutoff': 0, 'learning_rate': 0.01, 'hidden_dim': 50, 'batch_size': 256, 'enable_opinion_lexicon': False, 'use_word_embedding': True, 'enable_second_hidden_layer': False, 'enable_drop_out': True, 'enable_batch_norm': False, 'weight_decay': 0}. Best is trial 0 with value: 91.30859375.\n"
     ]
    },
    {
     "name": "stdout",
     "output_type": "stream",
     "text": [
      "GloVe model loaded!\n",
      "number of features => 242067\n"
     ]
    },
    {
     "data": {
      "application/vnd.jupyter.widget-view+json": {
       "model_id": "c8d51b4a10044eae9acdfae98769294b",
       "version_major": 2,
       "version_minor": 0
      },
      "text/plain": [
       "training routine:   0%|          | 0/100 [00:00<?, ?it/s]"
      ]
     },
     "metadata": {},
     "output_type": "display_data"
    },
    {
     "data": {
      "application/vnd.jupyter.widget-view+json": {
       "model_id": "c268e563a2544d79a3cd6f761ba7885a",
       "version_major": 2,
       "version_minor": 0
      },
      "text/plain": [
       "split=train:   0%|          | 0/19 [00:00<?, ?it/s]"
      ]
     },
     "metadata": {},
     "output_type": "display_data"
    },
    {
     "data": {
      "application/vnd.jupyter.widget-view+json": {
       "model_id": "c20a130e04a04f338dc07075932dd37b",
       "version_major": 2,
       "version_minor": 0
      },
      "text/plain": [
       "split=val:   0%|          | 0/4 [00:00<?, ?it/s]"
      ]
     },
     "metadata": {},
     "output_type": "display_data"
    },
    {
     "name": "stderr",
     "output_type": "stream",
     "text": [
      "[I 2025-02-28 02:45:43,385] Trial 23 finished with value: 91.30859375 and parameters: {'remove_special_char': True, 'case_folding': False, 'remove_punctuation': True, 'expand_contractions': True, 'remove_stop_words': False, 'wordnet_lemmatizer': True, 'vectorizer_type': 'tf-idf', 'frequency_cutoff': 0, 'learning_rate': 0.01, 'hidden_dim': 50, 'batch_size': 256, 'enable_opinion_lexicon': False, 'use_word_embedding': True, 'enable_second_hidden_layer': False, 'enable_drop_out': True, 'enable_batch_norm': False, 'weight_decay': 0}. Best is trial 0 with value: 91.30859375.\n"
     ]
    },
    {
     "name": "stdout",
     "output_type": "stream",
     "text": [
      "GloVe model loaded!\n",
      "number of features => 242067\n"
     ]
    },
    {
     "data": {
      "application/vnd.jupyter.widget-view+json": {
       "model_id": "ff5ac92d8f6b4d30bae77adbe500104a",
       "version_major": 2,
       "version_minor": 0
      },
      "text/plain": [
       "training routine:   0%|          | 0/100 [00:00<?, ?it/s]"
      ]
     },
     "metadata": {},
     "output_type": "display_data"
    },
    {
     "data": {
      "application/vnd.jupyter.widget-view+json": {
       "model_id": "dae5f8bb3f7a41068839fcf1747dec84",
       "version_major": 2,
       "version_minor": 0
      },
      "text/plain": [
       "split=train:   0%|          | 0/19 [00:00<?, ?it/s]"
      ]
     },
     "metadata": {},
     "output_type": "display_data"
    },
    {
     "data": {
      "application/vnd.jupyter.widget-view+json": {
       "model_id": "136e455a73b0485a8880c08e6f3da773",
       "version_major": 2,
       "version_minor": 0
      },
      "text/plain": [
       "split=val:   0%|          | 0/4 [00:00<?, ?it/s]"
      ]
     },
     "metadata": {},
     "output_type": "display_data"
    },
    {
     "name": "stderr",
     "output_type": "stream",
     "text": [
      "[I 2025-02-28 02:49:30,169] Trial 24 finished with value: 91.30859375 and parameters: {'remove_special_char': True, 'case_folding': False, 'remove_punctuation': True, 'expand_contractions': True, 'remove_stop_words': False, 'wordnet_lemmatizer': True, 'vectorizer_type': 'tf-idf', 'frequency_cutoff': 0, 'learning_rate': 0.01, 'hidden_dim': 50, 'batch_size': 256, 'enable_opinion_lexicon': False, 'use_word_embedding': True, 'enable_second_hidden_layer': False, 'enable_drop_out': True, 'enable_batch_norm': False, 'weight_decay': 0}. Best is trial 0 with value: 91.30859375.\n"
     ]
    },
    {
     "name": "stdout",
     "output_type": "stream",
     "text": [
      "GloVe model loaded!\n",
      "number of features => 242067\n"
     ]
    },
    {
     "data": {
      "application/vnd.jupyter.widget-view+json": {
       "model_id": "51ffd74a53214d8da1956bead7fd4e38",
       "version_major": 2,
       "version_minor": 0
      },
      "text/plain": [
       "training routine:   0%|          | 0/100 [00:00<?, ?it/s]"
      ]
     },
     "metadata": {},
     "output_type": "display_data"
    },
    {
     "data": {
      "application/vnd.jupyter.widget-view+json": {
       "model_id": "1806571470494ff98dd910ff048d0c75",
       "version_major": 2,
       "version_minor": 0
      },
      "text/plain": [
       "split=train:   0%|          | 0/19 [00:00<?, ?it/s]"
      ]
     },
     "metadata": {},
     "output_type": "display_data"
    },
    {
     "data": {
      "application/vnd.jupyter.widget-view+json": {
       "model_id": "d0bb583fc05b4462a176d84fd755892e",
       "version_major": 2,
       "version_minor": 0
      },
      "text/plain": [
       "split=val:   0%|          | 0/4 [00:00<?, ?it/s]"
      ]
     },
     "metadata": {},
     "output_type": "display_data"
    },
    {
     "name": "stderr",
     "output_type": "stream",
     "text": [
      "[I 2025-02-28 02:53:18,243] Trial 25 finished with value: 91.30859375 and parameters: {'remove_special_char': True, 'case_folding': False, 'remove_punctuation': True, 'expand_contractions': True, 'remove_stop_words': False, 'wordnet_lemmatizer': True, 'vectorizer_type': 'tf-idf', 'frequency_cutoff': 0, 'learning_rate': 0.01, 'hidden_dim': 50, 'batch_size': 256, 'enable_opinion_lexicon': False, 'use_word_embedding': True, 'enable_second_hidden_layer': False, 'enable_drop_out': True, 'enable_batch_norm': False, 'weight_decay': 0}. Best is trial 0 with value: 91.30859375.\n"
     ]
    },
    {
     "name": "stdout",
     "output_type": "stream",
     "text": [
      "GloVe model loaded!\n",
      "number of features => 263338\n"
     ]
    },
    {
     "data": {
      "application/vnd.jupyter.widget-view+json": {
       "model_id": "6f48c6662ee04872af2a5eba020d0a7f",
       "version_major": 2,
       "version_minor": 0
      },
      "text/plain": [
       "training routine:   0%|          | 0/100 [00:00<?, ?it/s]"
      ]
     },
     "metadata": {},
     "output_type": "display_data"
    },
    {
     "data": {
      "application/vnd.jupyter.widget-view+json": {
       "model_id": "1eb811711ead408a81f76bfdcc53946b",
       "version_major": 2,
       "version_minor": 0
      },
      "text/plain": [
       "split=train:   0%|          | 0/19 [00:00<?, ?it/s]"
      ]
     },
     "metadata": {},
     "output_type": "display_data"
    },
    {
     "data": {
      "application/vnd.jupyter.widget-view+json": {
       "model_id": "30961027406f40b5a0808a760dcf1219",
       "version_major": 2,
       "version_minor": 0
      },
      "text/plain": [
       "split=val:   0%|          | 0/4 [00:00<?, ?it/s]"
      ]
     },
     "metadata": {},
     "output_type": "display_data"
    },
    {
     "name": "stderr",
     "output_type": "stream",
     "text": [
      "[I 2025-02-28 02:57:40,552] Trial 26 finished with value: 87.890625 and parameters: {'remove_special_char': False, 'case_folding': True, 'remove_punctuation': False, 'expand_contractions': False, 'remove_stop_words': True, 'wordnet_lemmatizer': False, 'vectorizer_type': 'tf-idf', 'frequency_cutoff': 0, 'learning_rate': 0.01, 'hidden_dim': 50, 'batch_size': 256, 'enable_opinion_lexicon': True, 'use_word_embedding': True, 'enable_second_hidden_layer': False, 'enable_drop_out': True, 'enable_batch_norm': True, 'weight_decay': 0}. Best is trial 0 with value: 91.30859375.\n"
     ]
    },
    {
     "name": "stdout",
     "output_type": "stream",
     "text": [
      "GloVe model loaded!\n",
      "number of features => 242067\n"
     ]
    },
    {
     "data": {
      "application/vnd.jupyter.widget-view+json": {
       "model_id": "5b2e0374ad3844229cd74ffd6626693a",
       "version_major": 2,
       "version_minor": 0
      },
      "text/plain": [
       "training routine:   0%|          | 0/100 [00:00<?, ?it/s]"
      ]
     },
     "metadata": {},
     "output_type": "display_data"
    },
    {
     "data": {
      "application/vnd.jupyter.widget-view+json": {
       "model_id": "b6523925c99745c3982261cd2d023e97",
       "version_major": 2,
       "version_minor": 0
      },
      "text/plain": [
       "split=train:   0%|          | 0/19 [00:00<?, ?it/s]"
      ]
     },
     "metadata": {},
     "output_type": "display_data"
    },
    {
     "data": {
      "application/vnd.jupyter.widget-view+json": {
       "model_id": "72fda58c96ba4f04a0278e5f0727f0be",
       "version_major": 2,
       "version_minor": 0
      },
      "text/plain": [
       "split=val:   0%|          | 0/4 [00:00<?, ?it/s]"
      ]
     },
     "metadata": {},
     "output_type": "display_data"
    },
    {
     "name": "stderr",
     "output_type": "stream",
     "text": [
      "[I 2025-02-28 03:15:04,612] Trial 27 finished with value: 81.93359375 and parameters: {'remove_special_char': True, 'case_folding': False, 'remove_punctuation': True, 'expand_contractions': True, 'remove_stop_words': False, 'wordnet_lemmatizer': True, 'vectorizer_type': 'tf-idf', 'frequency_cutoff': 0, 'learning_rate': 0.001, 'hidden_dim': 50, 'batch_size': 256, 'enable_opinion_lexicon': False, 'use_word_embedding': True, 'enable_second_hidden_layer': False, 'enable_drop_out': True, 'enable_batch_norm': False, 'weight_decay': 0.01}. Best is trial 0 with value: 91.30859375.\n"
     ]
    },
    {
     "name": "stdout",
     "output_type": "stream",
     "text": [
      "GloVe model loaded!\n",
      "number of features => 2033\n"
     ]
    },
    {
     "data": {
      "application/vnd.jupyter.widget-view+json": {
       "model_id": "91c9288bac464178aa098e495614e70a",
       "version_major": 2,
       "version_minor": 0
      },
      "text/plain": [
       "training routine:   0%|          | 0/100 [00:00<?, ?it/s]"
      ]
     },
     "metadata": {},
     "output_type": "display_data"
    },
    {
     "data": {
      "application/vnd.jupyter.widget-view+json": {
       "model_id": "58ca3d24681a4e988772febb4eff0974",
       "version_major": 2,
       "version_minor": 0
      },
      "text/plain": [
       "split=train:   0%|          | 0/39 [00:00<?, ?it/s]"
      ]
     },
     "metadata": {},
     "output_type": "display_data"
    },
    {
     "data": {
      "application/vnd.jupyter.widget-view+json": {
       "model_id": "a763642c35204d7b976ef84dde1d579f",
       "version_major": 2,
       "version_minor": 0
      },
      "text/plain": [
       "split=val:   0%|          | 0/8 [00:00<?, ?it/s]"
      ]
     },
     "metadata": {},
     "output_type": "display_data"
    },
    {
     "name": "stderr",
     "output_type": "stream",
     "text": [
      "[I 2025-02-28 03:16:48,703] Trial 28 finished with value: 84.1796875 and parameters: {'remove_special_char': True, 'case_folding': False, 'remove_punctuation': True, 'expand_contractions': True, 'remove_stop_words': False, 'wordnet_lemmatizer': True, 'vectorizer_type': 'one-hot', 'frequency_cutoff': 25, 'learning_rate': 0.0005, 'hidden_dim': 100, 'batch_size': 128, 'enable_opinion_lexicon': False, 'use_word_embedding': True, 'enable_second_hidden_layer': False, 'enable_drop_out': True, 'enable_batch_norm': False, 'weight_decay': 0.0001}. Best is trial 0 with value: 91.30859375.\n"
     ]
    },
    {
     "name": "stdout",
     "output_type": "stream",
     "text": [
      "GloVe model loaded!\n",
      "number of features => 1927\n"
     ]
    },
    {
     "data": {
      "application/vnd.jupyter.widget-view+json": {
       "model_id": "cffacbbadf03424ab4c20f21871413d5",
       "version_major": 2,
       "version_minor": 0
      },
      "text/plain": [
       "training routine:   0%|          | 0/100 [00:00<?, ?it/s]"
      ]
     },
     "metadata": {},
     "output_type": "display_data"
    },
    {
     "data": {
      "application/vnd.jupyter.widget-view+json": {
       "model_id": "9676b46de964431f97d73182aceffb12",
       "version_major": 2,
       "version_minor": 0
      },
      "text/plain": [
       "split=train:   0%|          | 0/19 [00:00<?, ?it/s]"
      ]
     },
     "metadata": {},
     "output_type": "display_data"
    },
    {
     "data": {
      "application/vnd.jupyter.widget-view+json": {
       "model_id": "18b29eee0c2e4bfda97eaad3137c90b9",
       "version_major": 2,
       "version_minor": 0
      },
      "text/plain": [
       "split=val:   0%|          | 0/4 [00:00<?, ?it/s]"
      ]
     },
     "metadata": {},
     "output_type": "display_data"
    },
    {
     "name": "stderr",
     "output_type": "stream",
     "text": [
      "[I 2025-02-28 03:18:30,602] Trial 29 finished with value: 82.71484375 and parameters: {'remove_special_char': True, 'case_folding': True, 'remove_punctuation': False, 'expand_contractions': False, 'remove_stop_words': True, 'wordnet_lemmatizer': False, 'vectorizer_type': 'term-freq', 'frequency_cutoff': 25, 'learning_rate': 0.01, 'hidden_dim': 10, 'batch_size': 256, 'enable_opinion_lexicon': False, 'use_word_embedding': True, 'enable_second_hidden_layer': False, 'enable_drop_out': True, 'enable_batch_norm': False, 'weight_decay': 0}. Best is trial 0 with value: 91.30859375.\n"
     ]
    },
    {
     "name": "stdout",
     "output_type": "stream",
     "text": [
      "GloVe model loaded!\n",
      "number of features => 30048\n"
     ]
    },
    {
     "data": {
      "application/vnd.jupyter.widget-view+json": {
       "model_id": "b62c04e0f7534e0791a2ec03afda0ee5",
       "version_major": 2,
       "version_minor": 0
      },
      "text/plain": [
       "training routine:   0%|          | 0/100 [00:00<?, ?it/s]"
      ]
     },
     "metadata": {},
     "output_type": "display_data"
    },
    {
     "data": {
      "application/vnd.jupyter.widget-view+json": {
       "model_id": "ab40b127fb30424091da8414eaf5fed2",
       "version_major": 2,
       "version_minor": 0
      },
      "text/plain": [
       "split=train:   0%|          | 0/39 [00:00<?, ?it/s]"
      ]
     },
     "metadata": {},
     "output_type": "display_data"
    },
    {
     "data": {
      "application/vnd.jupyter.widget-view+json": {
       "model_id": "bd6f7822fa91484e86afea104f51bde4",
       "version_major": 2,
       "version_minor": 0
      },
      "text/plain": [
       "split=val:   0%|          | 0/8 [00:00<?, ?it/s]"
      ]
     },
     "metadata": {},
     "output_type": "display_data"
    },
    {
     "name": "stderr",
     "output_type": "stream",
     "text": [
      "[I 2025-02-28 03:20:21,639] Trial 30 finished with value: 85.83984375 and parameters: {'remove_special_char': True, 'case_folding': False, 'remove_punctuation': True, 'expand_contractions': True, 'remove_stop_words': False, 'wordnet_lemmatizer': True, 'vectorizer_type': 'term-freq', 'frequency_cutoff': 0, 'learning_rate': 0.01, 'hidden_dim': 10, 'batch_size': 128, 'enable_opinion_lexicon': False, 'use_word_embedding': True, 'enable_second_hidden_layer': False, 'enable_drop_out': True, 'enable_batch_norm': False, 'weight_decay': 0}. Best is trial 0 with value: 91.30859375.\n"
     ]
    },
    {
     "name": "stdout",
     "output_type": "stream",
     "text": [
      "GloVe model loaded!\n",
      "number of features => 242067\n"
     ]
    },
    {
     "data": {
      "application/vnd.jupyter.widget-view+json": {
       "model_id": "a4c5198669644b25b83bf4b765403171",
       "version_major": 2,
       "version_minor": 0
      },
      "text/plain": [
       "training routine:   0%|          | 0/100 [00:00<?, ?it/s]"
      ]
     },
     "metadata": {},
     "output_type": "display_data"
    },
    {
     "data": {
      "application/vnd.jupyter.widget-view+json": {
       "model_id": "ea063a1cfc8e49318f3569f242b743dc",
       "version_major": 2,
       "version_minor": 0
      },
      "text/plain": [
       "split=train:   0%|          | 0/19 [00:00<?, ?it/s]"
      ]
     },
     "metadata": {},
     "output_type": "display_data"
    },
    {
     "data": {
      "application/vnd.jupyter.widget-view+json": {
       "model_id": "68ab4cdfd4a94199b3cb1357668204f1",
       "version_major": 2,
       "version_minor": 0
      },
      "text/plain": [
       "split=val:   0%|          | 0/4 [00:00<?, ?it/s]"
      ]
     },
     "metadata": {},
     "output_type": "display_data"
    },
    {
     "name": "stderr",
     "output_type": "stream",
     "text": [
      "[I 2025-02-28 03:24:09,145] Trial 31 finished with value: 91.30859375 and parameters: {'remove_special_char': True, 'case_folding': False, 'remove_punctuation': True, 'expand_contractions': True, 'remove_stop_words': False, 'wordnet_lemmatizer': True, 'vectorizer_type': 'tf-idf', 'frequency_cutoff': 0, 'learning_rate': 0.01, 'hidden_dim': 50, 'batch_size': 256, 'enable_opinion_lexicon': False, 'use_word_embedding': True, 'enable_second_hidden_layer': False, 'enable_drop_out': True, 'enable_batch_norm': False, 'weight_decay': 0}. Best is trial 0 with value: 91.30859375.\n"
     ]
    },
    {
     "name": "stdout",
     "output_type": "stream",
     "text": [
      "GloVe model loaded!\n",
      "number of features => 242067\n"
     ]
    },
    {
     "data": {
      "application/vnd.jupyter.widget-view+json": {
       "model_id": "d365a11f55584ea0905d7c6a91738e39",
       "version_major": 2,
       "version_minor": 0
      },
      "text/plain": [
       "training routine:   0%|          | 0/100 [00:00<?, ?it/s]"
      ]
     },
     "metadata": {},
     "output_type": "display_data"
    },
    {
     "data": {
      "application/vnd.jupyter.widget-view+json": {
       "model_id": "c99c753909044bbea00f05c7ca852130",
       "version_major": 2,
       "version_minor": 0
      },
      "text/plain": [
       "split=train:   0%|          | 0/19 [00:00<?, ?it/s]"
      ]
     },
     "metadata": {},
     "output_type": "display_data"
    },
    {
     "data": {
      "application/vnd.jupyter.widget-view+json": {
       "model_id": "44d1e81b78a84cff88e89e4df5897e3a",
       "version_major": 2,
       "version_minor": 0
      },
      "text/plain": [
       "split=val:   0%|          | 0/4 [00:00<?, ?it/s]"
      ]
     },
     "metadata": {},
     "output_type": "display_data"
    },
    {
     "name": "stderr",
     "output_type": "stream",
     "text": [
      "[I 2025-02-28 03:27:57,005] Trial 32 finished with value: 91.30859375 and parameters: {'remove_special_char': True, 'case_folding': False, 'remove_punctuation': True, 'expand_contractions': True, 'remove_stop_words': False, 'wordnet_lemmatizer': True, 'vectorizer_type': 'tf-idf', 'frequency_cutoff': 0, 'learning_rate': 0.01, 'hidden_dim': 50, 'batch_size': 256, 'enable_opinion_lexicon': False, 'use_word_embedding': True, 'enable_second_hidden_layer': False, 'enable_drop_out': True, 'enable_batch_norm': False, 'weight_decay': 0}. Best is trial 0 with value: 91.30859375.\n"
     ]
    },
    {
     "name": "stdout",
     "output_type": "stream",
     "text": [
      "GloVe model loaded!\n",
      "number of features => 242067\n"
     ]
    },
    {
     "data": {
      "application/vnd.jupyter.widget-view+json": {
       "model_id": "c8400d68b86b47babb4cef7b97f7efba",
       "version_major": 2,
       "version_minor": 0
      },
      "text/plain": [
       "training routine:   0%|          | 0/100 [00:00<?, ?it/s]"
      ]
     },
     "metadata": {},
     "output_type": "display_data"
    },
    {
     "data": {
      "application/vnd.jupyter.widget-view+json": {
       "model_id": "6a3f5cb9015440b6adc5cb6ea7bef15c",
       "version_major": 2,
       "version_minor": 0
      },
      "text/plain": [
       "split=train:   0%|          | 0/19 [00:00<?, ?it/s]"
      ]
     },
     "metadata": {},
     "output_type": "display_data"
    },
    {
     "data": {
      "application/vnd.jupyter.widget-view+json": {
       "model_id": "1e0b646227584a5eaa9eac42b9894605",
       "version_major": 2,
       "version_minor": 0
      },
      "text/plain": [
       "split=val:   0%|          | 0/4 [00:00<?, ?it/s]"
      ]
     },
     "metadata": {},
     "output_type": "display_data"
    },
    {
     "name": "stderr",
     "output_type": "stream",
     "text": [
      "[I 2025-02-28 03:31:44,964] Trial 33 finished with value: 91.30859375 and parameters: {'remove_special_char': True, 'case_folding': False, 'remove_punctuation': True, 'expand_contractions': True, 'remove_stop_words': False, 'wordnet_lemmatizer': True, 'vectorizer_type': 'tf-idf', 'frequency_cutoff': 0, 'learning_rate': 0.01, 'hidden_dim': 50, 'batch_size': 256, 'enable_opinion_lexicon': False, 'use_word_embedding': True, 'enable_second_hidden_layer': False, 'enable_drop_out': True, 'enable_batch_norm': False, 'weight_decay': 0}. Best is trial 0 with value: 91.30859375.\n"
     ]
    },
    {
     "name": "stdout",
     "output_type": "stream",
     "text": [
      "GloVe model loaded!\n",
      "number of features => 242067\n"
     ]
    },
    {
     "data": {
      "application/vnd.jupyter.widget-view+json": {
       "model_id": "3e4d69b59fed48dfa87be12bb1e95561",
       "version_major": 2,
       "version_minor": 0
      },
      "text/plain": [
       "training routine:   0%|          | 0/100 [00:00<?, ?it/s]"
      ]
     },
     "metadata": {},
     "output_type": "display_data"
    },
    {
     "data": {
      "application/vnd.jupyter.widget-view+json": {
       "model_id": "77877e1615274dd398e88cc735df8333",
       "version_major": 2,
       "version_minor": 0
      },
      "text/plain": [
       "split=train:   0%|          | 0/19 [00:00<?, ?it/s]"
      ]
     },
     "metadata": {},
     "output_type": "display_data"
    },
    {
     "data": {
      "application/vnd.jupyter.widget-view+json": {
       "model_id": "b64c8fef56fd4d01b8bd93ad0ad74974",
       "version_major": 2,
       "version_minor": 0
      },
      "text/plain": [
       "split=val:   0%|          | 0/4 [00:00<?, ?it/s]"
      ]
     },
     "metadata": {},
     "output_type": "display_data"
    },
    {
     "name": "stderr",
     "output_type": "stream",
     "text": [
      "[I 2025-02-28 03:39:31,894] Trial 34 finished with value: 89.0625 and parameters: {'remove_special_char': True, 'case_folding': False, 'remove_punctuation': True, 'expand_contractions': True, 'remove_stop_words': False, 'wordnet_lemmatizer': True, 'vectorizer_type': 'tf-idf', 'frequency_cutoff': 0, 'learning_rate': 0.01, 'hidden_dim': 100, 'batch_size': 256, 'enable_opinion_lexicon': False, 'use_word_embedding': True, 'enable_second_hidden_layer': True, 'enable_drop_out': False, 'enable_batch_norm': False, 'weight_decay': 0.001}. Best is trial 0 with value: 91.30859375.\n"
     ]
    },
    {
     "name": "stdout",
     "output_type": "stream",
     "text": [
      "number of features => 32326\n"
     ]
    },
    {
     "data": {
      "application/vnd.jupyter.widget-view+json": {
       "model_id": "eb745de28094496283f5d2add3f48311",
       "version_major": 2,
       "version_minor": 0
      },
      "text/plain": [
       "training routine:   0%|          | 0/100 [00:00<?, ?it/s]"
      ]
     },
     "metadata": {},
     "output_type": "display_data"
    },
    {
     "data": {
      "application/vnd.jupyter.widget-view+json": {
       "model_id": "a2b90ef425814294bcbcbd32b4a33190",
       "version_major": 2,
       "version_minor": 0
      },
      "text/plain": [
       "split=train:   0%|          | 0/79 [00:00<?, ?it/s]"
      ]
     },
     "metadata": {},
     "output_type": "display_data"
    },
    {
     "data": {
      "application/vnd.jupyter.widget-view+json": {
       "model_id": "61f4584d0b7e440093df6563c7cc29af",
       "version_major": 2,
       "version_minor": 0
      },
      "text/plain": [
       "split=val:   0%|          | 0/17 [00:00<?, ?it/s]"
      ]
     },
     "metadata": {},
     "output_type": "display_data"
    },
    {
     "name": "stderr",
     "output_type": "stream",
     "text": [
      "[I 2025-02-28 03:40:04,171] Trial 35 finished with value: 86.12132352941177 and parameters: {'remove_special_char': True, 'case_folding': False, 'remove_punctuation': True, 'expand_contractions': False, 'remove_stop_words': False, 'wordnet_lemmatizer': False, 'vectorizer_type': 'term-freq', 'frequency_cutoff': 0, 'learning_rate': 0.0005, 'hidden_dim': 50, 'batch_size': 64, 'enable_opinion_lexicon': False, 'use_word_embedding': False, 'enable_second_hidden_layer': True, 'enable_drop_out': False, 'enable_batch_norm': False, 'weight_decay': 0}. Best is trial 0 with value: 91.30859375.\n"
     ]
    },
    {
     "name": "stdout",
     "output_type": "stream",
     "text": [
      "GloVe model loaded!\n",
      "number of features => 242093\n"
     ]
    },
    {
     "data": {
      "application/vnd.jupyter.widget-view+json": {
       "model_id": "98ee06f4031648f2850b586aa19db5c1",
       "version_major": 2,
       "version_minor": 0
      },
      "text/plain": [
       "training routine:   0%|          | 0/100 [00:00<?, ?it/s]"
      ]
     },
     "metadata": {},
     "output_type": "display_data"
    },
    {
     "data": {
      "application/vnd.jupyter.widget-view+json": {
       "model_id": "f0089de17d7d4a35b9f3031e81550562",
       "version_major": 2,
       "version_minor": 0
      },
      "text/plain": [
       "split=train:   0%|          | 0/19 [00:00<?, ?it/s]"
      ]
     },
     "metadata": {},
     "output_type": "display_data"
    },
    {
     "data": {
      "application/vnd.jupyter.widget-view+json": {
       "model_id": "af9d4dd3eca948dda9c034fc92e38136",
       "version_major": 2,
       "version_minor": 0
      },
      "text/plain": [
       "split=val:   0%|          | 0/4 [00:00<?, ?it/s]"
      ]
     },
     "metadata": {},
     "output_type": "display_data"
    },
    {
     "name": "stderr",
     "output_type": "stream",
     "text": [
      "[I 2025-02-28 03:44:07,877] Trial 36 finished with value: 87.79296875 and parameters: {'remove_special_char': True, 'case_folding': False, 'remove_punctuation': False, 'expand_contractions': True, 'remove_stop_words': False, 'wordnet_lemmatizer': True, 'vectorizer_type': 'tf-idf', 'frequency_cutoff': 0, 'learning_rate': 0.01, 'hidden_dim': 100, 'batch_size': 256, 'enable_opinion_lexicon': True, 'use_word_embedding': True, 'enable_second_hidden_layer': False, 'enable_drop_out': True, 'enable_batch_norm': True, 'weight_decay': 0.001}. Best is trial 0 with value: 91.30859375.\n"
     ]
    },
    {
     "name": "stdout",
     "output_type": "stream",
     "text": [
      "number of features => 1847\n"
     ]
    },
    {
     "data": {
      "application/vnd.jupyter.widget-view+json": {
       "model_id": "a4b5d2045aff4180877a81764242baba",
       "version_major": 2,
       "version_minor": 0
      },
      "text/plain": [
       "training routine:   0%|          | 0/100 [00:00<?, ?it/s]"
      ]
     },
     "metadata": {},
     "output_type": "display_data"
    },
    {
     "data": {
      "application/vnd.jupyter.widget-view+json": {
       "model_id": "0d572b425dfc4877be69ac7f7ea23f85",
       "version_major": 2,
       "version_minor": 0
      },
      "text/plain": [
       "split=train:   0%|          | 0/79 [00:00<?, ?it/s]"
      ]
     },
     "metadata": {},
     "output_type": "display_data"
    },
    {
     "data": {
      "application/vnd.jupyter.widget-view+json": {
       "model_id": "fd5eda8eeaba46949408a1e7fc1aaf35",
       "version_major": 2,
       "version_minor": 0
      },
      "text/plain": [
       "split=val:   0%|          | 0/17 [00:00<?, ?it/s]"
      ]
     },
     "metadata": {},
     "output_type": "display_data"
    },
    {
     "name": "stderr",
     "output_type": "stream",
     "text": [
      "[I 2025-02-28 03:44:22,401] Trial 37 finished with value: 78.86029411764704 and parameters: {'remove_special_char': False, 'case_folding': True, 'remove_punctuation': True, 'expand_contractions': True, 'remove_stop_words': True, 'wordnet_lemmatizer': True, 'vectorizer_type': 'one-hot', 'frequency_cutoff': 25, 'learning_rate': 0.01, 'hidden_dim': 50, 'batch_size': 64, 'enable_opinion_lexicon': False, 'use_word_embedding': False, 'enable_second_hidden_layer': True, 'enable_drop_out': False, 'enable_batch_norm': False, 'weight_decay': 0.01}. Best is trial 0 with value: 91.30859375.\n"
     ]
    },
    {
     "name": "stdout",
     "output_type": "stream",
     "text": [
      "GloVe model loaded!\n",
      "number of features => 30048\n"
     ]
    },
    {
     "data": {
      "application/vnd.jupyter.widget-view+json": {
       "model_id": "348cb23612bd42149b517d64b5fdf965",
       "version_major": 2,
       "version_minor": 0
      },
      "text/plain": [
       "training routine:   0%|          | 0/100 [00:00<?, ?it/s]"
      ]
     },
     "metadata": {},
     "output_type": "display_data"
    },
    {
     "data": {
      "application/vnd.jupyter.widget-view+json": {
       "model_id": "ae75959923654c5abf55a82b640a7abd",
       "version_major": 2,
       "version_minor": 0
      },
      "text/plain": [
       "split=train:   0%|          | 0/19 [00:00<?, ?it/s]"
      ]
     },
     "metadata": {},
     "output_type": "display_data"
    },
    {
     "data": {
      "application/vnd.jupyter.widget-view+json": {
       "model_id": "5fba9731e8184259aa3f4d92e3bd02f2",
       "version_major": 2,
       "version_minor": 0
      },
      "text/plain": [
       "split=val:   0%|          | 0/4 [00:00<?, ?it/s]"
      ]
     },
     "metadata": {},
     "output_type": "display_data"
    },
    {
     "name": "stderr",
     "output_type": "stream",
     "text": [
      "[I 2025-02-28 03:46:21,594] Trial 38 finished with value: 86.62109375 and parameters: {'remove_special_char': True, 'case_folding': False, 'remove_punctuation': True, 'expand_contractions': True, 'remove_stop_words': False, 'wordnet_lemmatizer': True, 'vectorizer_type': 'term-freq', 'frequency_cutoff': 0, 'learning_rate': 0.001, 'hidden_dim': 50, 'batch_size': 256, 'enable_opinion_lexicon': True, 'use_word_embedding': True, 'enable_second_hidden_layer': False, 'enable_drop_out': True, 'enable_batch_norm': True, 'weight_decay': 0}. Best is trial 0 with value: 91.30859375.\n"
     ]
    },
    {
     "name": "stdout",
     "output_type": "stream",
     "text": [
      "number of features => 256084\n"
     ]
    },
    {
     "data": {
      "application/vnd.jupyter.widget-view+json": {
       "model_id": "8a78799561594f4f815eec20c4e8f216",
       "version_major": 2,
       "version_minor": 0
      },
      "text/plain": [
       "training routine:   0%|          | 0/100 [00:00<?, ?it/s]"
      ]
     },
     "metadata": {},
     "output_type": "display_data"
    },
    {
     "data": {
      "application/vnd.jupyter.widget-view+json": {
       "model_id": "95f46f4ceaba4446a451754d9c156a5b",
       "version_major": 2,
       "version_minor": 0
      },
      "text/plain": [
       "split=train:   0%|          | 0/19 [00:00<?, ?it/s]"
      ]
     },
     "metadata": {},
     "output_type": "display_data"
    },
    {
     "data": {
      "application/vnd.jupyter.widget-view+json": {
       "model_id": "d913cd3bbef74c6887785ced5f542a4b",
       "version_major": 2,
       "version_minor": 0
      },
      "text/plain": [
       "split=val:   0%|          | 0/4 [00:00<?, ?it/s]"
      ]
     },
     "metadata": {},
     "output_type": "display_data"
    },
    {
     "name": "stderr",
     "output_type": "stream",
     "text": [
      "[I 2025-02-28 04:12:37,446] Trial 39 finished with value: 87.79296875 and parameters: {'remove_special_char': True, 'case_folding': False, 'remove_punctuation': False, 'expand_contractions': False, 'remove_stop_words': False, 'wordnet_lemmatizer': False, 'vectorizer_type': 'tf-idf', 'frequency_cutoff': 25, 'learning_rate': 0.0001, 'hidden_dim': 10, 'batch_size': 256, 'enable_opinion_lexicon': False, 'use_word_embedding': False, 'enable_second_hidden_layer': True, 'enable_drop_out': False, 'enable_batch_norm': False, 'weight_decay': 0.0001}. Best is trial 0 with value: 91.30859375.\n"
     ]
    },
    {
     "name": "stdout",
     "output_type": "stream",
     "text": [
      "GloVe model loaded!\n",
      "number of features => 25927\n"
     ]
    },
    {
     "data": {
      "application/vnd.jupyter.widget-view+json": {
       "model_id": "11b118d35ecc4811ac35f9388b7aec33",
       "version_major": 2,
       "version_minor": 0
      },
      "text/plain": [
       "training routine:   0%|          | 0/100 [00:00<?, ?it/s]"
      ]
     },
     "metadata": {},
     "output_type": "display_data"
    },
    {
     "data": {
      "application/vnd.jupyter.widget-view+json": {
       "model_id": "e1c2bfab48374975a2212569407ea9c5",
       "version_major": 2,
       "version_minor": 0
      },
      "text/plain": [
       "split=train:   0%|          | 0/79 [00:00<?, ?it/s]"
      ]
     },
     "metadata": {},
     "output_type": "display_data"
    },
    {
     "data": {
      "application/vnd.jupyter.widget-view+json": {
       "model_id": "232007b4534443c585829dd2a08b1fc0",
       "version_major": 2,
       "version_minor": 0
      },
      "text/plain": [
       "split=val:   0%|          | 0/17 [00:00<?, ?it/s]"
      ]
     },
     "metadata": {},
     "output_type": "display_data"
    },
    {
     "name": "stderr",
     "output_type": "stream",
     "text": [
      "[I 2025-02-28 04:14:33,078] Trial 40 finished with value: 80.7904411764706 and parameters: {'remove_special_char': False, 'case_folding': True, 'remove_punctuation': True, 'expand_contractions': True, 'remove_stop_words': True, 'wordnet_lemmatizer': True, 'vectorizer_type': 'one-hot', 'frequency_cutoff': 0, 'learning_rate': 0.01, 'hidden_dim': 50, 'batch_size': 64, 'enable_opinion_lexicon': False, 'use_word_embedding': True, 'enable_second_hidden_layer': False, 'enable_drop_out': True, 'enable_batch_norm': False, 'weight_decay': 0.001}. Best is trial 0 with value: 91.30859375.\n"
     ]
    },
    {
     "name": "stdout",
     "output_type": "stream",
     "text": [
      "GloVe model loaded!\n",
      "number of features => 242067\n"
     ]
    },
    {
     "data": {
      "application/vnd.jupyter.widget-view+json": {
       "model_id": "d3ecb4c5df59468ca93328243c09a4a1",
       "version_major": 2,
       "version_minor": 0
      },
      "text/plain": [
       "training routine:   0%|          | 0/100 [00:00<?, ?it/s]"
      ]
     },
     "metadata": {},
     "output_type": "display_data"
    },
    {
     "data": {
      "application/vnd.jupyter.widget-view+json": {
       "model_id": "abaff58c086b4845abfe524c947962ad",
       "version_major": 2,
       "version_minor": 0
      },
      "text/plain": [
       "split=train:   0%|          | 0/19 [00:00<?, ?it/s]"
      ]
     },
     "metadata": {},
     "output_type": "display_data"
    },
    {
     "data": {
      "application/vnd.jupyter.widget-view+json": {
       "model_id": "9839038cc8bb4be6b1df06bf5c2db505",
       "version_major": 2,
       "version_minor": 0
      },
      "text/plain": [
       "split=val:   0%|          | 0/4 [00:00<?, ?it/s]"
      ]
     },
     "metadata": {},
     "output_type": "display_data"
    },
    {
     "name": "stderr",
     "output_type": "stream",
     "text": [
      "[I 2025-02-28 04:18:21,074] Trial 41 finished with value: 91.30859375 and parameters: {'remove_special_char': True, 'case_folding': False, 'remove_punctuation': True, 'expand_contractions': True, 'remove_stop_words': False, 'wordnet_lemmatizer': True, 'vectorizer_type': 'tf-idf', 'frequency_cutoff': 0, 'learning_rate': 0.01, 'hidden_dim': 50, 'batch_size': 256, 'enable_opinion_lexicon': False, 'use_word_embedding': True, 'enable_second_hidden_layer': False, 'enable_drop_out': True, 'enable_batch_norm': False, 'weight_decay': 0}. Best is trial 0 with value: 91.30859375.\n"
     ]
    },
    {
     "name": "stdout",
     "output_type": "stream",
     "text": [
      "GloVe model loaded!\n",
      "number of features => 242067\n"
     ]
    },
    {
     "data": {
      "application/vnd.jupyter.widget-view+json": {
       "model_id": "4e12eb5d19414344b8eebc5f4ff8c030",
       "version_major": 2,
       "version_minor": 0
      },
      "text/plain": [
       "training routine:   0%|          | 0/100 [00:00<?, ?it/s]"
      ]
     },
     "metadata": {},
     "output_type": "display_data"
    },
    {
     "data": {
      "application/vnd.jupyter.widget-view+json": {
       "model_id": "ab63f22116b74b6396e979d66de09e79",
       "version_major": 2,
       "version_minor": 0
      },
      "text/plain": [
       "split=train:   0%|          | 0/19 [00:00<?, ?it/s]"
      ]
     },
     "metadata": {},
     "output_type": "display_data"
    },
    {
     "data": {
      "application/vnd.jupyter.widget-view+json": {
       "model_id": "001f787e8a19412f8462665c91284224",
       "version_major": 2,
       "version_minor": 0
      },
      "text/plain": [
       "split=val:   0%|          | 0/4 [00:00<?, ?it/s]"
      ]
     },
     "metadata": {},
     "output_type": "display_data"
    },
    {
     "name": "stderr",
     "output_type": "stream",
     "text": [
      "[I 2025-02-28 04:22:09,185] Trial 42 finished with value: 91.30859375 and parameters: {'remove_special_char': True, 'case_folding': False, 'remove_punctuation': True, 'expand_contractions': True, 'remove_stop_words': False, 'wordnet_lemmatizer': True, 'vectorizer_type': 'tf-idf', 'frequency_cutoff': 0, 'learning_rate': 0.01, 'hidden_dim': 50, 'batch_size': 256, 'enable_opinion_lexicon': False, 'use_word_embedding': True, 'enable_second_hidden_layer': False, 'enable_drop_out': True, 'enable_batch_norm': False, 'weight_decay': 0}. Best is trial 0 with value: 91.30859375.\n"
     ]
    },
    {
     "name": "stdout",
     "output_type": "stream",
     "text": [
      "GloVe model loaded!\n",
      "number of features => 242067\n"
     ]
    },
    {
     "data": {
      "application/vnd.jupyter.widget-view+json": {
       "model_id": "38c575decfe54748b70c2dd01a03dad2",
       "version_major": 2,
       "version_minor": 0
      },
      "text/plain": [
       "training routine:   0%|          | 0/100 [00:00<?, ?it/s]"
      ]
     },
     "metadata": {},
     "output_type": "display_data"
    },
    {
     "data": {
      "application/vnd.jupyter.widget-view+json": {
       "model_id": "8950dc48a0d7490785b7f248f3b38c66",
       "version_major": 2,
       "version_minor": 0
      },
      "text/plain": [
       "split=train:   0%|          | 0/19 [00:00<?, ?it/s]"
      ]
     },
     "metadata": {},
     "output_type": "display_data"
    },
    {
     "data": {
      "application/vnd.jupyter.widget-view+json": {
       "model_id": "c28de9df613d4550afb84a6aaf2974f3",
       "version_major": 2,
       "version_minor": 0
      },
      "text/plain": [
       "split=val:   0%|          | 0/4 [00:00<?, ?it/s]"
      ]
     },
     "metadata": {},
     "output_type": "display_data"
    },
    {
     "name": "stderr",
     "output_type": "stream",
     "text": [
      "[I 2025-02-28 04:25:57,381] Trial 43 finished with value: 91.30859375 and parameters: {'remove_special_char': True, 'case_folding': False, 'remove_punctuation': True, 'expand_contractions': True, 'remove_stop_words': False, 'wordnet_lemmatizer': True, 'vectorizer_type': 'tf-idf', 'frequency_cutoff': 0, 'learning_rate': 0.01, 'hidden_dim': 50, 'batch_size': 256, 'enable_opinion_lexicon': False, 'use_word_embedding': True, 'enable_second_hidden_layer': False, 'enable_drop_out': True, 'enable_batch_norm': False, 'weight_decay': 0}. Best is trial 0 with value: 91.30859375.\n"
     ]
    },
    {
     "name": "stdout",
     "output_type": "stream",
     "text": [
      "GloVe model loaded!\n",
      "number of features => 242067\n"
     ]
    },
    {
     "data": {
      "application/vnd.jupyter.widget-view+json": {
       "model_id": "387f27d3500349d8b4f94c78449f7930",
       "version_major": 2,
       "version_minor": 0
      },
      "text/plain": [
       "training routine:   0%|          | 0/100 [00:00<?, ?it/s]"
      ]
     },
     "metadata": {},
     "output_type": "display_data"
    },
    {
     "data": {
      "application/vnd.jupyter.widget-view+json": {
       "model_id": "8d2d077f16384959a849e38a6b0e3eda",
       "version_major": 2,
       "version_minor": 0
      },
      "text/plain": [
       "split=train:   0%|          | 0/19 [00:00<?, ?it/s]"
      ]
     },
     "metadata": {},
     "output_type": "display_data"
    },
    {
     "data": {
      "application/vnd.jupyter.widget-view+json": {
       "model_id": "01fac4e7192a4a98b3cdc954b3954434",
       "version_major": 2,
       "version_minor": 0
      },
      "text/plain": [
       "split=val:   0%|          | 0/4 [00:00<?, ?it/s]"
      ]
     },
     "metadata": {},
     "output_type": "display_data"
    },
    {
     "name": "stderr",
     "output_type": "stream",
     "text": [
      "[I 2025-02-28 04:40:08,725] Trial 44 finished with value: 90.0390625 and parameters: {'remove_special_char': True, 'case_folding': False, 'remove_punctuation': True, 'expand_contractions': True, 'remove_stop_words': False, 'wordnet_lemmatizer': True, 'vectorizer_type': 'tf-idf', 'frequency_cutoff': 0, 'learning_rate': 0.0005, 'hidden_dim': 50, 'batch_size': 256, 'enable_opinion_lexicon': False, 'use_word_embedding': True, 'enable_second_hidden_layer': False, 'enable_drop_out': True, 'enable_batch_norm': False, 'weight_decay': 0}. Best is trial 0 with value: 91.30859375.\n"
     ]
    },
    {
     "name": "stdout",
     "output_type": "stream",
     "text": [
      "number of features => 242067\n"
     ]
    },
    {
     "data": {
      "application/vnd.jupyter.widget-view+json": {
       "model_id": "aa103b241f5243549678969ec21f76b3",
       "version_major": 2,
       "version_minor": 0
      },
      "text/plain": [
       "training routine:   0%|          | 0/100 [00:00<?, ?it/s]"
      ]
     },
     "metadata": {},
     "output_type": "display_data"
    },
    {
     "data": {
      "application/vnd.jupyter.widget-view+json": {
       "model_id": "b9b60a8692a447298f801c0b8fd478fb",
       "version_major": 2,
       "version_minor": 0
      },
      "text/plain": [
       "split=train:   0%|          | 0/19 [00:00<?, ?it/s]"
      ]
     },
     "metadata": {},
     "output_type": "display_data"
    },
    {
     "data": {
      "application/vnd.jupyter.widget-view+json": {
       "model_id": "ba219ec13935484c9dd3ffb88e9bc712",
       "version_major": 2,
       "version_minor": 0
      },
      "text/plain": [
       "split=val:   0%|          | 0/4 [00:00<?, ?it/s]"
      ]
     },
     "metadata": {},
     "output_type": "display_data"
    },
    {
     "name": "stderr",
     "output_type": "stream",
     "text": [
      "[I 2025-02-28 05:06:50,034] Trial 45 finished with value: 89.84375 and parameters: {'remove_special_char': True, 'case_folding': False, 'remove_punctuation': True, 'expand_contractions': True, 'remove_stop_words': False, 'wordnet_lemmatizer': True, 'vectorizer_type': 'tf-idf', 'frequency_cutoff': 0, 'learning_rate': 0.0001, 'hidden_dim': 50, 'batch_size': 256, 'enable_opinion_lexicon': False, 'use_word_embedding': False, 'enable_second_hidden_layer': False, 'enable_drop_out': True, 'enable_batch_norm': False, 'weight_decay': 0}. Best is trial 0 with value: 91.30859375.\n"
     ]
    },
    {
     "name": "stdout",
     "output_type": "stream",
     "text": [
      "GloVe model loaded!\n",
      "number of features => 242067\n"
     ]
    },
    {
     "data": {
      "application/vnd.jupyter.widget-view+json": {
       "model_id": "1344479cbd114d4b81958b3adc60b9df",
       "version_major": 2,
       "version_minor": 0
      },
      "text/plain": [
       "training routine:   0%|          | 0/100 [00:00<?, ?it/s]"
      ]
     },
     "metadata": {},
     "output_type": "display_data"
    },
    {
     "data": {
      "application/vnd.jupyter.widget-view+json": {
       "model_id": "abc4849620ff41aa8b5ecadf9a53763b",
       "version_major": 2,
       "version_minor": 0
      },
      "text/plain": [
       "split=train:   0%|          | 0/19 [00:00<?, ?it/s]"
      ]
     },
     "metadata": {},
     "output_type": "display_data"
    },
    {
     "data": {
      "application/vnd.jupyter.widget-view+json": {
       "model_id": "a0302035fa7146b385d47a43dc66b880",
       "version_major": 2,
       "version_minor": 0
      },
      "text/plain": [
       "split=val:   0%|          | 0/4 [00:00<?, ?it/s]"
      ]
     },
     "metadata": {},
     "output_type": "display_data"
    },
    {
     "name": "stderr",
     "output_type": "stream",
     "text": [
      "[I 2025-02-28 05:10:32,597] Trial 46 finished with value: 88.4765625 and parameters: {'remove_special_char': True, 'case_folding': False, 'remove_punctuation': True, 'expand_contractions': True, 'remove_stop_words': False, 'wordnet_lemmatizer': True, 'vectorizer_type': 'tf-idf', 'frequency_cutoff': 25, 'learning_rate': 0.01, 'hidden_dim': 100, 'batch_size': 256, 'enable_opinion_lexicon': True, 'use_word_embedding': True, 'enable_second_hidden_layer': False, 'enable_drop_out': True, 'enable_batch_norm': True, 'weight_decay': 0}. Best is trial 0 with value: 91.30859375.\n"
     ]
    },
    {
     "name": "stdout",
     "output_type": "stream",
     "text": [
      "GloVe model loaded!\n",
      "number of features => 242093\n"
     ]
    },
    {
     "data": {
      "application/vnd.jupyter.widget-view+json": {
       "model_id": "75c9a4a34c3b452397a8a9e16004836c",
       "version_major": 2,
       "version_minor": 0
      },
      "text/plain": [
       "training routine:   0%|          | 0/100 [00:00<?, ?it/s]"
      ]
     },
     "metadata": {},
     "output_type": "display_data"
    },
    {
     "data": {
      "application/vnd.jupyter.widget-view+json": {
       "model_id": "ea66cfe4c6f24137a17720948bc39786",
       "version_major": 2,
       "version_minor": 0
      },
      "text/plain": [
       "split=train:   0%|          | 0/39 [00:00<?, ?it/s]"
      ]
     },
     "metadata": {},
     "output_type": "display_data"
    },
    {
     "data": {
      "application/vnd.jupyter.widget-view+json": {
       "model_id": "2b84ea75bbcb4095b08984f9c8e149c1",
       "version_major": 2,
       "version_minor": 0
      },
      "text/plain": [
       "split=val:   0%|          | 0/8 [00:00<?, ?it/s]"
      ]
     },
     "metadata": {},
     "output_type": "display_data"
    },
    {
     "name": "stderr",
     "output_type": "stream",
     "text": [
      "[I 2025-02-28 05:13:48,101] Trial 47 finished with value: 90.625 and parameters: {'remove_special_char': True, 'case_folding': False, 'remove_punctuation': False, 'expand_contractions': True, 'remove_stop_words': False, 'wordnet_lemmatizer': True, 'vectorizer_type': 'tf-idf', 'frequency_cutoff': 0, 'learning_rate': 0.01, 'hidden_dim': 20, 'batch_size': 128, 'enable_opinion_lexicon': False, 'use_word_embedding': True, 'enable_second_hidden_layer': False, 'enable_drop_out': False, 'enable_batch_norm': False, 'weight_decay': 0}. Best is trial 0 with value: 91.30859375.\n"
     ]
    },
    {
     "name": "stdout",
     "output_type": "stream",
     "text": [
      "GloVe model loaded!\n",
      "number of features => 247281\n"
     ]
    },
    {
     "data": {
      "application/vnd.jupyter.widget-view+json": {
       "model_id": "3a01b56b662444098ce97c440d822814",
       "version_major": 2,
       "version_minor": 0
      },
      "text/plain": [
       "training routine:   0%|          | 0/100 [00:00<?, ?it/s]"
      ]
     },
     "metadata": {},
     "output_type": "display_data"
    },
    {
     "data": {
      "application/vnd.jupyter.widget-view+json": {
       "model_id": "c149964675924bcfa72cefda229c4db7",
       "version_major": 2,
       "version_minor": 0
      },
      "text/plain": [
       "split=train:   0%|          | 0/19 [00:00<?, ?it/s]"
      ]
     },
     "metadata": {},
     "output_type": "display_data"
    },
    {
     "data": {
      "application/vnd.jupyter.widget-view+json": {
       "model_id": "8555d223ed80441897aa69f9a2107402",
       "version_major": 2,
       "version_minor": 0
      },
      "text/plain": [
       "split=val:   0%|          | 0/4 [00:00<?, ?it/s]"
      ]
     },
     "metadata": {},
     "output_type": "display_data"
    },
    {
     "name": "stderr",
     "output_type": "stream",
     "text": [
      "[I 2025-02-28 05:36:56,607] Trial 48 finished with value: 86.42578125 and parameters: {'remove_special_char': False, 'case_folding': False, 'remove_punctuation': True, 'expand_contractions': True, 'remove_stop_words': False, 'wordnet_lemmatizer': True, 'vectorizer_type': 'tf-idf', 'frequency_cutoff': 0, 'learning_rate': 0.001, 'hidden_dim': 50, 'batch_size': 256, 'enable_opinion_lexicon': False, 'use_word_embedding': True, 'enable_second_hidden_layer': True, 'enable_drop_out': True, 'enable_batch_norm': False, 'weight_decay': 0.01}. Best is trial 0 with value: 91.30859375.\n"
     ]
    },
    {
     "name": "stdout",
     "output_type": "stream",
     "text": [
      "GloVe model loaded!\n",
      "number of features => 2149\n"
     ]
    },
    {
     "data": {
      "application/vnd.jupyter.widget-view+json": {
       "model_id": "6aa1e61c112a4f74b66ef404898b3d49",
       "version_major": 2,
       "version_minor": 0
      },
      "text/plain": [
       "training routine:   0%|          | 0/100 [00:00<?, ?it/s]"
      ]
     },
     "metadata": {},
     "output_type": "display_data"
    },
    {
     "data": {
      "application/vnd.jupyter.widget-view+json": {
       "model_id": "09a1c46f1be344149359c5dd949d3fed",
       "version_major": 2,
       "version_minor": 0
      },
      "text/plain": [
       "split=train:   0%|          | 0/79 [00:00<?, ?it/s]"
      ]
     },
     "metadata": {},
     "output_type": "display_data"
    },
    {
     "data": {
      "application/vnd.jupyter.widget-view+json": {
       "model_id": "450f33adb5fd46a99f0051877accb86c",
       "version_major": 2,
       "version_minor": 0
      },
      "text/plain": [
       "split=val:   0%|          | 0/17 [00:00<?, ?it/s]"
      ]
     },
     "metadata": {},
     "output_type": "display_data"
    },
    {
     "name": "stderr",
     "output_type": "stream",
     "text": [
      "[I 2025-02-28 05:38:27,862] Trial 49 finished with value: 83.82352941176471 and parameters: {'remove_special_char': True, 'case_folding': False, 'remove_punctuation': True, 'expand_contractions': False, 'remove_stop_words': False, 'wordnet_lemmatizer': False, 'vectorizer_type': 'one-hot', 'frequency_cutoff': 25, 'learning_rate': 0.01, 'hidden_dim': 50, 'batch_size': 64, 'enable_opinion_lexicon': False, 'use_word_embedding': True, 'enable_second_hidden_layer': False, 'enable_drop_out': True, 'enable_batch_norm': False, 'weight_decay': 0.0001}. Best is trial 0 with value: 91.30859375.\n"
     ]
    },
    {
     "name": "stdout",
     "output_type": "stream",
     "text": [
      "number of features => 256252\n"
     ]
    },
    {
     "data": {
      "application/vnd.jupyter.widget-view+json": {
       "model_id": "321489af27dd4436a93dc05ac34b5bd2",
       "version_major": 2,
       "version_minor": 0
      },
      "text/plain": [
       "training routine:   0%|          | 0/100 [00:00<?, ?it/s]"
      ]
     },
     "metadata": {},
     "output_type": "display_data"
    },
    {
     "data": {
      "application/vnd.jupyter.widget-view+json": {
       "model_id": "a825c198743b4af5946ddac94d690209",
       "version_major": 2,
       "version_minor": 0
      },
      "text/plain": [
       "split=train:   0%|          | 0/19 [00:00<?, ?it/s]"
      ]
     },
     "metadata": {},
     "output_type": "display_data"
    },
    {
     "data": {
      "application/vnd.jupyter.widget-view+json": {
       "model_id": "f9dd5ec26b054dfa97bd04ac84f48016",
       "version_major": 2,
       "version_minor": 0
      },
      "text/plain": [
       "split=val:   0%|          | 0/4 [00:00<?, ?it/s]"
      ]
     },
     "metadata": {},
     "output_type": "display_data"
    },
    {
     "name": "stderr",
     "output_type": "stream",
     "text": [
      "[I 2025-02-28 06:03:47,056] Trial 50 finished with value: 82.51953125 and parameters: {'remove_special_char': True, 'case_folding': True, 'remove_punctuation': True, 'expand_contractions': True, 'remove_stop_words': True, 'wordnet_lemmatizer': True, 'vectorizer_type': 'tf-idf', 'frequency_cutoff': 0, 'learning_rate': 0.0001, 'hidden_dim': 10, 'batch_size': 256, 'enable_opinion_lexicon': False, 'use_word_embedding': False, 'enable_second_hidden_layer': False, 'enable_drop_out': True, 'enable_batch_norm': False, 'weight_decay': 0}. Best is trial 0 with value: 91.30859375.\n"
     ]
    },
    {
     "name": "stdout",
     "output_type": "stream",
     "text": [
      "GloVe model loaded!\n",
      "number of features => 242067\n"
     ]
    },
    {
     "data": {
      "application/vnd.jupyter.widget-view+json": {
       "model_id": "715d37492fca42c5880ce56fc3dc1e8c",
       "version_major": 2,
       "version_minor": 0
      },
      "text/plain": [
       "training routine:   0%|          | 0/100 [00:00<?, ?it/s]"
      ]
     },
     "metadata": {},
     "output_type": "display_data"
    },
    {
     "data": {
      "application/vnd.jupyter.widget-view+json": {
       "model_id": "69cc5c6b1f404855adeb0e03f8ed995b",
       "version_major": 2,
       "version_minor": 0
      },
      "text/plain": [
       "split=train:   0%|          | 0/19 [00:00<?, ?it/s]"
      ]
     },
     "metadata": {},
     "output_type": "display_data"
    },
    {
     "data": {
      "application/vnd.jupyter.widget-view+json": {
       "model_id": "edcd2f6e97fb4cea9c1b5ee21bd29c92",
       "version_major": 2,
       "version_minor": 0
      },
      "text/plain": [
       "split=val:   0%|          | 0/4 [00:00<?, ?it/s]"
      ]
     },
     "metadata": {},
     "output_type": "display_data"
    },
    {
     "name": "stderr",
     "output_type": "stream",
     "text": [
      "[I 2025-02-28 06:07:34,750] Trial 51 finished with value: 91.30859375 and parameters: {'remove_special_char': True, 'case_folding': False, 'remove_punctuation': True, 'expand_contractions': True, 'remove_stop_words': False, 'wordnet_lemmatizer': True, 'vectorizer_type': 'tf-idf', 'frequency_cutoff': 0, 'learning_rate': 0.01, 'hidden_dim': 50, 'batch_size': 256, 'enable_opinion_lexicon': False, 'use_word_embedding': True, 'enable_second_hidden_layer': False, 'enable_drop_out': True, 'enable_batch_norm': False, 'weight_decay': 0}. Best is trial 0 with value: 91.30859375.\n"
     ]
    },
    {
     "name": "stdout",
     "output_type": "stream",
     "text": [
      "GloVe model loaded!\n",
      "number of features => 242067\n"
     ]
    },
    {
     "data": {
      "application/vnd.jupyter.widget-view+json": {
       "model_id": "8856247151a744eeb66da43ee52ba8b2",
       "version_major": 2,
       "version_minor": 0
      },
      "text/plain": [
       "training routine:   0%|          | 0/100 [00:00<?, ?it/s]"
      ]
     },
     "metadata": {},
     "output_type": "display_data"
    },
    {
     "data": {
      "application/vnd.jupyter.widget-view+json": {
       "model_id": "d0418513b8ec45f1bf4445a5afc1e7d3",
       "version_major": 2,
       "version_minor": 0
      },
      "text/plain": [
       "split=train:   0%|          | 0/19 [00:00<?, ?it/s]"
      ]
     },
     "metadata": {},
     "output_type": "display_data"
    },
    {
     "data": {
      "application/vnd.jupyter.widget-view+json": {
       "model_id": "a4d513f7022d47178e42000d1ab1fa86",
       "version_major": 2,
       "version_minor": 0
      },
      "text/plain": [
       "split=val:   0%|          | 0/4 [00:00<?, ?it/s]"
      ]
     },
     "metadata": {},
     "output_type": "display_data"
    },
    {
     "name": "stderr",
     "output_type": "stream",
     "text": [
      "[I 2025-02-28 06:11:22,793] Trial 52 finished with value: 91.30859375 and parameters: {'remove_special_char': True, 'case_folding': False, 'remove_punctuation': True, 'expand_contractions': True, 'remove_stop_words': False, 'wordnet_lemmatizer': True, 'vectorizer_type': 'tf-idf', 'frequency_cutoff': 0, 'learning_rate': 0.01, 'hidden_dim': 50, 'batch_size': 256, 'enable_opinion_lexicon': False, 'use_word_embedding': True, 'enable_second_hidden_layer': False, 'enable_drop_out': True, 'enable_batch_norm': False, 'weight_decay': 0}. Best is trial 0 with value: 91.30859375.\n"
     ]
    },
    {
     "name": "stdout",
     "output_type": "stream",
     "text": [
      "GloVe model loaded!\n",
      "number of features => 242067\n"
     ]
    },
    {
     "data": {
      "application/vnd.jupyter.widget-view+json": {
       "model_id": "ffb5318e00024b02bdf6bfc95de10764",
       "version_major": 2,
       "version_minor": 0
      },
      "text/plain": [
       "training routine:   0%|          | 0/100 [00:00<?, ?it/s]"
      ]
     },
     "metadata": {},
     "output_type": "display_data"
    },
    {
     "data": {
      "application/vnd.jupyter.widget-view+json": {
       "model_id": "c20657607c0147918bca639b1bbb50fe",
       "version_major": 2,
       "version_minor": 0
      },
      "text/plain": [
       "split=train:   0%|          | 0/19 [00:00<?, ?it/s]"
      ]
     },
     "metadata": {},
     "output_type": "display_data"
    },
    {
     "data": {
      "application/vnd.jupyter.widget-view+json": {
       "model_id": "894db87e759747db9eeef9c42bcbc276",
       "version_major": 2,
       "version_minor": 0
      },
      "text/plain": [
       "split=val:   0%|          | 0/4 [00:00<?, ?it/s]"
      ]
     },
     "metadata": {},
     "output_type": "display_data"
    },
    {
     "name": "stderr",
     "output_type": "stream",
     "text": [
      "[I 2025-02-28 06:15:10,645] Trial 53 finished with value: 91.30859375 and parameters: {'remove_special_char': True, 'case_folding': False, 'remove_punctuation': True, 'expand_contractions': True, 'remove_stop_words': False, 'wordnet_lemmatizer': True, 'vectorizer_type': 'tf-idf', 'frequency_cutoff': 0, 'learning_rate': 0.01, 'hidden_dim': 50, 'batch_size': 256, 'enable_opinion_lexicon': False, 'use_word_embedding': True, 'enable_second_hidden_layer': False, 'enable_drop_out': True, 'enable_batch_norm': False, 'weight_decay': 0}. Best is trial 0 with value: 91.30859375.\n"
     ]
    },
    {
     "name": "stdout",
     "output_type": "stream",
     "text": [
      "GloVe model loaded!\n",
      "number of features => 242067\n"
     ]
    },
    {
     "data": {
      "application/vnd.jupyter.widget-view+json": {
       "model_id": "833f6cd0a18c46dd99a271692c129b6a",
       "version_major": 2,
       "version_minor": 0
      },
      "text/plain": [
       "training routine:   0%|          | 0/100 [00:00<?, ?it/s]"
      ]
     },
     "metadata": {},
     "output_type": "display_data"
    },
    {
     "data": {
      "application/vnd.jupyter.widget-view+json": {
       "model_id": "94991917e5a447e896a797892d7364fa",
       "version_major": 2,
       "version_minor": 0
      },
      "text/plain": [
       "split=train:   0%|          | 0/19 [00:00<?, ?it/s]"
      ]
     },
     "metadata": {},
     "output_type": "display_data"
    },
    {
     "data": {
      "application/vnd.jupyter.widget-view+json": {
       "model_id": "185d9e34dbd8491b85ff8cbb291079f0",
       "version_major": 2,
       "version_minor": 0
      },
      "text/plain": [
       "split=val:   0%|          | 0/4 [00:00<?, ?it/s]"
      ]
     },
     "metadata": {},
     "output_type": "display_data"
    },
    {
     "name": "stderr",
     "output_type": "stream",
     "text": [
      "[I 2025-02-28 06:18:58,874] Trial 54 finished with value: 91.30859375 and parameters: {'remove_special_char': True, 'case_folding': False, 'remove_punctuation': True, 'expand_contractions': True, 'remove_stop_words': False, 'wordnet_lemmatizer': True, 'vectorizer_type': 'tf-idf', 'frequency_cutoff': 0, 'learning_rate': 0.01, 'hidden_dim': 50, 'batch_size': 256, 'enable_opinion_lexicon': False, 'use_word_embedding': True, 'enable_second_hidden_layer': False, 'enable_drop_out': True, 'enable_batch_norm': False, 'weight_decay': 0}. Best is trial 0 with value: 91.30859375.\n"
     ]
    },
    {
     "name": "stdout",
     "output_type": "stream",
     "text": [
      "GloVe model loaded!\n",
      "number of features => 242067\n"
     ]
    },
    {
     "data": {
      "application/vnd.jupyter.widget-view+json": {
       "model_id": "020e938c06fb43d69515901362f99b97",
       "version_major": 2,
       "version_minor": 0
      },
      "text/plain": [
       "training routine:   0%|          | 0/100 [00:00<?, ?it/s]"
      ]
     },
     "metadata": {},
     "output_type": "display_data"
    },
    {
     "data": {
      "application/vnd.jupyter.widget-view+json": {
       "model_id": "e22de60296104b8e988c5449bb781d20",
       "version_major": 2,
       "version_minor": 0
      },
      "text/plain": [
       "split=train:   0%|          | 0/19 [00:00<?, ?it/s]"
      ]
     },
     "metadata": {},
     "output_type": "display_data"
    },
    {
     "data": {
      "application/vnd.jupyter.widget-view+json": {
       "model_id": "84403a5316c34549a29329ece4462e59",
       "version_major": 2,
       "version_minor": 0
      },
      "text/plain": [
       "split=val:   0%|          | 0/4 [00:00<?, ?it/s]"
      ]
     },
     "metadata": {},
     "output_type": "display_data"
    },
    {
     "name": "stderr",
     "output_type": "stream",
     "text": [
      "[I 2025-02-28 06:23:19,770] Trial 55 finished with value: 91.11328125 and parameters: {'remove_special_char': True, 'case_folding': False, 'remove_punctuation': True, 'expand_contractions': True, 'remove_stop_words': False, 'wordnet_lemmatizer': True, 'vectorizer_type': 'tf-idf', 'frequency_cutoff': 0, 'learning_rate': 0.01, 'hidden_dim': 20, 'batch_size': 256, 'enable_opinion_lexicon': False, 'use_word_embedding': True, 'enable_second_hidden_layer': False, 'enable_drop_out': True, 'enable_batch_norm': False, 'weight_decay': 0}. Best is trial 0 with value: 91.30859375.\n"
     ]
    },
    {
     "name": "stdout",
     "output_type": "stream",
     "text": [
      "GloVe model loaded!\n",
      "number of features => 242067\n"
     ]
    },
    {
     "data": {
      "application/vnd.jupyter.widget-view+json": {
       "model_id": "d6dddb9c627d4068aa65da78a621d002",
       "version_major": 2,
       "version_minor": 0
      },
      "text/plain": [
       "training routine:   0%|          | 0/100 [00:00<?, ?it/s]"
      ]
     },
     "metadata": {},
     "output_type": "display_data"
    },
    {
     "data": {
      "application/vnd.jupyter.widget-view+json": {
       "model_id": "eaa6efd3222e447e9e46df534020ce7c",
       "version_major": 2,
       "version_minor": 0
      },
      "text/plain": [
       "split=train:   0%|          | 0/19 [00:00<?, ?it/s]"
      ]
     },
     "metadata": {},
     "output_type": "display_data"
    },
    {
     "data": {
      "application/vnd.jupyter.widget-view+json": {
       "model_id": "a758554f47f8479ca31139bf90964f20",
       "version_major": 2,
       "version_minor": 0
      },
      "text/plain": [
       "split=val:   0%|          | 0/4 [00:00<?, ?it/s]"
      ]
     },
     "metadata": {},
     "output_type": "display_data"
    },
    {
     "name": "stderr",
     "output_type": "stream",
     "text": [
      "[I 2025-02-28 06:32:18,815] Trial 56 finished with value: 87.5 and parameters: {'remove_special_char': True, 'case_folding': False, 'remove_punctuation': True, 'expand_contractions': True, 'remove_stop_words': False, 'wordnet_lemmatizer': True, 'vectorizer_type': 'tf-idf', 'frequency_cutoff': 25, 'learning_rate': 0.01, 'hidden_dim': 50, 'batch_size': 256, 'enable_opinion_lexicon': True, 'use_word_embedding': True, 'enable_second_hidden_layer': False, 'enable_drop_out': True, 'enable_batch_norm': True, 'weight_decay': 0.001}. Best is trial 0 with value: 91.30859375.\n"
     ]
    },
    {
     "name": "stdout",
     "output_type": "stream",
     "text": [
      "GloVe model loaded!\n",
      "number of features => 30938\n"
     ]
    },
    {
     "data": {
      "application/vnd.jupyter.widget-view+json": {
       "model_id": "e4b442795c73471f90026caeb85ea9a1",
       "version_major": 2,
       "version_minor": 0
      },
      "text/plain": [
       "training routine:   0%|          | 0/100 [00:00<?, ?it/s]"
      ]
     },
     "metadata": {},
     "output_type": "display_data"
    },
    {
     "data": {
      "application/vnd.jupyter.widget-view+json": {
       "model_id": "fb4cdad33c4c4f6f91ed0563f7de275a",
       "version_major": 2,
       "version_minor": 0
      },
      "text/plain": [
       "split=train:   0%|          | 0/39 [00:00<?, ?it/s]"
      ]
     },
     "metadata": {},
     "output_type": "display_data"
    },
    {
     "data": {
      "application/vnd.jupyter.widget-view+json": {
       "model_id": "cda162b55db5464da12dc9f25cb06f6c",
       "version_major": 2,
       "version_minor": 0
      },
      "text/plain": [
       "split=val:   0%|          | 0/8 [00:00<?, ?it/s]"
      ]
     },
     "metadata": {},
     "output_type": "display_data"
    },
    {
     "name": "stderr",
     "output_type": "stream",
     "text": [
      "[I 2025-02-28 06:34:58,379] Trial 57 finished with value: 86.1328125 and parameters: {'remove_special_char': False, 'case_folding': False, 'remove_punctuation': True, 'expand_contractions': True, 'remove_stop_words': False, 'wordnet_lemmatizer': True, 'vectorizer_type': 'term-freq', 'frequency_cutoff': 0, 'learning_rate': 0.0005, 'hidden_dim': 50, 'batch_size': 128, 'enable_opinion_lexicon': False, 'use_word_embedding': True, 'enable_second_hidden_layer': False, 'enable_drop_out': True, 'enable_batch_norm': False, 'weight_decay': 0}. Best is trial 0 with value: 91.30859375.\n"
     ]
    },
    {
     "name": "stdout",
     "output_type": "stream",
     "text": [
      "GloVe model loaded!\n",
      "number of features => 242093\n"
     ]
    },
    {
     "data": {
      "application/vnd.jupyter.widget-view+json": {
       "model_id": "e2cac348e05f4af19b70cc33bdb39fdd",
       "version_major": 2,
       "version_minor": 0
      },
      "text/plain": [
       "training routine:   0%|          | 0/100 [00:00<?, ?it/s]"
      ]
     },
     "metadata": {},
     "output_type": "display_data"
    },
    {
     "data": {
      "application/vnd.jupyter.widget-view+json": {
       "model_id": "0445a19086cf4412bc46a2b4e2327b96",
       "version_major": 2,
       "version_minor": 0
      },
      "text/plain": [
       "split=train:   0%|          | 0/19 [00:00<?, ?it/s]"
      ]
     },
     "metadata": {},
     "output_type": "display_data"
    },
    {
     "data": {
      "application/vnd.jupyter.widget-view+json": {
       "model_id": "eb6b44e804504896a9e7a52a4e494f1f",
       "version_major": 2,
       "version_minor": 0
      },
      "text/plain": [
       "split=val:   0%|          | 0/4 [00:00<?, ?it/s]"
      ]
     },
     "metadata": {},
     "output_type": "display_data"
    },
    {
     "name": "stderr",
     "output_type": "stream",
     "text": [
      "[I 2025-02-28 06:38:46,407] Trial 58 finished with value: 91.2109375 and parameters: {'remove_special_char': True, 'case_folding': False, 'remove_punctuation': False, 'expand_contractions': True, 'remove_stop_words': False, 'wordnet_lemmatizer': True, 'vectorizer_type': 'tf-idf', 'frequency_cutoff': 0, 'learning_rate': 0.01, 'hidden_dim': 50, 'batch_size': 256, 'enable_opinion_lexicon': False, 'use_word_embedding': True, 'enable_second_hidden_layer': False, 'enable_drop_out': True, 'enable_batch_norm': False, 'weight_decay': 0}. Best is trial 0 with value: 91.30859375.\n"
     ]
    },
    {
     "name": "stdout",
     "output_type": "stream",
     "text": [
      "GloVe model loaded!\n",
      "number of features => 256053\n"
     ]
    },
    {
     "data": {
      "application/vnd.jupyter.widget-view+json": {
       "model_id": "e81d7c34b3144e1991d308bca85a0418",
       "version_major": 2,
       "version_minor": 0
      },
      "text/plain": [
       "training routine:   0%|          | 0/100 [00:00<?, ?it/s]"
      ]
     },
     "metadata": {},
     "output_type": "display_data"
    },
    {
     "data": {
      "application/vnd.jupyter.widget-view+json": {
       "model_id": "472f2650bfbe4831a96e92e18023c556",
       "version_major": 2,
       "version_minor": 0
      },
      "text/plain": [
       "split=train:   0%|          | 0/19 [00:00<?, ?it/s]"
      ]
     },
     "metadata": {},
     "output_type": "display_data"
    },
    {
     "data": {
      "application/vnd.jupyter.widget-view+json": {
       "model_id": "0fa6b416569a4cd588fc5c4a3b0f9eef",
       "version_major": 2,
       "version_minor": 0
      },
      "text/plain": [
       "split=val:   0%|          | 0/4 [00:00<?, ?it/s]"
      ]
     },
     "metadata": {},
     "output_type": "display_data"
    },
    {
     "name": "stderr",
     "output_type": "stream",
     "text": [
      "[I 2025-02-28 06:44:53,578] Trial 59 finished with value: 81.4453125 and parameters: {'remove_special_char': True, 'case_folding': False, 'remove_punctuation': True, 'expand_contractions': False, 'remove_stop_words': False, 'wordnet_lemmatizer': False, 'vectorizer_type': 'tf-idf', 'frequency_cutoff': 25, 'learning_rate': 0.01, 'hidden_dim': 50, 'batch_size': 256, 'enable_opinion_lexicon': False, 'use_word_embedding': True, 'enable_second_hidden_layer': False, 'enable_drop_out': True, 'enable_batch_norm': False, 'weight_decay': 0.01}. Best is trial 0 with value: 91.30859375.\n"
     ]
    },
    {
     "name": "stdout",
     "output_type": "stream",
     "text": [
      "GloVe model loaded!\n",
      "number of features => 256252\n"
     ]
    },
    {
     "data": {
      "application/vnd.jupyter.widget-view+json": {
       "model_id": "9509cdc700cd45d98873365b82c7b45d",
       "version_major": 2,
       "version_minor": 0
      },
      "text/plain": [
       "training routine:   0%|          | 0/100 [00:00<?, ?it/s]"
      ]
     },
     "metadata": {},
     "output_type": "display_data"
    },
    {
     "data": {
      "application/vnd.jupyter.widget-view+json": {
       "model_id": "ba43ae11e8ee4829ae75cbc644b3e14c",
       "version_major": 2,
       "version_minor": 0
      },
      "text/plain": [
       "split=train:   0%|          | 0/19 [00:00<?, ?it/s]"
      ]
     },
     "metadata": {},
     "output_type": "display_data"
    },
    {
     "data": {
      "application/vnd.jupyter.widget-view+json": {
       "model_id": "22e44ddff7104d44bf59ef72bc3c4bc8",
       "version_major": 2,
       "version_minor": 0
      },
      "text/plain": [
       "split=val:   0%|          | 0/4 [00:00<?, ?it/s]"
      ]
     },
     "metadata": {},
     "output_type": "display_data"
    },
    {
     "name": "stderr",
     "output_type": "stream",
     "text": [
      "[I 2025-02-28 06:55:05,664] Trial 60 finished with value: 89.0625 and parameters: {'remove_special_char': True, 'case_folding': True, 'remove_punctuation': True, 'expand_contractions': True, 'remove_stop_words': True, 'wordnet_lemmatizer': True, 'vectorizer_type': 'tf-idf', 'frequency_cutoff': 0, 'learning_rate': 0.001, 'hidden_dim': 50, 'batch_size': 256, 'enable_opinion_lexicon': False, 'use_word_embedding': True, 'enable_second_hidden_layer': False, 'enable_drop_out': True, 'enable_batch_norm': False, 'weight_decay': 0}. Best is trial 0 with value: 91.30859375.\n"
     ]
    },
    {
     "name": "stdout",
     "output_type": "stream",
     "text": [
      "GloVe model loaded!\n",
      "number of features => 242067\n"
     ]
    },
    {
     "data": {
      "application/vnd.jupyter.widget-view+json": {
       "model_id": "4130321e8a654dd096df12a94547ffcd",
       "version_major": 2,
       "version_minor": 0
      },
      "text/plain": [
       "training routine:   0%|          | 0/100 [00:00<?, ?it/s]"
      ]
     },
     "metadata": {},
     "output_type": "display_data"
    },
    {
     "data": {
      "application/vnd.jupyter.widget-view+json": {
       "model_id": "b339aab4c82e452a8cf7d0bfeeb5a428",
       "version_major": 2,
       "version_minor": 0
      },
      "text/plain": [
       "split=train:   0%|          | 0/19 [00:00<?, ?it/s]"
      ]
     },
     "metadata": {},
     "output_type": "display_data"
    },
    {
     "data": {
      "application/vnd.jupyter.widget-view+json": {
       "model_id": "66c32a59ecb845e3bf2ea125f97b9455",
       "version_major": 2,
       "version_minor": 0
      },
      "text/plain": [
       "split=val:   0%|          | 0/4 [00:00<?, ?it/s]"
      ]
     },
     "metadata": {},
     "output_type": "display_data"
    },
    {
     "name": "stderr",
     "output_type": "stream",
     "text": [
      "[I 2025-02-28 06:58:56,919] Trial 61 finished with value: 91.30859375 and parameters: {'remove_special_char': True, 'case_folding': False, 'remove_punctuation': True, 'expand_contractions': True, 'remove_stop_words': False, 'wordnet_lemmatizer': True, 'vectorizer_type': 'tf-idf', 'frequency_cutoff': 0, 'learning_rate': 0.01, 'hidden_dim': 50, 'batch_size': 256, 'enable_opinion_lexicon': False, 'use_word_embedding': True, 'enable_second_hidden_layer': False, 'enable_drop_out': True, 'enable_batch_norm': False, 'weight_decay': 0}. Best is trial 0 with value: 91.30859375.\n"
     ]
    },
    {
     "name": "stdout",
     "output_type": "stream",
     "text": [
      "GloVe model loaded!\n",
      "number of features => 242067\n"
     ]
    },
    {
     "data": {
      "application/vnd.jupyter.widget-view+json": {
       "model_id": "9f0d2e2f9a0d49ff84ad41252a4a36ac",
       "version_major": 2,
       "version_minor": 0
      },
      "text/plain": [
       "training routine:   0%|          | 0/100 [00:00<?, ?it/s]"
      ]
     },
     "metadata": {},
     "output_type": "display_data"
    },
    {
     "data": {
      "application/vnd.jupyter.widget-view+json": {
       "model_id": "ef07a58934f44b1cbc9ce983357656de",
       "version_major": 2,
       "version_minor": 0
      },
      "text/plain": [
       "split=train:   0%|          | 0/19 [00:00<?, ?it/s]"
      ]
     },
     "metadata": {},
     "output_type": "display_data"
    },
    {
     "data": {
      "application/vnd.jupyter.widget-view+json": {
       "model_id": "5d640d231d5d468da389fb01e1b8d8d2",
       "version_major": 2,
       "version_minor": 0
      },
      "text/plain": [
       "split=val:   0%|          | 0/4 [00:00<?, ?it/s]"
      ]
     },
     "metadata": {},
     "output_type": "display_data"
    },
    {
     "name": "stderr",
     "output_type": "stream",
     "text": [
      "[I 2025-02-28 07:02:48,767] Trial 62 finished with value: 91.30859375 and parameters: {'remove_special_char': True, 'case_folding': False, 'remove_punctuation': True, 'expand_contractions': True, 'remove_stop_words': False, 'wordnet_lemmatizer': True, 'vectorizer_type': 'tf-idf', 'frequency_cutoff': 0, 'learning_rate': 0.01, 'hidden_dim': 50, 'batch_size': 256, 'enable_opinion_lexicon': False, 'use_word_embedding': True, 'enable_second_hidden_layer': False, 'enable_drop_out': True, 'enable_batch_norm': False, 'weight_decay': 0}. Best is trial 0 with value: 91.30859375.\n"
     ]
    },
    {
     "name": "stdout",
     "output_type": "stream",
     "text": [
      "GloVe model loaded!\n",
      "number of features => 242067\n"
     ]
    },
    {
     "data": {
      "application/vnd.jupyter.widget-view+json": {
       "model_id": "27b4fefe9f0d424fbeefd5b34a52bd77",
       "version_major": 2,
       "version_minor": 0
      },
      "text/plain": [
       "training routine:   0%|          | 0/100 [00:00<?, ?it/s]"
      ]
     },
     "metadata": {},
     "output_type": "display_data"
    },
    {
     "data": {
      "application/vnd.jupyter.widget-view+json": {
       "model_id": "b3e1107c6e7b48018e30b16e78d1d427",
       "version_major": 2,
       "version_minor": 0
      },
      "text/plain": [
       "split=train:   0%|          | 0/19 [00:00<?, ?it/s]"
      ]
     },
     "metadata": {},
     "output_type": "display_data"
    },
    {
     "data": {
      "application/vnd.jupyter.widget-view+json": {
       "model_id": "3af2154955b24dec86de6d8d62fbe449",
       "version_major": 2,
       "version_minor": 0
      },
      "text/plain": [
       "split=val:   0%|          | 0/4 [00:00<?, ?it/s]"
      ]
     },
     "metadata": {},
     "output_type": "display_data"
    },
    {
     "name": "stderr",
     "output_type": "stream",
     "text": [
      "[I 2025-02-28 07:06:42,203] Trial 63 finished with value: 91.30859375 and parameters: {'remove_special_char': True, 'case_folding': False, 'remove_punctuation': True, 'expand_contractions': True, 'remove_stop_words': False, 'wordnet_lemmatizer': True, 'vectorizer_type': 'tf-idf', 'frequency_cutoff': 0, 'learning_rate': 0.01, 'hidden_dim': 50, 'batch_size': 256, 'enable_opinion_lexicon': False, 'use_word_embedding': True, 'enable_second_hidden_layer': False, 'enable_drop_out': True, 'enable_batch_norm': False, 'weight_decay': 0}. Best is trial 0 with value: 91.30859375.\n"
     ]
    },
    {
     "name": "stdout",
     "output_type": "stream",
     "text": [
      "GloVe model loaded!\n",
      "number of features => 242067\n"
     ]
    },
    {
     "data": {
      "application/vnd.jupyter.widget-view+json": {
       "model_id": "85a25aeda6624863a7cc9b86fb38d1dc",
       "version_major": 2,
       "version_minor": 0
      },
      "text/plain": [
       "training routine:   0%|          | 0/100 [00:00<?, ?it/s]"
      ]
     },
     "metadata": {},
     "output_type": "display_data"
    },
    {
     "data": {
      "application/vnd.jupyter.widget-view+json": {
       "model_id": "57e358d77ea645ca8f96716cef74b5d9",
       "version_major": 2,
       "version_minor": 0
      },
      "text/plain": [
       "split=train:   0%|          | 0/19 [00:00<?, ?it/s]"
      ]
     },
     "metadata": {},
     "output_type": "display_data"
    },
    {
     "data": {
      "application/vnd.jupyter.widget-view+json": {
       "model_id": "c955ce037d764fbaa308bdeb716f5bf0",
       "version_major": 2,
       "version_minor": 0
      },
      "text/plain": [
       "split=val:   0%|          | 0/4 [00:00<?, ?it/s]"
      ]
     },
     "metadata": {},
     "output_type": "display_data"
    },
    {
     "name": "stderr",
     "output_type": "stream",
     "text": [
      "[I 2025-02-28 07:10:34,304] Trial 64 finished with value: 91.30859375 and parameters: {'remove_special_char': True, 'case_folding': False, 'remove_punctuation': True, 'expand_contractions': True, 'remove_stop_words': False, 'wordnet_lemmatizer': True, 'vectorizer_type': 'tf-idf', 'frequency_cutoff': 0, 'learning_rate': 0.01, 'hidden_dim': 50, 'batch_size': 256, 'enable_opinion_lexicon': False, 'use_word_embedding': True, 'enable_second_hidden_layer': False, 'enable_drop_out': True, 'enable_batch_norm': False, 'weight_decay': 0}. Best is trial 0 with value: 91.30859375.\n"
     ]
    }
   ],
   "source": [
    "import optuna\n",
    "import pandas as pd\n",
    "\n",
    "vectorizer_type_mapping = {\n",
    "    \"one-hot\": Vectorizer_Type.One_Hot,\n",
    "    \"term-freq\": Vectorizer_Type.Term_Freq,\n",
    "    \"tf-idf\": Vectorizer_Type.TF_IDF\n",
    "}\n",
    "\n",
    "def objective(trial):\n",
    "\n",
    "    preprocessing_args = Namespace(\n",
    "        remove_special_char=trial.suggest_categorical(\"remove_special_char\", [True, False]),\n",
    "        case_folding=trial.suggest_categorical(\"case_folding\", [True, False]),\n",
    "        remove_punctuation=trial.suggest_categorical(\"remove_punctuation\", [True, False]),\n",
    "        expand_contractions=trial.suggest_categorical(\"expand_contractions\", [True, False]),\n",
    "        remove_stop_words=trial.suggest_categorical(\"remove_stop_words\", [True, False]),\n",
    "        wordnet_lemmatizer=trial.suggest_categorical(\"wordnet_lemmatizer\", [True, False]))\n",
    "\n",
    "    vectorizer_type_str = trial.suggest_categorical(\"vectorizer_type\", [\"one-hot\", \"term-freq\", \"tf-idf\"])\n",
    "\n",
    "    args = Namespace(\n",
    "        model_state_file='model.pth',\n",
    "        review_csv='data/yelp/reviews_with_splits_lite.csv',\n",
    "        save_dir='model_storage/ch3/yelp/',\n",
    "        early_stopping_criteria=5,\n",
    "        num_epochs=100,\n",
    "        seed=1337,\n",
    "        catch_keyboard_interrupt=True,\n",
    "        cuda=True,\n",
    "        expand_filepaths_to_save_dir=True,\n",
    "        reload_from_files=False,\n",
    "\n",
    "        frequency_cutoff=trial.suggest_categorical(\"frequency_cutoff\", [0, 25]),\n",
    "        learning_rate=trial.suggest_categorical(\"learning_rate\", [0.0001, 0.0005, 0.001, 0.01]),\n",
    "        hidden_dim=trial.suggest_categorical(\"hidden_dim\", [10, 20,50,100]),\n",
    "        batch_size=trial.suggest_categorical(\"batch_size\", [64, 128, 256]), ###i think this no need to check\n",
    "        # vectorizer_type=trial.suggest_categorical(\"vectorizer_type\", [Vectorizer_Type.One_Hot, Vectorizer_Type.TF_IDF, Vectorizer_Type.Term_Freq]),\n",
    "         vectorizer_type=vectorizer_type_mapping[vectorizer_type_str],  ## prevent too much warning\n",
    "        enable_opinion_lexicon=trial.suggest_categorical(\"enable_opinion_lexicon\", [True, False]),\n",
    "        use_word_embedding=trial.suggest_categorical(\"use_word_embedding\", [True, False]),\n",
    "        enable_second_hidden_layer=trial.suggest_categorical(\"enable_second_hidden_layer\", [True, False]),\n",
    "        enable_drop_out=trial.suggest_categorical(\"enable_drop_out\", [True, False]),\n",
    "        enable_batch_norm=trial.suggest_categorical(\"enable_batch_norm\", [True, False]),\n",
    "        weight_decay=trial.suggest_categorical(\"weight_decay\", [0, 0.0001, 0.001, 0.01]),\n",
    "    )\n",
    "\n",
    "    # if args.expand_filepaths_to_save_dir:\n",
    "    #     args.model_state_file = os.path.join(args.save_dir,\n",
    "    #                                         args.model_state_file)    \n",
    "    #     print(\"Expanded filepaths: \")\n",
    "    #     print(\"\\t{}\".format(args.model_state_file))\n",
    "    if not torch.cuda.is_available():\n",
    "        args.cuda = False\n",
    "    # print(\"Using CUDA: {}\".format(args.cuda))\n",
    "\n",
    "    args.device = torch.device(\"cuda\" if args.cuda else \"cpu\")\n",
    "    # Set seed for reproducibility\n",
    "    set_seed_everywhere(args.seed, args.cuda)\n",
    "    # handle dirs ; creat dirs if they don't exist\n",
    "    handle_dirs(args.save_dir)\n",
    "\n",
    "    # Train model\n",
    "    dataset, vectorizer, classifier = init(preprocessing_args, args)\n",
    "    train_state, loss_func = train_model(preprocessing_args, args, dataset=dataset, classifier=classifier)\n",
    "    # Compute accuracy\n",
    "    test_acc = check_test_data(preprocessing_args, args, dataset, classifier, train_state, loss_func, enable_print_info=False)\n",
    "    return test_acc  # Optuna will maximize this value\n",
    "\n",
    "study = optuna.create_study(direction=\"maximize\")\n",
    "study.optimize(objective, n_trials=100)\n",
    "\n",
    "df = study.trials_dataframe().sort_values(\"value\", ascending=False).head(10)\n",
    "\n",
    "# Extract top 10 best trials with all parameters\n",
    "top_10_trials = df[[\n",
    "    \"value\",  # Test Accuracy\n",
    "\n",
    "    # 🔹 Preprocessing Parameters\n",
    "    \"params_remove_special_char\", \"params_case_folding\", \"params_remove_punctuation\",\n",
    "    \"params_expand_contractions\", \"params_remove_stop_words\", \"params_wordnet_lemmatizer\",\n",
    "\n",
    "    # 🔹 Model Hyperparameters\n",
    "    \"params_frequency_cutoff\", \"params_learning_rate\", \"params_hidden_dim\",\n",
    "    \"params_batch_size\", \"params_vectorizer_type\", \"params_enable_opinion_lexicon\",\n",
    "    \"params_use_word_embedding\", \"params_enable_second_hidden_layer\",\n",
    "    \"params_enable_drop_out\", \"params_enable_batch_norm\", \"params_weight_decay\"\n",
    "]].to_dict(orient=\"records\")\n",
    "\n",
    "# Print the top 5 best parameter combinations\n",
    "print(\"\\nTop 10 Best Hyperparameter Combinations:\")\n",
    "for i, trial in enumerate(top_10_trials):\n",
    "    print(f\"\\n🔹 **Rank {i+1}:** Accuracy = {trial['value']:.4f}\")\n",
    "    print({key.replace(\"params_\", \"\"): value for key, value in trial.items() if key != \"value\"})\n"
   ]
  },
  {
   "cell_type": "markdown",
   "metadata": {},
   "source": [
    "### End"
   ]
  }
 ],
 "metadata": {
  "kernelspec": {
   "display_name": "gaoqiang_env",
   "language": "python",
   "name": "python3"
  },
  "language_info": {
   "codemirror_mode": {
    "name": "ipython",
    "version": 3
   },
   "file_extension": ".py",
   "mimetype": "text/x-python",
   "name": "python",
   "nbconvert_exporter": "python",
   "pygments_lexer": "ipython3",
   "version": "3.11.9"
  },
  "toc": {
   "colors": {
    "hover_highlight": "#DAA520",
    "running_highlight": "#FF0000",
    "selected_highlight": "#FFD700"
   },
   "moveMenuLeft": true,
   "nav_menu": {
    "height": "156px",
    "width": "252px"
   },
   "navigate_menu": true,
   "number_sections": true,
   "sideBar": true,
   "threshold": "5",
   "toc_cell": false,
   "toc_section_display": "block",
   "toc_window_display": false
  }
 },
 "nbformat": 4,
 "nbformat_minor": 4
}
