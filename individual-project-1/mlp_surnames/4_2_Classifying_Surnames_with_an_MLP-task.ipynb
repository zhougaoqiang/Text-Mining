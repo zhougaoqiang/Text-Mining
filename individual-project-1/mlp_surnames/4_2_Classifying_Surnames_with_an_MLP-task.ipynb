{
 "cells": [
  {
   "cell_type": "markdown",
   "metadata": {},
   "source": [
    "# Chapter 4. Classifying Surnames with a Multilayer Perceptron"
   ]
  },
  {
   "cell_type": "code",
   "execution_count": 1,
   "metadata": {},
   "outputs": [
    {
     "data": {
      "text/plain": [
       "'\\nimport os\\nos.environ[\"KMP_DUPLICATE_LIB_OK\"] = \"TRUE\"\\nuse to prevent kernal crash due to re-initializing  libiomp5md.dll\\n'"
      ]
     },
     "execution_count": 1,
     "metadata": {},
     "output_type": "execute_result"
    }
   ],
   "source": [
    "'''\n",
    "import os\n",
    "os.environ[\"KMP_DUPLICATE_LIB_OK\"] = \"TRUE\"\n",
    "use to prevent kernal crash due to re-initializing  libiomp5md.dll\n",
    "'''\n",
    "# import os\n",
    "# os.environ[\"KMP_DUPLICATE_LIB_OK\"] = \"TRUE\""
   ]
  },
  {
   "cell_type": "markdown",
   "metadata": {},
   "source": [
    "## Imports"
   ]
  },
  {
   "cell_type": "code",
   "execution_count": 2,
   "metadata": {},
   "outputs": [],
   "source": [
    "from argparse import Namespace\n",
    "from collections import Counter\n",
    "import json\n",
    "import os\n",
    "import string\n",
    "\n",
    "import numpy as np\n",
    "import pandas as pd\n",
    "\n",
    "import torch\n",
    "import torch.nn as nn\n",
    "import torch.nn.functional as F\n",
    "import torch.optim as optim\n",
    "from torch.utils.data import Dataset, DataLoader\n",
    "from tqdm.notebook import tqdm"
   ]
  },
  {
   "cell_type": "markdown",
   "metadata": {},
   "source": [
    "## Data Vectorization classes"
   ]
  },
  {
   "cell_type": "markdown",
   "metadata": {},
   "source": [
    "### The Vocabulary"
   ]
  },
  {
   "cell_type": "code",
   "execution_count": 3,
   "metadata": {
    "code_folding": []
   },
   "outputs": [],
   "source": [
    "class Vocabulary(object):\n",
    "    \"\"\"Class to process text and extract vocabulary for mapping\"\"\"\n",
    "\n",
    "    def __init__(self, token_to_idx=None, add_unk=True, unk_token=\"<UNK>\"):\n",
    "        \"\"\"\n",
    "        Args:\n",
    "            token_to_idx (dict): a pre-existing map of tokens to indices\n",
    "            add_unk (bool): a flag that indicates whether to add the UNK token\n",
    "            unk_token (str): the UNK token to add into the Vocabulary\n",
    "        \"\"\"\n",
    "\n",
    "        if token_to_idx is None:\n",
    "            token_to_idx = {}\n",
    "        self._token_to_idx = token_to_idx         # _token_to_idx: {''@'':0, 'a':1, 'b':2, ....., 'Á': 76}\n",
    "                                                  # _idx_to_token: {0:''@'', 1:'a', 2:'b', ....., 76:'Á'}\n",
    "            \n",
    "                                                  # _token_to_idx: {'Arabic': 0, 'Chinese': 1, ..., 'Vietnamese': 17}\n",
    "                                                  # _idx_to_token: {0:'Arabic',  1:'Chinese', ...,  17:'Vietnamese'}\n",
    "  \n",
    "        self._idx_to_token = {idx: token \n",
    "                              for token, idx in self._token_to_idx.items()}\n",
    "        \n",
    "        self._add_unk = add_unk\n",
    "        self._unk_token = unk_token\n",
    "        \n",
    "        self.unk_index = -1\n",
    "        if add_unk:\n",
    "            self.unk_index = self.add_token(unk_token) \n",
    "               \n",
    "    def add_token(self, token):\n",
    "        \"\"\"Update mapping dicts based on the token.\n",
    "\n",
    "        Args:\n",
    "            token (str): the item to add into the Vocabulary\n",
    "        Returns:\n",
    "            index (int): the integer corresponding to the token\n",
    "        \"\"\"\n",
    "        try:\n",
    "            index = self._token_to_idx[token]\n",
    "        except KeyError:\n",
    "            index = len(self._token_to_idx)\n",
    "            self._token_to_idx[token] = index\n",
    "            self._idx_to_token[index] = token\n",
    "        return index\n",
    "    \n",
    "    def lookup_token(self, token):\n",
    "        \"\"\"Retrieve the index associated with the token \n",
    "          or the UNK index if token isn't present.\n",
    "        \n",
    "        Args:\n",
    "            token (str): the token to look up \n",
    "        Returns:\n",
    "            index (int): the index corresponding to the token\n",
    "        Notes:\n",
    "            `unk_index` needs to be >=0 (having been added into the Vocabulary) \n",
    "              for the UNK functionality \n",
    "        \"\"\"\n",
    "        if self.unk_index >= 0:\n",
    "            return self._token_to_idx.get(token, self.unk_index)\n",
    "        else:\n",
    "            return self._token_to_idx[token]\n",
    "\n",
    "    def lookup_index(self, index):\n",
    "        \"\"\"Return the token associated with the index\n",
    "        \n",
    "        Args: \n",
    "            index (int): the index to look up\n",
    "        Returns:\n",
    "            token (str): the token corresponding to the index\n",
    "        Raises:\n",
    "            KeyError: if the index is not in the Vocabulary\n",
    "        \"\"\"\n",
    "        if index not in self._idx_to_token:\n",
    "            raise KeyError(\"the index (%d) is not in the Vocabulary\" % index)\n",
    "        return self._idx_to_token[index]\n",
    "\n",
    "    def __str__(self):\n",
    "        return \"<Vocabulary(size=%d)>\" % len(self)\n",
    "\n",
    "    def __len__(self):\n",
    "        return len(self._token_to_idx)"
   ]
  },
  {
   "cell_type": "markdown",
   "metadata": {},
   "source": [
    "### The Vectorizer"
   ]
  },
  {
   "cell_type": "code",
   "execution_count": 4,
   "metadata": {},
   "outputs": [],
   "source": [
    "from enum import Enum\n",
    "class Vectorizer_Type(Enum):\n",
    "    One_Hot = \"one-hot\"\n",
    "    Term_Freq = \"term-freq\"\n",
    "    TF_IDF = \"tf-idf\"\n",
    "\n",
    "from sklearn.feature_extraction.text import TfidfVectorizer"
   ]
  },
  {
   "cell_type": "code",
   "execution_count": 5,
   "metadata": {},
   "outputs": [],
   "source": [
    "class SurnameVectorizer(object):\n",
    "    \"\"\" The Vectorizer which coordinates the Vocabularies and puts them to use\"\"\"\n",
    "    def __init__(self, surname_vocab, nationality_vocab, vectorizer_type, tfidf_vectorizer=None):\n",
    "        \"\"\"\n",
    "        Args:\n",
    "            surname_vocab (Vocabulary): maps characters to integers\n",
    "            nationality_vocab (Vocabulary): maps nationalities to integers\n",
    "        \"\"\"\n",
    "        self.surname_vocab = surname_vocab             # _token_to_idx: {'@':0, 'a':1, 'b':2, ....., 'Á': 76}\n",
    "        self.nationality_vocab = nationality_vocab     # _token_to_idx: {'Arabic': 0, 'Chinese': 1, ..., 'Vietnamese': 17}\n",
    "\n",
    "        self.vectorize_type = vectorizer_type\n",
    "        self.tfidf_vectorizer = tfidf_vectorizer\n",
    "\n",
    "    def vectorize(self, surname):\n",
    "        \"\"\"\n",
    "        Args:\n",
    "            surname (str): the surname\n",
    "\n",
    "        Returns:\n",
    "            one_hot (np.ndarray): a collapsed one-hot encoding \n",
    "        \"\"\"\n",
    "        vocab = self.surname_vocab\n",
    "\n",
    "        if self.vectorize_type == Vectorizer_Type.TF_IDF: \n",
    "            char_vector = self.tfidf_vectorizer.transform([surname]).toarray().flatten()\n",
    "        elif self.vectorize_type == Vectorizer_Type.Term_Freq:\n",
    "            char_vector = np.zeros(len(vocab), dtype=np.float32)\n",
    "            for token in surname:\n",
    "                char_vector[vocab.lookup_token(token)] += 1\n",
    "        else :\n",
    "            char_vector = np.zeros(len(vocab), dtype=np.float32)\n",
    "            for token in surname:\n",
    "                char_vector[vocab.lookup_token(token)] = 1  # e.g., kim -> [0, 0, 0, 1, 0, 0, 1, 0, 0, 1, ......, 0]\n",
    "\n",
    "        return char_vector\n",
    "\n",
    "    @classmethod\n",
    "    def from_dataframe(cls, surname_df, case_folding, vectorizer_type, ngram_option=None): #ngram_options = [(1,1), (1,2), (2,2), (2,3), (3,3), (3,4)]\n",
    "        \"\"\"Instantiate the vectorizer from the dataset dataframe\n",
    "        \n",
    "        Args:\n",
    "            surname_df (pandas.DataFrame): the surnames dataset\n",
    "        Returns:\n",
    "            an instance of the SurnameVectorizer\n",
    "        \"\"\"\n",
    "        surname_vocab = Vocabulary(unk_token=\"@\")\n",
    "        nationality_vocab = Vocabulary(add_unk=False)\n",
    "\n",
    "        if case_folding:\n",
    "            surname_df = surname_df.copy()\n",
    "            surname_df['surname'] = surname_df['surname'].apply(lambda x: x.lower())\n",
    "\n",
    "        for index, row in surname_df.iterrows():\n",
    "            for letter in row.surname:\n",
    "                surname_vocab.add_token(letter)   # token is letter-level.\n",
    "            nationality_vocab.add_token(row.nationality)\n",
    "\n",
    "        if vectorizer_type == Vectorizer_Type.TF_IDF :\n",
    "            tfidf_vectorizer = TfidfVectorizer(analyzer='char', token_pattern=None, ngram_range=ngram_option)  # support unigram + bigram words\n",
    "            tfidf_vectorizer.fit(surname_df.surname)\n",
    "        else :\n",
    "            tfidf_vectorizer = None\n",
    "\n",
    "        return cls(surname_vocab, nationality_vocab, vectorizer_type, tfidf_vectorizer)"
   ]
  },
  {
   "cell_type": "markdown",
   "metadata": {},
   "source": [
    "### The Dataset"
   ]
  },
  {
   "cell_type": "code",
   "execution_count": 6,
   "metadata": {},
   "outputs": [],
   "source": [
    "class SurnameDataset(Dataset):\n",
    "    def __init__(self, surname_df, vectorizer):\n",
    "        \"\"\"\n",
    "        Args:\n",
    "            surname_df (pandas.DataFrame): the dataset\n",
    "            vectorizer (SurnameVectorizer): vectorizer instatiated from dataset\n",
    "        \"\"\"\n",
    "        self.surname_df = surname_df\n",
    "        self._vectorizer = vectorizer\n",
    "\n",
    "        self.train_df = self.surname_df[self.surname_df.split=='train']\n",
    "        self.train_size = len(self.train_df)\n",
    "\n",
    "        self.val_df = self.surname_df[self.surname_df.split=='val']\n",
    "        self.validation_size = len(self.val_df)\n",
    "\n",
    "        self.test_df = self.surname_df[self.surname_df.split=='test']\n",
    "        self.test_size = len(self.test_df)\n",
    "\n",
    "        self._lookup_dict = {'train': (self.train_df, self.train_size),\n",
    "                             'val': (self.val_df, self.validation_size),\n",
    "                             'test': (self.test_df, self.test_size)}\n",
    "\n",
    "        self.set_split('train')\n",
    "        \n",
    "        # Class weights for handling unbalanced data\n",
    "        class_counts = surname_df.nationality.value_counts().to_dict() # {'English': 2972, 'Russian': 2373, ....}\n",
    "        \n",
    "        def sort_key(item):\n",
    "            return self._vectorizer.nationality_vocab.lookup_token(item[0]) # e.g, index of English is 4\n",
    "        sorted_counts = sorted(class_counts.items(), key=sort_key)   # sort by the index number of nationality_vocab\n",
    "                                # {('Arabic', 1603), ('Chinese', 220), ('Czech', 414), ('Dutch', 236),('English', 2972), ...}\n",
    "\n",
    "        frequencies = [count for _, count in sorted_counts]\n",
    "        self.class_weights = 1.0 / torch.tensor(frequencies, dtype=torch.float32) \n",
    "                                                                     # [1/1603, 1/220, 1/414, 1/236, 1/2972, ...]\n",
    "                                                                     # E.g., penalty for Chinese is higher than one for Arabic.\n",
    "    @classmethod\n",
    "    def load_dataset_and_make_vectorizer(cls, surname_csv, case_folding, vectorizer_type, ngram_option):\n",
    "        \"\"\"Load dataset and make a new vectorizer from scratch\n",
    "        \n",
    "        Args:\n",
    "            surname_csv (str): location of the dataset\n",
    "        Returns:\n",
    "            an instance of SurnameDataset\n",
    "        \"\"\"\n",
    "        surname_df = pd.read_csv(surname_csv)\n",
    "        train_surname_df = surname_df[surname_df.split=='train']\n",
    "        return cls(surname_df, SurnameVectorizer.from_dataframe(train_surname_df, case_folding, vectorizer_type, ngram_option))\n",
    "\n",
    "    def get_vectorizer(self):\n",
    "        \"\"\" returns the vectorizer \"\"\"\n",
    "        return self._vectorizer\n",
    "\n",
    "    def set_split(self, split=\"train\"):\n",
    "        \"\"\" selects the splits in the dataset using a column in the dataframe \"\"\"\n",
    "        self._target_split = split\n",
    "        self._target_df, self._target_size = self._lookup_dict[split]\n",
    "\n",
    "    def __len__(self):\n",
    "        return self._target_size\n",
    "\n",
    "    def __getitem__(self, index):\n",
    "        \"\"\"the primary entry point method for PyTorch datasets\n",
    "        \n",
    "        Args:\n",
    "            index (int): the index to the data point \n",
    "        Returns:\n",
    "            a dictionary holding the data point's:\n",
    "                features (x_surname)\n",
    "                label (y_nationality)\n",
    "        \"\"\"\n",
    "        row = self._target_df.iloc[index]\n",
    "\n",
    "        surname_vector = \\\n",
    "            self._vectorizer.vectorize(row.surname)   # e.g., 'kim' -> [0, 0, 0, 1, 0, 0, 1, 0, 0, 1, ......, 0]\n",
    "\n",
    "        nationality_index = \\\n",
    "            self._vectorizer.nationality_vocab.lookup_token(row.nationality)  # e.g., 'Korean' -> 11\n",
    "\n",
    "        return {'x_surname': surname_vector,\n",
    "                'y_nationality': nationality_index}\n",
    "\n",
    "    def get_num_batches(self, batch_size):\n",
    "        \"\"\"Given a batch size, return the number of batches in the dataset\n",
    "        \n",
    "        Args:\n",
    "            batch_size (int)\n",
    "        Returns:\n",
    "            number of batches in the dataset\n",
    "        \"\"\"\n",
    "        return len(self) // batch_size\n",
    "\n",
    "    \n",
    "def generate_batches(dataset, batch_size, shuffle=True,\n",
    "                     drop_last=True, device=\"cpu\"): \n",
    "    \"\"\"\n",
    "    A generator function which wraps the PyTorch DataLoader. It will \n",
    "      ensure each tensor is on the write device location.\n",
    "    \"\"\"\n",
    "    dataloader = DataLoader(dataset=dataset, batch_size=batch_size,\n",
    "                            shuffle=shuffle, drop_last=drop_last)\n",
    "\n",
    "    for data_dict in dataloader: # {'x_surname': [[1,1,..,0,1], [0,0,...,1,0], ...], \n",
    "                                 #  'y_nationality': [4, 5, 10, ..., 14, 4]}\n",
    "        out_data_dict = {}\n",
    "        for name, tensor in data_dict.items():  # name: x_surname & y_nationality\n",
    "            out_data_dict[name] = data_dict[name].to(device)\n",
    "        yield out_data_dict  # return out_data_dict whenever this generator function is called"
   ]
  },
  {
   "cell_type": "markdown",
   "metadata": {},
   "source": [
    "## The Model: SurnameClassifier"
   ]
  },
  {
   "cell_type": "code",
   "execution_count": 7,
   "metadata": {},
   "outputs": [],
   "source": [
    "class SurnameClassifier(nn.Module):\n",
    "    \"\"\" A 2-layer Multilayer Perceptron for classifying surnames \"\"\"\n",
    "    def __init__(self, input_dim, hidden_dim, output_dim, enable_second_hidden_layer, enable_batch_norm, dropout_rate=0):\n",
    "        \"\"\"\n",
    "        Args:\n",
    "            input_dim (int): the size of the input vectors\n",
    "            hidden_dim (int): the output size of the first Linear layer\n",
    "            output_dim (int): the output size of the second Linear layer\n",
    "        \"\"\"\n",
    "        super(SurnameClassifier, self).__init__()\n",
    "        self.dropout_rate = dropout_rate\n",
    "        self.enable_second_hidden_layer = enable_second_hidden_layer\n",
    "        self.enable_batch_norm = enable_batch_norm\n",
    "\n",
    "        self.fc1 = nn.Linear(in_features=input_dim, out_features=hidden_dim)\n",
    "        if enable_batch_norm:\n",
    "            self.batch_norm1 = nn.BatchNorm1d(hidden_dim)\n",
    "        if self.dropout_rate != 0 :\n",
    "            self.dropout1 = nn.Dropout(p=self.dropout_rate)\n",
    "\n",
    "        if enable_second_hidden_layer :\n",
    "            self.fc2 = nn.Linear(hidden_dim, hidden_dim // 2) ###base on experience from lab assignment 1\n",
    "            if enable_batch_norm:\n",
    "                self.batch_norm2 = nn.BatchNorm1d(hidden_dim // 2)\n",
    "            if self.dropout_rate != 0 :    \n",
    "                self.dropout2 = nn.Dropout(p=self.dropout_rate)\n",
    "            self.fc_final = nn.Linear(hidden_dim // 2, out_features=output_dim)\n",
    "        else :\n",
    "            self.fc_final = nn.Linear(hidden_dim, out_features=output_dim)\n",
    "\n",
    "        #original enable_batch_norm = true, dropout_rate=0.2, 1 hidden layer\n",
    "        # self.fc2 = nn.Linear(hidden_dim, output_dim)\n",
    "        # self.bn1 = nn.BatchNorm1d(hidden_dim) # for batch norm, need to be defined for each layer\n",
    "        # self.dpout = nn.Dropout(p=0.2) # for drop out, p = probability of an element to be zeroed. Default: 0.5\n",
    "\n",
    "\n",
    "    def forward(self, x_in, apply_softmax=False):\n",
    "        \"\"\"The forward pass of the classifier\n",
    "        \n",
    "        Args:\n",
    "            x_in (torch.Tensor): an input data tensor. \n",
    "                x_in.shape should be (batch, input_dim)\n",
    "            apply_softmax (bool): a flag for the softmax activation\n",
    "                should be false if used with the Cross Entropy losses\n",
    "        Returns:\n",
    "            the resulting tensor. tensor.shape should be (batch, output_dim)\n",
    "        \"\"\"\n",
    "        # x_in = x_in.float()\n",
    "        intermediate = self.fc1(x_in.float())            # [batch, num_features] -> [batch, hidden_dim]\n",
    "        if self.enable_batch_norm:\n",
    "            intermediate = self.batch_norm1(intermediate)  \n",
    "        intermediate = F.relu(intermediate)      # [batch, hidden_dim]\n",
    "        if self.dropout_rate != 0 :\n",
    "            intermediate = self.dropout1(intermediate)\n",
    "\n",
    "        if self.enable_second_hidden_layer:\n",
    "            # Second hidden layer\n",
    "            intermediate = self.fc2(intermediate)\n",
    "            if self.enable_batch_norm:\n",
    "                intermediate = self.batch_norm2(intermediate)\n",
    "            intermediate = F.relu(intermediate)\n",
    "            if self.dropout_rate != 0 :\n",
    "                intermediate = self.dropout2(intermediate)\n",
    "\n",
    "        prediction_vector = self.fc_final(intermediate) \n",
    "        if apply_softmax:\n",
    "            prediction_vector = F.softmax(prediction_vector, dim=1)\n",
    "        return prediction_vector\n",
    "\n",
    "        ### original\n",
    "        # intermediate_vector = self.fc1(x_in)                         # (batch, input_dim) -> (batch, hidden_dim)\n",
    "        # intermediate_vector = self.bn1(intermediate_vector)          # batch norm\n",
    "        # intermediate_vector = F.relu(intermediate_vector)            # activation function\n",
    "        # intermediate_vector = self.dpout(intermediate_vector)        # dropout\n",
    "        \n",
    "        # prediction_vector = self.fc2(intermediate_vector)            # (batch, hidden_dim) -> (batch, output_dim)\n",
    "\n",
    "        # if apply_softmax:\n",
    "        #     prediction_vector = F.softmax(prediction_vector, dim=1)  # (batch, output_dim)\n",
    "\n",
    "        # return prediction_vector                                     # (batch, output_dim)"
   ]
  },
  {
   "cell_type": "markdown",
   "metadata": {},
   "source": [
    "## Training Routine"
   ]
  },
  {
   "cell_type": "markdown",
   "metadata": {},
   "source": [
    "### Helper functions"
   ]
  },
  {
   "cell_type": "code",
   "execution_count": 8,
   "metadata": {
    "code_folding": []
   },
   "outputs": [],
   "source": [
    "def make_train_state(args):\n",
    "    return {'stop_early': False,\n",
    "            'early_stopping_step': 0,\n",
    "            'early_stopping_best_val': 1e8,\n",
    "            'learning_rate': args.learning_rate,\n",
    "            'epoch_index': 0,\n",
    "            'train_loss': [],\n",
    "            'train_acc': [],\n",
    "            'val_loss': [],\n",
    "            'val_acc': [],\n",
    "            'test_loss': -1,\n",
    "            'test_acc': -1,\n",
    "            'model_filename': args.model_state_file}\n",
    "\n",
    "def update_train_state(args, model, train_state):\n",
    "    \"\"\"Handle the training state updates.\n",
    "\n",
    "    Components:\n",
    "     - Early Stopping: Prevent overfitting.\n",
    "     - Model Checkpoint: Model is saved if the model is better\n",
    "\n",
    "    :param args: main arguments\n",
    "    :param model: model to train\n",
    "    :param train_state: a dictionary representing the training state values\n",
    "    :returns:\n",
    "        a new train_state\n",
    "    \"\"\"\n",
    "\n",
    "    # Save one model at least\n",
    "    if train_state['epoch_index'] == 0:\n",
    "        torch.save(model.state_dict(), train_state['model_filename'])\n",
    "        train_state['stop_early'] = False\n",
    "\n",
    "    # Save model if performance improved\n",
    "    elif train_state['epoch_index'] >= 1:\n",
    "        loss_tm1, loss_t = train_state['val_loss'][-2:]\n",
    "\n",
    "        # If loss worsened\n",
    "        if loss_t >= train_state['early_stopping_best_val']:\n",
    "            # Update step\n",
    "            train_state['early_stopping_step'] += 1\n",
    "        # Loss decreased\n",
    "        else:\n",
    "            # Save the best model\n",
    "            if loss_t < train_state['early_stopping_best_val']:\n",
    "                torch.save(model.state_dict(), train_state['model_filename'])\n",
    "                train_state['early_stopping_best_val'] = loss_t  # update 'early_stopping_best_val'\n",
    "\n",
    "            # Reset early stopping step\n",
    "            train_state['early_stopping_step'] = 0\n",
    "\n",
    "        # Stop early ?\n",
    "        # print(train_state['train_acc'])\n",
    "        if train_state['early_stopping_step'] >= args.early_stopping_criteria or train_state['train_acc'][-1] > 99.9 : ### if  train_state['train_acc'] > 0.999 also can stop directly\n",
    "            train_state['stop_early'] = True\n",
    "        else : \n",
    "            train_state['stop_early'] = False\n",
    "\n",
    "    return train_state\n",
    "\n",
    "def compute_accuracy(y_pred, y_target):\n",
    "    _, y_pred_indices = y_pred.max(dim=1)\n",
    "    n_correct = torch.eq(y_pred_indices, y_target).sum().item()\n",
    "    return n_correct / len(y_pred_indices) * 100"
   ]
  },
  {
   "cell_type": "markdown",
   "metadata": {},
   "source": [
    "#### general utilities"
   ]
  },
  {
   "cell_type": "code",
   "execution_count": 9,
   "metadata": {},
   "outputs": [],
   "source": [
    "def set_seed_everywhere(seed, cuda):\n",
    "    np.random.seed(seed)\n",
    "    torch.manual_seed(seed)\n",
    "    if cuda:\n",
    "        torch.cuda.manual_seed_all(seed)\n",
    "\n",
    "def handle_dirs(dirpath):\n",
    "    if not os.path.exists(dirpath):\n",
    "        os.makedirs(dirpath)"
   ]
  },
  {
   "cell_type": "markdown",
   "metadata": {},
   "source": [
    "### Settings and some prep work"
   ]
  },
  {
   "cell_type": "code",
   "execution_count": 10,
   "metadata": {},
   "outputs": [
    {
     "name": "stdout",
     "output_type": "stream",
     "text": [
      "Expanded filepaths: \n",
      "\tmodel_storage/ch4/surname_mlp\\model.pth\n",
      "Using CUDA: False\n"
     ]
    }
   ],
   "source": [
    "args = Namespace(\n",
    "    # Data and path information\n",
    "    surname_csv=\"data/surnames/surnames_with_splits.csv\",\n",
    "    model_state_file=\"model.pth\",\n",
    "    save_dir=\"model_storage/ch4/surname_mlp\",\n",
    "    # Model hyper parameters\n",
    "    hidden_dim=300,\n",
    "    # Training  hyper parameters\n",
    "    seed=1337,\n",
    "    num_epochs=100,\n",
    "    early_stopping_criteria=5,\n",
    "    learning_rate=0.001,\n",
    "    batch_size=64,\n",
    "    # Runtime options\n",
    "    cuda=False,\n",
    "    expand_filepaths_to_save_dir=True,\n",
    "    dropout_rate=0.2, # original value\n",
    "\n",
    "    ###newly added, now is the default value\n",
    "    case_folding=False,\n",
    "    vectorizer_type=Vectorizer_Type.One_Hot,\n",
    "    ngram_option=(1,2), # only valid when Vectorizer_Type is tf-idf\n",
    "    enable_second_hidden_layer=False,\n",
    "    enable_batch_norm=True,\n",
    "    weight_decay=0, ##change to 0 to disable\n",
    ")\n",
    "\n",
    "if args.expand_filepaths_to_save_dir:\n",
    "    args.model_state_file = os.path.join(args.save_dir, args.model_state_file)   \n",
    "    print(\"Expanded filepaths: \")\n",
    "    print(\"\\t{}\".format(args.model_state_file))\n",
    "    \n",
    "# Check CUDA\n",
    "if not torch.cuda.is_available():\n",
    "    args.cuda = False\n",
    "\n",
    "args.device = torch.device(\"cuda\" if args.cuda else \"cpu\")\n",
    "    \n",
    "print(\"Using CUDA: {}\".format(args.cuda))\n",
    "\n",
    "\n",
    "# Set seed for reproducibility\n",
    "set_seed_everywhere(args.seed, args.cuda)\n",
    "\n",
    "# handle dirs\n",
    "handle_dirs(args.save_dir)"
   ]
  },
  {
   "cell_type": "markdown",
   "metadata": {},
   "source": [
    "### Initializations"
   ]
  },
  {
   "cell_type": "code",
   "execution_count": 11,
   "metadata": {},
   "outputs": [],
   "source": [
    "# create dataset and vectorizer\n",
    "def init(args) :\n",
    "    print(\"Creating fresh!\")\n",
    "    dataset = SurnameDataset.load_dataset_and_make_vectorizer(args.surname_csv, args.case_folding , args.vectorizer_type, args.ngram_option)\n",
    "        \n",
    "    vectorizer = dataset.get_vectorizer()\n",
    "    if args.vectorizer_type == Vectorizer_Type.TF_IDF :\n",
    "        num_features = len(vectorizer.tfidf_vectorizer.vocabulary_)\n",
    "        print(f'number of features => {num_features}')\n",
    "        classifier = SurnameClassifier(input_dim=num_features, \n",
    "                                hidden_dim=args.hidden_dim, \n",
    "                                output_dim=len(vectorizer.nationality_vocab),\n",
    "                                enable_second_hidden_layer = args.enable_second_hidden_layer,\n",
    "                                enable_batch_norm = args.enable_batch_norm,\n",
    "                                dropout_rate=args.dropout_rate\n",
    "                                )\n",
    "    else :\n",
    "        classifier = SurnameClassifier(input_dim=len(vectorizer.surname_vocab), \n",
    "                                hidden_dim=args.hidden_dim, \n",
    "                                output_dim=len(vectorizer.nationality_vocab),\n",
    "                                enable_second_hidden_layer = args.enable_second_hidden_layer,\n",
    "                                enable_batch_norm = args.enable_batch_norm,\n",
    "                                dropout_rate=args.dropout_rate\n",
    "                                )\n",
    "    return dataset, vectorizer, classifier\n"
   ]
  },
  {
   "cell_type": "code",
   "execution_count": 12,
   "metadata": {},
   "outputs": [],
   "source": [
    "def printClassifier(classifier) :\n",
    "        for idx, m in enumerate(classifier.named_modules()):\n",
    "                print(idx, '->', m)"
   ]
  },
  {
   "cell_type": "code",
   "execution_count": 13,
   "metadata": {},
   "outputs": [],
   "source": [
    "def printClassifierParameters(classifier) :\n",
    "    for param in classifier.parameters():\n",
    "        print(type(param), param.size())"
   ]
  },
  {
   "cell_type": "code",
   "execution_count": 14,
   "metadata": {},
   "outputs": [],
   "source": [
    "# vectorizer.surname_vocab._token_to_idx"
   ]
  },
  {
   "cell_type": "code",
   "execution_count": 15,
   "metadata": {},
   "outputs": [],
   "source": [
    "# vectorizer.nationality_vocab._token_to_idx"
   ]
  },
  {
   "cell_type": "markdown",
   "metadata": {},
   "source": [
    "### Training loop"
   ]
  },
  {
   "cell_type": "code",
   "execution_count": 16,
   "metadata": {},
   "outputs": [],
   "source": [
    "def train_model(args, dataset, classifier, disable_tqdm=False) : \n",
    "    classifier = classifier.to(args.device)\n",
    "    dataset.class_weights = dataset.class_weights.to(args.device)\n",
    "\n",
    "        \n",
    "    loss_func = nn.CrossEntropyLoss(dataset.class_weights)  # add class_weight for an unbalanced dataset\n",
    "    optimizer = optim.Adam(classifier.parameters(), lr=args.learning_rate, weight_decay=args.weight_decay)\n",
    "    #optimizer = optim.Adam(classifier.parameters(), lr=args.learning_rate, weight_decay=0.001) # weight_decay for L2 regularization\n",
    "    scheduler = optim.lr_scheduler.ReduceLROnPlateau(optimizer=optimizer, mode='min', factor=0.1, patience=10) # update learning rate\n",
    "\n",
    "    train_state = make_train_state(args)\n",
    "\n",
    "    epoch_bar = tqdm(desc='training routine', total=args.num_epochs, position=0, disable=disable_tqdm)\n",
    "\n",
    "    dataset.set_split('train')\n",
    "    train_bar = tqdm(desc='split=train', total=dataset.get_num_batches(args.batch_size), position=1, leave=True, disable=disable_tqdm)\n",
    "    dataset.set_split('val')\n",
    "    val_bar = tqdm(desc='split=val', total=dataset.get_num_batches(args.batch_size), position=1, leave=True, disable=disable_tqdm)\n",
    "\n",
    "    try:\n",
    "        for epoch_index in range(args.num_epochs):\n",
    "            train_state['epoch_index'] = epoch_index\n",
    "\n",
    "            # Iterate over training dataset\n",
    "\n",
    "            # setup: batch generator, set loss and acc to 0, set train mode on\n",
    "\n",
    "            dataset.set_split('train')\n",
    "            batch_generator = generate_batches(dataset, \n",
    "                                            batch_size=args.batch_size, \n",
    "                                            device=args.device)\n",
    "            running_loss = 0.0\n",
    "            running_acc = 0.0\n",
    "            classifier.train()\n",
    "\n",
    "            for batch_index, batch_dict in enumerate(batch_generator):\n",
    "                # the training routine is these 5 steps:\n",
    "\n",
    "                # --------------------------------------\n",
    "                # step 1. zero the gradients\n",
    "                optimizer.zero_grad()\n",
    "\n",
    "                # step 2. compute the output\n",
    "                y_pred = classifier(batch_dict['x_surname'])         # (batch, input_dim) -> (batch, output_dim)\n",
    "\n",
    "                # step 3. compute the loss\n",
    "                loss = loss_func(y_pred, batch_dict['y_nationality'])  # (batch, output_dim), (batch) -> scalar value\n",
    "                loss_t = loss.item()\n",
    "                running_loss += (loss_t - running_loss) / (batch_index + 1)\n",
    "\n",
    "                # step 4. use loss to produce gradients\n",
    "                loss.backward()\n",
    "\n",
    "                # step 5. use optimizer to take gradient step\n",
    "                optimizer.step()\n",
    "                # -----------------------------------------\n",
    "                # compute the accuracy\n",
    "                acc_t = compute_accuracy(y_pred, batch_dict['y_nationality'])\n",
    "                running_acc += (acc_t - running_acc) / (batch_index + 1)\n",
    "\n",
    "                # update bar\n",
    "                train_bar.set_postfix(loss=running_loss, acc=running_acc, \n",
    "                                epoch=epoch_index)\n",
    "                train_bar.update()\n",
    "\n",
    "            train_state['train_loss'].append(running_loss)\n",
    "            train_state['train_acc'].append(running_acc)\n",
    "\n",
    "            # Iterate over val dataset\n",
    "\n",
    "            # setup: batch generator, set loss and acc to 0; set eval mode on\n",
    "            dataset.set_split('val')\n",
    "            batch_generator = generate_batches(dataset, \n",
    "                                            batch_size=args.batch_size, \n",
    "                                            device=args.device)\n",
    "            running_loss = 0.\n",
    "            running_acc = 0.\n",
    "            classifier.eval()\n",
    "\n",
    "            for batch_index, batch_dict in enumerate(batch_generator):\n",
    "\n",
    "                # compute the output\n",
    "                y_pred =  classifier(batch_dict['x_surname'])\n",
    "\n",
    "                # step 3. compute the loss\n",
    "                loss = loss_func(y_pred, batch_dict['y_nationality'])\n",
    "                loss_t = loss.to(\"cpu\").item()\n",
    "                running_loss += (loss_t - running_loss) / (batch_index + 1)\n",
    "\n",
    "                # compute the accuracy\n",
    "                acc_t = compute_accuracy(y_pred, batch_dict['y_nationality'])\n",
    "                running_acc += (acc_t - running_acc) / (batch_index + 1)\n",
    "                val_bar.set_postfix(loss=running_loss, acc=running_acc, \n",
    "                                epoch=epoch_index)\n",
    "                val_bar.update()\n",
    "\n",
    "            train_state['val_loss'].append(running_loss)\n",
    "            train_state['val_acc'].append(running_acc)\n",
    "\n",
    "            train_state = update_train_state(args=args, model=classifier,\n",
    "                                            train_state=train_state)\n",
    "\n",
    "            scheduler.step(train_state['val_loss'][-1])\n",
    "\n",
    "            if train_state['stop_early']:\n",
    "                break\n",
    "\n",
    "            train_bar.n = 0\n",
    "            val_bar.n = 0\n",
    "            epoch_bar.update()\n",
    "    except KeyboardInterrupt:\n",
    "        print(\"Exiting loop\")\n",
    "    return train_state, loss_func"
   ]
  },
  {
   "cell_type": "code",
   "execution_count": 17,
   "metadata": {},
   "outputs": [],
   "source": [
    "\n",
    "import matplotlib.pyplot as plt\n",
    "\n",
    "def draw_loss_and_acc(train_state, title) :\n",
    "    epochs = range(1, len(train_state['train_acc']) + 1)\n",
    "    fig, ax1 = plt.subplots(1, 2, figsize=(15, 7))\n",
    "\n",
    "    fig.suptitle(title, fontsize=16, fontweight=\"bold\")\n",
    "\n",
    "    ax1[0].plot(epochs, train_state['train_loss'], 'bo-', label='Training Loss')\n",
    "    ax1[0].plot(epochs, train_state['val_loss'], 'r-', label='Validation Loss') \n",
    "    ax1[0].set_title('Training and Validation Loss')\n",
    "    ax1[0].set_xlabel('Epochs')\n",
    "    ax1[0].set_ylabel('Loss')\n",
    "    ax1[0].legend()\n",
    "\n",
    "    ax1[1].plot(epochs, train_state['train_acc'], 'go-', label='Training Accuracy')\n",
    "    ax1[1].plot(epochs, train_state['val_acc'], 'm-', label='Validation Accuracy') \n",
    "    ax1[1].set_title('Training and Validation Accuracy')\n",
    "    ax1[1].set_xlabel('Epochs')\n",
    "    ax1[1].set_ylabel('Accuracy')\n",
    "    ax1[1].legend()\n",
    "\n",
    "    plt.tight_layout(rect=[0, 0, 1, 0.95])\n",
    "    plt.tight_layout() \n",
    "    plt.show()"
   ]
  },
  {
   "cell_type": "code",
   "execution_count": 18,
   "metadata": {},
   "outputs": [],
   "source": [
    "from sklearn.metrics import classification_report, confusion_matrix, accuracy_score\n",
    "import pandas as pd\n",
    "\n",
    "# compute the loss & accuracy on the test set using the best available model\n",
    "def check_test_data(args, dataset, classifier, train_state, loss_func, enable_print_info=True) :\n",
    "    classifier.load_state_dict(torch.load(train_state['model_filename'], weights_only=False)) # load the best model\n",
    "\n",
    "    classifier = classifier.to(args.device)\n",
    "    dataset.class_weights = dataset.class_weights.to(args.device)\n",
    "    loss_func = nn.CrossEntropyLoss(dataset.class_weights)\n",
    "\n",
    "    dataset.set_split('test')\n",
    "    batch_generator = generate_batches(dataset, \n",
    "                                    batch_size=args.batch_size, \n",
    "                                    device=args.device)\n",
    "    running_loss = 0.\n",
    "    running_acc = 0.\n",
    "    classifier.eval()\n",
    "\n",
    "    y_pred_list = []         # store predicted values for confusion matrix\n",
    "    y_nationality_list = []  # ground truth value\n",
    "\n",
    "    for batch_index, batch_dict in enumerate(batch_generator):\n",
    "        # compute the output\n",
    "        y_pred =  classifier(batch_dict['x_surname'])\n",
    "        \n",
    "        # store predicted values and ground truth values for calculating confusion matrix\n",
    "        # y_pred_list.extend(y_pred.max(dim=1)[1].numpy())\n",
    "        y_pred_list.extend(y_pred.max(dim=1)[1].cpu().numpy())\n",
    "        # y_nationality_list.extend(batch_dict['y_nationality'].numpy())\n",
    "        y_nationality_list.extend(batch_dict['y_nationality'].cpu().numpy())\n",
    "        \n",
    "        # compute the loss\n",
    "        loss = loss_func(y_pred, batch_dict['y_nationality'])\n",
    "        loss_t = loss.item()\n",
    "        running_loss += (loss_t - running_loss) / (batch_index + 1)\n",
    "\n",
    "        # compute the accuracy\n",
    "        acc_t = compute_accuracy(y_pred, batch_dict['y_nationality'])\n",
    "        running_acc += (acc_t - running_acc) / (batch_index + 1)\n",
    "\n",
    "    train_state['test_loss'] = running_loss\n",
    "    train_state['test_acc'] = running_acc\n",
    "\n",
    "    if enable_print_info: \n",
    "        print(\"==================================dividing line==================================\")\n",
    "        print(\"Test loss: {};\".format(train_state['test_loss']))\n",
    "        print(\"Test Accuracy: {}\".format(train_state['test_acc']))\n",
    "        print(\"==================================dividing line==================================\")\n",
    "        print(confusion_matrix(y_nationality_list, y_pred_list).T)  \n",
    "    \n",
    "    if enable_print_info: \n",
    "        nationality_classes = []\n",
    "        for i in range(len(dataset._vectorizer.nationality_vocab)):\n",
    "            nationality_classes.append(dataset._vectorizer.nationality_vocab.lookup_index(i))\n",
    "        print(nationality_classes)\n",
    "    \n",
    "    if enable_print_info :\n",
    "        cm = confusion_matrix(y_nationality_list, y_pred_list)\n",
    "        cm_df = pd.DataFrame(cm.T, index=nationality_classes, columns=nationality_classes)\n",
    "        cm_df.index.name = 'Predicted'\n",
    "        cm_df.columns.name = 'True'\n",
    "        print(cm_df)\n",
    "\n",
    "    if enable_print_info :\n",
    "        print(classification_report(y_nationality_list, y_pred_list))\n",
    "    \n",
    "    return train_state['test_acc']"
   ]
  },
  {
   "cell_type": "code",
   "execution_count": 19,
   "metadata": {},
   "outputs": [
    {
     "name": "stdout",
     "output_type": "stream",
     "text": [
      "Creating fresh!\n"
     ]
    },
    {
     "data": {
      "application/vnd.jupyter.widget-view+json": {
       "model_id": "efd0c1630d844438ab4e42556e46d167",
       "version_major": 2,
       "version_minor": 0
      },
      "text/plain": [
       "training routine:   0%|          | 0/100 [00:00<?, ?it/s]"
      ]
     },
     "metadata": {},
     "output_type": "display_data"
    },
    {
     "data": {
      "application/vnd.jupyter.widget-view+json": {
       "model_id": "17729779c6c84b798b76fa8469b4c531",
       "version_major": 2,
       "version_minor": 0
      },
      "text/plain": [
       "split=train:   0%|          | 0/120 [00:00<?, ?it/s]"
      ]
     },
     "metadata": {},
     "output_type": "display_data"
    },
    {
     "data": {
      "application/vnd.jupyter.widget-view+json": {
       "model_id": "6f709d34e7bc459888b9b466b9494395",
       "version_major": 2,
       "version_minor": 0
      },
      "text/plain": [
       "split=val:   0%|          | 0/25 [00:00<?, ?it/s]"
      ]
     },
     "metadata": {},
     "output_type": "display_data"
    },
    {
     "data": {
      "image/png": "[encoded data removed]",
      "text/plain": [
       "<Figure size 1500x700 with 2 Axes>"
      ]
     },
     "metadata": {},
     "output_type": "display_data"
    },
    {
     "name": "stdout",
     "output_type": "stream",
     "text": [
      "==================================dividing line==================================\n",
      "Test loss: 1.6678011703491211;\n",
      "Test Accuracy: 48.5625\n",
      "==================================dividing line==================================\n",
      "[[204   0   4   0  20   0   7   0   3   0  19   0   0   0   4   0   1   0]\n",
      " [  0  16   0   0   6   2   0   0   2   2   1   2   0   0   4   0   1   2]\n",
      " [  0   0  14   0  15   1   2   0   0   0   1   0   2   0   9   0   0   0]\n",
      " [  2   0   6  24  45   0  12   0   1   2   2   1   0   0   9   1   0   0]\n",
      " [  0   0   5   2  92   2   1   0   1   0   3   0   0   1   4   1   1   0]\n",
      " [  0   0   1   0  39  13   3   1   1   4   1   0   0   1   7   0   1   0]\n",
      " [  0   1   8   0  25   1  28   0   2   2   1   0   0   0   5   2   0   0]\n",
      " [  5   0   2   1  11   0   1   9   0   3   2   0   0   0  14   2   2   0]\n",
      " [  4   1   4   2  30   2   0   0   9   6   2   1   0   0   8   0   1   2]\n",
      " [  5   1   3   1  27   1   6   0   2  41   2   0   1   0  14   0   7   0]\n",
      " [  7   0   0   1  10   0   0   1   1   2  67   0   0   1  16   1   1   0]\n",
      " [  0   8   0   0  10   0   0   0   0   0   2   5   0   0   2   1   1   0]\n",
      " [  0   0   4   0   9   0   3   1   0   0   0   0  10   0   8   0   0   0]\n",
      " [  0   0   1   0  17   7   3   7   0  13   0   0   0   3   2   0   4   0]\n",
      " [  2   0   4   2   9   1   0   2   0   2   4   0   1   0 219   0   1   0]\n",
      " [  1   0   2   1  39   3   6   0   3   5   1   0   3   0   5   3   2   0]\n",
      " [  0   0   3   2  15   0   8   3   1   4   1   0   0   2   9   0  15   0]\n",
      " [  5   6   1   0   8   1   4   0   0   2   2   4   0   1   3   1   0   5]]\n",
      "['Arabic', 'Chinese', 'Czech', 'Dutch', 'English', 'French', 'German', 'Greek', 'Irish', 'Italian', 'Japanese', 'Korean', 'Polish', 'Portuguese', 'Russian', 'Scottish', 'Spanish', 'Vietnamese']\n",
      "True        Arabic  Chinese  Czech  Dutch  English  French  German  Greek  \\\n",
      "Predicted                                                                   \n",
      "Arabic         204        0      4      0       20       0       7      0   \n",
      "Chinese          0       16      0      0        6       2       0      0   \n",
      "Czech            0        0     14      0       15       1       2      0   \n",
      "Dutch            2        0      6     24       45       0      12      0   \n",
      "English          0        0      5      2       92       2       1      0   \n",
      "French           0        0      1      0       39      13       3      1   \n",
      "German           0        1      8      0       25       1      28      0   \n",
      "Greek            5        0      2      1       11       0       1      9   \n",
      "Irish            4        1      4      2       30       2       0      0   \n",
      "Italian          5        1      3      1       27       1       6      0   \n",
      "Japanese         7        0      0      1       10       0       0      1   \n",
      "Korean           0        8      0      0       10       0       0      0   \n",
      "Polish           0        0      4      0        9       0       3      1   \n",
      "Portuguese       0        0      1      0       17       7       3      7   \n",
      "Russian          2        0      4      2        9       1       0      2   \n",
      "Scottish         1        0      2      1       39       3       6      0   \n",
      "Spanish          0        0      3      2       15       0       8      3   \n",
      "Vietnamese       5        6      1      0        8       1       4      0   \n",
      "\n",
      "True        Irish  Italian  Japanese  Korean  Polish  Portuguese  Russian  \\\n",
      "Predicted                                                                   \n",
      "Arabic          3        0        19       0       0           0        4   \n",
      "Chinese         2        2         1       2       0           0        4   \n",
      "Czech           0        0         1       0       2           0        9   \n",
      "Dutch           1        2         2       1       0           0        9   \n",
      "English         1        0         3       0       0           1        4   \n",
      "French          1        4         1       0       0           1        7   \n",
      "German          2        2         1       0       0           0        5   \n",
      "Greek           0        3         2       0       0           0       14   \n",
      "Irish           9        6         2       1       0           0        8   \n",
      "Italian         2       41         2       0       1           0       14   \n",
      "Japanese        1        2        67       0       0           1       16   \n",
      "Korean          0        0         2       5       0           0        2   \n",
      "Polish          0        0         0       0      10           0        8   \n",
      "Portuguese      0       13         0       0       0           3        2   \n",
      "Russian         0        2         4       0       1           0      219   \n",
      "Scottish        3        5         1       0       3           0        5   \n",
      "Spanish         1        4         1       0       0           2        9   \n",
      "Vietnamese      0        2         2       4       0           1        3   \n",
      "\n",
      "True        Scottish  Spanish  Vietnamese  \n",
      "Predicted                                  \n",
      "Arabic             0        1           0  \n",
      "Chinese            0        1           2  \n",
      "Czech              0        0           0  \n",
      "Dutch              1        0           0  \n",
      "English            1        1           0  \n",
      "French             0        1           0  \n",
      "German             2        0           0  \n",
      "Greek              2        2           0  \n",
      "Irish              0        1           2  \n",
      "Italian            0        7           0  \n",
      "Japanese           1        1           0  \n",
      "Korean             1        1           0  \n",
      "Polish             0        0           0  \n",
      "Portuguese         0        4           0  \n",
      "Russian            0        1           0  \n",
      "Scottish           3        2           0  \n",
      "Spanish            0       15           0  \n",
      "Vietnamese         1        0           5  \n",
      "              precision    recall  f1-score   support\n",
      "\n",
      "           0       0.78      0.87      0.82       235\n",
      "           1       0.42      0.48      0.45        33\n",
      "           2       0.32      0.23      0.26        62\n",
      "           3       0.23      0.67      0.34        36\n",
      "           4       0.81      0.22      0.34       427\n",
      "           5       0.18      0.38      0.25        34\n",
      "           6       0.37      0.33      0.35        84\n",
      "           7       0.17      0.38      0.24        24\n",
      "           8       0.12      0.35      0.18        26\n",
      "           9       0.37      0.47      0.41        88\n",
      "          10       0.62      0.60      0.61       111\n",
      "          11       0.17      0.38      0.24        13\n",
      "          12       0.29      0.59      0.38        17\n",
      "          13       0.05      0.33      0.09         9\n",
      "          14       0.89      0.64      0.74       342\n",
      "          15       0.04      0.25      0.07        12\n",
      "          16       0.24      0.39      0.30        38\n",
      "          17       0.12      0.56      0.19         9\n",
      "\n",
      "    accuracy                           0.49      1600\n",
      "   macro avg       0.34      0.45      0.35      1600\n",
      "weighted avg       0.65      0.49      0.51      1600\n",
      "\n"
     ]
    },
    {
     "data": {
      "text/plain": [
       "48.5625"
      ]
     },
     "execution_count": 19,
     "metadata": {},
     "output_type": "execute_result"
    }
   ],
   "source": [
    "dataset, vectorizer, classifier = init(args)\n",
    "train_state, loss_func = train_model(args, dataset=dataset, classifier=classifier)\n",
    "draw_loss_and_acc(train_state, \"ORIGINAL\")\n",
    "check_test_data(args, dataset, classifier, train_state, loss_func, enable_print_info=True)"
   ]
  },
  {
   "cell_type": "markdown",
   "metadata": {},
   "source": [
    "# paramters selection"
   ]
  },
  {
   "cell_type": "code",
   "execution_count": 20,
   "metadata": {},
   "outputs": [
    {
     "name": "stderr",
     "output_type": "stream",
     "text": [
      "[I 2025-02-28 12:28:23,943] A new study created in memory with name: no-name-9ecf9dfc-1c34-4774-80d1-ce35730d4664\n"
     ]
    },
    {
     "name": "stdout",
     "output_type": "stream",
     "text": [
      "Creating fresh!\n"
     ]
    },
    {
     "name": "stderr",
     "output_type": "stream",
     "text": [
      "[I 2025-02-28 12:28:40,339] Trial 0 finished with value: 48.625 and parameters: {'vectorizer_type': 'one-hot', 'hidden_dim': 500, 'batch_size': 64, 'learning_rate': 0.001, 'dropout_rate': 0.4, 'case_folding': False, 'enable_second_hidden_layer': True, 'enable_batch_norm': False, 'weight_decay': 0.001}. Best is trial 0 with value: 48.625.\n"
     ]
    },
    {
     "name": "stdout",
     "output_type": "stream",
     "text": [
      "Creating fresh!\n"
     ]
    },
    {
     "name": "stderr",
     "output_type": "stream",
     "text": [
      "[I 2025-02-28 12:29:06,720] Trial 1 finished with value: 41.145833333333336 and parameters: {'vectorizer_type': 'term-freq', 'hidden_dim': 500, 'batch_size': 256, 'learning_rate': 0.0001, 'dropout_rate': 0.4, 'case_folding': False, 'enable_second_hidden_layer': True, 'enable_batch_norm': False, 'weight_decay': 0.0001}. Best is trial 0 with value: 48.625.\n"
     ]
    },
    {
     "name": "stdout",
     "output_type": "stream",
     "text": [
      "Creating fresh!\n",
      "number of features => 5386\n"
     ]
    },
    {
     "name": "stderr",
     "output_type": "stream",
     "text": [
      "[I 2025-02-28 12:29:27,790] Trial 2 finished with value: 67.0 and parameters: {'vectorizer_type': 'tf-idf', 'ngram_option': '1,3', 'hidden_dim': 500, 'batch_size': 64, 'learning_rate': 0.01, 'dropout_rate': 0.5, 'case_folding': True, 'enable_second_hidden_layer': False, 'enable_batch_norm': False, 'weight_decay': 0}. Best is trial 2 with value: 67.0.\n"
     ]
    },
    {
     "name": "stdout",
     "output_type": "stream",
     "text": [
      "Creating fresh!\n"
     ]
    },
    {
     "name": "stderr",
     "output_type": "stream",
     "text": [
      "[I 2025-02-28 12:30:05,730] Trial 3 finished with value: 39.1875 and parameters: {'vectorizer_type': 'term-freq', 'hidden_dim': 100, 'batch_size': 64, 'learning_rate': 0.0001, 'dropout_rate': 0.2, 'case_folding': True, 'enable_second_hidden_layer': True, 'enable_batch_norm': True, 'weight_decay': 0.01}. Best is trial 2 with value: 67.0.\n"
     ]
    },
    {
     "name": "stdout",
     "output_type": "stream",
     "text": [
      "Creating fresh!\n"
     ]
    },
    {
     "name": "stderr",
     "output_type": "stream",
     "text": [
      "[I 2025-02-28 12:30:28,115] Trial 4 finished with value: 45.49999999999999 and parameters: {'vectorizer_type': 'term-freq', 'hidden_dim': 400, 'batch_size': 64, 'learning_rate': 0.0001, 'dropout_rate': 0.1, 'case_folding': True, 'enable_second_hidden_layer': True, 'enable_batch_norm': True, 'weight_decay': 0.01}. Best is trial 2 with value: 67.0.\n"
     ]
    },
    {
     "name": "stdout",
     "output_type": "stream",
     "text": [
      "Creating fresh!\n"
     ]
    },
    {
     "name": "stderr",
     "output_type": "stream",
     "text": [
      "[I 2025-02-28 12:30:57,887] Trial 5 finished with value: 41.937500000000014 and parameters: {'vectorizer_type': 'term-freq', 'hidden_dim': 300, 'batch_size': 64, 'learning_rate': 0.0001, 'dropout_rate': 0.4, 'case_folding': True, 'enable_second_hidden_layer': False, 'enable_batch_norm': True, 'weight_decay': 0.0001}. Best is trial 2 with value: 67.0.\n"
     ]
    },
    {
     "name": "stdout",
     "output_type": "stream",
     "text": [
      "Creating fresh!\n"
     ]
    },
    {
     "name": "stderr",
     "output_type": "stream",
     "text": [
      "[I 2025-02-28 12:31:20,266] Trial 6 finished with value: 43.294270833333336 and parameters: {'vectorizer_type': 'term-freq', 'hidden_dim': 300, 'batch_size': 256, 'learning_rate': 0.0005, 'dropout_rate': 0.3, 'case_folding': False, 'enable_second_hidden_layer': False, 'enable_batch_norm': False, 'weight_decay': 0.001}. Best is trial 2 with value: 67.0.\n"
     ]
    },
    {
     "name": "stdout",
     "output_type": "stream",
     "text": [
      "Creating fresh!\n",
      "number of features => 5337\n"
     ]
    },
    {
     "name": "stderr",
     "output_type": "stream",
     "text": [
      "[I 2025-02-28 12:31:47,935] Trial 7 finished with value: 56.5625 and parameters: {'vectorizer_type': 'tf-idf', 'ngram_option': '2,3', 'hidden_dim': 300, 'batch_size': 64, 'learning_rate': 0.01, 'dropout_rate': 0.5, 'case_folding': False, 'enable_second_hidden_layer': False, 'enable_batch_norm': False, 'weight_decay': 0.001}. Best is trial 2 with value: 67.0.\n"
     ]
    },
    {
     "name": "stdout",
     "output_type": "stream",
     "text": [
      "Creating fresh!\n"
     ]
    },
    {
     "name": "stderr",
     "output_type": "stream",
     "text": [
      "[I 2025-02-28 12:32:09,581] Trial 8 finished with value: 42.5625 and parameters: {'vectorizer_type': 'one-hot', 'hidden_dim': 500, 'batch_size': 64, 'learning_rate': 0.0001, 'dropout_rate': 0.1, 'case_folding': False, 'enable_second_hidden_layer': False, 'enable_batch_norm': False, 'weight_decay': 0}. Best is trial 2 with value: 67.0.\n"
     ]
    },
    {
     "name": "stdout",
     "output_type": "stream",
     "text": [
      "Creating fresh!\n",
      "number of features => 5386\n"
     ]
    },
    {
     "name": "stderr",
     "output_type": "stream",
     "text": [
      "[I 2025-02-28 12:32:28,489] Trial 9 finished with value: 65.8203125 and parameters: {'vectorizer_type': 'tf-idf', 'ngram_option': '1,3', 'hidden_dim': 500, 'batch_size': 256, 'learning_rate': 0.01, 'dropout_rate': 0.5, 'case_folding': True, 'enable_second_hidden_layer': True, 'enable_batch_norm': True, 'weight_decay': 0}. Best is trial 2 with value: 67.0.\n"
     ]
    },
    {
     "name": "stdout",
     "output_type": "stream",
     "text": [
      "Creating fresh!\n"
     ]
    },
    {
     "name": "stderr",
     "output_type": "stream",
     "text": [
      "[I 2025-02-28 12:32:37,631] Trial 10 finished with value: 39.12499999999999 and parameters: {'vectorizer_type': 'one-hot', 'hidden_dim': 500, 'batch_size': 64, 'learning_rate': 0.001, 'dropout_rate': 0.4, 'case_folding': True, 'enable_second_hidden_layer': False, 'enable_batch_norm': False, 'weight_decay': 0}. Best is trial 2 with value: 67.0.\n"
     ]
    },
    {
     "name": "stdout",
     "output_type": "stream",
     "text": [
      "Creating fresh!\n"
     ]
    },
    {
     "name": "stderr",
     "output_type": "stream",
     "text": [
      "[I 2025-02-28 12:32:44,219] Trial 11 finished with value: 32.942708333333336 and parameters: {'vectorizer_type': 'term-freq', 'hidden_dim': 400, 'batch_size': 256, 'learning_rate': 0.01, 'dropout_rate': 0.2, 'case_folding': True, 'enable_second_hidden_layer': True, 'enable_batch_norm': False, 'weight_decay': 0.01}. Best is trial 2 with value: 67.0.\n"
     ]
    },
    {
     "name": "stdout",
     "output_type": "stream",
     "text": [
      "Creating fresh!\n",
      "number of features => 17152\n"
     ]
    },
    {
     "name": "stderr",
     "output_type": "stream",
     "text": [
      "[I 2025-02-28 12:33:07,167] Trial 12 finished with value: 61.1328125 and parameters: {'vectorizer_type': 'tf-idf', 'ngram_option': '3,4', 'hidden_dim': 500, 'batch_size': 128, 'learning_rate': 0.01, 'dropout_rate': 0.5, 'case_folding': True, 'enable_second_hidden_layer': True, 'enable_batch_norm': True, 'weight_decay': 0}. Best is trial 2 with value: 67.0.\n"
     ]
    },
    {
     "name": "stdout",
     "output_type": "stream",
     "text": [
      "Creating fresh!\n",
      "number of features => 721\n"
     ]
    },
    {
     "name": "stderr",
     "output_type": "stream",
     "text": [
      "[I 2025-02-28 12:33:27,659] Trial 13 finished with value: 5.013020833333333 and parameters: {'vectorizer_type': 'tf-idf', 'ngram_option': '1,2', 'hidden_dim': 300, 'batch_size': 256, 'learning_rate': 0.01, 'dropout_rate': 0.2, 'case_folding': False, 'enable_second_hidden_layer': True, 'enable_batch_norm': False, 'weight_decay': 0.01}. Best is trial 2 with value: 67.0.\n"
     ]
    },
    {
     "name": "stdout",
     "output_type": "stream",
     "text": [
      "Creating fresh!\n"
     ]
    },
    {
     "name": "stderr",
     "output_type": "stream",
     "text": [
      "[I 2025-02-28 12:33:42,559] Trial 14 finished with value: 50.91145833333333 and parameters: {'vectorizer_type': 'term-freq', 'hidden_dim': 500, 'batch_size': 128, 'learning_rate': 0.0005, 'dropout_rate': 0.1, 'case_folding': False, 'enable_second_hidden_layer': True, 'enable_batch_norm': False, 'weight_decay': 0.0001}. Best is trial 2 with value: 67.0.\n"
     ]
    },
    {
     "name": "stdout",
     "output_type": "stream",
     "text": [
      "Creating fresh!\n"
     ]
    },
    {
     "name": "stderr",
     "output_type": "stream",
     "text": [
      "[I 2025-02-28 12:33:49,283] Trial 15 finished with value: 51.187499999999986 and parameters: {'vectorizer_type': 'one-hot', 'hidden_dim': 500, 'batch_size': 64, 'learning_rate': 0.001, 'dropout_rate': 0.2, 'case_folding': False, 'enable_second_hidden_layer': True, 'enable_batch_norm': True, 'weight_decay': 0.001}. Best is trial 2 with value: 67.0.\n"
     ]
    },
    {
     "name": "stdout",
     "output_type": "stream",
     "text": [
      "Creating fresh!\n"
     ]
    },
    {
     "name": "stderr",
     "output_type": "stream",
     "text": [
      "[I 2025-02-28 12:34:46,612] Trial 16 finished with value: 35.872395833333336 and parameters: {'vectorizer_type': 'term-freq', 'hidden_dim': 100, 'batch_size': 128, 'learning_rate': 0.0001, 'dropout_rate': 0.4, 'case_folding': False, 'enable_second_hidden_layer': False, 'enable_batch_norm': False, 'weight_decay': 0.01}. Best is trial 2 with value: 67.0.\n"
     ]
    },
    {
     "name": "stdout",
     "output_type": "stream",
     "text": [
      "Creating fresh!\n",
      "number of features => 49\n"
     ]
    },
    {
     "name": "stderr",
     "output_type": "stream",
     "text": [
      "[I 2025-02-28 12:37:19,974] Trial 17 finished with value: 43.125 and parameters: {'vectorizer_type': 'tf-idf', 'ngram_option': '1,1', 'hidden_dim': 300, 'batch_size': 64, 'learning_rate': 0.0001, 'dropout_rate': 0.4, 'case_folding': False, 'enable_second_hidden_layer': True, 'enable_batch_norm': True, 'weight_decay': 0.0001}. Best is trial 2 with value: 67.0.\n"
     ]
    },
    {
     "name": "stdout",
     "output_type": "stream",
     "text": [
      "Creating fresh!\n",
      "number of features => 49\n"
     ]
    },
    {
     "name": "stderr",
     "output_type": "stream",
     "text": [
      "[I 2025-02-28 12:38:28,370] Trial 18 finished with value: 24.874999999999996 and parameters: {'vectorizer_type': 'tf-idf', 'ngram_option': '1,1', 'hidden_dim': 100, 'batch_size': 64, 'learning_rate': 0.001, 'dropout_rate': 0.4, 'case_folding': True, 'enable_second_hidden_layer': False, 'enable_batch_norm': False, 'weight_decay': 0.01}. Best is trial 2 with value: 67.0.\n"
     ]
    },
    {
     "name": "stdout",
     "output_type": "stream",
     "text": [
      "Creating fresh!\n",
      "number of features => 721\n"
     ]
    },
    {
     "name": "stderr",
     "output_type": "stream",
     "text": [
      "[I 2025-02-28 12:40:42,756] Trial 19 finished with value: 58.3984375 and parameters: {'vectorizer_type': 'tf-idf', 'ngram_option': '1,2', 'hidden_dim': 100, 'batch_size': 256, 'learning_rate': 0.0005, 'dropout_rate': 0.4, 'case_folding': True, 'enable_second_hidden_layer': False, 'enable_batch_norm': False, 'weight_decay': 0}. Best is trial 2 with value: 67.0.\n"
     ]
    },
    {
     "name": "stdout",
     "output_type": "stream",
     "text": [
      "Creating fresh!\n"
     ]
    },
    {
     "name": "stderr",
     "output_type": "stream",
     "text": [
      "[I 2025-02-28 12:40:53,662] Trial 20 finished with value: 49.73958333333333 and parameters: {'vectorizer_type': 'term-freq', 'hidden_dim': 100, 'batch_size': 128, 'learning_rate': 0.001, 'dropout_rate': 0.2, 'case_folding': False, 'enable_second_hidden_layer': True, 'enable_batch_norm': True, 'weight_decay': 0}. Best is trial 2 with value: 67.0.\n"
     ]
    },
    {
     "name": "stdout",
     "output_type": "stream",
     "text": [
      "Creating fresh!\n"
     ]
    },
    {
     "name": "stderr",
     "output_type": "stream",
     "text": [
      "[I 2025-02-28 12:41:23,639] Trial 21 finished with value: 36.125 and parameters: {'vectorizer_type': 'term-freq', 'hidden_dim': 500, 'batch_size': 64, 'learning_rate': 0.0001, 'dropout_rate': 0.3, 'case_folding': False, 'enable_second_hidden_layer': True, 'enable_batch_norm': False, 'weight_decay': 0.01}. Best is trial 2 with value: 67.0.\n"
     ]
    },
    {
     "name": "stdout",
     "output_type": "stream",
     "text": [
      "Creating fresh!\n"
     ]
    },
    {
     "name": "stderr",
     "output_type": "stream",
     "text": [
      "[I 2025-02-28 12:41:31,785] Trial 22 finished with value: 50.0 and parameters: {'vectorizer_type': 'term-freq', 'hidden_dim': 400, 'batch_size': 128, 'learning_rate': 0.01, 'dropout_rate': 0.3, 'case_folding': False, 'enable_second_hidden_layer': True, 'enable_batch_norm': False, 'weight_decay': 0}. Best is trial 2 with value: 67.0.\n"
     ]
    },
    {
     "name": "stdout",
     "output_type": "stream",
     "text": [
      "Creating fresh!\n"
     ]
    },
    {
     "name": "stderr",
     "output_type": "stream",
     "text": [
      "[I 2025-02-28 12:41:37,873] Trial 23 finished with value: 48.12500000000001 and parameters: {'vectorizer_type': 'term-freq', 'hidden_dim': 400, 'batch_size': 64, 'learning_rate': 0.01, 'dropout_rate': 0.2, 'case_folding': False, 'enable_second_hidden_layer': False, 'enable_batch_norm': False, 'weight_decay': 0}. Best is trial 2 with value: 67.0.\n"
     ]
    },
    {
     "name": "stdout",
     "output_type": "stream",
     "text": [
      "Creating fresh!\n",
      "number of features => 5337\n"
     ]
    },
    {
     "name": "stderr",
     "output_type": "stream",
     "text": [
      "[I 2025-02-28 12:41:56,564] Trial 24 finished with value: 64.0625 and parameters: {'vectorizer_type': 'tf-idf', 'ngram_option': '2,3', 'hidden_dim': 200, 'batch_size': 256, 'learning_rate': 0.01, 'dropout_rate': 0.2, 'case_folding': False, 'enable_second_hidden_layer': True, 'enable_batch_norm': False, 'weight_decay': 0}. Best is trial 2 with value: 67.0.\n"
     ]
    },
    {
     "name": "stdout",
     "output_type": "stream",
     "text": [
      "Creating fresh!\n"
     ]
    },
    {
     "name": "stderr",
     "output_type": "stream",
     "text": [
      "[I 2025-02-28 12:42:21,316] Trial 25 finished with value: 37.825520833333336 and parameters: {'vectorizer_type': 'one-hot', 'hidden_dim': 300, 'batch_size': 256, 'learning_rate': 0.0001, 'dropout_rate': 0.5, 'case_folding': True, 'enable_second_hidden_layer': False, 'enable_batch_norm': True, 'weight_decay': 0}. Best is trial 2 with value: 67.0.\n"
     ]
    },
    {
     "name": "stdout",
     "output_type": "stream",
     "text": [
      "Creating fresh!\n",
      "number of features => 5337\n"
     ]
    },
    {
     "name": "stderr",
     "output_type": "stream",
     "text": [
      "[I 2025-02-28 12:42:40,515] Trial 26 finished with value: 1.953125 and parameters: {'vectorizer_type': 'tf-idf', 'ngram_option': '2,3', 'hidden_dim': 400, 'batch_size': 128, 'learning_rate': 0.001, 'dropout_rate': 0.4, 'case_folding': False, 'enable_second_hidden_layer': True, 'enable_batch_norm': False, 'weight_decay': 0.01}. Best is trial 2 with value: 67.0.\n"
     ]
    },
    {
     "name": "stdout",
     "output_type": "stream",
     "text": [
      "Creating fresh!\n",
      "number of features => 49\n"
     ]
    },
    {
     "name": "stderr",
     "output_type": "stream",
     "text": [
      "[I 2025-02-28 12:43:32,931] Trial 27 finished with value: 38.99739583333333 and parameters: {'vectorizer_type': 'tf-idf', 'ngram_option': '1,1', 'hidden_dim': 500, 'batch_size': 128, 'learning_rate': 0.0005, 'dropout_rate': 0.2, 'case_folding': True, 'enable_second_hidden_layer': False, 'enable_batch_norm': False, 'weight_decay': 0}. Best is trial 2 with value: 67.0.\n"
     ]
    },
    {
     "name": "stdout",
     "output_type": "stream",
     "text": [
      "Creating fresh!\n"
     ]
    },
    {
     "name": "stderr",
     "output_type": "stream",
     "text": [
      "[I 2025-02-28 12:44:08,309] Trial 28 finished with value: 40.4296875 and parameters: {'vectorizer_type': 'term-freq', 'hidden_dim': 300, 'batch_size': 256, 'learning_rate': 0.0001, 'dropout_rate': 0.5, 'case_folding': True, 'enable_second_hidden_layer': False, 'enable_batch_norm': True, 'weight_decay': 0.0001}. Best is trial 2 with value: 67.0.\n"
     ]
    },
    {
     "name": "stdout",
     "output_type": "stream",
     "text": [
      "Creating fresh!\n",
      "number of features => 17824\n"
     ]
    },
    {
     "name": "stderr",
     "output_type": "stream",
     "text": [
      "[I 2025-02-28 12:44:31,431] Trial 29 finished with value: 65.69010416666666 and parameters: {'vectorizer_type': 'tf-idf', 'ngram_option': '2,4', 'hidden_dim': 300, 'batch_size': 128, 'learning_rate': 0.001, 'dropout_rate': 0.5, 'case_folding': True, 'enable_second_hidden_layer': False, 'enable_batch_norm': True, 'weight_decay': 0.01}. Best is trial 2 with value: 67.0.\n"
     ]
    },
    {
     "name": "stdout",
     "output_type": "stream",
     "text": [
      "Creating fresh!\n",
      "number of features => 721\n"
     ]
    },
    {
     "name": "stderr",
     "output_type": "stream",
     "text": [
      "[I 2025-02-28 12:45:09,035] Trial 30 finished with value: 67.3828125 and parameters: {'vectorizer_type': 'tf-idf', 'ngram_option': '1,2', 'hidden_dim': 200, 'batch_size': 256, 'learning_rate': 0.001, 'dropout_rate': 0.2, 'case_folding': False, 'enable_second_hidden_layer': True, 'enable_batch_norm': True, 'weight_decay': 0.01}. Best is trial 30 with value: 67.3828125.\n"
     ]
    },
    {
     "name": "stdout",
     "output_type": "stream",
     "text": [
      "Creating fresh!\n"
     ]
    },
    {
     "name": "stderr",
     "output_type": "stream",
     "text": [
      "[I 2025-02-28 12:45:19,793] Trial 31 finished with value: 41.49999999999999 and parameters: {'vectorizer_type': 'one-hot', 'hidden_dim': 100, 'batch_size': 64, 'learning_rate': 0.001, 'dropout_rate': 0.5, 'case_folding': False, 'enable_second_hidden_layer': False, 'enable_batch_norm': True, 'weight_decay': 0.01}. Best is trial 30 with value: 67.3828125.\n"
     ]
    },
    {
     "name": "stdout",
     "output_type": "stream",
     "text": [
      "Creating fresh!\n"
     ]
    },
    {
     "name": "stderr",
     "output_type": "stream",
     "text": [
      "[I 2025-02-28 12:45:27,232] Trial 32 finished with value: 40.4296875 and parameters: {'vectorizer_type': 'one-hot', 'hidden_dim': 300, 'batch_size': 128, 'learning_rate': 0.001, 'dropout_rate': 0.2, 'case_folding': False, 'enable_second_hidden_layer': False, 'enable_batch_norm': False, 'weight_decay': 0}. Best is trial 30 with value: 67.3828125.\n"
     ]
    },
    {
     "name": "stdout",
     "output_type": "stream",
     "text": [
      "Creating fresh!\n"
     ]
    },
    {
     "name": "stderr",
     "output_type": "stream",
     "text": [
      "[I 2025-02-28 12:45:33,814] Trial 33 finished with value: 46.940104166666664 and parameters: {'vectorizer_type': 'one-hot', 'hidden_dim': 300, 'batch_size': 128, 'learning_rate': 0.001, 'dropout_rate': 0.4, 'case_folding': False, 'enable_second_hidden_layer': False, 'enable_batch_norm': True, 'weight_decay': 0}. Best is trial 30 with value: 67.3828125.\n"
     ]
    },
    {
     "name": "stdout",
     "output_type": "stream",
     "text": [
      "Creating fresh!\n",
      "number of features => 17824\n"
     ]
    },
    {
     "name": "stderr",
     "output_type": "stream",
     "text": [
      "[I 2025-02-28 12:46:41,655] Trial 34 finished with value: 70.703125 and parameters: {'vectorizer_type': 'tf-idf', 'ngram_option': '2,4', 'hidden_dim': 300, 'batch_size': 256, 'learning_rate': 0.0005, 'dropout_rate': 0.1, 'case_folding': False, 'enable_second_hidden_layer': False, 'enable_batch_norm': False, 'weight_decay': 0.0001}. Best is trial 34 with value: 70.703125.\n"
     ]
    },
    {
     "name": "stdout",
     "output_type": "stream",
     "text": [
      "Creating fresh!\n"
     ]
    },
    {
     "name": "stderr",
     "output_type": "stream",
     "text": [
      "[I 2025-02-28 12:47:18,440] Trial 35 finished with value: 42.37500000000001 and parameters: {'vectorizer_type': 'term-freq', 'hidden_dim': 100, 'batch_size': 64, 'learning_rate': 0.0001, 'dropout_rate': 0.1, 'case_folding': True, 'enable_second_hidden_layer': True, 'enable_batch_norm': True, 'weight_decay': 0.0001}. Best is trial 34 with value: 70.703125.\n"
     ]
    },
    {
     "name": "stdout",
     "output_type": "stream",
     "text": [
      "Creating fresh!\n"
     ]
    },
    {
     "name": "stderr",
     "output_type": "stream",
     "text": [
      "[I 2025-02-28 12:47:22,682] Trial 36 finished with value: 37.434895833333336 and parameters: {'vectorizer_type': 'term-freq', 'hidden_dim': 400, 'batch_size': 256, 'learning_rate': 0.01, 'dropout_rate': 0.3, 'case_folding': True, 'enable_second_hidden_layer': False, 'enable_batch_norm': False, 'weight_decay': 0}. Best is trial 34 with value: 70.703125.\n"
     ]
    },
    {
     "name": "stdout",
     "output_type": "stream",
     "text": [
      "Creating fresh!\n"
     ]
    },
    {
     "name": "stderr",
     "output_type": "stream",
     "text": [
      "[I 2025-02-28 12:47:31,448] Trial 37 finished with value: 40.75520833333333 and parameters: {'vectorizer_type': 'term-freq', 'hidden_dim': 100, 'batch_size': 128, 'learning_rate': 0.001, 'dropout_rate': 0.2, 'case_folding': True, 'enable_second_hidden_layer': False, 'enable_batch_norm': True, 'weight_decay': 0.01}. Best is trial 34 with value: 70.703125.\n"
     ]
    },
    {
     "name": "stdout",
     "output_type": "stream",
     "text": [
      "Creating fresh!\n"
     ]
    },
    {
     "name": "stderr",
     "output_type": "stream",
     "text": [
      "[I 2025-02-28 12:47:45,491] Trial 38 finished with value: 43.75 and parameters: {'vectorizer_type': 'one-hot', 'hidden_dim': 100, 'batch_size': 64, 'learning_rate': 0.001, 'dropout_rate': 0.2, 'case_folding': False, 'enable_second_hidden_layer': True, 'enable_batch_norm': True, 'weight_decay': 0.01}. Best is trial 34 with value: 70.703125.\n"
     ]
    },
    {
     "name": "stdout",
     "output_type": "stream",
     "text": [
      "Creating fresh!\n"
     ]
    },
    {
     "name": "stderr",
     "output_type": "stream",
     "text": [
      "[I 2025-02-28 12:47:53,966] Trial 39 finished with value: 47.625 and parameters: {'vectorizer_type': 'one-hot', 'hidden_dim': 500, 'batch_size': 64, 'learning_rate': 0.001, 'dropout_rate': 0.2, 'case_folding': False, 'enable_second_hidden_layer': True, 'enable_batch_norm': False, 'weight_decay': 0}. Best is trial 34 with value: 70.703125.\n"
     ]
    },
    {
     "name": "stdout",
     "output_type": "stream",
     "text": [
      "Creating fresh!\n"
     ]
    },
    {
     "name": "stderr",
     "output_type": "stream",
     "text": [
      "[I 2025-02-28 12:47:59,692] Trial 40 finished with value: 37.369791666666664 and parameters: {'vectorizer_type': 'one-hot', 'hidden_dim': 400, 'batch_size': 256, 'learning_rate': 0.001, 'dropout_rate': 0.2, 'case_folding': True, 'enable_second_hidden_layer': False, 'enable_batch_norm': False, 'weight_decay': 0}. Best is trial 34 with value: 70.703125.\n"
     ]
    },
    {
     "name": "stdout",
     "output_type": "stream",
     "text": [
      "Creating fresh!\n",
      "number of features => 17824\n"
     ]
    },
    {
     "name": "stderr",
     "output_type": "stream",
     "text": [
      "[I 2025-02-28 12:48:24,269] Trial 41 finished with value: 65.10416666666666 and parameters: {'vectorizer_type': 'tf-idf', 'ngram_option': '2,4', 'hidden_dim': 500, 'batch_size': 128, 'learning_rate': 0.001, 'dropout_rate': 0.5, 'case_folding': False, 'enable_second_hidden_layer': True, 'enable_batch_norm': True, 'weight_decay': 0.0001}. Best is trial 34 with value: 70.703125.\n"
     ]
    },
    {
     "name": "stdout",
     "output_type": "stream",
     "text": [
      "Creating fresh!\n"
     ]
    },
    {
     "name": "stderr",
     "output_type": "stream",
     "text": [
      "[I 2025-02-28 12:48:46,159] Trial 42 finished with value: 36.458333333333336 and parameters: {'vectorizer_type': 'term-freq', 'hidden_dim': 100, 'batch_size': 128, 'learning_rate': 0.0005, 'dropout_rate': 0.5, 'case_folding': False, 'enable_second_hidden_layer': False, 'enable_batch_norm': False, 'weight_decay': 0.01}. Best is trial 34 with value: 70.703125.\n"
     ]
    },
    {
     "name": "stdout",
     "output_type": "stream",
     "text": [
      "Creating fresh!\n"
     ]
    },
    {
     "name": "stderr",
     "output_type": "stream",
     "text": [
      "[I 2025-02-28 12:48:52,852] Trial 43 finished with value: 45.638020833333336 and parameters: {'vectorizer_type': 'one-hot', 'hidden_dim': 300, 'batch_size': 256, 'learning_rate': 0.01, 'dropout_rate': 0.3, 'case_folding': False, 'enable_second_hidden_layer': True, 'enable_batch_norm': False, 'weight_decay': 0.001}. Best is trial 34 with value: 70.703125.\n"
     ]
    },
    {
     "name": "stdout",
     "output_type": "stream",
     "text": [
      "Creating fresh!\n"
     ]
    },
    {
     "name": "stderr",
     "output_type": "stream",
     "text": [
      "[I 2025-02-28 12:48:58,288] Trial 44 finished with value: 31.25 and parameters: {'vectorizer_type': 'one-hot', 'hidden_dim': 100, 'batch_size': 64, 'learning_rate': 0.01, 'dropout_rate': 0.1, 'case_folding': False, 'enable_second_hidden_layer': False, 'enable_batch_norm': False, 'weight_decay': 0.01}. Best is trial 34 with value: 70.703125.\n"
     ]
    },
    {
     "name": "stdout",
     "output_type": "stream",
     "text": [
      "Creating fresh!\n"
     ]
    },
    {
     "name": "stderr",
     "output_type": "stream",
     "text": [
      "[I 2025-02-28 12:49:06,358] Trial 45 finished with value: 44.921875 and parameters: {'vectorizer_type': 'one-hot', 'hidden_dim': 400, 'batch_size': 256, 'learning_rate': 0.0005, 'dropout_rate': 0.5, 'case_folding': False, 'enable_second_hidden_layer': False, 'enable_batch_norm': True, 'weight_decay': 0.0001}. Best is trial 34 with value: 70.703125.\n"
     ]
    },
    {
     "name": "stdout",
     "output_type": "stream",
     "text": [
      "Creating fresh!\n"
     ]
    },
    {
     "name": "stderr",
     "output_type": "stream",
     "text": [
      "[I 2025-02-28 12:49:24,604] Trial 46 finished with value: 43.75 and parameters: {'vectorizer_type': 'term-freq', 'hidden_dim': 200, 'batch_size': 256, 'learning_rate': 0.0005, 'dropout_rate': 0.1, 'case_folding': False, 'enable_second_hidden_layer': False, 'enable_batch_norm': False, 'weight_decay': 0.0001}. Best is trial 34 with value: 70.703125.\n"
     ]
    },
    {
     "name": "stdout",
     "output_type": "stream",
     "text": [
      "Creating fresh!\n"
     ]
    },
    {
     "name": "stderr",
     "output_type": "stream",
     "text": [
      "[I 2025-02-28 12:49:30,667] Trial 47 finished with value: 47.87499999999999 and parameters: {'vectorizer_type': 'term-freq', 'hidden_dim': 500, 'batch_size': 64, 'learning_rate': 0.001, 'dropout_rate': 0.1, 'case_folding': True, 'enable_second_hidden_layer': True, 'enable_batch_norm': True, 'weight_decay': 0.001}. Best is trial 34 with value: 70.703125.\n"
     ]
    },
    {
     "name": "stdout",
     "output_type": "stream",
     "text": [
      "Creating fresh!\n"
     ]
    },
    {
     "name": "stderr",
     "output_type": "stream",
     "text": [
      "[I 2025-02-28 12:49:35,287] Trial 48 finished with value: 35.06249999999999 and parameters: {'vectorizer_type': 'term-freq', 'hidden_dim': 200, 'batch_size': 64, 'learning_rate': 0.01, 'dropout_rate': 0.4, 'case_folding': True, 'enable_second_hidden_layer': False, 'enable_batch_norm': True, 'weight_decay': 0.01}. Best is trial 34 with value: 70.703125.\n"
     ]
    },
    {
     "name": "stdout",
     "output_type": "stream",
     "text": [
      "Creating fresh!\n",
      "number of features => 17824\n"
     ]
    },
    {
     "name": "stderr",
     "output_type": "stream",
     "text": [
      "[I 2025-02-28 12:50:50,383] Trial 49 finished with value: 67.7734375 and parameters: {'vectorizer_type': 'tf-idf', 'ngram_option': '2,4', 'hidden_dim': 200, 'batch_size': 256, 'learning_rate': 0.0005, 'dropout_rate': 0.5, 'case_folding': False, 'enable_second_hidden_layer': True, 'enable_batch_norm': False, 'weight_decay': 0}. Best is trial 34 with value: 70.703125.\n"
     ]
    },
    {
     "name": "stdout",
     "output_type": "stream",
     "text": [
      "Creating fresh!\n"
     ]
    },
    {
     "name": "stderr",
     "output_type": "stream",
     "text": [
      "[I 2025-02-28 12:50:59,310] Trial 50 finished with value: 47.43750000000001 and parameters: {'vectorizer_type': 'one-hot', 'hidden_dim': 400, 'batch_size': 64, 'learning_rate': 0.001, 'dropout_rate': 0.4, 'case_folding': False, 'enable_second_hidden_layer': True, 'enable_batch_norm': True, 'weight_decay': 0.01}. Best is trial 34 with value: 70.703125.\n"
     ]
    },
    {
     "name": "stdout",
     "output_type": "stream",
     "text": [
      "Creating fresh!\n"
     ]
    },
    {
     "name": "stderr",
     "output_type": "stream",
     "text": [
      "[I 2025-02-28 12:51:11,216] Trial 51 finished with value: 40.559895833333336 and parameters: {'vectorizer_type': 'term-freq', 'hidden_dim': 500, 'batch_size': 128, 'learning_rate': 0.0005, 'dropout_rate': 0.1, 'case_folding': True, 'enable_second_hidden_layer': False, 'enable_batch_norm': False, 'weight_decay': 0.001}. Best is trial 34 with value: 70.703125.\n"
     ]
    },
    {
     "name": "stdout",
     "output_type": "stream",
     "text": [
      "Creating fresh!\n"
     ]
    },
    {
     "name": "stderr",
     "output_type": "stream",
     "text": [
      "[I 2025-02-28 12:51:20,696] Trial 52 finished with value: 47.93750000000001 and parameters: {'vectorizer_type': 'one-hot', 'hidden_dim': 500, 'batch_size': 64, 'learning_rate': 0.001, 'dropout_rate': 0.5, 'case_folding': False, 'enable_second_hidden_layer': True, 'enable_batch_norm': True, 'weight_decay': 0.0001}. Best is trial 34 with value: 70.703125.\n"
     ]
    },
    {
     "name": "stdout",
     "output_type": "stream",
     "text": [
      "Creating fresh!\n"
     ]
    },
    {
     "name": "stderr",
     "output_type": "stream",
     "text": [
      "[I 2025-02-28 12:51:57,731] Trial 53 finished with value: 43.1875 and parameters: {'vectorizer_type': 'one-hot', 'hidden_dim': 300, 'batch_size': 64, 'learning_rate': 0.0001, 'dropout_rate': 0.5, 'case_folding': False, 'enable_second_hidden_layer': True, 'enable_batch_norm': True, 'weight_decay': 0}. Best is trial 34 with value: 70.703125.\n"
     ]
    },
    {
     "name": "stdout",
     "output_type": "stream",
     "text": [
      "Creating fresh!\n",
      "number of features => 17152\n"
     ]
    },
    {
     "name": "stderr",
     "output_type": "stream",
     "text": [
      "[I 2025-02-28 12:52:21,835] Trial 54 finished with value: 7.250000000000001 and parameters: {'vectorizer_type': 'tf-idf', 'ngram_option': '3,4', 'hidden_dim': 400, 'batch_size': 64, 'learning_rate': 0.01, 'dropout_rate': 0.5, 'case_folding': True, 'enable_second_hidden_layer': True, 'enable_batch_norm': False, 'weight_decay': 0.01}. Best is trial 34 with value: 70.703125.\n"
     ]
    },
    {
     "name": "stdout",
     "output_type": "stream",
     "text": [
      "Creating fresh!\n"
     ]
    },
    {
     "name": "stderr",
     "output_type": "stream",
     "text": [
      "[I 2025-02-28 12:52:26,344] Trial 55 finished with value: 45.125 and parameters: {'vectorizer_type': 'term-freq', 'hidden_dim': 500, 'batch_size': 64, 'learning_rate': 0.01, 'dropout_rate': 0.2, 'case_folding': False, 'enable_second_hidden_layer': False, 'enable_batch_norm': False, 'weight_decay': 0}. Best is trial 34 with value: 70.703125.\n"
     ]
    },
    {
     "name": "stdout",
     "output_type": "stream",
     "text": [
      "Creating fresh!\n",
      "number of features => 5337\n"
     ]
    },
    {
     "name": "stderr",
     "output_type": "stream",
     "text": [
      "[I 2025-02-28 12:53:01,665] Trial 56 finished with value: 69.9375 and parameters: {'vectorizer_type': 'tf-idf', 'ngram_option': '2,3', 'hidden_dim': 400, 'batch_size': 64, 'learning_rate': 0.0001, 'dropout_rate': 0.4, 'case_folding': False, 'enable_second_hidden_layer': False, 'enable_batch_norm': True, 'weight_decay': 0}. Best is trial 34 with value: 70.703125.\n"
     ]
    },
    {
     "name": "stdout",
     "output_type": "stream",
     "text": [
      "Creating fresh!\n"
     ]
    },
    {
     "name": "stderr",
     "output_type": "stream",
     "text": [
      "[I 2025-02-28 12:53:33,325] Trial 57 finished with value: 45.963541666666664 and parameters: {'vectorizer_type': 'term-freq', 'hidden_dim': 200, 'batch_size': 128, 'learning_rate': 0.0001, 'dropout_rate': 0.2, 'case_folding': False, 'enable_second_hidden_layer': False, 'enable_batch_norm': True, 'weight_decay': 0.01}. Best is trial 34 with value: 70.703125.\n"
     ]
    },
    {
     "name": "stdout",
     "output_type": "stream",
     "text": [
      "Creating fresh!\n",
      "number of features => 17824\n"
     ]
    },
    {
     "name": "stderr",
     "output_type": "stream",
     "text": [
      "[I 2025-02-28 12:57:39,969] Trial 58 finished with value: 70.18229166666667 and parameters: {'vectorizer_type': 'tf-idf', 'ngram_option': '2,4', 'hidden_dim': 200, 'batch_size': 256, 'learning_rate': 0.0001, 'dropout_rate': 0.2, 'case_folding': False, 'enable_second_hidden_layer': False, 'enable_batch_norm': False, 'weight_decay': 0}. Best is trial 34 with value: 70.703125.\n"
     ]
    },
    {
     "name": "stdout",
     "output_type": "stream",
     "text": [
      "Creating fresh!\n"
     ]
    },
    {
     "name": "stderr",
     "output_type": "stream",
     "text": [
      "[I 2025-02-28 12:57:57,619] Trial 59 finished with value: 47.13541666666666 and parameters: {'vectorizer_type': 'one-hot', 'hidden_dim': 400, 'batch_size': 128, 'learning_rate': 0.0001, 'dropout_rate': 0.2, 'case_folding': False, 'enable_second_hidden_layer': True, 'enable_batch_norm': True, 'weight_decay': 0.01}. Best is trial 34 with value: 70.703125.\n"
     ]
    },
    {
     "name": "stdout",
     "output_type": "stream",
     "text": [
      "Creating fresh!\n"
     ]
    },
    {
     "name": "stderr",
     "output_type": "stream",
     "text": [
      "[I 2025-02-28 12:58:04,774] Trial 60 finished with value: 46.9375 and parameters: {'vectorizer_type': 'term-freq', 'hidden_dim': 300, 'batch_size': 64, 'learning_rate': 0.01, 'dropout_rate': 0.2, 'case_folding': False, 'enable_second_hidden_layer': True, 'enable_batch_norm': False, 'weight_decay': 0}. Best is trial 34 with value: 70.703125.\n"
     ]
    },
    {
     "name": "stdout",
     "output_type": "stream",
     "text": [
      "Creating fresh!\n"
     ]
    },
    {
     "name": "stderr",
     "output_type": "stream",
     "text": [
      "[I 2025-02-28 12:58:17,095] Trial 61 finished with value: 44.125 and parameters: {'vectorizer_type': 'one-hot', 'hidden_dim': 500, 'batch_size': 64, 'learning_rate': 0.0005, 'dropout_rate': 0.4, 'case_folding': True, 'enable_second_hidden_layer': True, 'enable_batch_norm': True, 'weight_decay': 0.0001}. Best is trial 34 with value: 70.703125.\n"
     ]
    },
    {
     "name": "stdout",
     "output_type": "stream",
     "text": [
      "Creating fresh!\n"
     ]
    },
    {
     "name": "stderr",
     "output_type": "stream",
     "text": [
      "[I 2025-02-28 12:58:25,136] Trial 62 finished with value: 42.1875 and parameters: {'vectorizer_type': 'term-freq', 'hidden_dim': 300, 'batch_size': 64, 'learning_rate': 0.01, 'dropout_rate': 0.4, 'case_folding': False, 'enable_second_hidden_layer': True, 'enable_batch_norm': False, 'weight_decay': 0.0001}. Best is trial 34 with value: 70.703125.\n"
     ]
    },
    {
     "name": "stdout",
     "output_type": "stream",
     "text": [
      "Creating fresh!\n"
     ]
    },
    {
     "name": "stderr",
     "output_type": "stream",
     "text": [
      "[I 2025-02-28 12:58:35,400] Trial 63 finished with value: 44.5 and parameters: {'vectorizer_type': 'term-freq', 'hidden_dim': 300, 'batch_size': 64, 'learning_rate': 0.0005, 'dropout_rate': 0.2, 'case_folding': True, 'enable_second_hidden_layer': False, 'enable_batch_norm': True, 'weight_decay': 0}. Best is trial 34 with value: 70.703125.\n"
     ]
    },
    {
     "name": "stdout",
     "output_type": "stream",
     "text": [
      "Creating fresh!\n",
      "number of features => 5337\n"
     ]
    },
    {
     "name": "stderr",
     "output_type": "stream",
     "text": [
      "[I 2025-02-28 13:03:07,720] Trial 64 finished with value: 68.29427083333333 and parameters: {'vectorizer_type': 'tf-idf', 'ngram_option': '2,3', 'hidden_dim': 400, 'batch_size': 256, 'learning_rate': 0.0001, 'dropout_rate': 0.4, 'case_folding': True, 'enable_second_hidden_layer': False, 'enable_batch_norm': False, 'weight_decay': 0}. Best is trial 34 with value: 70.703125.\n"
     ]
    },
    {
     "name": "stdout",
     "output_type": "stream",
     "text": [
      "Creating fresh!\n"
     ]
    },
    {
     "name": "stderr",
     "output_type": "stream",
     "text": [
      "[I 2025-02-28 13:03:20,376] Trial 65 finished with value: 37.825520833333336 and parameters: {'vectorizer_type': 'term-freq', 'hidden_dim': 300, 'batch_size': 256, 'learning_rate': 0.001, 'dropout_rate': 0.4, 'case_folding': True, 'enable_second_hidden_layer': True, 'enable_batch_norm': False, 'weight_decay': 0}. Best is trial 34 with value: 70.703125.\n"
     ]
    },
    {
     "name": "stdout",
     "output_type": "stream",
     "text": [
      "Creating fresh!\n",
      "number of features => 17152\n"
     ]
    },
    {
     "name": "stderr",
     "output_type": "stream",
     "text": [
      "[I 2025-02-28 13:03:51,253] Trial 66 finished with value: 67.96875 and parameters: {'vectorizer_type': 'tf-idf', 'ngram_option': '3,4', 'hidden_dim': 100, 'batch_size': 128, 'learning_rate': 0.0005, 'dropout_rate': 0.1, 'case_folding': False, 'enable_second_hidden_layer': False, 'enable_batch_norm': True, 'weight_decay': 0}. Best is trial 34 with value: 70.703125.\n"
     ]
    },
    {
     "name": "stdout",
     "output_type": "stream",
     "text": [
      "Creating fresh!\n"
     ]
    },
    {
     "name": "stderr",
     "output_type": "stream",
     "text": [
      "[I 2025-02-28 13:04:02,275] Trial 67 finished with value: 41.015625 and parameters: {'vectorizer_type': 'one-hot', 'hidden_dim': 500, 'batch_size': 128, 'learning_rate': 0.0005, 'dropout_rate': 0.5, 'case_folding': True, 'enable_second_hidden_layer': True, 'enable_batch_norm': True, 'weight_decay': 0.001}. Best is trial 34 with value: 70.703125.\n"
     ]
    },
    {
     "name": "stdout",
     "output_type": "stream",
     "text": [
      "Creating fresh!\n"
     ]
    },
    {
     "name": "stderr",
     "output_type": "stream",
     "text": [
      "[I 2025-02-28 13:04:40,249] Trial 68 finished with value: 30.989583333333332 and parameters: {'vectorizer_type': 'term-freq', 'hidden_dim': 500, 'batch_size': 256, 'learning_rate': 0.0001, 'dropout_rate': 0.4, 'case_folding': False, 'enable_second_hidden_layer': True, 'enable_batch_norm': False, 'weight_decay': 0.01}. Best is trial 34 with value: 70.703125.\n"
     ]
    },
    {
     "name": "stdout",
     "output_type": "stream",
     "text": [
      "Creating fresh!\n",
      "number of features => 5386\n"
     ]
    },
    {
     "name": "stderr",
     "output_type": "stream",
     "text": [
      "[I 2025-02-28 13:05:03,281] Trial 69 finished with value: 62.04427083333333 and parameters: {'vectorizer_type': 'tf-idf', 'ngram_option': '1,3', 'hidden_dim': 400, 'batch_size': 128, 'learning_rate': 0.01, 'dropout_rate': 0.5, 'case_folding': False, 'enable_second_hidden_layer': True, 'enable_batch_norm': False, 'weight_decay': 0.0001}. Best is trial 34 with value: 70.703125.\n"
     ]
    },
    {
     "name": "stdout",
     "output_type": "stream",
     "text": [
      "Creating fresh!\n",
      "number of features => 49\n"
     ]
    },
    {
     "name": "stderr",
     "output_type": "stream",
     "text": [
      "[I 2025-02-28 13:06:59,628] Trial 70 finished with value: 36.458333333333336 and parameters: {'vectorizer_type': 'tf-idf', 'ngram_option': '1,1', 'hidden_dim': 100, 'batch_size': 128, 'learning_rate': 0.0005, 'dropout_rate': 0.5, 'case_folding': True, 'enable_second_hidden_layer': False, 'enable_batch_norm': False, 'weight_decay': 0.0001}. Best is trial 34 with value: 70.703125.\n"
     ]
    },
    {
     "name": "stdout",
     "output_type": "stream",
     "text": [
      "Creating fresh!\n"
     ]
    },
    {
     "name": "stderr",
     "output_type": "stream",
     "text": [
      "[I 2025-02-28 13:07:53,855] Trial 71 finished with value: 38.997395833333336 and parameters: {'vectorizer_type': 'term-freq', 'hidden_dim': 100, 'batch_size': 256, 'learning_rate': 0.0001, 'dropout_rate': 0.4, 'case_folding': False, 'enable_second_hidden_layer': False, 'enable_batch_norm': False, 'weight_decay': 0.0001}. Best is trial 34 with value: 70.703125.\n"
     ]
    },
    {
     "name": "stdout",
     "output_type": "stream",
     "text": [
      "Creating fresh!\n"
     ]
    },
    {
     "name": "stderr",
     "output_type": "stream",
     "text": [
      "[I 2025-02-28 13:08:02,729] Trial 72 finished with value: 51.18749999999999 and parameters: {'vectorizer_type': 'one-hot', 'hidden_dim': 500, 'batch_size': 64, 'learning_rate': 0.0005, 'dropout_rate': 0.1, 'case_folding': False, 'enable_second_hidden_layer': False, 'enable_batch_norm': True, 'weight_decay': 0.0001}. Best is trial 34 with value: 70.703125.\n"
     ]
    },
    {
     "name": "stdout",
     "output_type": "stream",
     "text": [
      "Creating fresh!\n"
     ]
    },
    {
     "name": "stderr",
     "output_type": "stream",
     "text": [
      "[I 2025-02-28 13:08:10,982] Trial 73 finished with value: 48.111979166666664 and parameters: {'vectorizer_type': 'one-hot', 'hidden_dim': 500, 'batch_size': 256, 'learning_rate': 0.001, 'dropout_rate': 0.1, 'case_folding': False, 'enable_second_hidden_layer': False, 'enable_batch_norm': True, 'weight_decay': 0.01}. Best is trial 34 with value: 70.703125.\n"
     ]
    },
    {
     "name": "stdout",
     "output_type": "stream",
     "text": [
      "Creating fresh!\n",
      "number of features => 5337\n"
     ]
    },
    {
     "name": "stderr",
     "output_type": "stream",
     "text": [
      "[I 2025-02-28 13:09:18,919] Trial 74 finished with value: 69.59635416666667 and parameters: {'vectorizer_type': 'tf-idf', 'ngram_option': '2,3', 'hidden_dim': 500, 'batch_size': 256, 'learning_rate': 0.0005, 'dropout_rate': 0.2, 'case_folding': False, 'enable_second_hidden_layer': False, 'enable_batch_norm': False, 'weight_decay': 0.0001}. Best is trial 34 with value: 70.703125.\n"
     ]
    },
    {
     "name": "stdout",
     "output_type": "stream",
     "text": [
      "Creating fresh!\n"
     ]
    },
    {
     "name": "stderr",
     "output_type": "stream",
     "text": [
      "[I 2025-02-28 13:09:25,904] Trial 75 finished with value: 23.0 and parameters: {'vectorizer_type': 'one-hot', 'hidden_dim': 100, 'batch_size': 64, 'learning_rate': 0.01, 'dropout_rate': 0.4, 'case_folding': False, 'enable_second_hidden_layer': True, 'enable_batch_norm': False, 'weight_decay': 0.01}. Best is trial 34 with value: 70.703125.\n"
     ]
    },
    {
     "name": "stdout",
     "output_type": "stream",
     "text": [
      "Creating fresh!\n"
     ]
    },
    {
     "name": "stderr",
     "output_type": "stream",
     "text": [
      "[I 2025-02-28 13:09:35,228] Trial 76 finished with value: 45.50000000000001 and parameters: {'vectorizer_type': 'one-hot', 'hidden_dim': 400, 'batch_size': 64, 'learning_rate': 0.01, 'dropout_rate': 0.5, 'case_folding': False, 'enable_second_hidden_layer': True, 'enable_batch_norm': True, 'weight_decay': 0}. Best is trial 34 with value: 70.703125.\n"
     ]
    },
    {
     "name": "stdout",
     "output_type": "stream",
     "text": [
      "Creating fresh!\n",
      "number of features => 17824\n"
     ]
    },
    {
     "name": "stderr",
     "output_type": "stream",
     "text": [
      "[I 2025-02-28 13:10:02,841] Trial 77 finished with value: 71.09375 and parameters: {'vectorizer_type': 'tf-idf', 'ngram_option': '2,4', 'hidden_dim': 500, 'batch_size': 256, 'learning_rate': 0.001, 'dropout_rate': 0.3, 'case_folding': False, 'enable_second_hidden_layer': False, 'enable_batch_norm': True, 'weight_decay': 0.001}. Best is trial 77 with value: 71.09375.\n"
     ]
    },
    {
     "name": "stdout",
     "output_type": "stream",
     "text": [
      "Creating fresh!\n"
     ]
    },
    {
     "name": "stderr",
     "output_type": "stream",
     "text": [
      "[I 2025-02-28 13:10:08,262] Trial 78 finished with value: 40.4296875 and parameters: {'vectorizer_type': 'one-hot', 'hidden_dim': 100, 'batch_size': 128, 'learning_rate': 0.01, 'dropout_rate': 0.3, 'case_folding': True, 'enable_second_hidden_layer': False, 'enable_batch_norm': False, 'weight_decay': 0.0001}. Best is trial 77 with value: 71.09375.\n"
     ]
    },
    {
     "name": "stdout",
     "output_type": "stream",
     "text": [
      "Creating fresh!\n"
     ]
    },
    {
     "name": "stderr",
     "output_type": "stream",
     "text": [
      "[I 2025-02-28 13:10:26,633] Trial 79 finished with value: 44.53125 and parameters: {'vectorizer_type': 'one-hot', 'hidden_dim': 300, 'batch_size': 128, 'learning_rate': 0.0001, 'dropout_rate': 0.2, 'case_folding': False, 'enable_second_hidden_layer': False, 'enable_batch_norm': True, 'weight_decay': 0.0001}. Best is trial 77 with value: 71.09375.\n"
     ]
    },
    {
     "name": "stdout",
     "output_type": "stream",
     "text": [
      "Creating fresh!\n",
      "number of features => 17152\n"
     ]
    },
    {
     "name": "stderr",
     "output_type": "stream",
     "text": [
      "[I 2025-02-28 13:10:49,029] Trial 80 finished with value: 61.458333333333336 and parameters: {'vectorizer_type': 'tf-idf', 'ngram_option': '3,4', 'hidden_dim': 300, 'batch_size': 256, 'learning_rate': 0.01, 'dropout_rate': 0.2, 'case_folding': False, 'enable_second_hidden_layer': True, 'enable_batch_norm': False, 'weight_decay': 0.0001}. Best is trial 77 with value: 71.09375.\n"
     ]
    },
    {
     "name": "stdout",
     "output_type": "stream",
     "text": [
      "Creating fresh!\n"
     ]
    },
    {
     "name": "stderr",
     "output_type": "stream",
     "text": [
      "[I 2025-02-28 13:10:58,058] Trial 81 finished with value: 43.684895833333336 and parameters: {'vectorizer_type': 'one-hot', 'hidden_dim': 500, 'batch_size': 256, 'learning_rate': 0.0005, 'dropout_rate': 0.5, 'case_folding': False, 'enable_second_hidden_layer': True, 'enable_batch_norm': True, 'weight_decay': 0.01}. Best is trial 77 with value: 71.09375.\n"
     ]
    },
    {
     "name": "stdout",
     "output_type": "stream",
     "text": [
      "Creating fresh!\n",
      "number of features => 49\n"
     ]
    },
    {
     "name": "stderr",
     "output_type": "stream",
     "text": [
      "[I 2025-02-28 13:12:07,825] Trial 82 finished with value: 48.4375 and parameters: {'vectorizer_type': 'tf-idf', 'ngram_option': '1,1', 'hidden_dim': 200, 'batch_size': 256, 'learning_rate': 0.0005, 'dropout_rate': 0.1, 'case_folding': True, 'enable_second_hidden_layer': True, 'enable_batch_norm': True, 'weight_decay': 0.0001}. Best is trial 77 with value: 71.09375.\n"
     ]
    },
    {
     "name": "stdout",
     "output_type": "stream",
     "text": [
      "Creating fresh!\n"
     ]
    },
    {
     "name": "stderr",
     "output_type": "stream",
     "text": [
      "[I 2025-02-28 13:12:47,589] Trial 83 finished with value: 37.24999999999999 and parameters: {'vectorizer_type': 'one-hot', 'hidden_dim': 100, 'batch_size': 64, 'learning_rate': 0.0001, 'dropout_rate': 0.4, 'case_folding': False, 'enable_second_hidden_layer': True, 'enable_batch_norm': True, 'weight_decay': 0.01}. Best is trial 77 with value: 71.09375.\n"
     ]
    },
    {
     "name": "stdout",
     "output_type": "stream",
     "text": [
      "Creating fresh!\n",
      "number of features => 5337\n"
     ]
    },
    {
     "name": "stderr",
     "output_type": "stream",
     "text": [
      "[I 2025-02-28 13:13:20,269] Trial 84 finished with value: 67.90364583333333 and parameters: {'vectorizer_type': 'tf-idf', 'ngram_option': '2,3', 'hidden_dim': 200, 'batch_size': 256, 'learning_rate': 0.001, 'dropout_rate': 0.4, 'case_folding': False, 'enable_second_hidden_layer': True, 'enable_batch_norm': True, 'weight_decay': 0.0001}. Best is trial 77 with value: 71.09375.\n"
     ]
    },
    {
     "name": "stdout",
     "output_type": "stream",
     "text": [
      "Creating fresh!\n"
     ]
    },
    {
     "name": "stderr",
     "output_type": "stream",
     "text": [
      "[I 2025-02-28 13:13:33,234] Trial 85 finished with value: 41.9375 and parameters: {'vectorizer_type': 'term-freq', 'hidden_dim': 300, 'batch_size': 64, 'learning_rate': 0.01, 'dropout_rate': 0.1, 'case_folding': True, 'enable_second_hidden_layer': True, 'enable_batch_norm': False, 'weight_decay': 0.001}. Best is trial 77 with value: 71.09375.\n"
     ]
    },
    {
     "name": "stdout",
     "output_type": "stream",
     "text": [
      "Creating fresh!\n"
     ]
    },
    {
     "name": "stderr",
     "output_type": "stream",
     "text": [
      "[I 2025-02-28 13:13:42,896] Trial 86 finished with value: 42.447916666666664 and parameters: {'vectorizer_type': 'term-freq', 'hidden_dim': 200, 'batch_size': 256, 'learning_rate': 0.001, 'dropout_rate': 0.2, 'case_folding': False, 'enable_second_hidden_layer': True, 'enable_batch_norm': False, 'weight_decay': 0}. Best is trial 77 with value: 71.09375.\n"
     ]
    },
    {
     "name": "stdout",
     "output_type": "stream",
     "text": [
      "Creating fresh!\n"
     ]
    },
    {
     "name": "stderr",
     "output_type": "stream",
     "text": [
      "[I 2025-02-28 13:14:26,787] Trial 87 finished with value: 35.872395833333336 and parameters: {'vectorizer_type': 'term-freq', 'hidden_dim': 400, 'batch_size': 256, 'learning_rate': 0.0001, 'dropout_rate': 0.2, 'case_folding': False, 'enable_second_hidden_layer': False, 'enable_batch_norm': False, 'weight_decay': 0.01}. Best is trial 77 with value: 71.09375.\n"
     ]
    },
    {
     "name": "stdout",
     "output_type": "stream",
     "text": [
      "Creating fresh!\n"
     ]
    },
    {
     "name": "stderr",
     "output_type": "stream",
     "text": [
      "[I 2025-02-28 13:14:38,533] Trial 88 finished with value: 49.68749999999999 and parameters: {'vectorizer_type': 'term-freq', 'hidden_dim': 400, 'batch_size': 64, 'learning_rate': 0.01, 'dropout_rate': 0.5, 'case_folding': False, 'enable_second_hidden_layer': True, 'enable_batch_norm': True, 'weight_decay': 0}. Best is trial 77 with value: 71.09375.\n"
     ]
    },
    {
     "name": "stdout",
     "output_type": "stream",
     "text": [
      "Creating fresh!\n"
     ]
    },
    {
     "name": "stderr",
     "output_type": "stream",
     "text": [
      "[I 2025-02-28 13:15:16,028] Trial 89 finished with value: 36.5234375 and parameters: {'vectorizer_type': 'one-hot', 'hidden_dim': 100, 'batch_size': 128, 'learning_rate': 0.0001, 'dropout_rate': 0.3, 'case_folding': True, 'enable_second_hidden_layer': False, 'enable_batch_norm': False, 'weight_decay': 0}. Best is trial 77 with value: 71.09375.\n"
     ]
    },
    {
     "name": "stdout",
     "output_type": "stream",
     "text": [
      "Creating fresh!\n"
     ]
    },
    {
     "name": "stderr",
     "output_type": "stream",
     "text": [
      "[I 2025-02-28 13:15:23,853] Trial 90 finished with value: 41.015625 and parameters: {'vectorizer_type': 'term-freq', 'hidden_dim': 300, 'batch_size': 256, 'learning_rate': 0.001, 'dropout_rate': 0.1, 'case_folding': True, 'enable_second_hidden_layer': True, 'enable_batch_norm': False, 'weight_decay': 0}. Best is trial 77 with value: 71.09375.\n"
     ]
    },
    {
     "name": "stdout",
     "output_type": "stream",
     "text": [
      "Creating fresh!\n",
      "number of features => 721\n"
     ]
    },
    {
     "name": "stderr",
     "output_type": "stream",
     "text": [
      "[I 2025-02-28 13:15:56,696] Trial 91 finished with value: 56.25 and parameters: {'vectorizer_type': 'tf-idf', 'ngram_option': '1,2', 'hidden_dim': 200, 'batch_size': 64, 'learning_rate': 0.01, 'dropout_rate': 0.5, 'case_folding': True, 'enable_second_hidden_layer': True, 'enable_batch_norm': True, 'weight_decay': 0.0001}. Best is trial 77 with value: 71.09375.\n"
     ]
    },
    {
     "name": "stdout",
     "output_type": "stream",
     "text": [
      "Creating fresh!\n",
      "number of features => 49\n"
     ]
    },
    {
     "name": "stderr",
     "output_type": "stream",
     "text": [
      "[I 2025-02-28 13:16:39,331] Trial 92 finished with value: 44.53125 and parameters: {'vectorizer_type': 'tf-idf', 'ngram_option': '1,1', 'hidden_dim': 300, 'batch_size': 128, 'learning_rate': 0.01, 'dropout_rate': 0.4, 'case_folding': False, 'enable_second_hidden_layer': False, 'enable_batch_norm': False, 'weight_decay': 0.0001}. Best is trial 77 with value: 71.09375.\n"
     ]
    },
    {
     "name": "stdout",
     "output_type": "stream",
     "text": [
      "Creating fresh!\n",
      "number of features => 49\n"
     ]
    },
    {
     "name": "stderr",
     "output_type": "stream",
     "text": [
      "[I 2025-02-28 13:18:29,258] Trial 93 finished with value: 38.802083333333336 and parameters: {'vectorizer_type': 'tf-idf', 'ngram_option': '1,1', 'hidden_dim': 300, 'batch_size': 256, 'learning_rate': 0.0001, 'dropout_rate': 0.4, 'case_folding': False, 'enable_second_hidden_layer': False, 'enable_batch_norm': True, 'weight_decay': 0}. Best is trial 77 with value: 71.09375.\n"
     ]
    },
    {
     "name": "stdout",
     "output_type": "stream",
     "text": [
      "Creating fresh!\n"
     ]
    },
    {
     "name": "stderr",
     "output_type": "stream",
     "text": [
      "[I 2025-02-28 13:18:37,641] Trial 94 finished with value: 39.583333333333336 and parameters: {'vectorizer_type': 'one-hot', 'hidden_dim': 200, 'batch_size': 256, 'learning_rate': 0.0005, 'dropout_rate': 0.1, 'case_folding': True, 'enable_second_hidden_layer': False, 'enable_batch_norm': True, 'weight_decay': 0}. Best is trial 77 with value: 71.09375.\n"
     ]
    },
    {
     "name": "stdout",
     "output_type": "stream",
     "text": [
      "Creating fresh!\n"
     ]
    },
    {
     "name": "stderr",
     "output_type": "stream",
     "text": [
      "[I 2025-02-28 13:18:47,769] Trial 95 finished with value: 43.43750000000001 and parameters: {'vectorizer_type': 'one-hot', 'hidden_dim': 400, 'batch_size': 64, 'learning_rate': 0.0005, 'dropout_rate': 0.3, 'case_folding': True, 'enable_second_hidden_layer': True, 'enable_batch_norm': True, 'weight_decay': 0.0001}. Best is trial 77 with value: 71.09375.\n"
     ]
    },
    {
     "name": "stdout",
     "output_type": "stream",
     "text": [
      "Creating fresh!\n",
      "number of features => 5386\n"
     ]
    },
    {
     "name": "stderr",
     "output_type": "stream",
     "text": [
      "[I 2025-02-28 13:19:07,000] Trial 96 finished with value: 61.458333333333336 and parameters: {'vectorizer_type': 'tf-idf', 'ngram_option': '1,3', 'hidden_dim': 200, 'batch_size': 128, 'learning_rate': 0.01, 'dropout_rate': 0.3, 'case_folding': True, 'enable_second_hidden_layer': True, 'enable_batch_norm': True, 'weight_decay': 0.0001}. Best is trial 77 with value: 71.09375.\n"
     ]
    },
    {
     "name": "stdout",
     "output_type": "stream",
     "text": [
      "Creating fresh!\n"
     ]
    },
    {
     "name": "stderr",
     "output_type": "stream",
     "text": [
      "[I 2025-02-28 13:19:20,887] Trial 97 finished with value: 38.802083333333336 and parameters: {'vectorizer_type': 'term-freq', 'hidden_dim': 100, 'batch_size': 256, 'learning_rate': 0.0005, 'dropout_rate': 0.5, 'case_folding': True, 'enable_second_hidden_layer': False, 'enable_batch_norm': True, 'weight_decay': 0}. Best is trial 77 with value: 71.09375.\n"
     ]
    },
    {
     "name": "stdout",
     "output_type": "stream",
     "text": [
      "Creating fresh!\n"
     ]
    },
    {
     "name": "stderr",
     "output_type": "stream",
     "text": [
      "[I 2025-02-28 13:19:43,098] Trial 98 finished with value: 46.43749999999999 and parameters: {'vectorizer_type': 'term-freq', 'hidden_dim': 200, 'batch_size': 64, 'learning_rate': 0.0005, 'dropout_rate': 0.5, 'case_folding': False, 'enable_second_hidden_layer': True, 'enable_batch_norm': True, 'weight_decay': 0.001}. Best is trial 77 with value: 71.09375.\n"
     ]
    },
    {
     "name": "stdout",
     "output_type": "stream",
     "text": [
      "Creating fresh!\n",
      "number of features => 17152\n"
     ]
    },
    {
     "name": "stderr",
     "output_type": "stream",
     "text": [
      "[I 2025-02-28 13:20:10,147] Trial 99 finished with value: 27.278645833333336 and parameters: {'vectorizer_type': 'tf-idf', 'ngram_option': '3,4', 'hidden_dim': 500, 'batch_size': 128, 'learning_rate': 0.001, 'dropout_rate': 0.2, 'case_folding': True, 'enable_second_hidden_layer': False, 'enable_batch_norm': False, 'weight_decay': 0.01}. Best is trial 77 with value: 71.09375.\n"
     ]
    },
    {
     "name": "stdout",
     "output_type": "stream",
     "text": [
      "\n",
      "Top 10 Best Hyperparameter Combinations:\n",
      "\n",
      "🔹 **Rank 1:** Accuracy = 71.0938\n",
      "{'case_folding': False, 'ngram_option': '2,4', 'hidden_dim': 500, 'batch_size': 256, 'learning_rate': 0.001, 'dropout_rate': 0.3, 'vectorizer_type': 'tf-idf', 'enable_second_hidden_layer': False, 'enable_batch_norm': True, 'weight_decay': 0.001}\n",
      "\n",
      "🔹 **Rank 2:** Accuracy = 70.7031\n",
      "{'case_folding': False, 'ngram_option': '2,4', 'hidden_dim': 300, 'batch_size': 256, 'learning_rate': 0.0005, 'dropout_rate': 0.1, 'vectorizer_type': 'tf-idf', 'enable_second_hidden_layer': False, 'enable_batch_norm': False, 'weight_decay': 0.0001}\n",
      "\n",
      "🔹 **Rank 3:** Accuracy = 70.1823\n",
      "{'case_folding': False, 'ngram_option': '2,4', 'hidden_dim': 200, 'batch_size': 256, 'learning_rate': 0.0001, 'dropout_rate': 0.2, 'vectorizer_type': 'tf-idf', 'enable_second_hidden_layer': False, 'enable_batch_norm': False, 'weight_decay': 0.0}\n",
      "\n",
      "🔹 **Rank 4:** Accuracy = 69.9375\n",
      "{'case_folding': False, 'ngram_option': '2,3', 'hidden_dim': 400, 'batch_size': 64, 'learning_rate': 0.0001, 'dropout_rate': 0.4, 'vectorizer_type': 'tf-idf', 'enable_second_hidden_layer': False, 'enable_batch_norm': True, 'weight_decay': 0.0}\n",
      "\n",
      "🔹 **Rank 5:** Accuracy = 69.5964\n",
      "{'case_folding': False, 'ngram_option': '2,3', 'hidden_dim': 500, 'batch_size': 256, 'learning_rate': 0.0005, 'dropout_rate': 0.2, 'vectorizer_type': 'tf-idf', 'enable_second_hidden_layer': False, 'enable_batch_norm': False, 'weight_decay': 0.0001}\n",
      "\n",
      "🔹 **Rank 6:** Accuracy = 68.2943\n",
      "{'case_folding': True, 'ngram_option': '2,3', 'hidden_dim': 400, 'batch_size': 256, 'learning_rate': 0.0001, 'dropout_rate': 0.4, 'vectorizer_type': 'tf-idf', 'enable_second_hidden_layer': False, 'enable_batch_norm': False, 'weight_decay': 0.0}\n",
      "\n",
      "🔹 **Rank 7:** Accuracy = 67.9688\n",
      "{'case_folding': False, 'ngram_option': '3,4', 'hidden_dim': 100, 'batch_size': 128, 'learning_rate': 0.0005, 'dropout_rate': 0.1, 'vectorizer_type': 'tf-idf', 'enable_second_hidden_layer': False, 'enable_batch_norm': True, 'weight_decay': 0.0}\n",
      "\n",
      "🔹 **Rank 8:** Accuracy = 67.9036\n",
      "{'case_folding': False, 'ngram_option': '2,3', 'hidden_dim': 200, 'batch_size': 256, 'learning_rate': 0.001, 'dropout_rate': 0.4, 'vectorizer_type': 'tf-idf', 'enable_second_hidden_layer': True, 'enable_batch_norm': True, 'weight_decay': 0.0001}\n",
      "\n",
      "🔹 **Rank 9:** Accuracy = 67.7734\n",
      "{'case_folding': False, 'ngram_option': '2,4', 'hidden_dim': 200, 'batch_size': 256, 'learning_rate': 0.0005, 'dropout_rate': 0.5, 'vectorizer_type': 'tf-idf', 'enable_second_hidden_layer': True, 'enable_batch_norm': False, 'weight_decay': 0.0}\n",
      "\n",
      "🔹 **Rank 10:** Accuracy = 67.3828\n",
      "{'case_folding': False, 'ngram_option': '1,2', 'hidden_dim': 200, 'batch_size': 256, 'learning_rate': 0.001, 'dropout_rate': 0.2, 'vectorizer_type': 'tf-idf', 'enable_second_hidden_layer': True, 'enable_batch_norm': True, 'weight_decay': 0.01}\n"
     ]
    }
   ],
   "source": [
    "import optuna\n",
    "import pandas as pd\n",
    "\n",
    "vectorizer_type_mapping = {\n",
    "    \"one-hot\": Vectorizer_Type.One_Hot,\n",
    "    \"term-freq\": Vectorizer_Type.Term_Freq,\n",
    "    \"tf-idf\": Vectorizer_Type.TF_IDF\n",
    "}\n",
    "ngram_options = [\"1,1\", \"1,2\", \"1,3\", \"2,3\", \"2,4\", \"3,4\"]\n",
    "\n",
    "def objective(trial):\n",
    "    vectorizer_type_str = trial.suggest_categorical(\"vectorizer_type\", [\"one-hot\", \"term-freq\", \"tf-idf\"])\n",
    "\n",
    "    if vectorizer_type_str == \"tf-idf\": ##only use this parameter when vectorizer_type = tf-idf\n",
    "        ngram_str = trial.suggest_categorical(\"ngram_option\", ngram_options)\n",
    "        ngram_option = tuple(map(int, ngram_str.split(',')))\n",
    "    else:\n",
    "        ngram_option = None\n",
    "\n",
    "    args = Namespace(\n",
    "        surname_csv=\"data/surnames/surnames_with_splits.csv\",\n",
    "        model_state_file=\"model.pth\",\n",
    "        save_dir=\"model_storage/ch4/surname_mlp\",\n",
    "        early_stopping_criteria=3, ##for quicker stop\n",
    "        num_epochs=100,\n",
    "        seed=1337,\n",
    "        catch_keyboard_interrupt=True,\n",
    "        cuda=True,\n",
    "        expand_filepaths_to_save_dir=True,\n",
    "        reload_from_files=False,\n",
    "\n",
    "        hidden_dim=trial.suggest_categorical(\"hidden_dim\", [100, 200, 300, 400, 500]),\n",
    "        batch_size=trial.suggest_categorical(\"batch_size\", [64, 128, 256]), ###i think this no need to check\n",
    "        learning_rate=trial.suggest_categorical(\"learning_rate\", [0.0001, 0.0005, 0.001, 0.01]),\n",
    "        dropout_rate=trial.suggest_categorical(\"dropout_rate\", [0.1, 0.2, 0.3, 0.4, 0.5]),\n",
    "        vectorizer_type=vectorizer_type_mapping[vectorizer_type_str],  ## prevent too much warning\n",
    "        case_folding=trial.suggest_categorical(\"case_folding\", [True, False]),\n",
    "        ngram_option=ngram_option,\n",
    "        enable_second_hidden_layer=trial.suggest_categorical(\"enable_second_hidden_layer\", [True, False]),\n",
    "        enable_batch_norm=trial.suggest_categorical(\"enable_batch_norm\", [True, False]),\n",
    "        weight_decay=trial.suggest_categorical(\"weight_decay\", [0, 0.0001, 0.001, 0.01]),\n",
    "    )\n",
    "\n",
    "    # if args.expand_filepaths_to_save_dir:\n",
    "    #     args.model_state_file = os.path.join(args.save_dir,\n",
    "    #                                         args.model_state_file)    \n",
    "    #     print(\"Expanded filepaths: \")\n",
    "    #     print(\"\\t{}\".format(args.model_state_file))\n",
    "    if not torch.cuda.is_available():\n",
    "        args.cuda = False\n",
    "    # print(\"Using CUDA: {}\".format(args.cuda))\n",
    "\n",
    "    args.device = torch.device(\"cuda\" if args.cuda else \"cpu\")\n",
    "    # Set seed for reproducibility\n",
    "    set_seed_everywhere(args.seed, args.cuda)\n",
    "    # handle dirs ; creat dirs if they don't exist\n",
    "    handle_dirs(args.save_dir)\n",
    "\n",
    "    # Train model\n",
    "    dataset, vectorizer, classifier = init(args)\n",
    "    train_state, loss_func = train_model(args, dataset=dataset, classifier=classifier, disable_tqdm=True)\n",
    "    # Compute accuracy\n",
    "    test_acc = check_test_data(args, dataset, classifier, train_state, loss_func, enable_print_info=False)\n",
    "    return test_acc  # Optuna will maximize this value\n",
    "\n",
    "study = optuna.create_study(direction=\"maximize\", sampler=optuna.samplers.RandomSampler()) ### prevent Local optimal solution\n",
    "study.optimize(objective, n_trials=100)\n",
    "\n",
    "df = study.trials_dataframe().sort_values(\"value\", ascending=False).head(10)\n",
    "\n",
    "# Extract top 10 best trials with all parameters\n",
    "top_10_trials = df[[    \n",
    "    \"value\",  # Test Accuracy\n",
    "    \"params_case_folding\",  # preprocesssing\n",
    "    \"params_ngram_option\",  #N-gram selection\n",
    "\n",
    "    # hyper-parameters\n",
    "    \"params_hidden_dim\", \"params_batch_size\", \"params_learning_rate\",\n",
    "    \"params_dropout_rate\", \"params_vectorizer_type\", \n",
    "    \"params_enable_second_hidden_layer\", \"params_enable_batch_norm\",\n",
    "    \"params_weight_decay\"\n",
    "]].to_dict(orient=\"records\")\n",
    "\n",
    "# Print the top 5 best parameter combinations\n",
    "print(\"\\nTop 10 Best Hyperparameter Combinations:\")\n",
    "for i, trial in enumerate(top_10_trials):\n",
    "    print(f\"\\n🔹 **Rank {i+1}:** Accuracy = {trial['value']:.4f}\")\n",
    "    print({key.replace(\"params_\", \"\"): value for key, value in trial.items() if key != \"value\"})"
   ]
  }
 ],
 "metadata": {
  "kernelspec": {
   "display_name": "base",
   "language": "python",
   "name": "python3"
  },
  "language_info": {
   "codemirror_mode": {
    "name": "ipython",
    "version": 3
   },
   "file_extension": ".py",
   "mimetype": "text/x-python",
   "name": "python",
   "nbconvert_exporter": "python",
   "pygments_lexer": "ipython3",
   "version": "3.12.7"
  },
  "toc": {
   "colors": {
    "hover_highlight": "#DAA520",
    "running_highlight": "#FF0000",
    "selected_highlight": "#FFD700"
   },
   "moveMenuLeft": true,
   "nav_menu": {
    "height": "138px",
    "width": "252px"
   },
   "navigate_menu": true,
   "number_sections": true,
   "sideBar": true,
   "threshold": "5",
   "toc_cell": false,
   "toc_section_display": "block",
   "toc_window_display": false
  }
 },
 "nbformat": 4,
 "nbformat_minor": 4
}
