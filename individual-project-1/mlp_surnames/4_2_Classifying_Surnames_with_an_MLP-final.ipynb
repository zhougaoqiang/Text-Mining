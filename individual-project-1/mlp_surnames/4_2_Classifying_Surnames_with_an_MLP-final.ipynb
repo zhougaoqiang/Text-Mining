{
 "cells": [
  {
   "cell_type": "markdown",
   "metadata": {},
   "source": [
    "# Chapter 4. Classifying Surnames with a Multilayer Perceptron"
   ]
  },
  {
   "cell_type": "code",
   "execution_count": 2,
   "metadata": {},
   "outputs": [
    {
     "data": {
      "text/plain": [
       "'\\nimport os\\nos.environ[\"KMP_DUPLICATE_LIB_OK\"] = \"TRUE\"\\nuse to prevent kernal crash due to re-initializing  libiomp5md.dll\\n'"
      ]
     },
     "execution_count": 2,
     "metadata": {},
     "output_type": "execute_result"
    }
   ],
   "source": [
    "'''\n",
    "import os\n",
    "os.environ[\"KMP_DUPLICATE_LIB_OK\"] = \"TRUE\"\n",
    "use to prevent kernal crash due to re-initializing  libiomp5md.dll\n",
    "'''\n",
    "# import os\n",
    "# os.environ[\"KMP_DUPLICATE_LIB_OK\"] = \"TRUE\""
   ]
  },
  {
   "cell_type": "markdown",
   "metadata": {},
   "source": [
    "## Imports"
   ]
  },
  {
   "cell_type": "code",
   "execution_count": 2,
   "metadata": {},
   "outputs": [],
   "source": [
    "from argparse import Namespace\n",
    "from collections import Counter\n",
    "import json\n",
    "import os\n",
    "import string\n",
    "\n",
    "import numpy as np\n",
    "import pandas as pd\n",
    "\n",
    "import torch\n",
    "import torch.nn as nn\n",
    "import torch.nn.functional as F\n",
    "import torch.optim as optim\n",
    "from torch.utils.data import Dataset, DataLoader\n",
    "from tqdm.notebook import tqdm"
   ]
  },
  {
   "cell_type": "markdown",
   "metadata": {},
   "source": [
    "## Data Vectorization classes"
   ]
  },
  {
   "cell_type": "markdown",
   "metadata": {},
   "source": [
    "### The Vocabulary"
   ]
  },
  {
   "cell_type": "code",
   "execution_count": 3,
   "metadata": {
    "code_folding": []
   },
   "outputs": [],
   "source": [
    "class Vocabulary(object):\n",
    "    \"\"\"Class to process text and extract vocabulary for mapping\"\"\"\n",
    "\n",
    "    def __init__(self, token_to_idx=None, add_unk=True, unk_token=\"<UNK>\"):\n",
    "        \"\"\"\n",
    "        Args:\n",
    "            token_to_idx (dict): a pre-existing map of tokens to indices\n",
    "            add_unk (bool): a flag that indicates whether to add the UNK token\n",
    "            unk_token (str): the UNK token to add into the Vocabulary\n",
    "        \"\"\"\n",
    "\n",
    "        if token_to_idx is None:\n",
    "            token_to_idx = {}\n",
    "        self._token_to_idx = token_to_idx         # _token_to_idx: {''@'':0, 'a':1, 'b':2, ....., 'Á': 76}\n",
    "                                                  # _idx_to_token: {0:''@'', 1:'a', 2:'b', ....., 76:'Á'}\n",
    "            \n",
    "                                                  # _token_to_idx: {'Arabic': 0, 'Chinese': 1, ..., 'Vietnamese': 17}\n",
    "                                                  # _idx_to_token: {0:'Arabic',  1:'Chinese', ...,  17:'Vietnamese'}\n",
    "  \n",
    "        self._idx_to_token = {idx: token \n",
    "                              for token, idx in self._token_to_idx.items()}\n",
    "        \n",
    "        self._add_unk = add_unk\n",
    "        self._unk_token = unk_token\n",
    "        \n",
    "        self.unk_index = -1\n",
    "        if add_unk:\n",
    "            self.unk_index = self.add_token(unk_token) \n",
    "               \n",
    "    def add_token(self, token):\n",
    "        \"\"\"Update mapping dicts based on the token.\n",
    "\n",
    "        Args:\n",
    "            token (str): the item to add into the Vocabulary\n",
    "        Returns:\n",
    "            index (int): the integer corresponding to the token\n",
    "        \"\"\"\n",
    "        try:\n",
    "            index = self._token_to_idx[token]\n",
    "        except KeyError:\n",
    "            index = len(self._token_to_idx)\n",
    "            self._token_to_idx[token] = index\n",
    "            self._idx_to_token[index] = token\n",
    "        return index\n",
    "    \n",
    "    def lookup_token(self, token):\n",
    "        \"\"\"Retrieve the index associated with the token \n",
    "          or the UNK index if token isn't present.\n",
    "        \n",
    "        Args:\n",
    "            token (str): the token to look up \n",
    "        Returns:\n",
    "            index (int): the index corresponding to the token\n",
    "        Notes:\n",
    "            `unk_index` needs to be >=0 (having been added into the Vocabulary) \n",
    "              for the UNK functionality \n",
    "        \"\"\"\n",
    "        if self.unk_index >= 0:\n",
    "            return self._token_to_idx.get(token, self.unk_index)\n",
    "        else:\n",
    "            return self._token_to_idx[token]\n",
    "\n",
    "    def lookup_index(self, index):\n",
    "        \"\"\"Return the token associated with the index\n",
    "        \n",
    "        Args: \n",
    "            index (int): the index to look up\n",
    "        Returns:\n",
    "            token (str): the token corresponding to the index\n",
    "        Raises:\n",
    "            KeyError: if the index is not in the Vocabulary\n",
    "        \"\"\"\n",
    "        if index not in self._idx_to_token:\n",
    "            raise KeyError(\"the index (%d) is not in the Vocabulary\" % index)\n",
    "        return self._idx_to_token[index]\n",
    "\n",
    "    def __str__(self):\n",
    "        return \"<Vocabulary(size=%d)>\" % len(self)\n",
    "\n",
    "    def __len__(self):\n",
    "        return len(self._token_to_idx)"
   ]
  },
  {
   "cell_type": "markdown",
   "metadata": {},
   "source": [
    "### The Vectorizer"
   ]
  },
  {
   "cell_type": "code",
   "execution_count": 4,
   "metadata": {},
   "outputs": [],
   "source": [
    "from enum import Enum\n",
    "class Vectorizer_Type(Enum):\n",
    "    One_Hot = \"one-hot\"\n",
    "    Term_Freq = \"term-freq\"\n",
    "    TF_IDF = \"tf-idf\"\n",
    "\n",
    "from sklearn.feature_extraction.text import TfidfVectorizer"
   ]
  },
  {
   "cell_type": "code",
   "execution_count": 5,
   "metadata": {},
   "outputs": [],
   "source": [
    "class SurnameVectorizer(object):\n",
    "    \"\"\" The Vectorizer which coordinates the Vocabularies and puts them to use\"\"\"\n",
    "    def __init__(self, surname_vocab, nationality_vocab, vectorizer_type, tfidf_vectorizer=None):\n",
    "        \"\"\"\n",
    "        Args:\n",
    "            surname_vocab (Vocabulary): maps characters to integers\n",
    "            nationality_vocab (Vocabulary): maps nationalities to integers\n",
    "        \"\"\"\n",
    "        self.surname_vocab = surname_vocab             # _token_to_idx: {'@':0, 'a':1, 'b':2, ....., 'Á': 76}\n",
    "        self.nationality_vocab = nationality_vocab     # _token_to_idx: {'Arabic': 0, 'Chinese': 1, ..., 'Vietnamese': 17}\n",
    "\n",
    "        self.vectorize_type = vectorizer_type\n",
    "        self.tfidf_vectorizer = tfidf_vectorizer\n",
    "\n",
    "    def vectorize(self, surname):\n",
    "        \"\"\"\n",
    "        Args:\n",
    "            surname (str): the surname\n",
    "\n",
    "        Returns:\n",
    "            one_hot (np.ndarray): a collapsed one-hot encoding \n",
    "        \"\"\"\n",
    "        vocab = self.surname_vocab\n",
    "\n",
    "        if self.vectorize_type == Vectorizer_Type.TF_IDF: \n",
    "            char_vector = self.tfidf_vectorizer.transform([surname]).toarray().flatten()\n",
    "        elif self.vectorize_type == Vectorizer_Type.Term_Freq:\n",
    "            char_vector = np.zeros(len(vocab), dtype=np.float32)\n",
    "            for token in surname:\n",
    "                char_vector[vocab.lookup_token(token)] += 1\n",
    "        else :\n",
    "            char_vector = np.zeros(len(vocab), dtype=np.float32)\n",
    "            for token in surname:\n",
    "                char_vector[vocab.lookup_token(token)] = 1  # e.g., kim -> [0, 0, 0, 1, 0, 0, 1, 0, 0, 1, ......, 0]\n",
    "\n",
    "        return char_vector\n",
    "\n",
    "    @classmethod\n",
    "    def from_dataframe(cls, surname_df, case_folding, vectorizer_type, ngram_option=None): #ngram_options = [(1,1), (1,2), (2,2), (2,3), (3,3), (3,4)]\n",
    "        \"\"\"Instantiate the vectorizer from the dataset dataframe\n",
    "        \n",
    "        Args:\n",
    "            surname_df (pandas.DataFrame): the surnames dataset\n",
    "        Returns:\n",
    "            an instance of the SurnameVectorizer\n",
    "        \"\"\"\n",
    "        surname_vocab = Vocabulary(unk_token=\"@\")\n",
    "        nationality_vocab = Vocabulary(add_unk=False)\n",
    "\n",
    "        if case_folding:\n",
    "            surname_df = surname_df.copy()\n",
    "            surname_df['surname'] = surname_df['surname'].apply(lambda x: x.lower())\n",
    "\n",
    "        for index, row in surname_df.iterrows():\n",
    "            for letter in row.surname:\n",
    "                surname_vocab.add_token(letter)   # token is letter-level.\n",
    "            nationality_vocab.add_token(row.nationality)\n",
    "\n",
    "        if vectorizer_type == Vectorizer_Type.TF_IDF :\n",
    "            tfidf_vectorizer = TfidfVectorizer(analyzer='char', token_pattern=None, ngram_range=ngram_option)  # support unigram + bigram words\n",
    "            tfidf_vectorizer.fit(surname_df.surname)\n",
    "        else :\n",
    "            tfidf_vectorizer = None\n",
    "\n",
    "        return cls(surname_vocab, nationality_vocab, vectorizer_type, tfidf_vectorizer)"
   ]
  },
  {
   "cell_type": "markdown",
   "metadata": {},
   "source": [
    "### The Dataset"
   ]
  },
  {
   "cell_type": "code",
   "execution_count": 6,
   "metadata": {},
   "outputs": [],
   "source": [
    "class SurnameDataset(Dataset):\n",
    "    def __init__(self, surname_df, vectorizer):\n",
    "        \"\"\"\n",
    "        Args:\n",
    "            surname_df (pandas.DataFrame): the dataset\n",
    "            vectorizer (SurnameVectorizer): vectorizer instatiated from dataset\n",
    "        \"\"\"\n",
    "        self.surname_df = surname_df\n",
    "        self._vectorizer = vectorizer\n",
    "\n",
    "        self.train_df = self.surname_df[self.surname_df.split=='train']\n",
    "        self.train_size = len(self.train_df)\n",
    "\n",
    "        self.val_df = self.surname_df[self.surname_df.split=='val']\n",
    "        self.validation_size = len(self.val_df)\n",
    "\n",
    "        self.test_df = self.surname_df[self.surname_df.split=='test']\n",
    "        self.test_size = len(self.test_df)\n",
    "\n",
    "        self._lookup_dict = {'train': (self.train_df, self.train_size),\n",
    "                             'val': (self.val_df, self.validation_size),\n",
    "                             'test': (self.test_df, self.test_size)}\n",
    "\n",
    "        self.set_split('train')\n",
    "        \n",
    "        # Class weights for handling unbalanced data\n",
    "        class_counts = surname_df.nationality.value_counts().to_dict() # {'English': 2972, 'Russian': 2373, ....}\n",
    "        \n",
    "        def sort_key(item):\n",
    "            return self._vectorizer.nationality_vocab.lookup_token(item[0]) # e.g, index of English is 4\n",
    "        sorted_counts = sorted(class_counts.items(), key=sort_key)   # sort by the index number of nationality_vocab\n",
    "                                # {('Arabic', 1603), ('Chinese', 220), ('Czech', 414), ('Dutch', 236),('English', 2972), ...}\n",
    "\n",
    "        frequencies = [count for _, count in sorted_counts]\n",
    "        self.class_weights = 1.0 / torch.tensor(frequencies, dtype=torch.float32) \n",
    "                                                                     # [1/1603, 1/220, 1/414, 1/236, 1/2972, ...]\n",
    "                                                                     # E.g., penalty for Chinese is higher than one for Arabic.\n",
    "    @classmethod\n",
    "    def load_dataset_and_make_vectorizer(cls, surname_csv, case_folding, vectorizer_type, ngram_option):\n",
    "        \"\"\"Load dataset and make a new vectorizer from scratch\n",
    "        \n",
    "        Args:\n",
    "            surname_csv (str): location of the dataset\n",
    "        Returns:\n",
    "            an instance of SurnameDataset\n",
    "        \"\"\"\n",
    "        surname_df = pd.read_csv(surname_csv)\n",
    "        train_surname_df = surname_df[surname_df.split=='train']\n",
    "        return cls(surname_df, SurnameVectorizer.from_dataframe(train_surname_df, case_folding, vectorizer_type, ngram_option))\n",
    "\n",
    "    def get_vectorizer(self):\n",
    "        \"\"\" returns the vectorizer \"\"\"\n",
    "        return self._vectorizer\n",
    "\n",
    "    def set_split(self, split=\"train\"):\n",
    "        \"\"\" selects the splits in the dataset using a column in the dataframe \"\"\"\n",
    "        self._target_split = split\n",
    "        self._target_df, self._target_size = self._lookup_dict[split]\n",
    "\n",
    "    def __len__(self):\n",
    "        return self._target_size\n",
    "\n",
    "    def __getitem__(self, index):\n",
    "        \"\"\"the primary entry point method for PyTorch datasets\n",
    "        \n",
    "        Args:\n",
    "            index (int): the index to the data point \n",
    "        Returns:\n",
    "            a dictionary holding the data point's:\n",
    "                features (x_surname)\n",
    "                label (y_nationality)\n",
    "        \"\"\"\n",
    "        row = self._target_df.iloc[index]\n",
    "\n",
    "        surname_vector = \\\n",
    "            self._vectorizer.vectorize(row.surname)   # e.g., 'kim' -> [0, 0, 0, 1, 0, 0, 1, 0, 0, 1, ......, 0]\n",
    "\n",
    "        nationality_index = \\\n",
    "            self._vectorizer.nationality_vocab.lookup_token(row.nationality)  # e.g., 'Korean' -> 11\n",
    "\n",
    "        return {'x_surname': surname_vector,\n",
    "                'y_nationality': nationality_index}\n",
    "\n",
    "    def get_num_batches(self, batch_size):\n",
    "        \"\"\"Given a batch size, return the number of batches in the dataset\n",
    "        \n",
    "        Args:\n",
    "            batch_size (int)\n",
    "        Returns:\n",
    "            number of batches in the dataset\n",
    "        \"\"\"\n",
    "        return len(self) // batch_size\n",
    "\n",
    "    \n",
    "def generate_batches(dataset, batch_size, shuffle=True,\n",
    "                     drop_last=True, device=\"cpu\"): \n",
    "    \"\"\"\n",
    "    A generator function which wraps the PyTorch DataLoader. It will \n",
    "      ensure each tensor is on the write device location.\n",
    "    \"\"\"\n",
    "    dataloader = DataLoader(dataset=dataset, batch_size=batch_size,\n",
    "                            shuffle=shuffle, drop_last=drop_last)\n",
    "\n",
    "    for data_dict in dataloader: # {'x_surname': [[1,1,..,0,1], [0,0,...,1,0], ...], \n",
    "                                 #  'y_nationality': [4, 5, 10, ..., 14, 4]}\n",
    "        out_data_dict = {}\n",
    "        for name, tensor in data_dict.items():  # name: x_surname & y_nationality\n",
    "            out_data_dict[name] = data_dict[name].to(device)\n",
    "        yield out_data_dict  # return out_data_dict whenever this generator function is called"
   ]
  },
  {
   "cell_type": "markdown",
   "metadata": {},
   "source": [
    "## The Model: SurnameClassifier"
   ]
  },
  {
   "cell_type": "code",
   "execution_count": 7,
   "metadata": {},
   "outputs": [],
   "source": [
    "class SurnameClassifier(nn.Module):\n",
    "    \"\"\" A 2-layer Multilayer Perceptron for classifying surnames \"\"\"\n",
    "    def __init__(self, input_dim, hidden_dim, output_dim, enable_second_hidden_layer, enable_batch_norm, dropout_rate=0):\n",
    "        \"\"\"\n",
    "        Args:\n",
    "            input_dim (int): the size of the input vectors\n",
    "            hidden_dim (int): the output size of the first Linear layer\n",
    "            output_dim (int): the output size of the second Linear layer\n",
    "        \"\"\"\n",
    "        super(SurnameClassifier, self).__init__()\n",
    "        self.dropout_rate = dropout_rate\n",
    "        self.enable_second_hidden_layer = enable_second_hidden_layer\n",
    "        self.enable_batch_norm = enable_batch_norm\n",
    "\n",
    "        self.fc1 = nn.Linear(in_features=input_dim, out_features=hidden_dim)\n",
    "        if enable_batch_norm:\n",
    "            self.batch_norm1 = nn.BatchNorm1d(hidden_dim)\n",
    "        if self.dropout_rate != 0 :\n",
    "            self.dropout1 = nn.Dropout(p=self.dropout_rate)\n",
    "\n",
    "        if enable_second_hidden_layer :\n",
    "            self.fc2 = nn.Linear(hidden_dim, hidden_dim // 2) ###base on experience from lab assignment 1\n",
    "            if enable_batch_norm:\n",
    "                self.batch_norm2 = nn.BatchNorm1d(hidden_dim // 2)\n",
    "            if self.dropout_rate != 0 :    \n",
    "                self.dropout2 = nn.Dropout(p=self.dropout_rate)\n",
    "            self.fc_final = nn.Linear(hidden_dim // 2, out_features=output_dim)\n",
    "        else :\n",
    "            self.fc_final = nn.Linear(hidden_dim, out_features=output_dim)\n",
    "\n",
    "        #original enable_batch_norm = true, dropout_rate=0.2, 1 hidden layer\n",
    "        # self.fc2 = nn.Linear(hidden_dim, output_dim)\n",
    "        # self.bn1 = nn.BatchNorm1d(hidden_dim) # for batch norm, need to be defined for each layer\n",
    "        # self.dpout = nn.Dropout(p=0.2) # for drop out, p = probability of an element to be zeroed. Default: 0.5\n",
    "\n",
    "\n",
    "    def forward(self, x_in, apply_softmax=False):\n",
    "        \"\"\"The forward pass of the classifier\n",
    "        \n",
    "        Args:\n",
    "            x_in (torch.Tensor): an input data tensor. \n",
    "                x_in.shape should be (batch, input_dim)\n",
    "            apply_softmax (bool): a flag for the softmax activation\n",
    "                should be false if used with the Cross Entropy losses\n",
    "        Returns:\n",
    "            the resulting tensor. tensor.shape should be (batch, output_dim)\n",
    "        \"\"\"\n",
    "        # x_in = x_in.float()\n",
    "        intermediate = self.fc1(x_in.float())            # [batch, num_features] -> [batch, hidden_dim]\n",
    "        if self.enable_batch_norm:\n",
    "            intermediate = self.batch_norm1(intermediate)  \n",
    "        intermediate = F.relu(intermediate)      # [batch, hidden_dim]\n",
    "        if self.dropout_rate != 0 :\n",
    "            intermediate = self.dropout1(intermediate)\n",
    "\n",
    "        if self.enable_second_hidden_layer:\n",
    "            # Second hidden layer\n",
    "            intermediate = self.fc2(intermediate)\n",
    "            if self.enable_batch_norm:\n",
    "                intermediate = self.batch_norm2(intermediate)\n",
    "            intermediate = F.relu(intermediate)\n",
    "            if self.dropout_rate != 0 :\n",
    "                intermediate = self.dropout2(intermediate)\n",
    "\n",
    "        prediction_vector = self.fc_final(intermediate) \n",
    "        if apply_softmax:\n",
    "            prediction_vector = F.softmax(prediction_vector, dim=1)\n",
    "        return prediction_vector\n",
    "\n",
    "        ### original\n",
    "        # intermediate_vector = self.fc1(x_in)                         # (batch, input_dim) -> (batch, hidden_dim)\n",
    "        # intermediate_vector = self.bn1(intermediate_vector)          # batch norm\n",
    "        # intermediate_vector = F.relu(intermediate_vector)            # activation function\n",
    "        # intermediate_vector = self.dpout(intermediate_vector)        # dropout\n",
    "        \n",
    "        # prediction_vector = self.fc2(intermediate_vector)            # (batch, hidden_dim) -> (batch, output_dim)\n",
    "\n",
    "        # if apply_softmax:\n",
    "        #     prediction_vector = F.softmax(prediction_vector, dim=1)  # (batch, output_dim)\n",
    "\n",
    "        # return prediction_vector                                     # (batch, output_dim)"
   ]
  },
  {
   "cell_type": "markdown",
   "metadata": {},
   "source": [
    "## Training Routine"
   ]
  },
  {
   "cell_type": "markdown",
   "metadata": {},
   "source": [
    "### Helper functions"
   ]
  },
  {
   "cell_type": "code",
   "execution_count": 8,
   "metadata": {
    "code_folding": []
   },
   "outputs": [],
   "source": [
    "def make_train_state(args):\n",
    "    return {'stop_early': False,\n",
    "            'early_stopping_step': 0,\n",
    "            'early_stopping_best_val': 1e8,\n",
    "            'learning_rate': args.learning_rate,\n",
    "            'epoch_index': 0,\n",
    "            'train_loss': [],\n",
    "            'train_acc': [],\n",
    "            'val_loss': [],\n",
    "            'val_acc': [],\n",
    "            'test_loss': -1,\n",
    "            'test_acc': -1,\n",
    "            'model_filename': args.model_state_file}\n",
    "\n",
    "def update_train_state(args, model, train_state):\n",
    "    \"\"\"Handle the training state updates.\n",
    "\n",
    "    Components:\n",
    "     - Early Stopping: Prevent overfitting.\n",
    "     - Model Checkpoint: Model is saved if the model is better\n",
    "\n",
    "    :param args: main arguments\n",
    "    :param model: model to train\n",
    "    :param train_state: a dictionary representing the training state values\n",
    "    :returns:\n",
    "        a new train_state\n",
    "    \"\"\"\n",
    "\n",
    "    # Save one model at least\n",
    "    if train_state['epoch_index'] == 0:\n",
    "        torch.save(model.state_dict(), train_state['model_filename'])\n",
    "        train_state['stop_early'] = False\n",
    "\n",
    "    # Save model if performance improved\n",
    "    elif train_state['epoch_index'] >= 1:\n",
    "        loss_tm1, loss_t = train_state['val_loss'][-2:]\n",
    "\n",
    "        # If loss worsened\n",
    "        if loss_t >= train_state['early_stopping_best_val']:\n",
    "            # Update step\n",
    "            train_state['early_stopping_step'] += 1\n",
    "        # Loss decreased\n",
    "        else:\n",
    "            # Save the best model\n",
    "            if loss_t < train_state['early_stopping_best_val']:\n",
    "                torch.save(model.state_dict(), train_state['model_filename'])\n",
    "                train_state['early_stopping_best_val'] = loss_t  # update 'early_stopping_best_val'\n",
    "\n",
    "            # Reset early stopping step\n",
    "            train_state['early_stopping_step'] = 0\n",
    "\n",
    "        # Stop early ?\n",
    "        # print(train_state['train_acc'])\n",
    "        if train_state['early_stopping_step'] >= args.early_stopping_criteria or train_state['train_acc'][-1] > 99.9 : ### if  train_state['train_acc'] > 0.999 also can stop directly\n",
    "            train_state['stop_early'] = True\n",
    "        else : \n",
    "            train_state['stop_early'] = False\n",
    "\n",
    "    return train_state\n",
    "\n",
    "def compute_accuracy(y_pred, y_target):\n",
    "    _, y_pred_indices = y_pred.max(dim=1)\n",
    "    n_correct = torch.eq(y_pred_indices, y_target).sum().item()\n",
    "    return n_correct / len(y_pred_indices) * 100"
   ]
  },
  {
   "cell_type": "markdown",
   "metadata": {},
   "source": [
    "#### general utilities"
   ]
  },
  {
   "cell_type": "code",
   "execution_count": 9,
   "metadata": {},
   "outputs": [],
   "source": [
    "def set_seed_everywhere(seed, cuda):\n",
    "    np.random.seed(seed)\n",
    "    torch.manual_seed(seed)\n",
    "    if cuda:\n",
    "        torch.cuda.manual_seed_all(seed)\n",
    "\n",
    "def handle_dirs(dirpath):\n",
    "    if not os.path.exists(dirpath):\n",
    "        os.makedirs(dirpath)"
   ]
  },
  {
   "cell_type": "markdown",
   "metadata": {},
   "source": [
    "### Settings and some prep work"
   ]
  },
  {
   "cell_type": "code",
   "execution_count": 10,
   "metadata": {},
   "outputs": [
    {
     "name": "stdout",
     "output_type": "stream",
     "text": [
      "Expanded filepaths: \n",
      "\tmodel_storage/ch4/surname_mlp\\model.pth\n",
      "Using CUDA: True\n"
     ]
    }
   ],
   "source": [
    "args = Namespace(\n",
    "    # Data and path information\n",
    "    surname_csv=\"data/surnames/surnames_with_splits.csv\",\n",
    "    model_state_file=\"model.pth\",\n",
    "    save_dir=\"model_storage/ch4/surname_mlp\",\n",
    "    # Model hyper parameters\n",
    "    hidden_dim=300,\n",
    "    # Training  hyper parameters\n",
    "    seed=1337,\n",
    "    num_epochs=100,\n",
    "    early_stopping_criteria=3,\n",
    "    learning_rate=0.001,\n",
    "    batch_size=64,\n",
    "    # Runtime options\n",
    "    cuda=True,\n",
    "    expand_filepaths_to_save_dir=True,\n",
    "    dropout_rate=0.2, # original value\n",
    "\n",
    "    ###newly added, now is the default value\n",
    "    case_folding=False,\n",
    "    vectorizer_type=Vectorizer_Type.One_Hot,\n",
    "    ngram_option=(1,2), # only valid when Vectorizer_Type is tf-idf\n",
    "    enable_second_hidden_layer=False,\n",
    "    enable_batch_norm=True,\n",
    "    weight_decay=0, ##change to 0 to disable\n",
    ")\n",
    "\n",
    "if args.expand_filepaths_to_save_dir:\n",
    "    args.model_state_file = os.path.join(args.save_dir, args.model_state_file)   \n",
    "    print(\"Expanded filepaths: \")\n",
    "    print(\"\\t{}\".format(args.model_state_file))\n",
    "    \n",
    "# Check CUDA\n",
    "if not torch.cuda.is_available():\n",
    "    args.cuda = False\n",
    "\n",
    "args.device = torch.device(\"cuda\" if args.cuda else \"cpu\")\n",
    "    \n",
    "print(\"Using CUDA: {}\".format(args.cuda))\n",
    "\n",
    "\n",
    "# Set seed for reproducibility\n",
    "set_seed_everywhere(args.seed, args.cuda)\n",
    "\n",
    "# handle dirs\n",
    "handle_dirs(args.save_dir)"
   ]
  },
  {
   "cell_type": "markdown",
   "metadata": {},
   "source": [
    "### Initializations"
   ]
  },
  {
   "cell_type": "code",
   "execution_count": 11,
   "metadata": {},
   "outputs": [],
   "source": [
    "# create dataset and vectorizer\n",
    "def init(args) :\n",
    "    print(\"Creating fresh!\")\n",
    "    dataset = SurnameDataset.load_dataset_and_make_vectorizer(args.surname_csv, args.case_folding , args.vectorizer_type, args.ngram_option)\n",
    "        \n",
    "    vectorizer = dataset.get_vectorizer()\n",
    "    if args.vectorizer_type == Vectorizer_Type.TF_IDF :\n",
    "        num_features = len(vectorizer.tfidf_vectorizer.vocabulary_)\n",
    "        print(f'number of features => {num_features}')\n",
    "        classifier = SurnameClassifier(input_dim=num_features, \n",
    "                                hidden_dim=args.hidden_dim, \n",
    "                                output_dim=len(vectorizer.nationality_vocab),\n",
    "                                enable_second_hidden_layer = args.enable_second_hidden_layer,\n",
    "                                enable_batch_norm = args.enable_batch_norm,\n",
    "                                dropout_rate=args.dropout_rate\n",
    "                                )\n",
    "    else :\n",
    "        classifier = SurnameClassifier(input_dim=len(vectorizer.surname_vocab), \n",
    "                                hidden_dim=args.hidden_dim, \n",
    "                                output_dim=len(vectorizer.nationality_vocab),\n",
    "                                enable_second_hidden_layer = args.enable_second_hidden_layer,\n",
    "                                enable_batch_norm = args.enable_batch_norm,\n",
    "                                dropout_rate=args.dropout_rate\n",
    "                                )\n",
    "    return dataset, vectorizer, classifier\n"
   ]
  },
  {
   "cell_type": "code",
   "execution_count": 12,
   "metadata": {},
   "outputs": [],
   "source": [
    "def printClassifier(classifier) :\n",
    "        for idx, m in enumerate(classifier.named_modules()):\n",
    "                print(idx, '->', m)"
   ]
  },
  {
   "cell_type": "code",
   "execution_count": 13,
   "metadata": {},
   "outputs": [],
   "source": [
    "def printClassifierParameters(classifier) :\n",
    "    for param in classifier.parameters():\n",
    "        print(type(param), param.size())"
   ]
  },
  {
   "cell_type": "code",
   "execution_count": 15,
   "metadata": {},
   "outputs": [],
   "source": [
    "# vectorizer.surname_vocab._token_to_idx"
   ]
  },
  {
   "cell_type": "code",
   "execution_count": 16,
   "metadata": {},
   "outputs": [],
   "source": [
    "# vectorizer.nationality_vocab._token_to_idx"
   ]
  },
  {
   "cell_type": "markdown",
   "metadata": {},
   "source": [
    "### Training loop"
   ]
  },
  {
   "cell_type": "code",
   "execution_count": 14,
   "metadata": {},
   "outputs": [],
   "source": [
    "def train_model(args, dataset, classifier, disable_tqdm=False) : \n",
    "    classifier = classifier.to(args.device)\n",
    "    dataset.class_weights = dataset.class_weights.to(args.device)\n",
    "\n",
    "        \n",
    "    loss_func = nn.CrossEntropyLoss(dataset.class_weights)  # add class_weight for an unbalanced dataset\n",
    "    optimizer = optim.Adam(classifier.parameters(), lr=args.learning_rate, weight_decay=args.weight_decay)\n",
    "    #optimizer = optim.Adam(classifier.parameters(), lr=args.learning_rate, weight_decay=0.001) # weight_decay for L2 regularization\n",
    "    scheduler = optim.lr_scheduler.ReduceLROnPlateau(optimizer=optimizer, mode='min', factor=0.1, patience=10) # update learning rate\n",
    "\n",
    "    train_state = make_train_state(args)\n",
    "\n",
    "    epoch_bar = tqdm(desc='training routine', total=args.num_epochs, position=0, disable=disable_tqdm)\n",
    "\n",
    "    dataset.set_split('train')\n",
    "    train_bar = tqdm(desc='split=train', total=dataset.get_num_batches(args.batch_size), position=1, leave=True, disable=disable_tqdm)\n",
    "    dataset.set_split('val')\n",
    "    val_bar = tqdm(desc='split=val', total=dataset.get_num_batches(args.batch_size), position=1, leave=True, disable=disable_tqdm)\n",
    "\n",
    "    try:\n",
    "        for epoch_index in range(args.num_epochs):\n",
    "            train_state['epoch_index'] = epoch_index\n",
    "\n",
    "            # Iterate over training dataset\n",
    "\n",
    "            # setup: batch generator, set loss and acc to 0, set train mode on\n",
    "\n",
    "            dataset.set_split('train')\n",
    "            batch_generator = generate_batches(dataset, \n",
    "                                            batch_size=args.batch_size, \n",
    "                                            device=args.device)\n",
    "            running_loss = 0.0\n",
    "            running_acc = 0.0\n",
    "            classifier.train()\n",
    "\n",
    "            for batch_index, batch_dict in enumerate(batch_generator):\n",
    "                # the training routine is these 5 steps:\n",
    "\n",
    "                # --------------------------------------\n",
    "                # step 1. zero the gradients\n",
    "                optimizer.zero_grad()\n",
    "\n",
    "                # step 2. compute the output\n",
    "                y_pred = classifier(batch_dict['x_surname'])         # (batch, input_dim) -> (batch, output_dim)\n",
    "\n",
    "                # step 3. compute the loss\n",
    "                loss = loss_func(y_pred, batch_dict['y_nationality'])  # (batch, output_dim), (batch) -> scalar value\n",
    "                loss_t = loss.item()\n",
    "                running_loss += (loss_t - running_loss) / (batch_index + 1)\n",
    "\n",
    "                # step 4. use loss to produce gradients\n",
    "                loss.backward()\n",
    "\n",
    "                # step 5. use optimizer to take gradient step\n",
    "                optimizer.step()\n",
    "                # -----------------------------------------\n",
    "                # compute the accuracy\n",
    "                acc_t = compute_accuracy(y_pred, batch_dict['y_nationality'])\n",
    "                running_acc += (acc_t - running_acc) / (batch_index + 1)\n",
    "\n",
    "                # update bar\n",
    "                train_bar.set_postfix(loss=running_loss, acc=running_acc, \n",
    "                                epoch=epoch_index)\n",
    "                train_bar.update()\n",
    "\n",
    "            train_state['train_loss'].append(running_loss)\n",
    "            train_state['train_acc'].append(running_acc)\n",
    "\n",
    "            # Iterate over val dataset\n",
    "\n",
    "            # setup: batch generator, set loss and acc to 0; set eval mode on\n",
    "            dataset.set_split('val')\n",
    "            batch_generator = generate_batches(dataset, \n",
    "                                            batch_size=args.batch_size, \n",
    "                                            device=args.device)\n",
    "            running_loss = 0.\n",
    "            running_acc = 0.\n",
    "            classifier.eval()\n",
    "\n",
    "            for batch_index, batch_dict in enumerate(batch_generator):\n",
    "\n",
    "                # compute the output\n",
    "                y_pred =  classifier(batch_dict['x_surname'])\n",
    "\n",
    "                # step 3. compute the loss\n",
    "                loss = loss_func(y_pred, batch_dict['y_nationality'])\n",
    "                loss_t = loss.to(\"cpu\").item()\n",
    "                running_loss += (loss_t - running_loss) / (batch_index + 1)\n",
    "\n",
    "                # compute the accuracy\n",
    "                acc_t = compute_accuracy(y_pred, batch_dict['y_nationality'])\n",
    "                running_acc += (acc_t - running_acc) / (batch_index + 1)\n",
    "                val_bar.set_postfix(loss=running_loss, acc=running_acc, \n",
    "                                epoch=epoch_index)\n",
    "                val_bar.update()\n",
    "\n",
    "            train_state['val_loss'].append(running_loss)\n",
    "            train_state['val_acc'].append(running_acc)\n",
    "\n",
    "            train_state = update_train_state(args=args, model=classifier,\n",
    "                                            train_state=train_state)\n",
    "\n",
    "            scheduler.step(train_state['val_loss'][-1])\n",
    "\n",
    "            if train_state['stop_early']:\n",
    "                break\n",
    "\n",
    "            train_bar.n = 0\n",
    "            val_bar.n = 0\n",
    "            epoch_bar.update()\n",
    "    except KeyboardInterrupt:\n",
    "        print(\"Exiting loop\")\n",
    "    return train_state, loss_func"
   ]
  },
  {
   "cell_type": "code",
   "execution_count": 15,
   "metadata": {},
   "outputs": [],
   "source": [
    "\n",
    "import matplotlib.pyplot as plt\n",
    "\n",
    "def draw_loss_and_acc(train_state, title) :\n",
    "    epochs = range(1, len(train_state['train_acc']) + 1)\n",
    "    fig, ax1 = plt.subplots(1, 2, figsize=(15, 7))\n",
    "\n",
    "    fig.suptitle(title, fontsize=16, fontweight=\"bold\")\n",
    "\n",
    "    ax1[0].plot(epochs, train_state['train_loss'], 'bo-', label='Training Loss')\n",
    "    ax1[0].plot(epochs, train_state['val_loss'], 'r-', label='Validation Loss') \n",
    "    ax1[0].set_title('Training and Validation Loss')\n",
    "    ax1[0].set_xlabel('Epochs')\n",
    "    ax1[0].set_ylabel('Loss')\n",
    "    ax1[0].legend()\n",
    "\n",
    "    ax1[1].plot(epochs, train_state['train_acc'], 'go-', label='Training Accuracy')\n",
    "    ax1[1].plot(epochs, train_state['val_acc'], 'm-', label='Validation Accuracy') \n",
    "    ax1[1].set_title('Training and Validation Accuracy')\n",
    "    ax1[1].set_xlabel('Epochs')\n",
    "    ax1[1].set_ylabel('Accuracy')\n",
    "    ax1[1].legend()\n",
    "\n",
    "    plt.tight_layout(rect=[0, 0, 1, 0.95])\n",
    "    plt.tight_layout() \n",
    "    plt.show()"
   ]
  },
  {
   "cell_type": "code",
   "execution_count": 16,
   "metadata": {},
   "outputs": [],
   "source": [
    "from sklearn.metrics import classification_report, confusion_matrix, accuracy_score\n",
    "import pandas as pd\n",
    "\n",
    "# compute the loss & accuracy on the test set using the best available model\n",
    "def check_test_data(args, dataset, classifier, train_state, loss_func, enable_print_info=True) :\n",
    "    classifier.load_state_dict(torch.load(train_state['model_filename'], weights_only=False)) # load the best model\n",
    "\n",
    "    classifier = classifier.to(args.device)\n",
    "    dataset.class_weights = dataset.class_weights.to(args.device)\n",
    "    loss_func = nn.CrossEntropyLoss(dataset.class_weights)\n",
    "\n",
    "    dataset.set_split('test')\n",
    "    batch_generator = generate_batches(dataset, \n",
    "                                    batch_size=args.batch_size, \n",
    "                                    device=args.device)\n",
    "    running_loss = 0.\n",
    "    running_acc = 0.\n",
    "    classifier.eval()\n",
    "\n",
    "    y_pred_list = []         # store predicted values for confusion matrix\n",
    "    y_nationality_list = []  # ground truth value\n",
    "\n",
    "    for batch_index, batch_dict in enumerate(batch_generator):\n",
    "        # compute the output\n",
    "        y_pred =  classifier(batch_dict['x_surname'])\n",
    "        \n",
    "        # store predicted values and ground truth values for calculating confusion matrix\n",
    "        # y_pred_list.extend(y_pred.max(dim=1)[1].numpy())\n",
    "        y_pred_list.extend(y_pred.max(dim=1)[1].cpu().numpy())\n",
    "        # y_nationality_list.extend(batch_dict['y_nationality'].numpy())\n",
    "        y_nationality_list.extend(batch_dict['y_nationality'].cpu().numpy())\n",
    "        \n",
    "        # compute the loss\n",
    "        loss = loss_func(y_pred, batch_dict['y_nationality'])\n",
    "        loss_t = loss.item()\n",
    "        running_loss += (loss_t - running_loss) / (batch_index + 1)\n",
    "\n",
    "        # compute the accuracy\n",
    "        acc_t = compute_accuracy(y_pred, batch_dict['y_nationality'])\n",
    "        running_acc += (acc_t - running_acc) / (batch_index + 1)\n",
    "\n",
    "    train_state['test_loss'] = running_loss\n",
    "    train_state['test_acc'] = running_acc\n",
    "\n",
    "    if enable_print_info: \n",
    "        print(\"==================================dividing line==================================\")\n",
    "        print(\"Test loss: {};\".format(train_state['test_loss']))\n",
    "        print(\"Test Accuracy: {}\".format(train_state['test_acc']))\n",
    "        print(\"==================================dividing line==================================\")\n",
    "        print(confusion_matrix(y_nationality_list, y_pred_list).T)  \n",
    "    \n",
    "    if enable_print_info: \n",
    "        nationality_classes = []\n",
    "        for i in range(len(dataset._vectorizer.nationality_vocab)):\n",
    "            nationality_classes.append(dataset._vectorizer.nationality_vocab.lookup_index(i))\n",
    "        print(nationality_classes)\n",
    "    \n",
    "    if enable_print_info :\n",
    "        cm = confusion_matrix(y_nationality_list, y_pred_list)\n",
    "        cm_df = pd.DataFrame(cm.T, index=nationality_classes, columns=nationality_classes)\n",
    "        cm_df.index.name = 'Predicted'\n",
    "        cm_df.columns.name = 'True'\n",
    "        print(cm_df)\n",
    "\n",
    "    if enable_print_info :\n",
    "        print(classification_report(y_nationality_list, y_pred_list))\n",
    "    \n",
    "    return train_state['test_acc'], train_state['test_loss']"
   ]
  },
  {
   "cell_type": "code",
   "execution_count": 17,
   "metadata": {},
   "outputs": [
    {
     "name": "stdout",
     "output_type": "stream",
     "text": [
      "Creating fresh!\n"
     ]
    },
    {
     "data": {
      "application/vnd.jupyter.widget-view+json": {
       "model_id": "296666702e384d488f76d2b4e8576edd",
       "version_major": 2,
       "version_minor": 0
      },
      "text/plain": [
       "training routine:   0%|          | 0/100 [00:00<?, ?it/s]"
      ]
     },
     "metadata": {},
     "output_type": "display_data"
    },
    {
     "data": {
      "application/vnd.jupyter.widget-view+json": {
       "model_id": "ee3a280418564ef29487f0aa251a980a",
       "version_major": 2,
       "version_minor": 0
      },
      "text/plain": [
       "split=train:   0%|          | 0/120 [00:00<?, ?it/s]"
      ]
     },
     "metadata": {},
     "output_type": "display_data"
    },
    {
     "data": {
      "application/vnd.jupyter.widget-view+json": {
       "model_id": "c5e943209ba247d8befec1d978f08f08",
       "version_major": 2,
       "version_minor": 0
      },
      "text/plain": [
       "split=val:   0%|          | 0/25 [00:00<?, ?it/s]"
      ]
     },
     "metadata": {},
     "output_type": "display_data"
    },
    {
     "data": {
      "image/png": "[encoded data removed]",
      "text/plain": [
       "<Figure size 1500x700 with 2 Axes>"
      ]
     },
     "metadata": {},
     "output_type": "display_data"
    },
    {
     "name": "stdout",
     "output_type": "stream",
     "text": [
      "==================================dividing line==================================\n",
      "Test loss: 1.7020662879943846;\n",
      "Test Accuracy: 50.12499999999999\n",
      "==================================dividing line==================================\n",
      "[[209   0   2   0  12   0   6   0   3   0  14   0   0   0   4   0   1   0]\n",
      " [  0  14   0   0   5   1   0   0   2   2   2   0   0   0   3   0   1   3]\n",
      " [  0   0  11   0  10   0   2   0   0   3   1   0   2   0   6   0   1   0]\n",
      " [  2   0   6  23  49   0  13   1   2   3   2   1   0   0  14   1   2   0]\n",
      " [  0   0   5   2  95   2   2   0   1   0   3   1   0   1   5   1   0   0]\n",
      " [  0   0   4   2  58  14   7   1   3   9   2   0   0   2  11   2   3   0]\n",
      " [  0   0  11   0  40   1  34   0   2   3   1   0   0   0   8   2   0   0]\n",
      " [  3   0   3   1  13   0   1  14   0   1   2   0   0   0  13   1   2   0]\n",
      " [  0   0   2   1  26   3   2   0   8   7   2   0   1   0   4   0   1   0]\n",
      " [  3   1   3   1  15   1   1   0   1  34   1   0   1   0  12   0   4   0]\n",
      " [  7   0   2   1   9   0   0   1   3   4  71   0   0   1  14   1   1   0]\n",
      " [  2  11   0   0  10   0   1   0   0   1   2   7   0   0   2   1   1   1]\n",
      " [  0   0   2   0   7   0   2   0   0   0   0   0  10   0   5   0   0   0]\n",
      " [  0   0   1   0  13   5   3   1   0   6   0   0   0   2   0   0   1   0]\n",
      " [  2   0   6   2  15   2   0   3   0   4   5   0   1   0 229   0   1   0]\n",
      " [  1   0   1   1  29   3   1   0   2   3   0   0   1   0   1   3   1   0]\n",
      " [  0   0   2   0  16   0   7   2   1   5   1   0   1   2   6   0  20   0]\n",
      " [  3   6   1   0  10   1   5   0   0   2   3   4   0   1   2   0   0   4]]\n",
      "['Arabic', 'Chinese', 'Czech', 'Dutch', 'English', 'French', 'German', 'Greek', 'Irish', 'Italian', 'Japanese', 'Korean', 'Polish', 'Portuguese', 'Russian', 'Scottish', 'Spanish', 'Vietnamese']\n",
      "True        Arabic  Chinese  Czech  Dutch  English  French  German  Greek  \\\n",
      "Predicted                                                                   \n",
      "Arabic         209        0      2      0       12       0       6      0   \n",
      "Chinese          0       14      0      0        5       1       0      0   \n",
      "Czech            0        0     11      0       10       0       2      0   \n",
      "Dutch            2        0      6     23       49       0      13      1   \n",
      "English          0        0      5      2       95       2       2      0   \n",
      "French           0        0      4      2       58      14       7      1   \n",
      "German           0        0     11      0       40       1      34      0   \n",
      "Greek            3        0      3      1       13       0       1     14   \n",
      "Irish            0        0      2      1       26       3       2      0   \n",
      "Italian          3        1      3      1       15       1       1      0   \n",
      "Japanese         7        0      2      1        9       0       0      1   \n",
      "Korean           2       11      0      0       10       0       1      0   \n",
      "Polish           0        0      2      0        7       0       2      0   \n",
      "Portuguese       0        0      1      0       13       5       3      1   \n",
      "Russian          2        0      6      2       15       2       0      3   \n",
      "Scottish         1        0      1      1       29       3       1      0   \n",
      "Spanish          0        0      2      0       16       0       7      2   \n",
      "Vietnamese       3        6      1      0       10       1       5      0   \n",
      "\n",
      "True        Irish  Italian  Japanese  Korean  Polish  Portuguese  Russian  \\\n",
      "Predicted                                                                   \n",
      "Arabic          3        0        14       0       0           0        4   \n",
      "Chinese         2        2         2       0       0           0        3   \n",
      "Czech           0        3         1       0       2           0        6   \n",
      "Dutch           2        3         2       1       0           0       14   \n",
      "English         1        0         3       1       0           1        5   \n",
      "French          3        9         2       0       0           2       11   \n",
      "German          2        3         1       0       0           0        8   \n",
      "Greek           0        1         2       0       0           0       13   \n",
      "Irish           8        7         2       0       1           0        4   \n",
      "Italian         1       34         1       0       1           0       12   \n",
      "Japanese        3        4        71       0       0           1       14   \n",
      "Korean          0        1         2       7       0           0        2   \n",
      "Polish          0        0         0       0      10           0        5   \n",
      "Portuguese      0        6         0       0       0           2        0   \n",
      "Russian         0        4         5       0       1           0      229   \n",
      "Scottish        2        3         0       0       1           0        1   \n",
      "Spanish         1        5         1       0       1           2        6   \n",
      "Vietnamese      0        2         3       4       0           1        2   \n",
      "\n",
      "True        Scottish  Spanish  Vietnamese  \n",
      "Predicted                                  \n",
      "Arabic             0        1           0  \n",
      "Chinese            0        1           3  \n",
      "Czech              0        1           0  \n",
      "Dutch              1        2           0  \n",
      "English            1        0           0  \n",
      "French             2        3           0  \n",
      "German             2        0           0  \n",
      "Greek              1        2           0  \n",
      "Irish              0        1           0  \n",
      "Italian            0        4           0  \n",
      "Japanese           1        1           0  \n",
      "Korean             1        1           1  \n",
      "Polish             0        0           0  \n",
      "Portuguese         0        1           0  \n",
      "Russian            0        1           0  \n",
      "Scottish           3        1           0  \n",
      "Spanish            0       20           0  \n",
      "Vietnamese         0        0           4  \n",
      "              precision    recall  f1-score   support\n",
      "\n",
      "           0       0.83      0.90      0.87       232\n",
      "           1       0.42      0.44      0.43        32\n",
      "           2       0.31      0.18      0.22        62\n",
      "           3       0.19      0.68      0.30        34\n",
      "           4       0.81      0.22      0.35       432\n",
      "           5       0.12      0.42      0.19        33\n",
      "           6       0.33      0.39      0.36        87\n",
      "           7       0.26      0.61      0.36        23\n",
      "           8       0.14      0.29      0.19        28\n",
      "           9       0.44      0.39      0.41        87\n",
      "          10       0.62      0.63      0.63       112\n",
      "          11       0.18      0.54      0.27        13\n",
      "          12       0.38      0.59      0.47        17\n",
      "          13       0.06      0.22      0.10         9\n",
      "          14       0.85      0.68      0.75       339\n",
      "          15       0.06      0.25      0.10        12\n",
      "          16       0.32      0.50      0.39        40\n",
      "          17       0.10      0.50      0.16         8\n",
      "\n",
      "    accuracy                           0.50      1600\n",
      "   macro avg       0.36      0.47      0.36      1600\n",
      "weighted avg       0.65      0.50      0.52      1600\n",
      "\n"
     ]
    },
    {
     "data": {
      "text/plain": [
       "(50.12499999999999, 1.7020662879943846)"
      ]
     },
     "execution_count": 17,
     "metadata": {},
     "output_type": "execute_result"
    }
   ],
   "source": [
    "dataset, vectorizer, classifier = init(args)\n",
    "train_state, loss_func = train_model(args, dataset=dataset, classifier=classifier)\n",
    "draw_loss_and_acc(train_state, \"ORIGINAL\")\n",
    "check_test_data(args, dataset, classifier, train_state, loss_func, enable_print_info=True)"
   ]
  },
  {
   "cell_type": "markdown",
   "metadata": {},
   "source": [
    "# STEP 1\n",
    "### modify any 1 parameter and get result here."
   ]
  },
  {
   "cell_type": "code",
   "execution_count": 21,
   "metadata": {},
   "outputs": [
    {
     "name": "stdout",
     "output_type": "stream",
     "text": [
      "Expanded filepaths: \n",
      "\tmodel_storage/ch4/surname_mlp\\model.pth\n",
      "Using CUDA: True\n",
      "Creating fresh!\n"
     ]
    },
    {
     "data": {
      "application/vnd.jupyter.widget-view+json": {
       "model_id": "69124c1cfb954610831e2ee692ff6319",
       "version_major": 2,
       "version_minor": 0
      },
      "text/plain": [
       "training routine:   0%|          | 0/100 [00:00<?, ?it/s]"
      ]
     },
     "metadata": {},
     "output_type": "display_data"
    },
    {
     "data": {
      "application/vnd.jupyter.widget-view+json": {
       "model_id": "e404c38957774425abc30d3b69073a0f",
       "version_major": 2,
       "version_minor": 0
      },
      "text/plain": [
       "split=train:   0%|          | 0/120 [00:00<?, ?it/s]"
      ]
     },
     "metadata": {},
     "output_type": "display_data"
    },
    {
     "data": {
      "application/vnd.jupyter.widget-view+json": {
       "model_id": "8ad35e3bd32c421ab579d23830070b35",
       "version_major": 2,
       "version_minor": 0
      },
      "text/plain": [
       "split=val:   0%|          | 0/25 [00:00<?, ?it/s]"
      ]
     },
     "metadata": {},
     "output_type": "display_data"
    },
    {
     "name": "stdout",
     "output_type": "stream",
     "text": [
      "(49.81249999999999, 1.7010099506378171)\n"
     ]
    }
   ],
   "source": [
    "args = Namespace(\n",
    "    surname_csv=\"data/surnames/surnames_with_splits.csv\",\n",
    "    model_state_file=\"model.pth\",\n",
    "    save_dir=\"model_storage/ch4/surname_mlp\",\n",
    "    seed=1337,\n",
    "    num_epochs=100,\n",
    "    early_stopping_criteria=3,\n",
    "    cuda=True,\n",
    "    expand_filepaths_to_save_dir=True,\n",
    "\n",
    "\n",
    "    hidden_dim=300, ###200, 400\n",
    "    learning_rate=0.001, #0.0001, 0.01\n",
    "    batch_size=64, #32, 128\n",
    "    dropout_rate=0.2, #0.1, 0.5\n",
    "    case_folding=False, #True\n",
    "    vectorizer_type=Vectorizer_Type.One_Hot, #Vectorizer_Type.Term_Freq,  Vectorizer_Type.TF_IDF, One_Hot\n",
    "    ngram_option=(1,2), # TYPE CHAR, only valid when Vectorizer_Type is tf-idf  One_Hot\n",
    "    enable_second_hidden_layer=False,\n",
    "    enable_batch_norm=True,\n",
    "    weight_decay=0.0001, ##change to 0 to disable\n",
    ")\n",
    "\n",
    "if args.expand_filepaths_to_save_dir:\n",
    "    args.model_state_file = os.path.join(args.save_dir, args.model_state_file)   \n",
    "    print(\"Expanded filepaths: \")\n",
    "    print(\"\\t{}\".format(args.model_state_file))\n",
    "    \n",
    "# Check CUDA\n",
    "if not torch.cuda.is_available():\n",
    "    args.cuda = False\n",
    "\n",
    "args.device = torch.device(\"cuda\" if args.cuda else \"cpu\")\n",
    "    \n",
    "print(\"Using CUDA: {}\".format(args.cuda))\n",
    "\n",
    "\n",
    "# Set seed for reproducibility\n",
    "set_seed_everywhere(args.seed, args.cuda)\n",
    "\n",
    "# handle dirs\n",
    "handle_dirs(args.save_dir)\n",
    "\n",
    "dataset, vectorizer, classifier = init(args)\n",
    "train_state, loss_func = train_model(args, dataset=dataset, classifier=classifier)\n",
    "# draw_loss_and_acc(train_state, \"ORIGINAL\")\n",
    "print(check_test_data(args, dataset, classifier, train_state, loss_func, enable_print_info=False))"
   ]
  },
  {
   "cell_type": "markdown",
   "metadata": {},
   "source": [
    "# paramters selection"
   ]
  },
  {
   "cell_type": "code",
   "execution_count": null,
   "metadata": {},
   "outputs": [
    {
     "name": "stderr",
     "output_type": "stream",
     "text": [
      "[I 2025-03-01 12:12:28,300] A new study created in memory with name: no-name-cfe89d2d-48ff-43b3-b787-73740e75bb9d\n"
     ]
    },
    {
     "name": "stdout",
     "output_type": "stream",
     "text": [
      "Creating fresh!\n"
     ]
    },
    {
     "name": "stderr",
     "output_type": "stream",
     "text": [
      "[I 2025-03-01 12:12:46,341] Trial 0 finished with value: 55.15776699029127 and parameters: {'vectorizer_type': 'term-freq', 'hidden_dim': 310, 'batch_size': 16, 'dropout_rate': 0.04, 'weight_decay': 0.0001}. Best is trial 0 with value: 55.15776699029127.\n"
     ]
    },
    {
     "name": "stdout",
     "output_type": "stream",
     "text": [
      "Creating fresh!\n"
     ]
    },
    {
     "name": "stderr",
     "output_type": "stream",
     "text": [
      "[I 2025-03-01 12:13:11,118] Trial 1 finished with value: 53.580097087378626 and parameters: {'vectorizer_type': 'term-freq', 'hidden_dim': 380, 'batch_size': 16, 'dropout_rate': 0.21, 'weight_decay': 0}. Best is trial 0 with value: 55.15776699029127.\n"
     ]
    },
    {
     "name": "stdout",
     "output_type": "stream",
     "text": [
      "Creating fresh!\n",
      "number of features => 721\n"
     ]
    },
    {
     "name": "stderr",
     "output_type": "stream",
     "text": [
      "[I 2025-03-01 12:13:40,162] Trial 2 finished with value: 68.0625 and parameters: {'vectorizer_type': 'tf-idf', 'ngram_option': '1,2', 'hidden_dim': 300, 'batch_size': 64, 'dropout_rate': 0.11, 'weight_decay': 0}. Best is trial 2 with value: 68.0625.\n"
     ]
    },
    {
     "name": "stdout",
     "output_type": "stream",
     "text": [
      "Creating fresh!\n"
     ]
    },
    {
     "name": "stderr",
     "output_type": "stream",
     "text": [
      "[I 2025-03-01 12:13:47,379] Trial 3 finished with value: 43.6875 and parameters: {'vectorizer_type': 'one-hot', 'hidden_dim': 310, 'batch_size': 64, 'dropout_rate': 0.32, 'weight_decay': 0}. Best is trial 2 with value: 68.0625.\n"
     ]
    },
    {
     "name": "stdout",
     "output_type": "stream",
     "text": [
      "Creating fresh!\n"
     ]
    },
    {
     "name": "stderr",
     "output_type": "stream",
     "text": [
      "[I 2025-03-01 12:13:58,437] Trial 4 finished with value: 48.749999999999986 and parameters: {'vectorizer_type': 'term-freq', 'hidden_dim': 430, 'batch_size': 64, 'dropout_rate': 0.38, 'weight_decay': 1e-05}. Best is trial 2 with value: 68.0625.\n"
     ]
    },
    {
     "name": "stdout",
     "output_type": "stream",
     "text": [
      "Creating fresh!\n"
     ]
    },
    {
     "name": "stderr",
     "output_type": "stream",
     "text": [
      "[I 2025-03-01 12:14:32,438] Trial 5 finished with value: 49.21497584541065 and parameters: {'vectorizer_type': 'one-hot', 'hidden_dim': 330, 'batch_size': 8, 'dropout_rate': 0.47000000000000003, 'weight_decay': 1e-05}. Best is trial 2 with value: 68.0625.\n"
     ]
    },
    {
     "name": "stdout",
     "output_type": "stream",
     "text": [
      "Creating fresh!\n"
     ]
    },
    {
     "name": "stderr",
     "output_type": "stream",
     "text": [
      "[I 2025-03-01 12:14:52,358] Trial 6 finished with value: 51.57766990291264 and parameters: {'vectorizer_type': 'one-hot', 'hidden_dim': 490, 'batch_size': 16, 'dropout_rate': 0.07, 'weight_decay': 1e-05}. Best is trial 2 with value: 68.0625.\n"
     ]
    },
    {
     "name": "stdout",
     "output_type": "stream",
     "text": [
      "Creating fresh!\n"
     ]
    },
    {
     "name": "stderr",
     "output_type": "stream",
     "text": [
      "[I 2025-03-01 12:15:04,418] Trial 7 finished with value: 50.54611650485438 and parameters: {'vectorizer_type': 'term-freq', 'hidden_dim': 450, 'batch_size': 16, 'dropout_rate': 0.26, 'weight_decay': 0}. Best is trial 2 with value: 68.0625.\n"
     ]
    },
    {
     "name": "stdout",
     "output_type": "stream",
     "text": [
      "Creating fresh!\n"
     ]
    },
    {
     "name": "stderr",
     "output_type": "stream",
     "text": [
      "[I 2025-03-01 12:15:15,398] Trial 8 finished with value: 45.83333333333333 and parameters: {'vectorizer_type': 'one-hot', 'hidden_dim': 500, 'batch_size': 32, 'dropout_rate': 0.47000000000000003, 'weight_decay': 0}. Best is trial 2 with value: 68.0625.\n"
     ]
    },
    {
     "name": "stdout",
     "output_type": "stream",
     "text": [
      "Creating fresh!\n",
      "number of features => 17824\n"
     ]
    },
    {
     "name": "stderr",
     "output_type": "stream",
     "text": [
      "[I 2025-03-01 12:15:29,698] Trial 9 finished with value: 69.35679611650482 and parameters: {'vectorizer_type': 'tf-idf', 'ngram_option': '2,4', 'hidden_dim': 350, 'batch_size': 16, 'dropout_rate': 0.29, 'weight_decay': 1e-05}. Best is trial 9 with value: 69.35679611650482.\n"
     ]
    },
    {
     "name": "stdout",
     "output_type": "stream",
     "text": [
      "Creating fresh!\n"
     ]
    },
    {
     "name": "stderr",
     "output_type": "stream",
     "text": [
      "[I 2025-03-01 12:16:03,338] Trial 10 finished with value: 51.02657004830922 and parameters: {'vectorizer_type': 'one-hot', 'hidden_dim': 340, 'batch_size': 8, 'dropout_rate': 0.29, 'weight_decay': 0.0001}. Best is trial 9 with value: 69.35679611650482.\n"
     ]
    },
    {
     "name": "stdout",
     "output_type": "stream",
     "text": [
      "Creating fresh!\n",
      "number of features => 721\n"
     ]
    },
    {
     "name": "stderr",
     "output_type": "stream",
     "text": [
      "[I 2025-03-01 12:16:31,699] Trial 11 finished with value: 66.11519607843137 and parameters: {'vectorizer_type': 'tf-idf', 'ngram_option': '1,2', 'hidden_dim': 370, 'batch_size': 32, 'dropout_rate': 0.42, 'weight_decay': 1e-05}. Best is trial 9 with value: 69.35679611650482.\n"
     ]
    },
    {
     "name": "stdout",
     "output_type": "stream",
     "text": [
      "Creating fresh!\n"
     ]
    },
    {
     "name": "stderr",
     "output_type": "stream",
     "text": [
      "[I 2025-03-01 12:16:51,038] Trial 12 finished with value: 50.664251207729464 and parameters: {'vectorizer_type': 'one-hot', 'hidden_dim': 400, 'batch_size': 8, 'dropout_rate': 0.16, 'weight_decay': 1e-05}. Best is trial 9 with value: 69.35679611650482.\n"
     ]
    },
    {
     "name": "stdout",
     "output_type": "stream",
     "text": [
      "Creating fresh!\n"
     ]
    },
    {
     "name": "stderr",
     "output_type": "stream",
     "text": [
      "[I 2025-03-01 12:17:09,842] Trial 13 finished with value: 47.82608695652174 and parameters: {'vectorizer_type': 'one-hot', 'hidden_dim': 480, 'batch_size': 8, 'dropout_rate': 0.45, 'weight_decay': 0.0001}. Best is trial 9 with value: 69.35679611650482.\n"
     ]
    },
    {
     "name": "stdout",
     "output_type": "stream",
     "text": [
      "Creating fresh!\n"
     ]
    },
    {
     "name": "stderr",
     "output_type": "stream",
     "text": [
      "[I 2025-03-01 12:17:27,570] Trial 14 finished with value: 50.98039215686275 and parameters: {'vectorizer_type': 'term-freq', 'hidden_dim': 490, 'batch_size': 32, 'dropout_rate': 0.42, 'weight_decay': 0.0001}. Best is trial 9 with value: 69.35679611650482.\n"
     ]
    },
    {
     "name": "stdout",
     "output_type": "stream",
     "text": [
      "Creating fresh!\n"
     ]
    },
    {
     "name": "stderr",
     "output_type": "stream",
     "text": [
      "[I 2025-03-01 12:17:45,975] Trial 15 finished with value: 52.59661835748796 and parameters: {'vectorizer_type': 'term-freq', 'hidden_dim': 460, 'batch_size': 8, 'dropout_rate': 0.11, 'weight_decay': 0}. Best is trial 9 with value: 69.35679611650482.\n"
     ]
    },
    {
     "name": "stdout",
     "output_type": "stream",
     "text": [
      "Creating fresh!\n"
     ]
    },
    {
     "name": "stderr",
     "output_type": "stream",
     "text": [
      "[I 2025-03-01 12:18:04,507] Trial 16 finished with value: 49.271844660194176 and parameters: {'vectorizer_type': 'one-hot', 'hidden_dim': 340, 'batch_size': 16, 'dropout_rate': 0.4, 'weight_decay': 0}. Best is trial 9 with value: 69.35679611650482.\n"
     ]
    },
    {
     "name": "stdout",
     "output_type": "stream",
     "text": [
      "Creating fresh!\n",
      "number of features => 5337\n"
     ]
    },
    {
     "name": "stderr",
     "output_type": "stream",
     "text": [
      "[I 2025-03-01 12:18:23,034] Trial 17 finished with value: 70.47101449275364 and parameters: {'vectorizer_type': 'tf-idf', 'ngram_option': '2,3', 'hidden_dim': 410, 'batch_size': 8, 'dropout_rate': 0.23, 'weight_decay': 0}. Best is trial 17 with value: 70.47101449275364.\n"
     ]
    },
    {
     "name": "stdout",
     "output_type": "stream",
     "text": [
      "Creating fresh!\n",
      "number of features => 17152\n"
     ]
    },
    {
     "name": "stderr",
     "output_type": "stream",
     "text": [
      "[I 2025-03-01 12:18:37,155] Trial 18 finished with value: 68.14320388349512 and parameters: {'vectorizer_type': 'tf-idf', 'ngram_option': '3,4', 'hidden_dim': 460, 'batch_size': 16, 'dropout_rate': 0.01, 'weight_decay': 1e-05}. Best is trial 17 with value: 70.47101449275364.\n"
     ]
    },
    {
     "name": "stdout",
     "output_type": "stream",
     "text": [
      "Creating fresh!\n",
      "number of features => 5386\n"
     ]
    },
    {
     "name": "stderr",
     "output_type": "stream",
     "text": [
      "[I 2025-03-01 12:18:53,242] Trial 19 finished with value: 71.07843137254899 and parameters: {'vectorizer_type': 'tf-idf', 'ngram_option': '1,3', 'hidden_dim': 300, 'batch_size': 32, 'dropout_rate': 0.24, 'weight_decay': 0.0001}. Best is trial 19 with value: 71.07843137254899.\n"
     ]
    },
    {
     "name": "stdout",
     "output_type": "stream",
     "text": [
      "Creating fresh!\n"
     ]
    },
    {
     "name": "stderr",
     "output_type": "stream",
     "text": [
      "[I 2025-03-01 12:19:08,898] Trial 20 finished with value: 50.000000000000014 and parameters: {'vectorizer_type': 'one-hot', 'hidden_dim': 410, 'batch_size': 32, 'dropout_rate': 0.25, 'weight_decay': 0}. Best is trial 19 with value: 71.07843137254899.\n"
     ]
    },
    {
     "name": "stdout",
     "output_type": "stream",
     "text": [
      "Creating fresh!\n"
     ]
    },
    {
     "name": "stderr",
     "output_type": "stream",
     "text": [
      "[I 2025-03-01 12:19:38,079] Trial 21 finished with value: 49.577294685990324 and parameters: {'vectorizer_type': 'one-hot', 'hidden_dim': 380, 'batch_size': 8, 'dropout_rate': 0.48, 'weight_decay': 0.0001}. Best is trial 19 with value: 71.07843137254899.\n"
     ]
    },
    {
     "name": "stdout",
     "output_type": "stream",
     "text": [
      "Creating fresh!\n"
     ]
    },
    {
     "name": "stderr",
     "output_type": "stream",
     "text": [
      "[I 2025-03-01 12:19:49,702] Trial 22 finished with value: 50.8578431372549 and parameters: {'vectorizer_type': 'term-freq', 'hidden_dim': 460, 'batch_size': 32, 'dropout_rate': 0.09, 'weight_decay': 0.0001}. Best is trial 19 with value: 71.07843137254899.\n"
     ]
    },
    {
     "name": "stdout",
     "output_type": "stream",
     "text": [
      "Creating fresh!\n",
      "number of features => 5337\n"
     ]
    },
    {
     "name": "stderr",
     "output_type": "stream",
     "text": [
      "[I 2025-03-01 12:20:02,758] Trial 23 finished with value: 70.28186274509805 and parameters: {'vectorizer_type': 'tf-idf', 'ngram_option': '2,3', 'hidden_dim': 370, 'batch_size': 32, 'dropout_rate': 0.14, 'weight_decay': 0.0001}. Best is trial 19 with value: 71.07843137254899.\n"
     ]
    },
    {
     "name": "stdout",
     "output_type": "stream",
     "text": [
      "Creating fresh!\n"
     ]
    },
    {
     "name": "stderr",
     "output_type": "stream",
     "text": [
      "[I 2025-03-01 12:20:12,095] Trial 24 finished with value: 46.56862745098039 and parameters: {'vectorizer_type': 'one-hot', 'hidden_dim': 470, 'batch_size': 32, 'dropout_rate': 0.44, 'weight_decay': 0}. Best is trial 19 with value: 71.07843137254899.\n"
     ]
    },
    {
     "name": "stdout",
     "output_type": "stream",
     "text": [
      "Creating fresh!\n"
     ]
    },
    {
     "name": "stderr",
     "output_type": "stream",
     "text": [
      "[I 2025-03-01 12:20:30,519] Trial 25 finished with value: 53.64077669902913 and parameters: {'vectorizer_type': 'term-freq', 'hidden_dim': 410, 'batch_size': 16, 'dropout_rate': 0.31, 'weight_decay': 1e-05}. Best is trial 19 with value: 71.07843137254899.\n"
     ]
    },
    {
     "name": "stdout",
     "output_type": "stream",
     "text": [
      "Creating fresh!\n",
      "number of features => 721\n"
     ]
    },
    {
     "name": "stderr",
     "output_type": "stream",
     "text": [
      "[I 2025-03-01 12:21:00,958] Trial 26 finished with value: 66.375 and parameters: {'vectorizer_type': 'tf-idf', 'ngram_option': '1,2', 'hidden_dim': 470, 'batch_size': 64, 'dropout_rate': 0.49, 'weight_decay': 0}. Best is trial 19 with value: 71.07843137254899.\n"
     ]
    },
    {
     "name": "stdout",
     "output_type": "stream",
     "text": [
      "Creating fresh!\n",
      "number of features => 721\n"
     ]
    },
    {
     "name": "stderr",
     "output_type": "stream",
     "text": [
      "[I 2025-03-01 12:21:28,559] Trial 27 finished with value: 67.5625 and parameters: {'vectorizer_type': 'tf-idf', 'ngram_option': '1,2', 'hidden_dim': 390, 'batch_size': 64, 'dropout_rate': 0.22, 'weight_decay': 1e-05}. Best is trial 19 with value: 71.07843137254899.\n"
     ]
    },
    {
     "name": "stdout",
     "output_type": "stream",
     "text": [
      "Creating fresh!\n"
     ]
    },
    {
     "name": "stderr",
     "output_type": "stream",
     "text": [
      "[I 2025-03-01 12:21:46,119] Trial 28 finished with value: 53.033980582524286 and parameters: {'vectorizer_type': 'term-freq', 'hidden_dim': 450, 'batch_size': 16, 'dropout_rate': 0.32, 'weight_decay': 1e-05}. Best is trial 19 with value: 71.07843137254899.\n"
     ]
    },
    {
     "name": "stdout",
     "output_type": "stream",
     "text": [
      "Creating fresh!\n"
     ]
    },
    {
     "name": "stderr",
     "output_type": "stream",
     "text": [
      "[I 2025-03-01 12:21:59,079] Trial 29 finished with value: 47.610294117647065 and parameters: {'vectorizer_type': 'one-hot', 'hidden_dim': 320, 'batch_size': 32, 'dropout_rate': 0.36, 'weight_decay': 0.0001}. Best is trial 19 with value: 71.07843137254899.\n"
     ]
    },
    {
     "name": "stdout",
     "output_type": "stream",
     "text": [
      "Creating fresh!\n"
     ]
    },
    {
     "name": "stderr",
     "output_type": "stream",
     "text": [
      "[I 2025-03-01 12:22:10,299] Trial 30 finished with value: 48.8125 and parameters: {'vectorizer_type': 'term-freq', 'hidden_dim': 430, 'batch_size': 64, 'dropout_rate': 0.37, 'weight_decay': 0.0001}. Best is trial 19 with value: 71.07843137254899.\n"
     ]
    },
    {
     "name": "stdout",
     "output_type": "stream",
     "text": [
      "Creating fresh!\n"
     ]
    },
    {
     "name": "stderr",
     "output_type": "stream",
     "text": [
      "[I 2025-03-01 12:22:40,838] Trial 31 finished with value: 50.96618357487923 and parameters: {'vectorizer_type': 'one-hot', 'hidden_dim': 340, 'batch_size': 8, 'dropout_rate': 0.43, 'weight_decay': 0.0001}. Best is trial 19 with value: 71.07843137254899.\n"
     ]
    },
    {
     "name": "stdout",
     "output_type": "stream",
     "text": [
      "Creating fresh!\n"
     ]
    },
    {
     "name": "stderr",
     "output_type": "stream",
     "text": [
      "[I 2025-03-01 12:23:03,134] Trial 32 finished with value: 49.51690821256039 and parameters: {'vectorizer_type': 'one-hot', 'hidden_dim': 500, 'batch_size': 8, 'dropout_rate': 0.46, 'weight_decay': 0}. Best is trial 19 with value: 71.07843137254899.\n"
     ]
    },
    {
     "name": "stdout",
     "output_type": "stream",
     "text": [
      "Creating fresh!\n"
     ]
    },
    {
     "name": "stderr",
     "output_type": "stream",
     "text": [
      "[I 2025-03-01 12:23:14,799] Trial 33 finished with value: 46.419902912621396 and parameters: {'vectorizer_type': 'one-hot', 'hidden_dim': 370, 'batch_size': 16, 'dropout_rate': 0.32, 'weight_decay': 1e-05}. Best is trial 19 with value: 71.07843137254899.\n"
     ]
    },
    {
     "name": "stdout",
     "output_type": "stream",
     "text": [
      "Creating fresh!\n"
     ]
    },
    {
     "name": "stderr",
     "output_type": "stream",
     "text": [
      "[I 2025-03-01 12:23:22,879] Trial 34 finished with value: 45.5 and parameters: {'vectorizer_type': 'one-hot', 'hidden_dim': 400, 'batch_size': 64, 'dropout_rate': 0.15, 'weight_decay': 1e-05}. Best is trial 19 with value: 71.07843137254899.\n"
     ]
    },
    {
     "name": "stdout",
     "output_type": "stream",
     "text": [
      "Creating fresh!\n"
     ]
    },
    {
     "name": "stderr",
     "output_type": "stream",
     "text": [
      "[I 2025-03-01 12:23:48,622] Trial 35 finished with value: 53.5628019323672 and parameters: {'vectorizer_type': 'one-hot', 'hidden_dim': 460, 'batch_size': 8, 'dropout_rate': 0.07, 'weight_decay': 1e-05}. Best is trial 19 with value: 71.07843137254899.\n"
     ]
    },
    {
     "name": "stdout",
     "output_type": "stream",
     "text": [
      "Creating fresh!\n"
     ]
    },
    {
     "name": "stderr",
     "output_type": "stream",
     "text": [
      "[I 2025-03-01 12:23:59,199] Trial 36 finished with value: 46.69117647058823 and parameters: {'vectorizer_type': 'one-hot', 'hidden_dim': 330, 'batch_size': 32, 'dropout_rate': 0.35000000000000003, 'weight_decay': 0}. Best is trial 19 with value: 71.07843137254899.\n"
     ]
    },
    {
     "name": "stdout",
     "output_type": "stream",
     "text": [
      "Creating fresh!\n",
      "number of features => 17824\n"
     ]
    },
    {
     "name": "stderr",
     "output_type": "stream",
     "text": [
      "[I 2025-03-01 12:24:16,742] Trial 37 finished with value: 70.22946859903378 and parameters: {'vectorizer_type': 'tf-idf', 'ngram_option': '2,4', 'hidden_dim': 380, 'batch_size': 8, 'dropout_rate': 0.38, 'weight_decay': 0.0001}. Best is trial 19 with value: 71.07843137254899.\n"
     ]
    },
    {
     "name": "stdout",
     "output_type": "stream",
     "text": [
      "Creating fresh!\n"
     ]
    },
    {
     "name": "stderr",
     "output_type": "stream",
     "text": [
      "[I 2025-03-01 12:24:27,001] Trial 38 finished with value: 49.375 and parameters: {'vectorizer_type': 'term-freq', 'hidden_dim': 390, 'batch_size': 64, 'dropout_rate': 0.21, 'weight_decay': 1e-05}. Best is trial 19 with value: 71.07843137254899.\n"
     ]
    },
    {
     "name": "stdout",
     "output_type": "stream",
     "text": [
      "Creating fresh!\n"
     ]
    },
    {
     "name": "stderr",
     "output_type": "stream",
     "text": [
      "[I 2025-03-01 12:24:36,059] Trial 39 finished with value: 45.34313725490196 and parameters: {'vectorizer_type': 'one-hot', 'hidden_dim': 400, 'batch_size': 32, 'dropout_rate': 0.22, 'weight_decay': 0.0001}. Best is trial 19 with value: 71.07843137254899.\n"
     ]
    },
    {
     "name": "stdout",
     "output_type": "stream",
     "text": [
      "Creating fresh!\n",
      "number of features => 5386\n"
     ]
    },
    {
     "name": "stderr",
     "output_type": "stream",
     "text": [
      "[I 2025-03-01 12:24:51,139] Trial 40 finished with value: 69.66911764705884 and parameters: {'vectorizer_type': 'tf-idf', 'ngram_option': '1,3', 'hidden_dim': 480, 'batch_size': 32, 'dropout_rate': 0.5, 'weight_decay': 1e-05}. Best is trial 19 with value: 71.07843137254899.\n"
     ]
    },
    {
     "name": "stdout",
     "output_type": "stream",
     "text": [
      "Creating fresh!\n"
     ]
    },
    {
     "name": "stderr",
     "output_type": "stream",
     "text": [
      "[I 2025-03-01 12:25:06,619] Trial 41 finished with value: 48.84708737864078 and parameters: {'vectorizer_type': 'one-hot', 'hidden_dim': 460, 'batch_size': 16, 'dropout_rate': 0.25, 'weight_decay': 1e-05}. Best is trial 19 with value: 71.07843137254899.\n"
     ]
    },
    {
     "name": "stdout",
     "output_type": "stream",
     "text": [
      "Creating fresh!\n"
     ]
    },
    {
     "name": "stderr",
     "output_type": "stream",
     "text": [
      "[I 2025-03-01 12:25:39,079] Trial 42 finished with value: 52.83816425120771 and parameters: {'vectorizer_type': 'term-freq', 'hidden_dim': 330, 'batch_size': 8, 'dropout_rate': 0.36, 'weight_decay': 0.0001}. Best is trial 19 with value: 71.07843137254899.\n"
     ]
    },
    {
     "name": "stdout",
     "output_type": "stream",
     "text": [
      "Creating fresh!\n"
     ]
    },
    {
     "name": "stderr",
     "output_type": "stream",
     "text": [
      "[I 2025-03-01 12:25:46,355] Trial 43 finished with value: 46.26225490196079 and parameters: {'vectorizer_type': 'one-hot', 'hidden_dim': 410, 'batch_size': 32, 'dropout_rate': 0.19, 'weight_decay': 0}. Best is trial 19 with value: 71.07843137254899.\n"
     ]
    },
    {
     "name": "stdout",
     "output_type": "stream",
     "text": [
      "Creating fresh!\n",
      "number of features => 49\n"
     ]
    },
    {
     "name": "stderr",
     "output_type": "stream",
     "text": [
      "[I 2025-03-01 12:26:47,179] Trial 44 finished with value: 50.90579710144927 and parameters: {'vectorizer_type': 'tf-idf', 'ngram_option': '1,1', 'hidden_dim': 380, 'batch_size': 8, 'dropout_rate': 0.19, 'weight_decay': 1e-05}. Best is trial 19 with value: 71.07843137254899.\n"
     ]
    },
    {
     "name": "stdout",
     "output_type": "stream",
     "text": [
      "Creating fresh!\n",
      "number of features => 17824\n"
     ]
    },
    {
     "name": "stderr",
     "output_type": "stream",
     "text": [
      "[I 2025-03-01 12:27:10,240] Trial 45 finished with value: 71.316425120773 and parameters: {'vectorizer_type': 'tf-idf', 'ngram_option': '2,4', 'hidden_dim': 320, 'batch_size': 8, 'dropout_rate': 0.41000000000000003, 'weight_decay': 0}. Best is trial 45 with value: 71.316425120773.\n"
     ]
    },
    {
     "name": "stdout",
     "output_type": "stream",
     "text": [
      "Creating fresh!\n"
     ]
    },
    {
     "name": "stderr",
     "output_type": "stream",
     "text": [
      "[I 2025-03-01 12:27:22,983] Trial 46 finished with value: 48.95833333333334 and parameters: {'vectorizer_type': 'term-freq', 'hidden_dim': 330, 'batch_size': 32, 'dropout_rate': 0.49, 'weight_decay': 0}. Best is trial 45 with value: 71.316425120773.\n"
     ]
    },
    {
     "name": "stdout",
     "output_type": "stream",
     "text": [
      "Creating fresh!\n"
     ]
    },
    {
     "name": "stderr",
     "output_type": "stream",
     "text": [
      "[I 2025-03-01 12:27:31,919] Trial 47 finished with value: 45.22058823529413 and parameters: {'vectorizer_type': 'one-hot', 'hidden_dim': 400, 'batch_size': 32, 'dropout_rate': 0.44, 'weight_decay': 1e-05}. Best is trial 45 with value: 71.316425120773.\n"
     ]
    },
    {
     "name": "stdout",
     "output_type": "stream",
     "text": [
      "Creating fresh!\n"
     ]
    },
    {
     "name": "stderr",
     "output_type": "stream",
     "text": [
      "[I 2025-03-01 12:27:47,564] Trial 48 finished with value: 50.72815533980582 and parameters: {'vectorizer_type': 'term-freq', 'hidden_dim': 390, 'batch_size': 16, 'dropout_rate': 0.17, 'weight_decay': 1e-05}. Best is trial 45 with value: 71.316425120773.\n"
     ]
    },
    {
     "name": "stdout",
     "output_type": "stream",
     "text": [
      "Creating fresh!\n"
     ]
    },
    {
     "name": "stderr",
     "output_type": "stream",
     "text": [
      "[I 2025-03-01 12:28:11,519] Trial 49 finished with value: 50.30193236714977 and parameters: {'vectorizer_type': 'one-hot', 'hidden_dim': 470, 'batch_size': 8, 'dropout_rate': 0.48, 'weight_decay': 0}. Best is trial 45 with value: 71.316425120773.\n"
     ]
    },
    {
     "name": "stdout",
     "output_type": "stream",
     "text": [
      "\n",
      "Top 10 Best Hyperparameter Combinations:\n",
      "\n",
      "🔹 **Rank 1:** Accuracy = 71.3164\n",
      "{'vectorizer_type': 'tf-idf', 'ngram_option': '2,4', 'hidden_dim': 320, 'batch_size': 8, 'dropout_rate': 0.41000000000000003}\n",
      "\n",
      "🔹 **Rank 2:** Accuracy = 71.0784\n",
      "{'vectorizer_type': 'tf-idf', 'ngram_option': '1,3', 'hidden_dim': 300, 'batch_size': 32, 'dropout_rate': 0.24}\n",
      "\n",
      "🔹 **Rank 3:** Accuracy = 70.4710\n",
      "{'vectorizer_type': 'tf-idf', 'ngram_option': '2,3', 'hidden_dim': 410, 'batch_size': 8, 'dropout_rate': 0.23}\n",
      "\n",
      "🔹 **Rank 4:** Accuracy = 70.2819\n",
      "{'vectorizer_type': 'tf-idf', 'ngram_option': '2,3', 'hidden_dim': 370, 'batch_size': 32, 'dropout_rate': 0.14}\n",
      "\n",
      "🔹 **Rank 5:** Accuracy = 70.2295\n",
      "{'vectorizer_type': 'tf-idf', 'ngram_option': '2,4', 'hidden_dim': 380, 'batch_size': 8, 'dropout_rate': 0.38}\n",
      "\n",
      "🔹 **Rank 6:** Accuracy = 69.6691\n",
      "{'vectorizer_type': 'tf-idf', 'ngram_option': '1,3', 'hidden_dim': 480, 'batch_size': 32, 'dropout_rate': 0.5}\n",
      "\n",
      "🔹 **Rank 7:** Accuracy = 69.3568\n",
      "{'vectorizer_type': 'tf-idf', 'ngram_option': '2,4', 'hidden_dim': 350, 'batch_size': 16, 'dropout_rate': 0.29}\n",
      "\n",
      "🔹 **Rank 8:** Accuracy = 68.1432\n",
      "{'vectorizer_type': 'tf-idf', 'ngram_option': '3,4', 'hidden_dim': 460, 'batch_size': 16, 'dropout_rate': 0.01}\n",
      "\n",
      "🔹 **Rank 9:** Accuracy = 68.0625\n",
      "{'vectorizer_type': 'tf-idf', 'ngram_option': '1,2', 'hidden_dim': 300, 'batch_size': 64, 'dropout_rate': 0.11}\n",
      "\n",
      "🔹 **Rank 10:** Accuracy = 67.5625\n",
      "{'vectorizer_type': 'tf-idf', 'ngram_option': '1,2', 'hidden_dim': 390, 'batch_size': 64, 'dropout_rate': 0.22}\n",
      "\n",
      "🔹 **Rank 11:** Accuracy = 66.3750\n",
      "{'vectorizer_type': 'tf-idf', 'ngram_option': '1,2', 'hidden_dim': 470, 'batch_size': 64, 'dropout_rate': 0.49}\n",
      "\n",
      "🔹 **Rank 12:** Accuracy = 66.1152\n",
      "{'vectorizer_type': 'tf-idf', 'ngram_option': '1,2', 'hidden_dim': 370, 'batch_size': 32, 'dropout_rate': 0.42}\n",
      "\n",
      "🔹 **Rank 13:** Accuracy = 55.1578\n",
      "{'vectorizer_type': 'term-freq', 'ngram_option': nan, 'hidden_dim': 310, 'batch_size': 16, 'dropout_rate': 0.04}\n",
      "\n",
      "🔹 **Rank 14:** Accuracy = 53.6408\n",
      "{'vectorizer_type': 'term-freq', 'ngram_option': nan, 'hidden_dim': 410, 'batch_size': 16, 'dropout_rate': 0.31}\n",
      "\n",
      "🔹 **Rank 15:** Accuracy = 53.5801\n",
      "{'vectorizer_type': 'term-freq', 'ngram_option': nan, 'hidden_dim': 380, 'batch_size': 16, 'dropout_rate': 0.21}\n",
      "\n",
      "🔹 **Rank 16:** Accuracy = 53.5628\n",
      "{'vectorizer_type': 'one-hot', 'ngram_option': nan, 'hidden_dim': 460, 'batch_size': 8, 'dropout_rate': 0.07}\n",
      "\n",
      "🔹 **Rank 17:** Accuracy = 53.0340\n",
      "{'vectorizer_type': 'term-freq', 'ngram_option': nan, 'hidden_dim': 450, 'batch_size': 16, 'dropout_rate': 0.32}\n",
      "\n",
      "🔹 **Rank 18:** Accuracy = 52.8382\n",
      "{'vectorizer_type': 'term-freq', 'ngram_option': nan, 'hidden_dim': 330, 'batch_size': 8, 'dropout_rate': 0.36}\n",
      "\n",
      "🔹 **Rank 19:** Accuracy = 52.5966\n",
      "{'vectorizer_type': 'term-freq', 'ngram_option': nan, 'hidden_dim': 460, 'batch_size': 8, 'dropout_rate': 0.11}\n",
      "\n",
      "🔹 **Rank 20:** Accuracy = 51.5777\n",
      "{'vectorizer_type': 'one-hot', 'ngram_option': nan, 'hidden_dim': 490, 'batch_size': 16, 'dropout_rate': 0.07}\n",
      "\n",
      "🔹 **Rank 21:** Accuracy = 51.0266\n",
      "{'vectorizer_type': 'one-hot', 'ngram_option': nan, 'hidden_dim': 340, 'batch_size': 8, 'dropout_rate': 0.29}\n",
      "\n",
      "🔹 **Rank 22:** Accuracy = 50.9804\n",
      "{'vectorizer_type': 'term-freq', 'ngram_option': nan, 'hidden_dim': 490, 'batch_size': 32, 'dropout_rate': 0.42}\n",
      "\n",
      "🔹 **Rank 23:** Accuracy = 50.9662\n",
      "{'vectorizer_type': 'one-hot', 'ngram_option': nan, 'hidden_dim': 340, 'batch_size': 8, 'dropout_rate': 0.43}\n",
      "\n",
      "🔹 **Rank 24:** Accuracy = 50.9058\n",
      "{'vectorizer_type': 'tf-idf', 'ngram_option': '1,1', 'hidden_dim': 380, 'batch_size': 8, 'dropout_rate': 0.19}\n",
      "\n",
      "🔹 **Rank 25:** Accuracy = 50.8578\n",
      "{'vectorizer_type': 'term-freq', 'ngram_option': nan, 'hidden_dim': 460, 'batch_size': 32, 'dropout_rate': 0.09}\n",
      "\n",
      "🔹 **Rank 26:** Accuracy = 50.7282\n",
      "{'vectorizer_type': 'term-freq', 'ngram_option': nan, 'hidden_dim': 390, 'batch_size': 16, 'dropout_rate': 0.17}\n",
      "\n",
      "🔹 **Rank 27:** Accuracy = 50.6643\n",
      "{'vectorizer_type': 'one-hot', 'ngram_option': nan, 'hidden_dim': 400, 'batch_size': 8, 'dropout_rate': 0.16}\n",
      "\n",
      "🔹 **Rank 28:** Accuracy = 50.5461\n",
      "{'vectorizer_type': 'term-freq', 'ngram_option': nan, 'hidden_dim': 450, 'batch_size': 16, 'dropout_rate': 0.26}\n",
      "\n",
      "🔹 **Rank 29:** Accuracy = 50.3019\n",
      "{'vectorizer_type': 'one-hot', 'ngram_option': nan, 'hidden_dim': 470, 'batch_size': 8, 'dropout_rate': 0.48}\n",
      "\n",
      "🔹 **Rank 30:** Accuracy = 50.0000\n",
      "{'vectorizer_type': 'one-hot', 'ngram_option': nan, 'hidden_dim': 410, 'batch_size': 32, 'dropout_rate': 0.25}\n",
      "\n",
      "🔹 **Rank 31:** Accuracy = 49.5773\n",
      "{'vectorizer_type': 'one-hot', 'ngram_option': nan, 'hidden_dim': 380, 'batch_size': 8, 'dropout_rate': 0.48}\n",
      "\n",
      "🔹 **Rank 32:** Accuracy = 49.5169\n",
      "{'vectorizer_type': 'one-hot', 'ngram_option': nan, 'hidden_dim': 500, 'batch_size': 8, 'dropout_rate': 0.46}\n",
      "\n",
      "🔹 **Rank 33:** Accuracy = 49.3750\n",
      "{'vectorizer_type': 'term-freq', 'ngram_option': nan, 'hidden_dim': 390, 'batch_size': 64, 'dropout_rate': 0.21}\n",
      "\n",
      "🔹 **Rank 34:** Accuracy = 49.2718\n",
      "{'vectorizer_type': 'one-hot', 'ngram_option': nan, 'hidden_dim': 340, 'batch_size': 16, 'dropout_rate': 0.4}\n",
      "\n",
      "🔹 **Rank 35:** Accuracy = 49.2150\n",
      "{'vectorizer_type': 'one-hot', 'ngram_option': nan, 'hidden_dim': 330, 'batch_size': 8, 'dropout_rate': 0.47000000000000003}\n",
      "\n",
      "🔹 **Rank 36:** Accuracy = 48.9583\n",
      "{'vectorizer_type': 'term-freq', 'ngram_option': nan, 'hidden_dim': 330, 'batch_size': 32, 'dropout_rate': 0.49}\n",
      "\n",
      "🔹 **Rank 37:** Accuracy = 48.8471\n",
      "{'vectorizer_type': 'one-hot', 'ngram_option': nan, 'hidden_dim': 460, 'batch_size': 16, 'dropout_rate': 0.25}\n",
      "\n",
      "🔹 **Rank 38:** Accuracy = 48.8125\n",
      "{'vectorizer_type': 'term-freq', 'ngram_option': nan, 'hidden_dim': 430, 'batch_size': 64, 'dropout_rate': 0.37}\n",
      "\n",
      "🔹 **Rank 39:** Accuracy = 48.7500\n",
      "{'vectorizer_type': 'term-freq', 'ngram_option': nan, 'hidden_dim': 430, 'batch_size': 64, 'dropout_rate': 0.38}\n",
      "\n",
      "🔹 **Rank 40:** Accuracy = 47.8261\n",
      "{'vectorizer_type': 'one-hot', 'ngram_option': nan, 'hidden_dim': 480, 'batch_size': 8, 'dropout_rate': 0.45}\n",
      "\n",
      "🔹 **Rank 41:** Accuracy = 47.6103\n",
      "{'vectorizer_type': 'one-hot', 'ngram_option': nan, 'hidden_dim': 320, 'batch_size': 32, 'dropout_rate': 0.36}\n",
      "\n",
      "🔹 **Rank 42:** Accuracy = 46.6912\n",
      "{'vectorizer_type': 'one-hot', 'ngram_option': nan, 'hidden_dim': 330, 'batch_size': 32, 'dropout_rate': 0.35000000000000003}\n",
      "\n",
      "🔹 **Rank 43:** Accuracy = 46.5686\n",
      "{'vectorizer_type': 'one-hot', 'ngram_option': nan, 'hidden_dim': 470, 'batch_size': 32, 'dropout_rate': 0.44}\n",
      "\n",
      "🔹 **Rank 44:** Accuracy = 46.4199\n",
      "{'vectorizer_type': 'one-hot', 'ngram_option': nan, 'hidden_dim': 370, 'batch_size': 16, 'dropout_rate': 0.32}\n",
      "\n",
      "🔹 **Rank 45:** Accuracy = 46.2623\n",
      "{'vectorizer_type': 'one-hot', 'ngram_option': nan, 'hidden_dim': 410, 'batch_size': 32, 'dropout_rate': 0.19}\n",
      "\n",
      "🔹 **Rank 46:** Accuracy = 45.8333\n",
      "{'vectorizer_type': 'one-hot', 'ngram_option': nan, 'hidden_dim': 500, 'batch_size': 32, 'dropout_rate': 0.47000000000000003}\n",
      "\n",
      "🔹 **Rank 47:** Accuracy = 45.5000\n",
      "{'vectorizer_type': 'one-hot', 'ngram_option': nan, 'hidden_dim': 400, 'batch_size': 64, 'dropout_rate': 0.15}\n",
      "\n",
      "🔹 **Rank 48:** Accuracy = 45.3431\n",
      "{'vectorizer_type': 'one-hot', 'ngram_option': nan, 'hidden_dim': 400, 'batch_size': 32, 'dropout_rate': 0.22}\n",
      "\n",
      "🔹 **Rank 49:** Accuracy = 45.2206\n",
      "{'vectorizer_type': 'one-hot', 'ngram_option': nan, 'hidden_dim': 400, 'batch_size': 32, 'dropout_rate': 0.44}\n",
      "\n",
      "🔹 **Rank 50:** Accuracy = 43.6875\n",
      "{'vectorizer_type': 'one-hot', 'ngram_option': nan, 'hidden_dim': 310, 'batch_size': 64, 'dropout_rate': 0.32}\n"
     ]
    }
   ],
   "source": [
    "import optuna\n",
    "import pandas as pd\n",
    "\n",
    "vectorizer_type_mapping = {\n",
    "    \"one-hot\": Vectorizer_Type.One_Hot,\n",
    "    \"term-freq\": Vectorizer_Type.Term_Freq,\n",
    "    \"tf-idf\": Vectorizer_Type.TF_IDF\n",
    "}\n",
    "ngram_options = [\"1,1\", \"1,2\", \"1,3\", \"2,3\", \"2,4\", \"3,4\"]\n",
    "\n",
    "def objective(trial):\n",
    "    vectorizer_type_str = trial.suggest_categorical(\"vectorizer_type\", [\"one-hot\", \"term-freq\", \"tf-idf\"])\n",
    "\n",
    "    if vectorizer_type_str == \"tf-idf\": ##only use this parameter when vectorizer_type = tf-idf\n",
    "        ngram_str = trial.suggest_categorical(\"ngram_option\", ngram_options)\n",
    "        ngram_option = tuple(map(int, ngram_str.split(',')))\n",
    "    else:\n",
    "        ngram_option = None\n",
    "\n",
    "    args = Namespace(\n",
    "        surname_csv=\"data/surnames/surnames_with_splits.csv\",\n",
    "        model_state_file=\"model.pth\",\n",
    "        save_dir=\"model_storage/ch4/surname_mlp\",\n",
    "        early_stopping_criteria=3, ##for quicker stop\n",
    "        num_epochs=100,\n",
    "        seed=1337,\n",
    "        catch_keyboard_interrupt=True,\n",
    "        cuda=True,\n",
    "        expand_filepaths_to_save_dir=True,\n",
    "        reload_from_files=False,\n",
    "\n",
    "        hidden_dim=trial.suggest_int(\"hidden_dim\", 300, 500, step=10),\n",
    "        batch_size=trial.suggest_categorical(\"batch_size\", [8, 16, 32, 64]),\n",
    "        learning_rate=0.0001,\n",
    "        dropout_rate=trial.suggest_float(\"dropout_rate\", 0, 0.5, step=0.01), \n",
    "        vectorizer_type=vectorizer_type_mapping[vectorizer_type_str],  ## prevent too much warning\n",
    "        case_folding=False, #no need change\n",
    "        ngram_option=ngram_option,\n",
    "        enable_second_hidden_layer=False, #no need change\n",
    "        enable_batch_norm=True, #no need change\n",
    "        weight_decay=trial.suggest_categorical(\"weight_decay\", [0, 0.0001, 0.00001]),\n",
    "    )\n",
    "\n",
    "    # if args.expand_filepaths_to_save_dir:\n",
    "    #     args.model_state_file = os.path.join(args.save_dir,\n",
    "    #                                         args.model_state_file)    \n",
    "    #     print(\"Expanded filepaths: \")\n",
    "    #     print(\"\\t{}\".format(args.model_state_file))\n",
    "    if not torch.cuda.is_available():\n",
    "        args.cuda = False\n",
    "    # print(\"Using CUDA: {}\".format(args.cuda))\n",
    "\n",
    "    args.device = torch.device(\"cuda\" if args.cuda else \"cpu\")\n",
    "    # Set seed for reproducibility\n",
    "    set_seed_everywhere(args.seed, args.cuda)\n",
    "    # handle dirs ; creat dirs if they don't exist\n",
    "    handle_dirs(args.save_dir)\n",
    "\n",
    "    # Train model\n",
    "    dataset, vectorizer, classifier = init(args)\n",
    "    train_state, loss_func = train_model(args, dataset=dataset, classifier=classifier, disable_tqdm=True)\n",
    "    # Compute accuracy\n",
    "    test_acc, test_loss = check_test_data(args, dataset, classifier, train_state, loss_func, enable_print_info=False)\n",
    "    return test_acc  # Optuna will maximize this value\n",
    "\n",
    "study = optuna.create_study(direction=\"maximize\", sampler=optuna.samplers.RandomSampler()) ### prevent Local optimal solution\n",
    "study.optimize(objective, n_trials=50)\n",
    "\n",
    "df = study.trials_dataframe().sort_values(\"value\", ascending=False)\n",
    "\n",
    "# Extract top 10 best trials with all parameters\n",
    "allTrials = df[[    \n",
    "    \"value\",  # Test Accuracy\n",
    "    \"params_vectorizer_type\",\n",
    "    \"params_ngram_option\",  # N-gram selection\n",
    "    \"params_hidden_dim\", \n",
    "    \"params_batch_size\",  \n",
    "    \"params_dropout_rate\",\n",
    "    \"params_weight_decay\"\n",
    "]].to_dict(orient=\"records\")\n",
    "\n",
    "# Print the top 5 best parameter combinations\n",
    "print(\"\\nTop 10 Best Hyperparameter Combinations:\")\n",
    "for i, trial in enumerate(allTrials):\n",
    "    print(f\"\\n🔹 **Rank {i+1}:** Accuracy = {trial['value']:.4f}\")\n",
    "    print({key.replace(\"params_\", \"\"): value for key, value in trial.items() if key != \"value\"})\n"
   ]
  },
  {
   "cell_type": "code",
   "execution_count": 24,
   "metadata": {},
   "outputs": [
    {
     "name": "stdout",
     "output_type": "stream",
     "text": [
      "\n",
      "Top 10 Best Hyperparameter Combinations:\n",
      "\n",
      "🔹 **Rank 1:** Accuracy = 71.3164\n",
      "{'vectorizer_type': 'tf-idf', 'ngram_option': '2,4', 'hidden_dim': 320, 'batch_size': 8, 'dropout_rate': 0.41000000000000003, 'weight_decay': 0.0}\n",
      "\n",
      "🔹 **Rank 2:** Accuracy = 71.0784\n",
      "{'vectorizer_type': 'tf-idf', 'ngram_option': '1,3', 'hidden_dim': 300, 'batch_size': 32, 'dropout_rate': 0.24, 'weight_decay': 0.0001}\n",
      "\n",
      "🔹 **Rank 3:** Accuracy = 70.4710\n",
      "{'vectorizer_type': 'tf-idf', 'ngram_option': '2,3', 'hidden_dim': 410, 'batch_size': 8, 'dropout_rate': 0.23, 'weight_decay': 0.0}\n",
      "\n",
      "🔹 **Rank 4:** Accuracy = 70.2819\n",
      "{'vectorizer_type': 'tf-idf', 'ngram_option': '2,3', 'hidden_dim': 370, 'batch_size': 32, 'dropout_rate': 0.14, 'weight_decay': 0.0001}\n",
      "\n",
      "🔹 **Rank 5:** Accuracy = 70.2295\n",
      "{'vectorizer_type': 'tf-idf', 'ngram_option': '2,4', 'hidden_dim': 380, 'batch_size': 8, 'dropout_rate': 0.38, 'weight_decay': 0.0001}\n",
      "\n",
      "🔹 **Rank 6:** Accuracy = 69.6691\n",
      "{'vectorizer_type': 'tf-idf', 'ngram_option': '1,3', 'hidden_dim': 480, 'batch_size': 32, 'dropout_rate': 0.5, 'weight_decay': 1e-05}\n",
      "\n",
      "🔹 **Rank 7:** Accuracy = 69.3568\n",
      "{'vectorizer_type': 'tf-idf', 'ngram_option': '2,4', 'hidden_dim': 350, 'batch_size': 16, 'dropout_rate': 0.29, 'weight_decay': 1e-05}\n",
      "\n",
      "🔹 **Rank 8:** Accuracy = 68.1432\n",
      "{'vectorizer_type': 'tf-idf', 'ngram_option': '3,4', 'hidden_dim': 460, 'batch_size': 16, 'dropout_rate': 0.01, 'weight_decay': 1e-05}\n",
      "\n",
      "🔹 **Rank 9:** Accuracy = 68.0625\n",
      "{'vectorizer_type': 'tf-idf', 'ngram_option': '1,2', 'hidden_dim': 300, 'batch_size': 64, 'dropout_rate': 0.11, 'weight_decay': 0.0}\n",
      "\n",
      "🔹 **Rank 10:** Accuracy = 67.5625\n",
      "{'vectorizer_type': 'tf-idf', 'ngram_option': '1,2', 'hidden_dim': 390, 'batch_size': 64, 'dropout_rate': 0.22, 'weight_decay': 1e-05}\n",
      "\n",
      "🔹 **Rank 11:** Accuracy = 66.3750\n",
      "{'vectorizer_type': 'tf-idf', 'ngram_option': '1,2', 'hidden_dim': 470, 'batch_size': 64, 'dropout_rate': 0.49, 'weight_decay': 0.0}\n",
      "\n",
      "🔹 **Rank 12:** Accuracy = 66.1152\n",
      "{'vectorizer_type': 'tf-idf', 'ngram_option': '1,2', 'hidden_dim': 370, 'batch_size': 32, 'dropout_rate': 0.42, 'weight_decay': 1e-05}\n",
      "\n",
      "🔹 **Rank 13:** Accuracy = 55.1578\n",
      "{'vectorizer_type': 'term-freq', 'ngram_option': nan, 'hidden_dim': 310, 'batch_size': 16, 'dropout_rate': 0.04, 'weight_decay': 0.0001}\n",
      "\n",
      "🔹 **Rank 14:** Accuracy = 53.6408\n",
      "{'vectorizer_type': 'term-freq', 'ngram_option': nan, 'hidden_dim': 410, 'batch_size': 16, 'dropout_rate': 0.31, 'weight_decay': 1e-05}\n",
      "\n",
      "🔹 **Rank 15:** Accuracy = 53.5801\n",
      "{'vectorizer_type': 'term-freq', 'ngram_option': nan, 'hidden_dim': 380, 'batch_size': 16, 'dropout_rate': 0.21, 'weight_decay': 0.0}\n",
      "\n",
      "🔹 **Rank 16:** Accuracy = 53.5628\n",
      "{'vectorizer_type': 'one-hot', 'ngram_option': nan, 'hidden_dim': 460, 'batch_size': 8, 'dropout_rate': 0.07, 'weight_decay': 1e-05}\n",
      "\n",
      "🔹 **Rank 17:** Accuracy = 53.0340\n",
      "{'vectorizer_type': 'term-freq', 'ngram_option': nan, 'hidden_dim': 450, 'batch_size': 16, 'dropout_rate': 0.32, 'weight_decay': 1e-05}\n",
      "\n",
      "🔹 **Rank 18:** Accuracy = 52.8382\n",
      "{'vectorizer_type': 'term-freq', 'ngram_option': nan, 'hidden_dim': 330, 'batch_size': 8, 'dropout_rate': 0.36, 'weight_decay': 0.0001}\n",
      "\n",
      "🔹 **Rank 19:** Accuracy = 52.5966\n",
      "{'vectorizer_type': 'term-freq', 'ngram_option': nan, 'hidden_dim': 460, 'batch_size': 8, 'dropout_rate': 0.11, 'weight_decay': 0.0}\n",
      "\n",
      "🔹 **Rank 20:** Accuracy = 51.5777\n",
      "{'vectorizer_type': 'one-hot', 'ngram_option': nan, 'hidden_dim': 490, 'batch_size': 16, 'dropout_rate': 0.07, 'weight_decay': 1e-05}\n",
      "\n",
      "🔹 **Rank 21:** Accuracy = 51.0266\n",
      "{'vectorizer_type': 'one-hot', 'ngram_option': nan, 'hidden_dim': 340, 'batch_size': 8, 'dropout_rate': 0.29, 'weight_decay': 0.0001}\n",
      "\n",
      "🔹 **Rank 22:** Accuracy = 50.9804\n",
      "{'vectorizer_type': 'term-freq', 'ngram_option': nan, 'hidden_dim': 490, 'batch_size': 32, 'dropout_rate': 0.42, 'weight_decay': 0.0001}\n",
      "\n",
      "🔹 **Rank 23:** Accuracy = 50.9662\n",
      "{'vectorizer_type': 'one-hot', 'ngram_option': nan, 'hidden_dim': 340, 'batch_size': 8, 'dropout_rate': 0.43, 'weight_decay': 0.0001}\n",
      "\n",
      "🔹 **Rank 24:** Accuracy = 50.9058\n",
      "{'vectorizer_type': 'tf-idf', 'ngram_option': '1,1', 'hidden_dim': 380, 'batch_size': 8, 'dropout_rate': 0.19, 'weight_decay': 1e-05}\n",
      "\n",
      "🔹 **Rank 25:** Accuracy = 50.8578\n",
      "{'vectorizer_type': 'term-freq', 'ngram_option': nan, 'hidden_dim': 460, 'batch_size': 32, 'dropout_rate': 0.09, 'weight_decay': 0.0001}\n",
      "\n",
      "🔹 **Rank 26:** Accuracy = 50.7282\n",
      "{'vectorizer_type': 'term-freq', 'ngram_option': nan, 'hidden_dim': 390, 'batch_size': 16, 'dropout_rate': 0.17, 'weight_decay': 1e-05}\n",
      "\n",
      "🔹 **Rank 27:** Accuracy = 50.6643\n",
      "{'vectorizer_type': 'one-hot', 'ngram_option': nan, 'hidden_dim': 400, 'batch_size': 8, 'dropout_rate': 0.16, 'weight_decay': 1e-05}\n",
      "\n",
      "🔹 **Rank 28:** Accuracy = 50.5461\n",
      "{'vectorizer_type': 'term-freq', 'ngram_option': nan, 'hidden_dim': 450, 'batch_size': 16, 'dropout_rate': 0.26, 'weight_decay': 0.0}\n",
      "\n",
      "🔹 **Rank 29:** Accuracy = 50.3019\n",
      "{'vectorizer_type': 'one-hot', 'ngram_option': nan, 'hidden_dim': 470, 'batch_size': 8, 'dropout_rate': 0.48, 'weight_decay': 0.0}\n",
      "\n",
      "🔹 **Rank 30:** Accuracy = 50.0000\n",
      "{'vectorizer_type': 'one-hot', 'ngram_option': nan, 'hidden_dim': 410, 'batch_size': 32, 'dropout_rate': 0.25, 'weight_decay': 0.0}\n",
      "\n",
      "🔹 **Rank 31:** Accuracy = 49.5773\n",
      "{'vectorizer_type': 'one-hot', 'ngram_option': nan, 'hidden_dim': 380, 'batch_size': 8, 'dropout_rate': 0.48, 'weight_decay': 0.0001}\n",
      "\n",
      "🔹 **Rank 32:** Accuracy = 49.5169\n",
      "{'vectorizer_type': 'one-hot', 'ngram_option': nan, 'hidden_dim': 500, 'batch_size': 8, 'dropout_rate': 0.46, 'weight_decay': 0.0}\n",
      "\n",
      "🔹 **Rank 33:** Accuracy = 49.3750\n",
      "{'vectorizer_type': 'term-freq', 'ngram_option': nan, 'hidden_dim': 390, 'batch_size': 64, 'dropout_rate': 0.21, 'weight_decay': 1e-05}\n",
      "\n",
      "🔹 **Rank 34:** Accuracy = 49.2718\n",
      "{'vectorizer_type': 'one-hot', 'ngram_option': nan, 'hidden_dim': 340, 'batch_size': 16, 'dropout_rate': 0.4, 'weight_decay': 0.0}\n",
      "\n",
      "🔹 **Rank 35:** Accuracy = 49.2150\n",
      "{'vectorizer_type': 'one-hot', 'ngram_option': nan, 'hidden_dim': 330, 'batch_size': 8, 'dropout_rate': 0.47000000000000003, 'weight_decay': 1e-05}\n",
      "\n",
      "🔹 **Rank 36:** Accuracy = 48.9583\n",
      "{'vectorizer_type': 'term-freq', 'ngram_option': nan, 'hidden_dim': 330, 'batch_size': 32, 'dropout_rate': 0.49, 'weight_decay': 0.0}\n",
      "\n",
      "🔹 **Rank 37:** Accuracy = 48.8471\n",
      "{'vectorizer_type': 'one-hot', 'ngram_option': nan, 'hidden_dim': 460, 'batch_size': 16, 'dropout_rate': 0.25, 'weight_decay': 1e-05}\n",
      "\n",
      "🔹 **Rank 38:** Accuracy = 48.8125\n",
      "{'vectorizer_type': 'term-freq', 'ngram_option': nan, 'hidden_dim': 430, 'batch_size': 64, 'dropout_rate': 0.37, 'weight_decay': 0.0001}\n",
      "\n",
      "🔹 **Rank 39:** Accuracy = 48.7500\n",
      "{'vectorizer_type': 'term-freq', 'ngram_option': nan, 'hidden_dim': 430, 'batch_size': 64, 'dropout_rate': 0.38, 'weight_decay': 1e-05}\n",
      "\n",
      "🔹 **Rank 40:** Accuracy = 47.8261\n",
      "{'vectorizer_type': 'one-hot', 'ngram_option': nan, 'hidden_dim': 480, 'batch_size': 8, 'dropout_rate': 0.45, 'weight_decay': 0.0001}\n",
      "\n",
      "🔹 **Rank 41:** Accuracy = 47.6103\n",
      "{'vectorizer_type': 'one-hot', 'ngram_option': nan, 'hidden_dim': 320, 'batch_size': 32, 'dropout_rate': 0.36, 'weight_decay': 0.0001}\n",
      "\n",
      "🔹 **Rank 42:** Accuracy = 46.6912\n",
      "{'vectorizer_type': 'one-hot', 'ngram_option': nan, 'hidden_dim': 330, 'batch_size': 32, 'dropout_rate': 0.35000000000000003, 'weight_decay': 0.0}\n",
      "\n",
      "🔹 **Rank 43:** Accuracy = 46.5686\n",
      "{'vectorizer_type': 'one-hot', 'ngram_option': nan, 'hidden_dim': 470, 'batch_size': 32, 'dropout_rate': 0.44, 'weight_decay': 0.0}\n",
      "\n",
      "🔹 **Rank 44:** Accuracy = 46.4199\n",
      "{'vectorizer_type': 'one-hot', 'ngram_option': nan, 'hidden_dim': 370, 'batch_size': 16, 'dropout_rate': 0.32, 'weight_decay': 1e-05}\n",
      "\n",
      "🔹 **Rank 45:** Accuracy = 46.2623\n",
      "{'vectorizer_type': 'one-hot', 'ngram_option': nan, 'hidden_dim': 410, 'batch_size': 32, 'dropout_rate': 0.19, 'weight_decay': 0.0}\n",
      "\n",
      "🔹 **Rank 46:** Accuracy = 45.8333\n",
      "{'vectorizer_type': 'one-hot', 'ngram_option': nan, 'hidden_dim': 500, 'batch_size': 32, 'dropout_rate': 0.47000000000000003, 'weight_decay': 0.0}\n",
      "\n",
      "🔹 **Rank 47:** Accuracy = 45.5000\n",
      "{'vectorizer_type': 'one-hot', 'ngram_option': nan, 'hidden_dim': 400, 'batch_size': 64, 'dropout_rate': 0.15, 'weight_decay': 1e-05}\n",
      "\n",
      "🔹 **Rank 48:** Accuracy = 45.3431\n",
      "{'vectorizer_type': 'one-hot', 'ngram_option': nan, 'hidden_dim': 400, 'batch_size': 32, 'dropout_rate': 0.22, 'weight_decay': 0.0001}\n",
      "\n",
      "🔹 **Rank 49:** Accuracy = 45.2206\n",
      "{'vectorizer_type': 'one-hot', 'ngram_option': nan, 'hidden_dim': 400, 'batch_size': 32, 'dropout_rate': 0.44, 'weight_decay': 1e-05}\n",
      "\n",
      "🔹 **Rank 50:** Accuracy = 43.6875\n",
      "{'vectorizer_type': 'one-hot', 'ngram_option': nan, 'hidden_dim': 310, 'batch_size': 64, 'dropout_rate': 0.32, 'weight_decay': 0.0}\n"
     ]
    }
   ],
   "source": [
    "allTrials = df[[    \n",
    "    \"value\",  # Test Accuracy\n",
    "    \"params_vectorizer_type\",\n",
    "    \"params_ngram_option\",  # N-gram selection\n",
    "    \"params_hidden_dim\", \n",
    "    \"params_batch_size\",  \n",
    "    \"params_dropout_rate\",\n",
    "    \"params_weight_decay\"\n",
    "]].to_dict(orient=\"records\")\n",
    "\n",
    "# Print the top 5 best parameter combinations\n",
    "print(\"\\nTop 10 Best Hyperparameter Combinations:\")\n",
    "for i, trial in enumerate(allTrials):\n",
    "    print(f\"\\n🔹 **Rank {i+1}:** Accuracy = {trial['value']:.4f}\")\n",
    "    print({key.replace(\"params_\", \"\"): value for key, value in trial.items() if key != \"value\"})"
   ]
  },
  {
   "cell_type": "markdown",
   "metadata": {},
   "source": [
    "# Step 3 - manually check"
   ]
  },
  {
   "cell_type": "code",
   "execution_count": 82,
   "metadata": {},
   "outputs": [
    {
     "name": "stdout",
     "output_type": "stream",
     "text": [
      "Expanded filepaths: \n",
      "\tmodel_storage/ch4/surname_mlp\\model.pth\n",
      "Using CUDA: True\n",
      "Creating fresh!\n",
      "number of features => 17824\n"
     ]
    },
    {
     "data": {
      "application/vnd.jupyter.widget-view+json": {
       "model_id": "833578cc88bf451fbbb20f9ce8c3c679",
       "version_major": 2,
       "version_minor": 0
      },
      "text/plain": [
       "training routine:   0%|          | 0/100 [00:00<?, ?it/s]"
      ]
     },
     "metadata": {},
     "output_type": "display_data"
    },
    {
     "data": {
      "application/vnd.jupyter.widget-view+json": {
       "model_id": "e66b5524d8a44fbd938015e7b07568e8",
       "version_major": 2,
       "version_minor": 0
      },
      "text/plain": [
       "split=train:   0%|          | 0/960 [00:00<?, ?it/s]"
      ]
     },
     "metadata": {},
     "output_type": "display_data"
    },
    {
     "data": {
      "application/vnd.jupyter.widget-view+json": {
       "model_id": "9bc1601ffe9f406b84460444bea25ad1",
       "version_major": 2,
       "version_minor": 0
      },
      "text/plain": [
       "split=val:   0%|          | 0/205 [00:00<?, ?it/s]"
      ]
     },
     "metadata": {},
     "output_type": "display_data"
    },
    {
     "name": "stdout",
     "output_type": "stream",
     "text": [
      "(72.40338164251204, 1.4007803238928316)\n"
     ]
    }
   ],
   "source": [
    "#tune based on top 1 parameter set\n",
    "\n",
    "args = Namespace(\n",
    "    surname_csv=\"data/surnames/surnames_with_splits.csv\",\n",
    "    model_state_file=\"model.pth\",\n",
    "    save_dir=\"model_storage/ch4/surname_mlp\",\n",
    "    seed=1337,\n",
    "    num_epochs=100,\n",
    "    early_stopping_criteria=3,\n",
    "    cuda=True,\n",
    "    expand_filepaths_to_save_dir=True,\n",
    "    case_folding=False, #True\n",
    "    enable_second_hidden_layer=False,\n",
    "    enable_batch_norm=True,\n",
    "    learning_rate=0.0001,\n",
    "\n",
    "    vectorizer_type=Vectorizer_Type.TF_IDF, #Vectorizer_Type.Term_Freq,  Vectorizer_Type.TF_IDF, One_Hot\n",
    "    ngram_option=(2, 4), # TYPE CHAR, only valid when Vectorizer_Type is tf-idf  One_Hot\n",
    "\n",
    "    hidden_dim=340,\n",
    "    batch_size=8,\n",
    "    dropout_rate=0.42,\n",
    "    weight_decay=0,\n",
    ")\n",
    "\n",
    "if args.expand_filepaths_to_save_dir:\n",
    "    args.model_state_file = os.path.join(args.save_dir, args.model_state_file)   \n",
    "    print(\"Expanded filepaths: \")\n",
    "    print(\"\\t{}\".format(args.model_state_file))\n",
    "    \n",
    "# Check CUDA\n",
    "if not torch.cuda.is_available():\n",
    "    args.cuda = False\n",
    "\n",
    "args.device = torch.device(\"cuda\" if args.cuda else \"cpu\")\n",
    "    \n",
    "print(\"Using CUDA: {}\".format(args.cuda))\n",
    "\n",
    "\n",
    "# Set seed for reproducibility\n",
    "set_seed_everywhere(args.seed, args.cuda)\n",
    "\n",
    "# handle dirs\n",
    "handle_dirs(args.save_dir)\n",
    "\n",
    "dataset, vectorizer, classifier = init(args)\n",
    "train_state, loss_func = train_model(args, dataset=dataset, classifier=classifier)\n",
    "# draw_loss_and_acc(train_state, \"ORIGINAL\")\n",
    "print(check_test_data(args, dataset, classifier, train_state, loss_func, enable_print_info=False))"
   ]
  },
  {
   "cell_type": "markdown",
   "metadata": {},
   "source": [
    "# Top 1 model"
   ]
  },
  {
   "cell_type": "code",
   "execution_count": 83,
   "metadata": {},
   "outputs": [
    {
     "name": "stdout",
     "output_type": "stream",
     "text": [
      "Expanded filepaths: \n",
      "\tmodel_storage/ch4/surname_mlp\\model.pth\n",
      "Using CUDA: True\n",
      "Creating fresh!\n",
      "number of features => 17824\n"
     ]
    },
    {
     "data": {
      "application/vnd.jupyter.widget-view+json": {
       "model_id": "3feebb8ab0a54643915bd6b02027131e",
       "version_major": 2,
       "version_minor": 0
      },
      "text/plain": [
       "training routine:   0%|          | 0/100 [00:00<?, ?it/s]"
      ]
     },
     "metadata": {},
     "output_type": "display_data"
    },
    {
     "data": {
      "application/vnd.jupyter.widget-view+json": {
       "model_id": "af4a6b9b0fdd4bb0a34c74ba4db3ccb1",
       "version_major": 2,
       "version_minor": 0
      },
      "text/plain": [
       "split=train:   0%|          | 0/960 [00:00<?, ?it/s]"
      ]
     },
     "metadata": {},
     "output_type": "display_data"
    },
    {
     "data": {
      "application/vnd.jupyter.widget-view+json": {
       "model_id": "6d48032c2abc4ad68cea735095bf9263",
       "version_major": 2,
       "version_minor": 0
      },
      "text/plain": [
       "split=val:   0%|          | 0/205 [00:00<?, ?it/s]"
      ]
     },
     "metadata": {},
     "output_type": "display_data"
    },
    {
     "data": {
      "image/png": "[encoded data removed]",
      "text/plain": [
       "<Figure size 1500x700 with 2 Axes>"
      ]
     },
     "metadata": {},
     "output_type": "display_data"
    },
    {
     "name": "stdout",
     "output_type": "stream",
     "text": [
      "==================================dividing line==================================\n",
      "Test loss: 1.4049247440112664;\n",
      "Test Accuracy: 72.46376811594199\n",
      "==================================dividing line==================================\n",
      "[[240   0   3   0   2   0   2   0   1   0   0   0   0   0   2   0   1   0]\n",
      " [  0  18   0   0   4   0   0   0   0   1   1   2   0   0   2   1   0   4]\n",
      " [  0   0  24   1   7   1   4   1   0   4   2   0   1   0   7   0   1   0]\n",
      " [  0   2   0  25  13   0  11   0   0   2   0   0   0   0   0   0   0   0]\n",
      " [  0   2   5   2 281   5   4   1   8   1   0   2   1   2   5   9   0   0]\n",
      " [  0   1   0   0  21  19   2   1   0   3   0   0   0   0   1   0   1   0]\n",
      " [  0   1  16   2  26   4  54   0   1   3   1   1   0   1  11   1   5   1]\n",
      " [  0   0   1   0   4   0   1  19   0   4   2   0   1   1   1   0   1   0]\n",
      " [  0   0   0   0  19   0   0   0  13   0   1   0   0   0   1   0   1   2]\n",
      " [  0   0   2   0  13   3   1   0   1  57   0   0   1   0   8   0   7   0]\n",
      " [  0   3   3   1   3   0   0   1   2   4 105   1   0   0  10   0   2   0]\n",
      " [  0   3   0   0   3   0   1   0   0   0   1   5   0   0   0   0   0   0]\n",
      " [  0   1   3   0   2   0   2   0   0   0   0   0  13   0   3   0   1   0]\n",
      " [  0   0   1   0   3   1   0   0   0   0   0   0   0   2   0   0   1   0]\n",
      " [  0   2   5   3  15   2   3   0   1   2   2   1   1   0 303   0   0   0]\n",
      " [  0   0   0   0  19   0   0   0   1   2   0   1   0   0   0   1   0   0]\n",
      " [  0   0   0   2  12   0   2   1   0   7   1   0   0   3   2   0  18   0]\n",
      " [  0   0   0   0   0   0   0   0   0   0   0   0   0   0   0   0   0   3]]\n",
      "['Arabic', 'Chinese', 'Czech', 'Dutch', 'English', 'French', 'German', 'Greek', 'Irish', 'Italian', 'Japanese', 'Korean', 'Polish', 'Portuguese', 'Russian', 'Scottish', 'Spanish', 'Vietnamese']\n",
      "True        Arabic  Chinese  Czech  Dutch  English  French  German  Greek  \\\n",
      "Predicted                                                                   \n",
      "Arabic         240        0      3      0        2       0       2      0   \n",
      "Chinese          0       18      0      0        4       0       0      0   \n",
      "Czech            0        0     24      1        7       1       4      1   \n",
      "Dutch            0        2      0     25       13       0      11      0   \n",
      "English          0        2      5      2      281       5       4      1   \n",
      "French           0        1      0      0       21      19       2      1   \n",
      "German           0        1     16      2       26       4      54      0   \n",
      "Greek            0        0      1      0        4       0       1     19   \n",
      "Irish            0        0      0      0       19       0       0      0   \n",
      "Italian          0        0      2      0       13       3       1      0   \n",
      "Japanese         0        3      3      1        3       0       0      1   \n",
      "Korean           0        3      0      0        3       0       1      0   \n",
      "Polish           0        1      3      0        2       0       2      0   \n",
      "Portuguese       0        0      1      0        3       1       0      0   \n",
      "Russian          0        2      5      3       15       2       3      0   \n",
      "Scottish         0        0      0      0       19       0       0      0   \n",
      "Spanish          0        0      0      2       12       0       2      1   \n",
      "Vietnamese       0        0      0      0        0       0       0      0   \n",
      "\n",
      "True        Irish  Italian  Japanese  Korean  Polish  Portuguese  Russian  \\\n",
      "Predicted                                                                   \n",
      "Arabic          1        0         0       0       0           0        2   \n",
      "Chinese         0        1         1       2       0           0        2   \n",
      "Czech           0        4         2       0       1           0        7   \n",
      "Dutch           0        2         0       0       0           0        0   \n",
      "English         8        1         0       2       1           2        5   \n",
      "French          0        3         0       0       0           0        1   \n",
      "German          1        3         1       1       0           1       11   \n",
      "Greek           0        4         2       0       1           1        1   \n",
      "Irish          13        0         1       0       0           0        1   \n",
      "Italian         1       57         0       0       1           0        8   \n",
      "Japanese        2        4       105       1       0           0       10   \n",
      "Korean          0        0         1       5       0           0        0   \n",
      "Polish          0        0         0       0      13           0        3   \n",
      "Portuguese      0        0         0       0       0           2        0   \n",
      "Russian         1        2         2       1       1           0      303   \n",
      "Scottish        1        2         0       1       0           0        0   \n",
      "Spanish         0        7         1       0       0           3        2   \n",
      "Vietnamese      0        0         0       0       0           0        0   \n",
      "\n",
      "True        Scottish  Spanish  Vietnamese  \n",
      "Predicted                                  \n",
      "Arabic             0        1           0  \n",
      "Chinese            1        0           4  \n",
      "Czech              0        1           0  \n",
      "Dutch              0        0           0  \n",
      "English            9        0           0  \n",
      "French             0        1           0  \n",
      "German             1        5           1  \n",
      "Greek              0        1           0  \n",
      "Irish              0        1           2  \n",
      "Italian            0        7           0  \n",
      "Japanese           0        2           0  \n",
      "Korean             0        0           0  \n",
      "Polish             0        1           0  \n",
      "Portuguese         0        1           0  \n",
      "Russian            0        0           0  \n",
      "Scottish           1        0           0  \n",
      "Spanish            0       18           0  \n",
      "Vietnamese         0        0           3  \n",
      "              precision    recall  f1-score   support\n",
      "\n",
      "           0       0.96      1.00      0.98       240\n",
      "           1       0.55      0.55      0.55        33\n",
      "           2       0.45      0.38      0.41        63\n",
      "           3       0.47      0.69      0.56        36\n",
      "           4       0.86      0.63      0.73       447\n",
      "           5       0.39      0.54      0.45        35\n",
      "           6       0.42      0.62      0.50        87\n",
      "           7       0.54      0.79      0.64        24\n",
      "           8       0.35      0.46      0.40        28\n",
      "           9       0.61      0.63      0.62        90\n",
      "          10       0.78      0.91      0.84       116\n",
      "          11       0.38      0.38      0.38        13\n",
      "          12       0.52      0.72      0.60        18\n",
      "          13       0.25      0.22      0.24         9\n",
      "          14       0.89      0.85      0.87       356\n",
      "          15       0.04      0.08      0.06        12\n",
      "          16       0.38      0.46      0.41        39\n",
      "          17       1.00      0.30      0.46        10\n",
      "\n",
      "    accuracy                           0.72      1656\n",
      "   macro avg       0.55      0.57      0.54      1656\n",
      "weighted avg       0.76      0.72      0.73      1656\n",
      "\n",
      "(72.46376811594199, 1.4049247440112664)\n"
     ]
    }
   ],
   "source": [
    "args = Namespace(\n",
    "    surname_csv=\"data/surnames/surnames_with_splits.csv\",\n",
    "    model_state_file=\"model.pth\",\n",
    "    save_dir=\"model_storage/ch4/surname_mlp\",\n",
    "    seed=1337,\n",
    "    num_epochs=100,\n",
    "    early_stopping_criteria=3,\n",
    "    cuda=True,\n",
    "    expand_filepaths_to_save_dir=True,\n",
    "    case_folding=False, #True\n",
    "    enable_second_hidden_layer=False,\n",
    "    enable_batch_norm=True,\n",
    "    learning_rate=0.0001,\n",
    "\n",
    "    vectorizer_type=Vectorizer_Type.TF_IDF, #Vectorizer_Type.Term_Freq,  Vectorizer_Type.TF_IDF, One_Hot\n",
    "    ngram_option=(2, 4), # TYPE CHAR, only valid when Vectorizer_Type is tf-idf  One_Hot\n",
    "\n",
    "    hidden_dim=340,\n",
    "    batch_size=8,\n",
    "    dropout_rate=0.41,\n",
    "    weight_decay=0,\n",
    ")\n",
    "\n",
    "if args.expand_filepaths_to_save_dir:\n",
    "    args.model_state_file = os.path.join(args.save_dir, args.model_state_file)   \n",
    "    print(\"Expanded filepaths: \")\n",
    "    print(\"\\t{}\".format(args.model_state_file))\n",
    "    \n",
    "# Check CUDA\n",
    "if not torch.cuda.is_available():\n",
    "    args.cuda = False\n",
    "\n",
    "args.device = torch.device(\"cuda\" if args.cuda else \"cpu\")\n",
    "    \n",
    "print(\"Using CUDA: {}\".format(args.cuda))\n",
    "\n",
    "\n",
    "# Set seed for reproducibility\n",
    "set_seed_everywhere(args.seed, args.cuda)\n",
    "\n",
    "# handle dirs\n",
    "handle_dirs(args.save_dir)\n",
    "\n",
    "dataset, vectorizer, classifier = init(args)\n",
    "train_state, loss_func = train_model(args, dataset=dataset, classifier=classifier)\n",
    "draw_loss_and_acc(train_state, \"TOP 1\")\n",
    "print(check_test_data(args, dataset, classifier, train_state, loss_func, enable_print_info=True))"
   ]
  },
  {
   "cell_type": "markdown",
   "metadata": {},
   "source": [
    "# Top 2 model"
   ]
  },
  {
   "cell_type": "code",
   "execution_count": 84,
   "metadata": {},
   "outputs": [
    {
     "name": "stdout",
     "output_type": "stream",
     "text": [
      "Expanded filepaths: \n",
      "\tmodel_storage/ch4/surname_mlp\\model.pth\n",
      "Using CUDA: True\n",
      "Creating fresh!\n",
      "number of features => 17824\n"
     ]
    },
    {
     "data": {
      "application/vnd.jupyter.widget-view+json": {
       "model_id": "4efcb778b7cc4008aa075307f04016c5",
       "version_major": 2,
       "version_minor": 0
      },
      "text/plain": [
       "training routine:   0%|          | 0/100 [00:00<?, ?it/s]"
      ]
     },
     "metadata": {},
     "output_type": "display_data"
    },
    {
     "data": {
      "application/vnd.jupyter.widget-view+json": {
       "model_id": "429d27ddef1f4c6a999eb424bf6bf2d1",
       "version_major": 2,
       "version_minor": 0
      },
      "text/plain": [
       "split=train:   0%|          | 0/960 [00:00<?, ?it/s]"
      ]
     },
     "metadata": {},
     "output_type": "display_data"
    },
    {
     "data": {
      "application/vnd.jupyter.widget-view+json": {
       "model_id": "8d869f515fcd45458fd40b3012274420",
       "version_major": 2,
       "version_minor": 0
      },
      "text/plain": [
       "split=val:   0%|          | 0/205 [00:00<?, ?it/s]"
      ]
     },
     "metadata": {},
     "output_type": "display_data"
    },
    {
     "data": {
      "image/png": "[encoded data removed]",
      "text/plain": [
       "<Figure size 1500x700 with 2 Axes>"
      ]
     },
     "metadata": {},
     "output_type": "display_data"
    },
    {
     "name": "stdout",
     "output_type": "stream",
     "text": [
      "==================================dividing line==================================\n",
      "Test loss: 1.4007803238928316;\n",
      "Test Accuracy: 72.40338164251204\n",
      "==================================dividing line==================================\n",
      "[[240   0   3   0   1   0   2   0   1   0   0   0   0   0   2   0   1   0]\n",
      " [  0  17   0   0   4   0   0   0   0   1   1   2   0   0   1   1   0   4]\n",
      " [  0   0  24   1   6   1   4   1   0   4   2   0   1   0   9   0   1   0]\n",
      " [  0   1   0  25  13   1  10   0   0   3   0   0   0   0   0   0   0   0]\n",
      " [  0   3   6   2 286   4   4   1   9   2   0   2   1   1   6   9   0   0]\n",
      " [  0   1   0   0  23  19   3   1   0   3   0   0   0   0   1   0   1   0]\n",
      " [  0   2  15   2  28   4  55   0   2   4   1   1   0   1  10   1   5   1]\n",
      " [  0   0   1   0   3   0   1  19   0   3   2   0   1   2   2   0   1   0]\n",
      " [  0   0   0   0  19   0   0   0  13   0   1   0   0   0   2   0   1   2]\n",
      " [  0   0   2   0  14   3   1   0   0  55   0   0   1   0   9   0   7   0]\n",
      " [  0   3   3   1   3   0   0   1   1   4 104   1   0   0  10   0   2   0]\n",
      " [  0   3   0   0   2   0   1   0   0   0   1   6   0   0   0   0   0   0]\n",
      " [  0   1   3   0   2   0   2   0   0   0   0   0  13   0   2   0   1   0]\n",
      " [  0   0   1   0   2   0   0   0   0   0   0   0   0   2   0   0   2   0]\n",
      " [  0   2   5   3  15   2   2   0   1   2   3   0   1   0 300   0   0   0]\n",
      " [  0   0   0   0  16   0   0   0   1   2   0   1   0   0   0   1   0   0]\n",
      " [  0   0   0   2  10   1   2   1   0   7   1   0   0   3   2   0  17   0]\n",
      " [  0   0   0   0   0   0   0   0   0   0   0   0   0   0   0   0   0   3]]\n",
      "['Arabic', 'Chinese', 'Czech', 'Dutch', 'English', 'French', 'German', 'Greek', 'Irish', 'Italian', 'Japanese', 'Korean', 'Polish', 'Portuguese', 'Russian', 'Scottish', 'Spanish', 'Vietnamese']\n",
      "True        Arabic  Chinese  Czech  Dutch  English  French  German  Greek  \\\n",
      "Predicted                                                                   \n",
      "Arabic         240        0      3      0        1       0       2      0   \n",
      "Chinese          0       17      0      0        4       0       0      0   \n",
      "Czech            0        0     24      1        6       1       4      1   \n",
      "Dutch            0        1      0     25       13       1      10      0   \n",
      "English          0        3      6      2      286       4       4      1   \n",
      "French           0        1      0      0       23      19       3      1   \n",
      "German           0        2     15      2       28       4      55      0   \n",
      "Greek            0        0      1      0        3       0       1     19   \n",
      "Irish            0        0      0      0       19       0       0      0   \n",
      "Italian          0        0      2      0       14       3       1      0   \n",
      "Japanese         0        3      3      1        3       0       0      1   \n",
      "Korean           0        3      0      0        2       0       1      0   \n",
      "Polish           0        1      3      0        2       0       2      0   \n",
      "Portuguese       0        0      1      0        2       0       0      0   \n",
      "Russian          0        2      5      3       15       2       2      0   \n",
      "Scottish         0        0      0      0       16       0       0      0   \n",
      "Spanish          0        0      0      2       10       1       2      1   \n",
      "Vietnamese       0        0      0      0        0       0       0      0   \n",
      "\n",
      "True        Irish  Italian  Japanese  Korean  Polish  Portuguese  Russian  \\\n",
      "Predicted                                                                   \n",
      "Arabic          1        0         0       0       0           0        2   \n",
      "Chinese         0        1         1       2       0           0        1   \n",
      "Czech           0        4         2       0       1           0        9   \n",
      "Dutch           0        3         0       0       0           0        0   \n",
      "English         9        2         0       2       1           1        6   \n",
      "French          0        3         0       0       0           0        1   \n",
      "German          2        4         1       1       0           1       10   \n",
      "Greek           0        3         2       0       1           2        2   \n",
      "Irish          13        0         1       0       0           0        2   \n",
      "Italian         0       55         0       0       1           0        9   \n",
      "Japanese        1        4       104       1       0           0       10   \n",
      "Korean          0        0         1       6       0           0        0   \n",
      "Polish          0        0         0       0      13           0        2   \n",
      "Portuguese      0        0         0       0       0           2        0   \n",
      "Russian         1        2         3       0       1           0      300   \n",
      "Scottish        1        2         0       1       0           0        0   \n",
      "Spanish         0        7         1       0       0           3        2   \n",
      "Vietnamese      0        0         0       0       0           0        0   \n",
      "\n",
      "True        Scottish  Spanish  Vietnamese  \n",
      "Predicted                                  \n",
      "Arabic             0        1           0  \n",
      "Chinese            1        0           4  \n",
      "Czech              0        1           0  \n",
      "Dutch              0        0           0  \n",
      "English            9        0           0  \n",
      "French             0        1           0  \n",
      "German             1        5           1  \n",
      "Greek              0        1           0  \n",
      "Irish              0        1           2  \n",
      "Italian            0        7           0  \n",
      "Japanese           0        2           0  \n",
      "Korean             0        0           0  \n",
      "Polish             0        1           0  \n",
      "Portuguese         0        2           0  \n",
      "Russian            0        0           0  \n",
      "Scottish           1        0           0  \n",
      "Spanish            0       17           0  \n",
      "Vietnamese         0        0           3  \n",
      "              precision    recall  f1-score   support\n",
      "\n",
      "           0       0.96      1.00      0.98       240\n",
      "           1       0.55      0.52      0.53        33\n",
      "           2       0.44      0.38      0.41        63\n",
      "           3       0.47      0.69      0.56        36\n",
      "           4       0.85      0.64      0.73       447\n",
      "           5       0.37      0.54      0.44        35\n",
      "           6       0.42      0.63      0.50        87\n",
      "           7       0.54      0.79      0.64        24\n",
      "           8       0.34      0.46      0.39        28\n",
      "           9       0.60      0.61      0.60        90\n",
      "          10       0.78      0.90      0.84       116\n",
      "          11       0.46      0.46      0.46        13\n",
      "          12       0.54      0.72      0.62        18\n",
      "          13       0.29      0.22      0.25         9\n",
      "          14       0.89      0.84      0.87       356\n",
      "          15       0.05      0.08      0.06        12\n",
      "          16       0.37      0.44      0.40        39\n",
      "          17       1.00      0.30      0.46        10\n",
      "\n",
      "    accuracy                           0.72      1656\n",
      "   macro avg       0.55      0.57      0.54      1656\n",
      "weighted avg       0.76      0.72      0.73      1656\n",
      "\n",
      "(72.40338164251204, 1.4007803238928316)\n"
     ]
    }
   ],
   "source": [
    "args = Namespace(\n",
    "    surname_csv=\"data/surnames/surnames_with_splits.csv\",\n",
    "    model_state_file=\"model.pth\",\n",
    "    save_dir=\"model_storage/ch4/surname_mlp\",\n",
    "    seed=1337,\n",
    "    num_epochs=100,\n",
    "    early_stopping_criteria=3,\n",
    "    cuda=True,\n",
    "    expand_filepaths_to_save_dir=True,\n",
    "    case_folding=False, #True\n",
    "    enable_second_hidden_layer=False,\n",
    "    enable_batch_norm=True,\n",
    "    learning_rate=0.0001,\n",
    "\n",
    "    vectorizer_type=Vectorizer_Type.TF_IDF, #Vectorizer_Type.Term_Freq,  Vectorizer_Type.TF_IDF, One_Hot\n",
    "    ngram_option=(2, 4), # TYPE CHAR, only valid when Vectorizer_Type is tf-idf  One_Hot\n",
    "\n",
    "    hidden_dim=340,\n",
    "    batch_size=8,\n",
    "    dropout_rate=0.42,\n",
    "    weight_decay=0,\n",
    ")\n",
    "\n",
    "if args.expand_filepaths_to_save_dir:\n",
    "    args.model_state_file = os.path.join(args.save_dir, args.model_state_file)   \n",
    "    print(\"Expanded filepaths: \")\n",
    "    print(\"\\t{}\".format(args.model_state_file))\n",
    "    \n",
    "# Check CUDA\n",
    "if not torch.cuda.is_available():\n",
    "    args.cuda = False\n",
    "\n",
    "args.device = torch.device(\"cuda\" if args.cuda else \"cpu\")\n",
    "    \n",
    "print(\"Using CUDA: {}\".format(args.cuda))\n",
    "\n",
    "\n",
    "# Set seed for reproducibility\n",
    "set_seed_everywhere(args.seed, args.cuda)\n",
    "\n",
    "# handle dirs\n",
    "handle_dirs(args.save_dir)\n",
    "\n",
    "dataset, vectorizer, classifier = init(args)\n",
    "train_state, loss_func = train_model(args, dataset=dataset, classifier=classifier)\n",
    "draw_loss_and_acc(train_state, \"TOP 1\")\n",
    "print(check_test_data(args, dataset, classifier, train_state, loss_func, enable_print_info=True))"
   ]
  },
  {
   "cell_type": "markdown",
   "metadata": {},
   "source": [
    "# Top 3 model"
   ]
  },
  {
   "cell_type": "code",
   "execution_count": 85,
   "metadata": {},
   "outputs": [
    {
     "name": "stdout",
     "output_type": "stream",
     "text": [
      "Expanded filepaths: \n",
      "\tmodel_storage/ch4/surname_mlp\\model.pth\n",
      "Using CUDA: True\n",
      "Creating fresh!\n",
      "number of features => 5386\n"
     ]
    },
    {
     "data": {
      "application/vnd.jupyter.widget-view+json": {
       "model_id": "ab1c6dc9832a4a4cbf164c7877888d54",
       "version_major": 2,
       "version_minor": 0
      },
      "text/plain": [
       "training routine:   0%|          | 0/100 [00:00<?, ?it/s]"
      ]
     },
     "metadata": {},
     "output_type": "display_data"
    },
    {
     "data": {
      "application/vnd.jupyter.widget-view+json": {
       "model_id": "7a9e892a8a994b9ba4c4af7605735f4f",
       "version_major": 2,
       "version_minor": 0
      },
      "text/plain": [
       "split=train:   0%|          | 0/480 [00:00<?, ?it/s]"
      ]
     },
     "metadata": {},
     "output_type": "display_data"
    },
    {
     "data": {
      "application/vnd.jupyter.widget-view+json": {
       "model_id": "5d7acadec86647eda80f7f0ef2e274b2",
       "version_major": 2,
       "version_minor": 0
      },
      "text/plain": [
       "split=val:   0%|          | 0/102 [00:00<?, ?it/s]"
      ]
     },
     "metadata": {},
     "output_type": "display_data"
    },
    {
     "data": {
      "image/png": "[encoded data removed]",
      "text/plain": [
       "<Figure size 1500x700 with 2 Axes>"
      ]
     },
     "metadata": {},
     "output_type": "display_data"
    },
    {
     "name": "stdout",
     "output_type": "stream",
     "text": [
      "==================================dividing line==================================\n",
      "Test loss: 1.4524417330049768;\n",
      "Test Accuracy: 72.26941747572813\n",
      "==================================dividing line==================================\n",
      "[[240   0   0   0   4   0   1   0   0   0   1   0   0   0   2   0   1   0]\n",
      " [  0  18   0   0   5   0   1   0   1   0   1   2   0   0   3   1   1   3]\n",
      " [  0   0  28   1  10   2   4   1   0   7   2   0   1   2  12   0   1   0]\n",
      " [  0   1   0  24  15   0   8   0   1   3   0   0   0   0   1   0   0   0]\n",
      " [  0   1   5   4 277   4   6   1   7   1   1   1   1   1   8   7   1   0]\n",
      " [  0   0   0   0  26  16   4   1   1   4   1   0   0   0   1   1   0   0]\n",
      " [  0   2  15   3  26   3  52   0   3   3   2   1   0   1   9   1   3   0]\n",
      " [  0   0   0   0   3   0   0  19   0   0   0   0   1   0   2   0   1   0]\n",
      " [  0   1   0   2  12   0   0   0  12   0   1   0   0   0   1   0   0   1]\n",
      " [  0   0   1   0   8   2   1   0   0  58   0   0   1   0   4   0   7   0]\n",
      " [  0   1   5   0   1   1   0   0   0   1 103   2   0   0   7   0   1   0]\n",
      " [  0   4   0   0   4   0   1   0   0   0   0   6   0   0   2   0   0   0]\n",
      " [  0   0   3   0   1   0   2   0   0   0   0   0  12   0   3   0   1   0]\n",
      " [  0   0   1   0   3   0   0   0   0   1   0   0   0   2   0   0   2   0]\n",
      " [  0   1   4   1  15   2   4   0   1   1   3   0   1   0 297   0   0   0]\n",
      " [  0   0   0   0  20   0   0   0   1   2   0   1   0   0   0   1   0   0]\n",
      " [  0   0   1   1  10   4   2   1   0   9   1   0   1   3   5   0  20   0]\n",
      " [  0   3   0   0   1   1   1   0   1   0   0   0   0   0   0   0   0   6]]\n",
      "['Arabic', 'Chinese', 'Czech', 'Dutch', 'English', 'French', 'German', 'Greek', 'Irish', 'Italian', 'Japanese', 'Korean', 'Polish', 'Portuguese', 'Russian', 'Scottish', 'Spanish', 'Vietnamese']\n",
      "True        Arabic  Chinese  Czech  Dutch  English  French  German  Greek  \\\n",
      "Predicted                                                                   \n",
      "Arabic         240        0      0      0        4       0       1      0   \n",
      "Chinese          0       18      0      0        5       0       1      0   \n",
      "Czech            0        0     28      1       10       2       4      1   \n",
      "Dutch            0        1      0     24       15       0       8      0   \n",
      "English          0        1      5      4      277       4       6      1   \n",
      "French           0        0      0      0       26      16       4      1   \n",
      "German           0        2     15      3       26       3      52      0   \n",
      "Greek            0        0      0      0        3       0       0     19   \n",
      "Irish            0        1      0      2       12       0       0      0   \n",
      "Italian          0        0      1      0        8       2       1      0   \n",
      "Japanese         0        1      5      0        1       1       0      0   \n",
      "Korean           0        4      0      0        4       0       1      0   \n",
      "Polish           0        0      3      0        1       0       2      0   \n",
      "Portuguese       0        0      1      0        3       0       0      0   \n",
      "Russian          0        1      4      1       15       2       4      0   \n",
      "Scottish         0        0      0      0       20       0       0      0   \n",
      "Spanish          0        0      1      1       10       4       2      1   \n",
      "Vietnamese       0        3      0      0        1       1       1      0   \n",
      "\n",
      "True        Irish  Italian  Japanese  Korean  Polish  Portuguese  Russian  \\\n",
      "Predicted                                                                   \n",
      "Arabic          0        0         1       0       0           0        2   \n",
      "Chinese         1        0         1       2       0           0        3   \n",
      "Czech           0        7         2       0       1           2       12   \n",
      "Dutch           1        3         0       0       0           0        1   \n",
      "English         7        1         1       1       1           1        8   \n",
      "French          1        4         1       0       0           0        1   \n",
      "German          3        3         2       1       0           1        9   \n",
      "Greek           0        0         0       0       1           0        2   \n",
      "Irish          12        0         1       0       0           0        1   \n",
      "Italian         0       58         0       0       1           0        4   \n",
      "Japanese        0        1       103       2       0           0        7   \n",
      "Korean          0        0         0       6       0           0        2   \n",
      "Polish          0        0         0       0      12           0        3   \n",
      "Portuguese      0        1         0       0       0           2        0   \n",
      "Russian         1        1         3       0       1           0      297   \n",
      "Scottish        1        2         0       1       0           0        0   \n",
      "Spanish         0        9         1       0       1           3        5   \n",
      "Vietnamese      1        0         0       0       0           0        0   \n",
      "\n",
      "True        Scottish  Spanish  Vietnamese  \n",
      "Predicted                                  \n",
      "Arabic             0        1           0  \n",
      "Chinese            1        1           3  \n",
      "Czech              0        1           0  \n",
      "Dutch              0        0           0  \n",
      "English            7        1           0  \n",
      "French             1        0           0  \n",
      "German             1        3           0  \n",
      "Greek              0        1           0  \n",
      "Irish              0        0           1  \n",
      "Italian            0        7           0  \n",
      "Japanese           0        1           0  \n",
      "Korean             0        0           0  \n",
      "Polish             0        1           0  \n",
      "Portuguese         0        2           0  \n",
      "Russian            0        0           0  \n",
      "Scottish           1        0           0  \n",
      "Spanish            0       20           0  \n",
      "Vietnamese         0        0           6  \n",
      "              precision    recall  f1-score   support\n",
      "\n",
      "           0       0.96      1.00      0.98       240\n",
      "           1       0.50      0.56      0.53        32\n",
      "           2       0.39      0.44      0.42        63\n",
      "           3       0.45      0.67      0.54        36\n",
      "           4       0.85      0.63      0.72       441\n",
      "           5       0.29      0.46      0.36        35\n",
      "           6       0.42      0.60      0.49        87\n",
      "           7       0.73      0.83      0.78        23\n",
      "           8       0.40      0.43      0.41        28\n",
      "           9       0.71      0.64      0.67        90\n",
      "          10       0.84      0.89      0.87       116\n",
      "          11       0.35      0.46      0.40        13\n",
      "          12       0.55      0.67      0.60        18\n",
      "          13       0.22      0.22      0.22         9\n",
      "          14       0.90      0.83      0.86       357\n",
      "          15       0.04      0.09      0.06        11\n",
      "          16       0.34      0.51      0.41        39\n",
      "          17       0.46      0.60      0.52        10\n",
      "\n",
      "    accuracy                           0.72      1648\n",
      "   macro avg       0.52      0.58      0.55      1648\n",
      "weighted avg       0.76      0.72      0.73      1648\n",
      "\n",
      "(72.26941747572813, 1.4524417330049768)\n"
     ]
    }
   ],
   "source": [
    "args = Namespace(\n",
    "    surname_csv=\"data/surnames/surnames_with_splits.csv\",\n",
    "    model_state_file=\"model.pth\",\n",
    "    save_dir=\"model_storage/ch4/surname_mlp\",\n",
    "    seed=1337,\n",
    "    num_epochs=100,\n",
    "    early_stopping_criteria=3,\n",
    "    cuda=True,\n",
    "    expand_filepaths_to_save_dir=True,\n",
    "    case_folding=False, #True\n",
    "    enable_second_hidden_layer=False,\n",
    "    enable_batch_norm=True,\n",
    "    learning_rate=0.0001,\n",
    "\n",
    "    vectorizer_type=Vectorizer_Type.TF_IDF, #Vectorizer_Type.Term_Freq,  Vectorizer_Type.TF_IDF, One_Hot\n",
    "    ngram_option=(1, 3), # TYPE CHAR, only valid when Vectorizer_Type is tf-idf  One_Hot\n",
    "\n",
    "    hidden_dim=300,\n",
    "    batch_size=16,\n",
    "    dropout_rate=0.28,\n",
    "    weight_decay=0.0001,\n",
    ")\n",
    "\n",
    "if args.expand_filepaths_to_save_dir:\n",
    "    args.model_state_file = os.path.join(args.save_dir, args.model_state_file)   \n",
    "    print(\"Expanded filepaths: \")\n",
    "    print(\"\\t{}\".format(args.model_state_file))\n",
    "    \n",
    "# Check CUDA\n",
    "if not torch.cuda.is_available():\n",
    "    args.cuda = False\n",
    "\n",
    "args.device = torch.device(\"cuda\" if args.cuda else \"cpu\")\n",
    "    \n",
    "print(\"Using CUDA: {}\".format(args.cuda))\n",
    "\n",
    "\n",
    "# Set seed for reproducibility\n",
    "set_seed_everywhere(args.seed, args.cuda)\n",
    "\n",
    "# handle dirs\n",
    "handle_dirs(args.save_dir)\n",
    "\n",
    "dataset, vectorizer, classifier = init(args)\n",
    "train_state, loss_func = train_model(args, dataset=dataset, classifier=classifier)\n",
    "draw_loss_and_acc(train_state, \"TOP 1\")\n",
    "print(check_test_data(args, dataset, classifier, train_state, loss_func, enable_print_info=True))"
   ]
  },
  {
   "cell_type": "markdown",
   "metadata": {},
   "source": [
    "# Top 4 model"
   ]
  },
  {
   "cell_type": "code",
   "execution_count": 86,
   "metadata": {},
   "outputs": [
    {
     "name": "stdout",
     "output_type": "stream",
     "text": [
      "Expanded filepaths: \n",
      "\tmodel_storage/ch4/surname_mlp\\model.pth\n",
      "Using CUDA: True\n",
      "Creating fresh!\n",
      "number of features => 5386\n"
     ]
    },
    {
     "data": {
      "application/vnd.jupyter.widget-view+json": {
       "model_id": "f0411d197aab40698ffe4b35a4da81ce",
       "version_major": 2,
       "version_minor": 0
      },
      "text/plain": [
       "training routine:   0%|          | 0/100 [00:00<?, ?it/s]"
      ]
     },
     "metadata": {},
     "output_type": "display_data"
    },
    {
     "data": {
      "application/vnd.jupyter.widget-view+json": {
       "model_id": "c51ae0d2e0324985bf86ef9692d7f6e5",
       "version_major": 2,
       "version_minor": 0
      },
      "text/plain": [
       "split=train:   0%|          | 0/480 [00:00<?, ?it/s]"
      ]
     },
     "metadata": {},
     "output_type": "display_data"
    },
    {
     "data": {
      "application/vnd.jupyter.widget-view+json": {
       "model_id": "de7f5d95564e4c529228dc9a0fc103aa",
       "version_major": 2,
       "version_minor": 0
      },
      "text/plain": [
       "split=val:   0%|          | 0/102 [00:00<?, ?it/s]"
      ]
     },
     "metadata": {},
     "output_type": "display_data"
    },
    {
     "data": {
      "image/png": "[encoded data removed]",
      "text/plain": [
       "<Figure size 1500x700 with 2 Axes>"
      ]
     },
     "metadata": {},
     "output_type": "display_data"
    },
    {
     "name": "stdout",
     "output_type": "stream",
     "text": [
      "==================================dividing line==================================\n",
      "Test loss: 1.467670414922307;\n",
      "Test Accuracy: 72.08737864077669\n",
      "==================================dividing line==================================\n",
      "[[240   0   1   0   4   0   1   0   0   0   1   0   0   0   2   0   1   0]\n",
      " [  0  15   0   0   5   0   1   0   1   0   1   2   0   0   2   1   1   3]\n",
      " [  0   0  27   1   9   2   4   1   0   6   2   0   1   2  11   0   1   0]\n",
      " [  0   1   0  23  16   1   9   0   1   2   0   0   0   0   1   0   0   0]\n",
      " [  0   2   5   5 277   4   6   1   5   1   1   1   1   1   8   7   1   0]\n",
      " [  0   0   0   0  24  16   4   1   1   4   0   0   0   0   0   1   0   0]\n",
      " [  0   2  15   2  29   2  50   0   3   3   2   1   0   1   8   1   3   0]\n",
      " [  0   0   0   0   4   0   0  19   0   0   0   0   1   0   2   0   1   0]\n",
      " [  0   0   0   2  12   0   0   0  13   0   1   0   0   0   0   0   0   1]\n",
      " [  0   0   1   0   8   2   1   0   0  57   0   0   1   0   5   0   7   0]\n",
      " [  0   2   5   1   1   1   0   0   0   1 104   2   0   0   8   0   1   0]\n",
      " [  0   5   0   0   4   0   1   0   0   0   0   6   0   0   2   0   0   1]\n",
      " [  0   0   3   0   1   0   2   0   0   0   0   0  12   0   3   0   1   0]\n",
      " [  0   0   1   0   2   0   0   0   0   1   0   0   0   2   0   0   2   0]\n",
      " [  0   2   4   1  15   3   4   0   1   1   3   0   1   0 301   0   0   0]\n",
      " [  0   0   0   0  19   0   1   0   1   2   0   1   0   0   0   1   0   0]\n",
      " [  0   0   1   1  10   3   2   1   0  12   1   0   1   3   4   0  20   0]\n",
      " [  0   3   0   0   1   1   1   0   2   0   0   0   0   0   0   0   0   5]]\n",
      "['Arabic', 'Chinese', 'Czech', 'Dutch', 'English', 'French', 'German', 'Greek', 'Irish', 'Italian', 'Japanese', 'Korean', 'Polish', 'Portuguese', 'Russian', 'Scottish', 'Spanish', 'Vietnamese']\n",
      "True        Arabic  Chinese  Czech  Dutch  English  French  German  Greek  \\\n",
      "Predicted                                                                   \n",
      "Arabic         240        0      1      0        4       0       1      0   \n",
      "Chinese          0       15      0      0        5       0       1      0   \n",
      "Czech            0        0     27      1        9       2       4      1   \n",
      "Dutch            0        1      0     23       16       1       9      0   \n",
      "English          0        2      5      5      277       4       6      1   \n",
      "French           0        0      0      0       24      16       4      1   \n",
      "German           0        2     15      2       29       2      50      0   \n",
      "Greek            0        0      0      0        4       0       0     19   \n",
      "Irish            0        0      0      2       12       0       0      0   \n",
      "Italian          0        0      1      0        8       2       1      0   \n",
      "Japanese         0        2      5      1        1       1       0      0   \n",
      "Korean           0        5      0      0        4       0       1      0   \n",
      "Polish           0        0      3      0        1       0       2      0   \n",
      "Portuguese       0        0      1      0        2       0       0      0   \n",
      "Russian          0        2      4      1       15       3       4      0   \n",
      "Scottish         0        0      0      0       19       0       1      0   \n",
      "Spanish          0        0      1      1       10       3       2      1   \n",
      "Vietnamese       0        3      0      0        1       1       1      0   \n",
      "\n",
      "True        Irish  Italian  Japanese  Korean  Polish  Portuguese  Russian  \\\n",
      "Predicted                                                                   \n",
      "Arabic          0        0         1       0       0           0        2   \n",
      "Chinese         1        0         1       2       0           0        2   \n",
      "Czech           0        6         2       0       1           2       11   \n",
      "Dutch           1        2         0       0       0           0        1   \n",
      "English         5        1         1       1       1           1        8   \n",
      "French          1        4         0       0       0           0        0   \n",
      "German          3        3         2       1       0           1        8   \n",
      "Greek           0        0         0       0       1           0        2   \n",
      "Irish          13        0         1       0       0           0        0   \n",
      "Italian         0       57         0       0       1           0        5   \n",
      "Japanese        0        1       104       2       0           0        8   \n",
      "Korean          0        0         0       6       0           0        2   \n",
      "Polish          0        0         0       0      12           0        3   \n",
      "Portuguese      0        1         0       0       0           2        0   \n",
      "Russian         1        1         3       0       1           0      301   \n",
      "Scottish        1        2         0       1       0           0        0   \n",
      "Spanish         0       12         1       0       1           3        4   \n",
      "Vietnamese      2        0         0       0       0           0        0   \n",
      "\n",
      "True        Scottish  Spanish  Vietnamese  \n",
      "Predicted                                  \n",
      "Arabic             0        1           0  \n",
      "Chinese            1        1           3  \n",
      "Czech              0        1           0  \n",
      "Dutch              0        0           0  \n",
      "English            7        1           0  \n",
      "French             1        0           0  \n",
      "German             1        3           0  \n",
      "Greek              0        1           0  \n",
      "Irish              0        0           1  \n",
      "Italian            0        7           0  \n",
      "Japanese           0        1           0  \n",
      "Korean             0        0           1  \n",
      "Polish             0        1           0  \n",
      "Portuguese         0        2           0  \n",
      "Russian            0        0           0  \n",
      "Scottish           1        0           0  \n",
      "Spanish            0       20           0  \n",
      "Vietnamese         0        0           5  \n",
      "              precision    recall  f1-score   support\n",
      "\n",
      "           0       0.96      1.00      0.98       240\n",
      "           1       0.47      0.47      0.47        32\n",
      "           2       0.40      0.43      0.42        63\n",
      "           3       0.43      0.64      0.51        36\n",
      "           4       0.85      0.63      0.72       441\n",
      "           5       0.31      0.46      0.37        35\n",
      "           6       0.41      0.57      0.48        87\n",
      "           7       0.70      0.83      0.76        23\n",
      "           8       0.45      0.46      0.46        28\n",
      "           9       0.70      0.63      0.66        90\n",
      "          10       0.83      0.90      0.86       116\n",
      "          11       0.32      0.46      0.38        13\n",
      "          12       0.55      0.67      0.60        18\n",
      "          13       0.25      0.22      0.24         9\n",
      "          14       0.90      0.84      0.87       357\n",
      "          15       0.04      0.09      0.06        11\n",
      "          16       0.34      0.51      0.41        39\n",
      "          17       0.38      0.50      0.43        10\n",
      "\n",
      "    accuracy                           0.72      1648\n",
      "   macro avg       0.52      0.57      0.54      1648\n",
      "weighted avg       0.76      0.72      0.73      1648\n",
      "\n",
      "(72.08737864077669, 1.467670414922307)\n"
     ]
    }
   ],
   "source": [
    "args = Namespace(\n",
    "    surname_csv=\"data/surnames/surnames_with_splits.csv\",\n",
    "    model_state_file=\"model.pth\",\n",
    "    save_dir=\"model_storage/ch4/surname_mlp\",\n",
    "    seed=1337,\n",
    "    num_epochs=100,\n",
    "    early_stopping_criteria=3,\n",
    "    cuda=True,\n",
    "    expand_filepaths_to_save_dir=True,\n",
    "    case_folding=False, #True\n",
    "    enable_second_hidden_layer=False,\n",
    "    enable_batch_norm=True,\n",
    "    learning_rate=0.0001,\n",
    "\n",
    "    vectorizer_type=Vectorizer_Type.TF_IDF, #Vectorizer_Type.Term_Freq,  Vectorizer_Type.TF_IDF, One_Hot\n",
    "    ngram_option=(1, 3), # TYPE CHAR, only valid when Vectorizer_Type is tf-idf  One_Hot\n",
    "\n",
    "    hidden_dim=300,\n",
    "    batch_size=16,\n",
    "    dropout_rate=0.24,\n",
    "    weight_decay=0.0001,\n",
    ")\n",
    "\n",
    "if args.expand_filepaths_to_save_dir:\n",
    "    args.model_state_file = os.path.join(args.save_dir, args.model_state_file)   \n",
    "    print(\"Expanded filepaths: \")\n",
    "    print(\"\\t{}\".format(args.model_state_file))\n",
    "    \n",
    "# Check CUDA\n",
    "if not torch.cuda.is_available():\n",
    "    args.cuda = False\n",
    "\n",
    "args.device = torch.device(\"cuda\" if args.cuda else \"cpu\")\n",
    "    \n",
    "print(\"Using CUDA: {}\".format(args.cuda))\n",
    "\n",
    "\n",
    "# Set seed for reproducibility\n",
    "set_seed_everywhere(args.seed, args.cuda)\n",
    "\n",
    "# handle dirs\n",
    "handle_dirs(args.save_dir)\n",
    "\n",
    "dataset, vectorizer, classifier = init(args)\n",
    "train_state, loss_func = train_model(args, dataset=dataset, classifier=classifier)\n",
    "draw_loss_and_acc(train_state, \"TOP 1\")\n",
    "print(check_test_data(args, dataset, classifier, train_state, loss_func, enable_print_info=True))"
   ]
  },
  {
   "cell_type": "markdown",
   "metadata": {},
   "source": [
    "# Top 5 model"
   ]
  },
  {
   "cell_type": "code",
   "execution_count": 87,
   "metadata": {},
   "outputs": [
    {
     "name": "stdout",
     "output_type": "stream",
     "text": [
      "Expanded filepaths: \n",
      "\tmodel_storage/ch4/surname_mlp\\model.pth\n",
      "Using CUDA: True\n",
      "Creating fresh!\n",
      "number of features => 5386\n"
     ]
    },
    {
     "data": {
      "application/vnd.jupyter.widget-view+json": {
       "model_id": "c028903561714beca786552afa3ab905",
       "version_major": 2,
       "version_minor": 0
      },
      "text/plain": [
       "training routine:   0%|          | 0/100 [00:00<?, ?it/s]"
      ]
     },
     "metadata": {},
     "output_type": "display_data"
    },
    {
     "data": {
      "application/vnd.jupyter.widget-view+json": {
       "model_id": "c85fd71f64c84f02a4598c835cb5828d",
       "version_major": 2,
       "version_minor": 0
      },
      "text/plain": [
       "split=train:   0%|          | 0/480 [00:00<?, ?it/s]"
      ]
     },
     "metadata": {},
     "output_type": "display_data"
    },
    {
     "data": {
      "application/vnd.jupyter.widget-view+json": {
       "model_id": "19a18e9a66ea4fdf8e2a87c67936b03a",
       "version_major": 2,
       "version_minor": 0
      },
      "text/plain": [
       "split=val:   0%|          | 0/102 [00:00<?, ?it/s]"
      ]
     },
     "metadata": {},
     "output_type": "display_data"
    },
    {
     "data": {
      "image/png": "[encoded data removed]",
      "text/plain": [
       "<Figure size 1500x700 with 2 Axes>"
      ]
     },
     "metadata": {},
     "output_type": "display_data"
    },
    {
     "name": "stdout",
     "output_type": "stream",
     "text": [
      "==================================dividing line==================================\n",
      "Test loss: 1.4506900614326446;\n",
      "Test Accuracy: 71.84466019417475\n",
      "==================================dividing line==================================\n",
      "[[240   0   0   0   4   0   1   0   0   0   1   0   0   0   2   0   1   0]\n",
      " [  0  16   0   0   4   0   1   0   1   0   1   2   0   0   2   1   1   3]\n",
      " [  0   0  28   1  10   2   3   1   0   7   2   0   1   2  14   0   1   0]\n",
      " [  0   1   1  24  16   0   7   0   1   3   0   0   0   0   1   0   0   0]\n",
      " [  0   1   6   4 272   4   6   1   7   2   1   1   1   1   6   7   1   0]\n",
      " [  0   0   0   0  27  17   4   1   1   5   0   0   0   0   1   1   0   0]\n",
      " [  0   2  13   2  30   3  53   0   3   3   2   1   0   1   9   1   3   0]\n",
      " [  0   0   0   0   3   0   0  19   0   0   0   0   1   0   2   0   1   0]\n",
      " [  0   0   0   2  13   0   0   0  11   0   1   0   0   0   1   0   0   1]\n",
      " [  0   0   2   0  10   2   1   0   0  56   0   0   1   0   4   0   7   0]\n",
      " [  0   2   4   1   2   1   0   0   0   1 104   2   0   0   7   0   1   0]\n",
      " [  0   5   0   0   5   0   2   0   0   0   0   6   0   0   2   0   0   1]\n",
      " [  0   0   3   0   1   0   2   0   0   0   0   0  12   0   3   0   1   0]\n",
      " [  0   0   1   0   3   0   0   0   0   1   0   0   0   2   0   0   2   0]\n",
      " [  0   2   4   1  15   2   4   0   1   1   3   0   1   0 298   0   0   0]\n",
      " [  0   0   0   0  17   0   1   0   1   2   0   1   0   0   0   1   0   0]\n",
      " [  0   0   1   1   8   3   2   1   0   9   1   0   1   3   5   0  20   0]\n",
      " [  0   3   0   0   1   1   0   0   2   0   0   0   0   0   0   0   0   5]]\n",
      "['Arabic', 'Chinese', 'Czech', 'Dutch', 'English', 'French', 'German', 'Greek', 'Irish', 'Italian', 'Japanese', 'Korean', 'Polish', 'Portuguese', 'Russian', 'Scottish', 'Spanish', 'Vietnamese']\n",
      "True        Arabic  Chinese  Czech  Dutch  English  French  German  Greek  \\\n",
      "Predicted                                                                   \n",
      "Arabic         240        0      0      0        4       0       1      0   \n",
      "Chinese          0       16      0      0        4       0       1      0   \n",
      "Czech            0        0     28      1       10       2       3      1   \n",
      "Dutch            0        1      1     24       16       0       7      0   \n",
      "English          0        1      6      4      272       4       6      1   \n",
      "French           0        0      0      0       27      17       4      1   \n",
      "German           0        2     13      2       30       3      53      0   \n",
      "Greek            0        0      0      0        3       0       0     19   \n",
      "Irish            0        0      0      2       13       0       0      0   \n",
      "Italian          0        0      2      0       10       2       1      0   \n",
      "Japanese         0        2      4      1        2       1       0      0   \n",
      "Korean           0        5      0      0        5       0       2      0   \n",
      "Polish           0        0      3      0        1       0       2      0   \n",
      "Portuguese       0        0      1      0        3       0       0      0   \n",
      "Russian          0        2      4      1       15       2       4      0   \n",
      "Scottish         0        0      0      0       17       0       1      0   \n",
      "Spanish          0        0      1      1        8       3       2      1   \n",
      "Vietnamese       0        3      0      0        1       1       0      0   \n",
      "\n",
      "True        Irish  Italian  Japanese  Korean  Polish  Portuguese  Russian  \\\n",
      "Predicted                                                                   \n",
      "Arabic          0        0         1       0       0           0        2   \n",
      "Chinese         1        0         1       2       0           0        2   \n",
      "Czech           0        7         2       0       1           2       14   \n",
      "Dutch           1        3         0       0       0           0        1   \n",
      "English         7        2         1       1       1           1        6   \n",
      "French          1        5         0       0       0           0        1   \n",
      "German          3        3         2       1       0           1        9   \n",
      "Greek           0        0         0       0       1           0        2   \n",
      "Irish          11        0         1       0       0           0        1   \n",
      "Italian         0       56         0       0       1           0        4   \n",
      "Japanese        0        1       104       2       0           0        7   \n",
      "Korean          0        0         0       6       0           0        2   \n",
      "Polish          0        0         0       0      12           0        3   \n",
      "Portuguese      0        1         0       0       0           2        0   \n",
      "Russian         1        1         3       0       1           0      298   \n",
      "Scottish        1        2         0       1       0           0        0   \n",
      "Spanish         0        9         1       0       1           3        5   \n",
      "Vietnamese      2        0         0       0       0           0        0   \n",
      "\n",
      "True        Scottish  Spanish  Vietnamese  \n",
      "Predicted                                  \n",
      "Arabic             0        1           0  \n",
      "Chinese            1        1           3  \n",
      "Czech              0        1           0  \n",
      "Dutch              0        0           0  \n",
      "English            7        1           0  \n",
      "French             1        0           0  \n",
      "German             1        3           0  \n",
      "Greek              0        1           0  \n",
      "Irish              0        0           1  \n",
      "Italian            0        7           0  \n",
      "Japanese           0        1           0  \n",
      "Korean             0        0           1  \n",
      "Polish             0        1           0  \n",
      "Portuguese         0        2           0  \n",
      "Russian            0        0           0  \n",
      "Scottish           1        0           0  \n",
      "Spanish            0       20           0  \n",
      "Vietnamese         0        0           5  \n",
      "              precision    recall  f1-score   support\n",
      "\n",
      "           0       0.96      1.00      0.98       240\n",
      "           1       0.50      0.50      0.50        32\n",
      "           2       0.39      0.44      0.41        63\n",
      "           3       0.44      0.67      0.53        36\n",
      "           4       0.85      0.62      0.71       441\n",
      "           5       0.30      0.49      0.37        35\n",
      "           6       0.42      0.61      0.50        87\n",
      "           7       0.73      0.83      0.78        23\n",
      "           8       0.38      0.39      0.39        28\n",
      "           9       0.67      0.62      0.65        90\n",
      "          10       0.83      0.90      0.86       116\n",
      "          11       0.29      0.46      0.35        13\n",
      "          12       0.55      0.67      0.60        18\n",
      "          13       0.22      0.22      0.22         9\n",
      "          14       0.90      0.83      0.87       357\n",
      "          15       0.04      0.09      0.06        11\n",
      "          16       0.36      0.51      0.43        39\n",
      "          17       0.42      0.50      0.45        10\n",
      "\n",
      "    accuracy                           0.72      1648\n",
      "   macro avg       0.51      0.57      0.54      1648\n",
      "weighted avg       0.76      0.72      0.73      1648\n",
      "\n",
      "(71.84466019417475, 1.4506900614326446)\n"
     ]
    }
   ],
   "source": [
    "args = Namespace(\n",
    "    surname_csv=\"data/surnames/surnames_with_splits.csv\",\n",
    "    model_state_file=\"model.pth\",\n",
    "    save_dir=\"model_storage/ch4/surname_mlp\",\n",
    "    seed=1337,\n",
    "    num_epochs=100,\n",
    "    early_stopping_criteria=3,\n",
    "    cuda=True,\n",
    "    expand_filepaths_to_save_dir=True,\n",
    "    case_folding=False, #True\n",
    "    enable_second_hidden_layer=False,\n",
    "    enable_batch_norm=True,\n",
    "    learning_rate=0.0001,\n",
    "\n",
    "    vectorizer_type=Vectorizer_Type.TF_IDF, #Vectorizer_Type.Term_Freq,  Vectorizer_Type.TF_IDF, One_Hot\n",
    "    ngram_option=(1, 3), # TYPE CHAR, only valid when Vectorizer_Type is tf-idf  One_Hot\n",
    "\n",
    "    hidden_dim=300,\n",
    "    batch_size=16,\n",
    "    dropout_rate=0.28,\n",
    "    weight_decay=0.00001,\n",
    ")\n",
    "\n",
    "if args.expand_filepaths_to_save_dir:\n",
    "    args.model_state_file = os.path.join(args.save_dir, args.model_state_file)   \n",
    "    print(\"Expanded filepaths: \")\n",
    "    print(\"\\t{}\".format(args.model_state_file))\n",
    "    \n",
    "# Check CUDA\n",
    "if not torch.cuda.is_available():\n",
    "    args.cuda = False\n",
    "\n",
    "args.device = torch.device(\"cuda\" if args.cuda else \"cpu\")\n",
    "    \n",
    "print(\"Using CUDA: {}\".format(args.cuda))\n",
    "\n",
    "\n",
    "# Set seed for reproducibility\n",
    "set_seed_everywhere(args.seed, args.cuda)\n",
    "\n",
    "# handle dirs\n",
    "handle_dirs(args.save_dir)\n",
    "\n",
    "dataset, vectorizer, classifier = init(args)\n",
    "train_state, loss_func = train_model(args, dataset=dataset, classifier=classifier)\n",
    "draw_loss_and_acc(train_state, \"TOP 1\")\n",
    "print(check_test_data(args, dataset, classifier, train_state, loss_func, enable_print_info=True))"
   ]
  }
 ],
 "metadata": {
  "kernelspec": {
   "display_name": "base",
   "language": "python",
   "name": "python3"
  },
  "language_info": {
   "codemirror_mode": {
    "name": "ipython",
    "version": 3
   },
   "file_extension": ".py",
   "mimetype": "text/x-python",
   "name": "python",
   "nbconvert_exporter": "python",
   "pygments_lexer": "ipython3",
   "version": "3.12.7"
  },
  "toc": {
   "colors": {
    "hover_highlight": "#DAA520",
    "running_highlight": "#FF0000",
    "selected_highlight": "#FFD700"
   },
   "moveMenuLeft": true,
   "nav_menu": {
    "height": "138px",
    "width": "252px"
   },
   "navigate_menu": true,
   "number_sections": true,
   "sideBar": true,
   "threshold": "5",
   "toc_cell": false,
   "toc_section_display": "block",
   "toc_window_display": false
  }
 },
 "nbformat": 4,
 "nbformat_minor": 4
}
