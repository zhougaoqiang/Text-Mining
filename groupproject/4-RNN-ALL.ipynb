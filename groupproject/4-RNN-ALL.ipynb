{
 "cells": [
  {
   "cell_type": "code",
   "execution_count": 1,
   "metadata": {},
   "outputs": [],
   "source": [
    "import torch\n",
    "import torch.nn as nn\n",
    "import torch.optim as optim\n",
    "import torch.nn.functional as F\n",
    "from torch.utils.data import DataLoader, Dataset\n",
    "from torch.nn.utils.rnn import pad_sequence\n",
    "import pandas as pd\n",
    "import numpy as np\n",
    "import matplotlib.pyplot as plt\n",
    "from sklearn.model_selection import train_test_split\n",
    "from sklearn.metrics import accuracy_score\n",
    "from tqdm import tqdm\n",
    "from nltk.tokenize import word_tokenize\n",
    "from collections import Counter\n",
    "from sklearn.metrics import classification_report"
   ]
  },
  {
   "cell_type": "code",
   "execution_count": 2,
   "metadata": {},
   "outputs": [
    {
     "name": "stdout",
     "output_type": "stream",
     "text": [
      "Using device: cuda\n",
      "<class 'pandas.core.frame.DataFrame'>\n",
      "RangeIndex: 1597267 entries, 0 to 1597266\n",
      "Data columns (total 2 columns):\n",
      " #   Column    Non-Null Count    Dtype \n",
      "---  ------    --------------    ----- \n",
      " 0   polarity  1597267 non-null  int64 \n",
      " 1   text      1597267 non-null  object\n",
      "dtypes: int64(1), object(1)\n",
      "memory usage: 24.4+ MB\n",
      "None\n"
     ]
    }
   ],
   "source": [
    "device = torch.device(\"cuda\" if torch.cuda.is_available() else \"cpu\")\n",
    "print(f\"Using device: {device}\")\n",
    "\n",
    "file_path = \"data/noemoticon_preprocessed.csv\"\n",
    "df = pd.read_csv(file_path)\n",
    "print(df.info())\n",
    "\n",
    "##already do following steps\n",
    "##removing HTML and brackets.\n",
    "# df[\"text\"] = df[\"text\"].apply(helper.denoise_text)\n",
    "#Expands abbreviations, e.g. \"can't\" → \"cannot\", \"I'm\" → \"I am\"\n",
    "# df[\"text\"] = df[\"text\"].apply(helper.expand_contractions)\n",
    "#Remove @someone and email addresses from text\n",
    "# df[\"text\"] = df[\"text\"].apply(helper.remove_mentions_and_emails)\n",
    "#apply futher\n",
    "# df[\"text\"] = df[\"text\"].apply(helper.remove_non_ascii_in_text)"
   ]
  },
  {
   "cell_type": "code",
   "execution_count": 3,
   "metadata": {},
   "outputs": [],
   "source": [
    "label_mapping = {0: 0, 4: 1} #把原始的 0/4 映射成 0/1，实现 二分类任务\n",
    "df[\"polarity\"] = df[\"polarity\"].map(label_mapping)"
   ]
  },
  {
   "cell_type": "code",
   "execution_count": 4,
   "metadata": {},
   "outputs": [],
   "source": [
    "df[\"tokens\"] = df[\"text\"].apply(word_tokenize) #base on the experience, directly use nftk's word_tokenize"
   ]
  },
  {
   "cell_type": "code",
   "execution_count": 5,
   "metadata": {},
   "outputs": [],
   "source": [
    "counter = Counter()\n",
    "for tokens in df[\"tokens\"]:  \n",
    "    counter.update(tokens)"
   ]
  },
  {
   "cell_type": "code",
   "execution_count": 6,
   "metadata": {},
   "outputs": [],
   "source": [
    "max_vocab_size = 50000  \n",
    "# 限制词汇表大小，防止低频词占用太多空间 \n",
    "# based on \n",
    "#   1. Words appearing > 5 times: 50289 \n",
    "#   2. Percentage of low-frequency words: 88.30%\n",
    "word2idx = {\"<PAD>\": 0, \"<UNK>\": 1}  # 预留特殊标记\n",
    "for i, (word, freq) in enumerate(counter.most_common(max_vocab_size - 2), start=2):\n",
    "    word2idx[word] = i"
   ]
  },
  {
   "cell_type": "code",
   "execution_count": 7,
   "metadata": {},
   "outputs": [],
   "source": [
    "# **将文本转换为索引**\n",
    "def tokens_to_ids(tokens, word2idx):\n",
    "    return [word2idx.get(token, word2idx[\"<UNK>\"]) for token in tokens]\n",
    "\n",
    "df[\"token_ids\"] = df[\"tokens\"].apply(lambda x: tokens_to_ids(x, word2idx))"
   ]
  },
  {
   "cell_type": "code",
   "execution_count": 8,
   "metadata": {},
   "outputs": [],
   "source": [
    "# **训练/测试数据集划分**\n",
    "train_x, test_x, train_y, test_y = train_test_split(\n",
    "    df[\"token_ids\"].tolist(), df[\"polarity\"].tolist(),\n",
    "    test_size=0.2, random_state=34, stratify=df[\"polarity\"]\n",
    ")"
   ]
  },
  {
   "cell_type": "code",
   "execution_count": 9,
   "metadata": {},
   "outputs": [],
   "source": [
    "# **PyTorch Dataset**\n",
    "class TextDataset(Dataset):\n",
    "    def __init__(self, texts, labels):\n",
    "        self.texts = [torch.tensor(t, dtype=torch.long) for t in texts]\n",
    "        self.labels = torch.tensor(labels, dtype=torch.long)\n",
    "\n",
    "    def __len__(self):\n",
    "        return len(self.labels)\n",
    "\n",
    "    def __getitem__(self, idx):\n",
    "        return self.texts[idx], self.labels[idx]"
   ]
  },
  {
   "cell_type": "code",
   "execution_count": 10,
   "metadata": {},
   "outputs": [],
   "source": [
    "# **Padding Collate Function**\n",
    "def collate_fn(batch):\n",
    "    texts, labels = zip(*batch)\n",
    "    texts_padded = pad_sequence(texts, batch_first=True, padding_value=word2idx['<PAD>'])\n",
    "    labels = torch.tensor(labels, dtype=torch.long)\n",
    "    return texts_padded.to(device), labels.to(device)"
   ]
  },
  {
   "cell_type": "code",
   "execution_count": 11,
   "metadata": {},
   "outputs": [],
   "source": [
    "# **创建 DataLoader**\n",
    "batch_size = 128\n",
    "train_dataset = TextDataset(train_x, train_y)\n",
    "test_dataset = TextDataset(test_x, test_y)\n",
    "\n",
    "train_loader = DataLoader(train_dataset, batch_size=batch_size, shuffle=True, collate_fn=collate_fn)\n",
    "test_loader = DataLoader(test_dataset, batch_size=batch_size, shuffle=False, collate_fn=collate_fn)"
   ]
  },
  {
   "cell_type": "code",
   "execution_count": 12,
   "metadata": {},
   "outputs": [],
   "source": [
    "# Define the model with configurable RNN type\n",
    "class RNNClassifier(nn.Module):\n",
    "    def __init__(self, vocab_size, embed_dim, hidden_dim, rnn_type='none', num_layers=1):\n",
    "        super(RNNClassifier, self).__init__()\n",
    "        self.embedding = nn.Embedding(vocab_size, embed_dim, padding_idx=0)\n",
    "        self.rnn_type = rnn_type.lower()\n",
    "        \n",
    "        if self.rnn_type == 'gru':\n",
    "            self.rnn = nn.GRU(embed_dim, hidden_dim, num_layers=num_layers, batch_first=True, bidirectional=True)\n",
    "        elif self.rnn_type == 'lstm':\n",
    "            self.rnn = nn.LSTM(embed_dim, hidden_dim, num_layers=num_layers, batch_first=True, bidirectional=True)\n",
    "        else:\n",
    "            self.rnn = None\n",
    "        \n",
    "        self.fc = nn.Linear(hidden_dim * 2 if self.rnn else embed_dim, 2) #2 class only\n",
    "        self.dropout = nn.Dropout(0.5)\n",
    "\n",
    "    def forward(self, x):\n",
    "        x = self.embedding(x)\n",
    "        if self.rnn:\n",
    "            x, _ = self.rnn(x)\n",
    "            x = self.dropout(x[:, -1, :])  # Take last time step output\n",
    "        else:\n",
    "            x = x.mean(dim=1)  # Simple mean pooling for RNN=None\n",
    "        x = self.fc(x)\n",
    "        return x"
   ]
  },
  {
   "cell_type": "code",
   "execution_count": null,
   "metadata": {},
   "outputs": [],
   "source": [
    "def train_model(model, train_loader, val_loader, criterion, optimizer, num_epochs, device):\n",
    "    model.to(device)\n",
    "    history = {'train_loss': [], 'train_acc': [], 'val_loss': [], 'val_acc': []}\n",
    "    \n",
    "    for epoch in range(num_epochs):\n",
    "        model.train()\n",
    "        train_loss = 0\n",
    "        correct, total = 0, 0\n",
    "        for inputs, targets in train_loader:\n",
    "            inputs, targets = inputs.to(device), targets.to(device)\n",
    "            optimizer.zero_grad()\n",
    "            outputs = model(inputs)\n",
    "            loss = criterion(outputs, targets)\n",
    "            _, predicted = torch.max(outputs, 1)\n",
    "            correct += (predicted == targets).sum().item()\n",
    "            total += targets.size(0)\n",
    "            loss.backward()\n",
    "            optimizer.step()\n",
    "            train_loss += loss.item()\n",
    "        \n",
    "        train_loss /= len(train_loader)\n",
    "        train_acc = correct / total\n",
    "        history['train_loss'].append(train_loss)\n",
    "        history['train_acc'].append(train_acc)\n",
    "        \n",
    "        # Validation accuracy\n",
    "        model.eval()\n",
    "        all_preds, all_labels = [], []\n",
    "        val_loss = 0\n",
    "        with torch.no_grad():\n",
    "            for inputs, targets in val_loader:\n",
    "                inputs, targets = inputs.to(device), targets.to(device)\n",
    "                outputs = model(inputs)\n",
    "                loss = criterion(outputs, targets)\n",
    "                val_loss += loss.item()\n",
    "                preds = torch.argmax(outputs, dim=1)\n",
    "                all_preds.extend(preds.cpu().numpy())\n",
    "                all_labels.extend(targets.cpu().numpy())\n",
    "        val_acc = accuracy_score(all_labels, all_preds)\n",
    "        val_loss /= len(val_loader)\n",
    "        history['val_loss'].append(val_loss)\n",
    "        history['val_acc'].append(val_acc)\n",
    "        print(f\"Epoch {epoch+1}/{num_epochs}: Train Loss={train_loss:.4f}, Train Acc={train_acc:.4f}\")\n",
    "        print(f\"Validation Loss={val_loss:.4f}, Validation Acc={val_acc:.4f}\")\n",
    "    \n",
    "    return history"
   ]
  },
  {
   "cell_type": "code",
   "execution_count": 22,
   "metadata": {},
   "outputs": [],
   "source": [
    "# Function to plot results\n",
    "def plot_results(histories):\n",
    "    fig, axes = plt.subplots(1, 2, figsize=(10, 5))\n",
    "    \n",
    "    # Plot Loss\n",
    "    for model_type, history in histories.items():\n",
    "        axes[0].plot(history['train_loss'], label=f'Train Loss ({model_type})')\n",
    "        axes[0].plot(history['val_loss'], label=f'Val Loss ({model_type})', linestyle='dashed')\n",
    "    axes[0].set_xlabel('Epochs')\n",
    "    axes[0].set_ylabel('Loss')\n",
    "    axes[0].set_title('Training Loss Comparison')\n",
    "    axes[0].legend()\n",
    "    \n",
    "    # Plot Accuracy\n",
    "    for model_type, history in histories.items():\n",
    "        axes[1].plot([x * 100 for x in history['train_acc']], label=f'Train Acc ({model_type})')\n",
    "        axes[1].plot([x * 100 for x in history['val_acc']], label=f'Val Acc ({model_type})', linestyle='dashed')\n",
    "    axes[1].set_xlabel('Epochs')\n",
    "    axes[1].set_ylabel('Accuracy (%)')\n",
    "    axes[1].set_title('Validation Accuracy Comparison')\n",
    "    axes[1].legend()\n",
    "    \n",
    "    plt.tight_layout()\n",
    "    plt.show()"
   ]
  },
  {
   "cell_type": "code",
   "execution_count": 23,
   "metadata": {},
   "outputs": [
    {
     "name": "stdout",
     "output_type": "stream",
     "text": [
      "Training model with NONE...\n",
      "Epoch 2/5: Train Loss=0.5789, Train Acc=0.7138\n",
      "Validation Loss=0.5173, Validation Acc=0.7637\n",
      "Epoch 3/5: Train Loss=0.4954, Train Acc=0.7772\n",
      "Validation Loss=0.4834, Validation Acc=0.7839\n"
     ]
    },
    {
     "ename": "KeyboardInterrupt",
     "evalue": "",
     "output_type": "error",
     "traceback": [
      "\u001b[1;31m---------------------------------------------------------------------------\u001b[0m",
      "\u001b[1;31mKeyboardInterrupt\u001b[0m                         Traceback (most recent call last)",
      "Cell \u001b[1;32mIn[23], line 14\u001b[0m\n\u001b[0;32m     12\u001b[0m optimizer \u001b[38;5;241m=\u001b[39m optim\u001b[38;5;241m.\u001b[39mAdam(model\u001b[38;5;241m.\u001b[39mparameters(), lr\u001b[38;5;241m=\u001b[39m\u001b[38;5;241m0.0001\u001b[39m)\n\u001b[0;32m     13\u001b[0m criterion \u001b[38;5;241m=\u001b[39m nn\u001b[38;5;241m.\u001b[39mCrossEntropyLoss()\n\u001b[1;32m---> 14\u001b[0m history \u001b[38;5;241m=\u001b[39m train_model(model, train_loader, test_loader, criterion, optimizer, config[\u001b[38;5;124m'\u001b[39m\u001b[38;5;124mnum_epochs\u001b[39m\u001b[38;5;124m'\u001b[39m], device)\n\u001b[0;32m     15\u001b[0m histories[rnn_type\u001b[38;5;241m.\u001b[39mupper()] \u001b[38;5;241m=\u001b[39m history\n\u001b[0;32m     17\u001b[0m plot_results(histories)\n",
      "Cell \u001b[1;32mIn[21], line 19\u001b[0m, in \u001b[0;36mtrain_model\u001b[1;34m(model, train_loader, val_loader, criterion, optimizer, num_epochs, device)\u001b[0m\n\u001b[0;32m     17\u001b[0m     loss\u001b[38;5;241m.\u001b[39mbackward()\n\u001b[0;32m     18\u001b[0m     optimizer\u001b[38;5;241m.\u001b[39mstep()\n\u001b[1;32m---> 19\u001b[0m     train_loss \u001b[38;5;241m+\u001b[39m\u001b[38;5;241m=\u001b[39m loss\u001b[38;5;241m.\u001b[39mitem()\n\u001b[0;32m     21\u001b[0m train_loss \u001b[38;5;241m/\u001b[39m\u001b[38;5;241m=\u001b[39m \u001b[38;5;28mlen\u001b[39m(train_loader)\n\u001b[0;32m     22\u001b[0m train_acc \u001b[38;5;241m=\u001b[39m correct \u001b[38;5;241m/\u001b[39m total\n",
      "\u001b[1;31mKeyboardInterrupt\u001b[0m: "
     ]
    }
   ],
   "source": [
    "histories = {}\n",
    "\n",
    "config = {\n",
    "    'embed_dim': 128,\n",
    "    'hidden_dim': 128,\n",
    "    'num_epochs': 5\n",
    "}\n",
    "\n",
    "for rnn_type in ['none', 'gru', 'lstm']:\n",
    "    print(f\"Training model with {rnn_type.upper()}...\")\n",
    "    model = RNNClassifier(max_vocab_size, config['embed_dim'], config['hidden_dim'], rnn_type)\n",
    "    optimizer = optim.Adam(model.parameters(), lr=0.0001)\n",
    "    criterion = nn.CrossEntropyLoss()\n",
    "    history = train_model(model, train_loader, test_loader, criterion, optimizer, config['num_epochs'], device)\n",
    "    histories[rnn_type.upper()] = history\n",
    "    \n",
    "    plot_results(histories)"
   ]
  }
 ],
 "metadata": {
  "kernelspec": {
   "display_name": "base",
   "language": "python",
   "name": "python3"
  },
  "language_info": {
   "codemirror_mode": {
    "name": "ipython",
    "version": 3
   },
   "file_extension": ".py",
   "mimetype": "text/x-python",
   "name": "python",
   "nbconvert_exporter": "python",
   "pygments_lexer": "ipython3",
   "version": "3.12.7"
  }
 },
 "nbformat": 4,
 "nbformat_minor": 2
}
