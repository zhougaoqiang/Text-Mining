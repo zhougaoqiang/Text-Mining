{
 "cells": [
  {
   "cell_type": "code",
   "execution_count": 2,
   "metadata": {},
   "outputs": [],
   "source": [
    "from sklearn.feature_extraction.text import TfidfVectorizer, CountVectorizer\n",
    "from sklearn.model_selection import train_test_split\n",
    "import pandas as pd\n",
    "import nltk, numpy, textblob, string\n",
    "from sklearn import model_selection, preprocessing, linear_model, naive_bayes, metrics\n",
    "from sklearn.metrics import classification_report, accuracy_score\n"
   ]
  },
  {
   "cell_type": "code",
   "execution_count": 3,
   "metadata": {},
   "outputs": [
    {
     "name": "stdout",
     "output_type": "stream",
     "text": [
      "<class 'pandas.core.frame.DataFrame'>\n",
      "RangeIndex: 1599999 entries, 0 to 1599998\n",
      "Data columns (total 2 columns):\n",
      " #   Column    Non-Null Count    Dtype \n",
      "---  ------    --------------    ----- \n",
      " 0   polarity  1599999 non-null  int64 \n",
      " 1   text      1599999 non-null  object\n",
      "dtypes: int64(1), object(1)\n",
      "memory usage: 24.4+ MB\n",
      "None\n"
     ]
    }
   ],
   "source": [
    "file_path = \"data/noemoticon_with_header.csv\"\n",
    "df = pd.read_csv(file_path, encoding=\"latin1\")\n",
    "print(df.info())\n",
    "# X = df[\"text\"]\n",
    "# y = df[\"polarity\"]"
   ]
  },
  {
   "cell_type": "code",
   "execution_count": 17,
   "metadata": {},
   "outputs": [],
   "source": [
    "from textpreprocesshelper import TextPreprocessHelper, NumberProcessor\n",
    "helper  = TextPreprocessHelper()"
   ]
  },
  {
   "cell_type": "code",
   "execution_count": 5,
   "metadata": {},
   "outputs": [
    {
     "name": "stderr",
     "output_type": "stream",
     "text": [
      "c:\\Users\\Zhou&Wan\\Documents\\GitHub\\Text-Mining\\groupproject\\textpreprocesshelper.py:28: MarkupResemblesLocatorWarning: The input looks more like a filename than markup. You may want to open this file and pass the filehandle into Beautiful Soup.\n",
      "  soup = BeautifulSoup(text, \"html.parser\")\n"
     ]
    }
   ],
   "source": [
    "#backup original\n",
    "df[\"text_ori\"] = df[\"text\"].copy(deep=True)\n",
    "\n",
    "##removing HTML and brackets.\n",
    "df[\"text\"] = df[\"text\"].apply(helper.denoise_text)\n",
    "#Expands abbreviations, e.g. \"can't\" → \"cannot\", \"I'm\" → \"I am\"\n",
    "df[\"text\"] = df[\"text\"].apply(helper.expand_contractions)\n",
    "#Remove @someone and email addresses from text\n",
    "df[\"text\"] = df[\"text\"].apply(helper.remove_mentions_and_emails)"
   ]
  },
  {
   "cell_type": "code",
   "execution_count": 6,
   "metadata": {},
   "outputs": [
    {
     "data": {
      "image/png": "[encoded data removed]",
      "text/plain": [
       "<Figure size 800x500 with 1 Axes>"
      ]
     },
     "metadata": {},
     "output_type": "display_data"
    },
    {
     "name": "stdout",
     "output_type": "stream",
     "text": [
      "\n",
      "Word Count Statistics:\n",
      "count    1.599999e+06\n",
      "mean     1.314774e+01\n",
      "std      7.225456e+00\n",
      "min      0.000000e+00\n",
      "25%      7.000000e+00\n",
      "50%      1.200000e+01\n",
      "75%      1.900000e+01\n",
      "max      1.230000e+02\n",
      "Name: word_count, dtype: float64\n"
     ]
    }
   ],
   "source": [
    "import matplotlib.pyplot as plt\n",
    "import seaborn as sns\n",
    "\n",
    "text_column = \"text\"\n",
    "if text_column in df.columns:\n",
    "    df[\"word_count\"] = df[text_column].astype(str).apply(lambda x: len(x.split()))\n",
    "\n",
    "    plt.figure(figsize=(8,5))\n",
    "    sns.histplot(df[\"word_count\"], kde=True)\n",
    "    plt.title(\"Word Count Distribution\")\n",
    "    plt.xlabel(\"Word Count\")\n",
    "    plt.ylabel(\"Sample Count\")\n",
    "    plt.show()\n",
    "\n",
    "    print(\"\\nWord Count Statistics:\")\n",
    "    print(df[\"word_count\"].describe())\n"
   ]
  },
  {
   "cell_type": "code",
   "execution_count": 7,
   "metadata": {},
   "outputs": [],
   "source": [
    "from sklearn.pipeline import Pipeline\n",
    "from sklearn.model_selection import GridSearchCV\n",
    "from sklearn.naive_bayes import MultinomialNB\n",
    "from sklearn.linear_model import LogisticRegression\n",
    "from nltk.tokenize import word_tokenize"
   ]
  },
  {
   "cell_type": "code",
   "execution_count": null,
   "metadata": {},
   "outputs": [],
   "source": [
    "def getBestResult(classifier = MultinomialNB(), tokenize = 0, remove_non_ascii = True, remove_punctuation = True, number = NumberProcessor.NoAction) :\n",
    "\n",
    "    # 定义 tokenizer 选项映射\n",
    "    tokenizer_options = {\n",
    "        0: word_tokenize,  # 使用 nltk word_tokenize\n",
    "        1: lambda x: x.split()  # 使用 Python 内置 split()\n",
    "    }\n",
    "\n",
    "    # 选择 tokenizer\n",
    "    if tokenize in tokenizer_options:\n",
    "        df[\"tokens\"] = df[\"text\"].apply(tokenizer_options[tokenize])\n",
    "\n",
    "        #after tokenize do extra actions\n",
    "        if remove_non_ascii :\n",
    "            df[\"tokens\"] = df[\"tokens\"].apply(helper.remove_non_ascii)\n",
    "        if remove_punctuation : \n",
    "            df[\"tokens\"] = df[\"tokens\"].apply(helper.remove_punctuation)\n",
    "        if number == NumberProcessor.Remove :\n",
    "            df[\"tokens\"] = df[\"tokens\"].apply(helper.remove_numbers)\n",
    "        elif number == NumberProcessor.ToString :\n",
    "            df[\"tokens\"] = df[\"tokens\"].apply(helper.replace_numbers)\n",
    "\n",
    "    else:\n",
    "        raise ValueError(\"Invalid value for `tokenize`. Choose 0 (word_tokenize) or 1 (split).\")\n",
    "\n",
    "\n",
    "     # 训练/测试数据集划分\n",
    "    train_x, test_x, train_y, test_y = train_test_split(\n",
    "        df['tokens'].apply(lambda x: ' '.join(x)),  # word_tokenize 版本\n",
    "        df['polarity'],\n",
    "        random_state=34,\n",
    "        stratify=df['polarity']\n",
    "    )\n",
    "\n",
    "    pipeline = Pipeline([ # 构建 Pipeline\n",
    "        ('tfidf', TfidfVectorizer(analyzer='word', token_pattern=r'\\w{1,}')),  # TF-IDF 向量化\n",
    "        ('clf', classifier)  # 分类器，默认 Naive Bayes\n",
    "    ])\n",
    "\n",
    "    # 定义 GridSearch 参数\n",
    "    parameters = {\n",
    "        'tfidf__ngram_range': [(1,1), (1,2)],  # 1-gram 和 1,2-gram\n",
    "        'tfidf__lowercase': [True, False], \n",
    "        'tfidf__max_features': [10000, 50000, None],  # 词汇表大小\n",
    "        'tfidf__stop_words': [None, 'english'],  # 是否使用停用词\n",
    "        'clf': [classifier]\n",
    "    }\n",
    "\n",
    "    '''\n",
    "    (1,1) (Unigram)\t['I', 'love', 'NLP']\t基础 NLP 任务，如情感分析\n",
    "    (1,2) (Unigram + Bigram)\t['I', 'love', 'NLP', 'I love', 'love NLP']\t适合上下文敏感的 NLP 任务\n",
    "    (2,2) (Bigram only)\t['I love', 'love NLP']\t更关注短语，但可能信息量不足\n",
    "    (1,3) (Unigram + Bigram + Trigram)\t['I', 'love', 'NLP', 'I love', 'love NLP', 'I love NLP']\t适用于复杂文本建模\n",
    "    '''\n",
    "\n",
    "    if any(isinstance(clf, LogisticRegression) for clf in parameters['clf']):\n",
    "        parameters['clf__C'] = [0.1, 1.0, 10.0]  # 只有 Logistic Regression 用这个参数\n",
    "\n",
    "    # 执行 Grid Search\n",
    "    grid_search = GridSearchCV(pipeline, parameters, n_jobs=4, verbose=10, scoring='accuracy', cv=3)\n",
    "    grid_search.fit(train_x, train_y)\n",
    "\n",
    "    # 打印最佳分数和参数\n",
    "    print(\"Best score: %0.3f\" % grid_search.best_score_)\n",
    "    print(\"Best parameters set:\")\n",
    "    best_parameters = grid_search.best_estimator_.get_params()\n",
    "    for param_name in sorted(parameters.keys()):\n",
    "        print(\"\\t%s: %r\" % (param_name, best_parameters[param_name]))\n",
    "\n",
    "    # 预测测试集\n",
    "    predictions = grid_search.best_estimator_.predict(test_x)\n",
    "\n",
    "    label_mapping = {0: \"Negative\", 4: \"Positive\"}\n",
    "    test_y_labels = test_y.map(label_mapping)\n",
    "    predictions_labels = pd.Series(predictions).map(label_mapping)\n",
    "\n",
    "    # 评估模型性能\n",
    "    print(\"Accuracy:\", metrics.accuracy_score(test_y_labels, predictions_labels))\n",
    "    print(\"Precision:\", metrics.precision_score(test_y_labels, predictions_labels, average='macro'))\n",
    "    print(\"Recall:\", metrics.recall_score(test_y_labels, predictions_labels, average='macro'))\n",
    "    print(\"F1 Score:\", metrics.f1_score(test_y_labels, predictions_labels, average='macro'))"
   ]
  },
  {
   "cell_type": "code",
   "execution_count": 15,
   "metadata": {},
   "outputs": [
    {
     "name": "stdout",
     "output_type": "stream",
     "text": [
      "Fitting 3 folds for each of 24 candidates, totalling 72 fits\n",
      "Best score: 0.801\n",
      "Best parameters set:\n",
      "\tclf: MultinomialNB()\n",
      "\ttfidf__lowercase: True\n",
      "\ttfidf__max_features: None\n",
      "\ttfidf__ngram_range: (1, 2)\n",
      "\ttfidf__stop_words: None\n",
      "Accuracy: 0.8018575\n",
      "Precision: 0.8049198238862081\n",
      "Recall: 0.8018575\n",
      "F1 Score: 0.8013587592091365\n"
     ]
    }
   ],
   "source": [
    "getBestResult(classifier = MultinomialNB(), tokenize = 0, remove_non_ascii = True, remove_punctuation = True, number = NumberProcessor.Remove)"
   ]
  },
  {
   "cell_type": "markdown",
   "metadata": {},
   "source": [
    "Best score: 0.801\n",
    "\n",
    "Best parameters set:\n",
    "\tclf: MultinomialNB()\n",
    "\ttfidf__lowercase: True\n",
    "\ttfidf__max_features: None\n",
    "\ttfidf__ngram_range: (1, 2)\n",
    "\ttfidf__stop_words: None\n",
    "\n",
    "Accuracy: 0.8018575\n",
    "\n",
    "Precision: 0.8049198238862081\n",
    "\n",
    "Recall: 0.8018575\n",
    "\n",
    "F1 Score: 0.8013587592091365"
   ]
  },
  {
   "cell_type": "code",
   "execution_count": 19,
   "metadata": {},
   "outputs": [
    {
     "name": "stdout",
     "output_type": "stream",
     "text": [
      "Fitting 3 folds for each of 24 candidates, totalling 72 fits\n",
      "Best score: 0.800\n",
      "Best parameters set:\n",
      "\tclf: MultinomialNB()\n",
      "\ttfidf__lowercase: True\n",
      "\ttfidf__max_features: None\n",
      "\ttfidf__ngram_range: (1, 2)\n",
      "\ttfidf__stop_words: None\n",
      "Accuracy: 0.8015225\n",
      "Precision: 0.8046953481221668\n",
      "Recall: 0.8015224999999999\n",
      "F1 Score: 0.8010044557940048\n"
     ]
    }
   ],
   "source": [
    "getBestResult(classifier = MultinomialNB(), tokenize = 0, remove_non_ascii = True, remove_punctuation = True, number = NumberProcessor.NoAction)"
   ]
  },
  {
   "cell_type": "markdown",
   "metadata": {},
   "source": [
    "getBestResult(classifier = MultinomialNB(), tokenize = 0, remove_non_ascii = True, remove_punctuation = False, number = NumberProcessor.Remove)"
   ]
  },
  {
   "cell_type": "markdown",
   "metadata": {},
   "source": [
    "### Trying to get the best parameters for logistic regression from naive bayes, as logistic regression is very time consuming"
   ]
  }
 ],
 "metadata": {
  "kernelspec": {
   "display_name": "gaoqiang_env",
   "language": "python",
   "name": "python3"
  },
  "language_info": {
   "codemirror_mode": {
    "name": "ipython",
    "version": 3
   },
   "file_extension": ".py",
   "mimetype": "text/x-python",
   "name": "python",
   "nbconvert_exporter": "python",
   "pygments_lexer": "ipython3",
   "version": "3.11.9"
  }
 },
 "nbformat": 4,
 "nbformat_minor": 2
}
