{
 "cells": [
  {
   "cell_type": "code",
   "execution_count": 1,
   "metadata": {},
   "outputs": [],
   "source": [
    "import torch\n",
    "import torch.nn as nn\n",
    "import torch.optim as optim\n",
    "import torch.nn.functional as F\n",
    "from torch.utils.data import DataLoader, Dataset\n",
    "from torch.nn.utils.rnn import pad_sequence, pack_padded_sequence, pad_packed_sequence\n",
    "import pandas as pd\n",
    "import numpy as np\n",
    "from sklearn.model_selection import train_test_split\n",
    "from sklearn.metrics import classification_report\n",
    "from tqdm import tqdm\n",
    "import gensim.downloader as api\n",
    "from collections import Counter\n",
    "import nltk\n",
    "from nltk.tokenize import word_tokenize"
   ]
  },
  {
   "cell_type": "code",
   "execution_count": 2,
   "metadata": {},
   "outputs": [
    {
     "name": "stdout",
     "output_type": "stream",
     "text": [
      "Using device: cuda\n"
     ]
    }
   ],
   "source": [
    "device = torch.device(\"cuda\" if torch.cuda.is_available() else \"cpu\")\n",
    "print(f\"Using device: {device}\")\n",
    "\n",
    "file_path = \"data/noemoticon_preprocessed.csv\"\n",
    "df = pd.read_csv(file_path)\n",
    "label_mapping = {0: 0, 4: 1}  # 0/4 映射为 0/1\n",
    "df[\"polarity\"] = df[\"polarity\"].map(label_mapping)\n",
    "\n",
    "df[\"tokens\"] = df[\"text\"].apply(word_tokenize) #base on the experience, directly use nftk's word_tokenize"
   ]
  },
  {
   "cell_type": "code",
   "execution_count": 3,
   "metadata": {},
   "outputs": [],
   "source": [
    "counter = Counter()\n",
    "for tokens in df[\"tokens\"]:  \n",
    "    counter.update(tokens)\n",
    "\n",
    "# max_vocab_size = 50000\n",
    "max_vocab_size = 100000\n",
    "# 限制词汇表大小，防止低频词占用太多空间 \n",
    "# based on \n",
    "#   1. Words appearing > 5 times: 50289 \n",
    "#   2. Percentage of low-frequency words: 88.30%\n",
    "word2idx = {\"<PAD>\": 0, \"<UNK>\": 1}  # 预留特殊标记\n",
    "for i, (word, freq) in enumerate(counter.most_common(max_vocab_size - 2), start=2):\n",
    "    word2idx[word] = i\n",
    "\n",
    "# **将文本转换为索引**\n",
    "def tokens_to_ids(tokens, word2idx):\n",
    "    return [word2idx.get(token, word2idx[\"<UNK>\"]) for token in tokens]\n",
    "\n",
    "df[\"token_ids\"] = df[\"tokens\"].apply(lambda x: tokens_to_ids(x, word2idx))\n"
   ]
  },
  {
   "cell_type": "code",
   "execution_count": 4,
   "metadata": {},
   "outputs": [],
   "source": [
    "# **训练/测试数据集划分**\n",
    "train_x, temp_x, train_y, temp_y = train_test_split(df[\"token_ids\"].tolist(), df[\"polarity\"].tolist(),test_size=0.7, random_state=34, stratify=df[\"polarity\"])\n",
    "val_x, test_x, val_y, test_y = train_test_split(temp_x, temp_y, test_size=0.5, random_state=34, stratify=temp_y)"
   ]
  },
  {
   "cell_type": "code",
   "execution_count": 5,
   "metadata": {},
   "outputs": [],
   "source": [
    "# 数据集类\n",
    "class TextDataset(Dataset):\n",
    "    def __init__(self, texts, labels):\n",
    "        self.texts = [torch.tensor(t, dtype=torch.long) for t in texts]\n",
    "        self.labels = torch.tensor(labels, dtype=torch.long)\n",
    "    \n",
    "    def __len__(self):\n",
    "        return len(self.labels)\n",
    "    \n",
    "    def __getitem__(self, idx):\n",
    "        return self.texts[idx], self.labels[idx]\n",
    "\n",
    "def collate_fn(batch):\n",
    "    texts, labels = zip(*batch)\n",
    "    lengths = torch.tensor([len(t) for t in texts], dtype=torch.long)\n",
    "    texts_padded = pad_sequence(texts, batch_first=True, padding_value=0)\n",
    "    return texts_padded, lengths, torch.tensor(labels, dtype=torch.long)"
   ]
  },
  {
   "cell_type": "code",
   "execution_count": 6,
   "metadata": {},
   "outputs": [],
   "source": [
    "# **创建 DataLoader**\n",
    "batch_size = 128\n",
    "train_dataset = TextDataset(train_x, train_y)\n",
    "val_dataset = TextDataset(val_x, val_y)\n",
    "test_dataset = TextDataset(test_x, test_y)\n",
    "\n",
    "train_loader = DataLoader(train_dataset, batch_size=batch_size, shuffle=True, collate_fn=collate_fn)\n",
    "val_loader = DataLoader(val_dataset, batch_size=batch_size, shuffle=False, collate_fn=collate_fn)\n",
    "test_loader = DataLoader(test_dataset, batch_size=batch_size, shuffle=False, collate_fn=collate_fn)\n"
   ]
  },
  {
   "cell_type": "code",
   "execution_count": 7,
   "metadata": {},
   "outputs": [],
   "source": [
    "# 加载 GloVe 预训练词向量\n",
    "glove_model = api.load(\"glove-twitter-200\")\n",
    "embedding_dim = 200\n",
    "embedding_matrix = np.zeros((max_vocab_size, embedding_dim))\n",
    "for word, idx in word2idx.items():\n",
    "    if word in glove_model:\n",
    "        embedding_matrix[idx] = glove_model[word]\n",
    "embedding_tensor = torch.tensor(embedding_matrix, dtype=torch.float32)"
   ]
  },
  {
   "cell_type": "code",
   "execution_count": 8,
   "metadata": {},
   "outputs": [],
   "source": [
    "# 构建 RNN 模型\n",
    "class RNNClassifier(nn.Module):\n",
    "    def __init__(self, vocab_size, embed_dim, hidden_dim, num_classes, num_layers=2):\n",
    "        super(RNNClassifier, self).__init__()\n",
    "        self.embedding = nn.Embedding.from_pretrained(embedding_tensor, freeze=False)\n",
    "        self.lstm = nn.LSTM(embed_dim, hidden_dim, num_layers=num_layers, batch_first=True, bidirectional=True)\n",
    "        self.fc = nn.Linear(hidden_dim * 2, 1)  # 输出维度调整为 1\n",
    "        self.dropout = nn.Dropout(0.5)\n",
    "\n",
    "    def forward(self, x, lengths):\n",
    "        x = self.embedding(x)\n",
    "        lengths, perm_idx = lengths.sort(0, descending=True)\n",
    "        x = x[perm_idx]\n",
    "        x = pack_padded_sequence(x, lengths.cpu(), batch_first=True)\n",
    "        \n",
    "        # 获取隐藏状态\n",
    "        packed_output, (h_n, c_n) = self.lstm(x)\n",
    "        \n",
    "        # 提取双向最终隐藏状态\n",
    "        # h_n 形状: (num_layers * 2, batch_size, hidden_size)\n",
    "        h_n = h_n.view(self.lstm.num_layers, 2, -1, self.lstm.hidden_size)\n",
    "        forward_final = h_n[-1, 0, :, :]  # 最后一层的前向隐藏状态\n",
    "        backward_final = h_n[-1, 1, :, :]  # 最后一层的后向隐藏状态\n",
    "        x = torch.cat([forward_final, backward_final], dim=1)\n",
    "        \n",
    "        x = self.dropout(x)\n",
    "        x = torch.sigmoid(self.fc(x)).squeeze(-1)\n",
    "        \n",
    "        # 还原输入顺序\n",
    "        _, unperm_idx = perm_idx.sort(0)\n",
    "        x = x[unperm_idx]\n",
    "        return x\n"
   ]
  },
  {
   "cell_type": "code",
   "execution_count": 9,
   "metadata": {},
   "outputs": [],
   "source": [
    "# 超参数\n",
    "hidden_dim = 128\n",
    "num_classes = 1\n",
    "num_epochs = 10\n",
    "\n",
    "# 初始化模型\n",
    "model = RNNClassifier(max_vocab_size, embedding_dim, hidden_dim, num_classes).to(device)\n",
    "\n",
    "# 损失函数 & 优化器 & 学习率衰减\n",
    "criterion = nn.BCELoss()\n",
    "# optimizer = optim.Adam(model.parameters(), lr=0.001)\n",
    "optimizer = optim.Adam(model.parameters(), lr=0.0001)\n",
    "scheduler = optim.lr_scheduler.StepLR(optimizer, step_size=5, gamma=0.5)\n",
    "\n",
    "\n",
    "# 确保标签转换为 float\n",
    "def prepare_labels(labels):\n",
    "    return labels.float()\n",
    "\n",
    "def get_predictions(outputs):\n",
    "    return (outputs > 0.5).long()"
   ]
  },
  {
   "cell_type": "code",
   "execution_count": 10,
   "metadata": {},
   "outputs": [
    {
     "name": "stderr",
     "output_type": "stream",
     "text": [
      "Epoch 1/10: 100%|██████████| 3744/3744 [01:24<00:00, 44.24it/s]\n"
     ]
    },
    {
     "name": "stdout",
     "output_type": "stream",
     "text": [
      "Epoch 1, Loss: 0.4488, Val Accuracy: 0.8103\n"
     ]
    },
    {
     "name": "stderr",
     "output_type": "stream",
     "text": [
      "Epoch 2/10: 100%|██████████| 3744/3744 [01:22<00:00, 45.53it/s]\n"
     ]
    },
    {
     "name": "stdout",
     "output_type": "stream",
     "text": [
      "Epoch 2, Loss: 0.3990, Val Accuracy: 0.8197\n"
     ]
    },
    {
     "name": "stderr",
     "output_type": "stream",
     "text": [
      "Epoch 3/10: 100%|██████████| 3744/3744 [01:23<00:00, 44.87it/s]\n"
     ]
    },
    {
     "name": "stdout",
     "output_type": "stream",
     "text": [
      "Epoch 3, Loss: 0.3773, Val Accuracy: 0.8263\n"
     ]
    },
    {
     "name": "stderr",
     "output_type": "stream",
     "text": [
      "Epoch 4/10: 100%|██████████| 3744/3744 [01:22<00:00, 45.21it/s]\n"
     ]
    },
    {
     "name": "stdout",
     "output_type": "stream",
     "text": [
      "Epoch 4, Loss: 0.3601, Val Accuracy: 0.8302\n"
     ]
    },
    {
     "name": "stderr",
     "output_type": "stream",
     "text": [
      "Epoch 5/10: 100%|██████████| 3744/3744 [05:24<00:00, 11.55it/s]\n"
     ]
    },
    {
     "name": "stdout",
     "output_type": "stream",
     "text": [
      "Epoch 5, Loss: 0.3461, Val Accuracy: 0.8287\n"
     ]
    },
    {
     "name": "stderr",
     "output_type": "stream",
     "text": [
      "Epoch 6/10: 100%|██████████| 3744/3744 [03:50<00:00, 16.22it/s]\n"
     ]
    },
    {
     "name": "stdout",
     "output_type": "stream",
     "text": [
      "Epoch 6, Loss: 0.3301, Val Accuracy: 0.8323\n"
     ]
    },
    {
     "name": "stderr",
     "output_type": "stream",
     "text": [
      "Epoch 7/10: 100%|██████████| 3744/3744 [01:20<00:00, 46.29it/s]\n"
     ]
    },
    {
     "name": "stdout",
     "output_type": "stream",
     "text": [
      "Epoch 7, Loss: 0.3229, Val Accuracy: 0.8320\n"
     ]
    },
    {
     "name": "stderr",
     "output_type": "stream",
     "text": [
      "Epoch 8/10: 100%|██████████| 3744/3744 [01:20<00:00, 46.31it/s]\n"
     ]
    },
    {
     "name": "stdout",
     "output_type": "stream",
     "text": [
      "Epoch 8, Loss: 0.3163, Val Accuracy: 0.8324\n"
     ]
    },
    {
     "name": "stderr",
     "output_type": "stream",
     "text": [
      "Epoch 9/10: 100%|██████████| 3744/3744 [01:21<00:00, 46.20it/s]\n"
     ]
    },
    {
     "name": "stdout",
     "output_type": "stream",
     "text": [
      "Epoch 9, Loss: 0.3101, Val Accuracy: 0.8312\n"
     ]
    },
    {
     "name": "stderr",
     "output_type": "stream",
     "text": [
      "Epoch 10/10: 100%|██████████| 3744/3744 [02:48<00:00, 22.26it/s]\n"
     ]
    },
    {
     "name": "stdout",
     "output_type": "stream",
     "text": [
      "Epoch 10, Loss: 0.3040, Val Accuracy: 0.8297\n",
      "训练完成，最佳验证集准确率: 0.8324136068245198\n"
     ]
    }
   ],
   "source": [
    "# 训练循环\n",
    "best_acc = 0\n",
    "patience = 3\n",
    "\n",
    "# device = torch.device(\"cpu\")\n",
    "\n",
    "for epoch in range(num_epochs):\n",
    "    model.train()\n",
    "    total_loss = 0\n",
    "    # torch.cuda.empty_cache() \n",
    "    \n",
    "    for batch_texts, batch_lengths, batch_labels in tqdm(train_loader, desc=f\"Epoch {epoch+1}/{num_epochs}\"):\n",
    "        batch_texts, batch_labels, batch_lengths = batch_texts.to(device), batch_labels.to(device), batch_lengths.to(device)\n",
    "\n",
    "        # # 🚀 **检查 batch_labels 是否超出范围**\n",
    "        # print(\"Unique batch labels:\", batch_labels.unique())\n",
    "        # assert batch_labels.max() < num_classes, f\"类别索引超出范围: {batch_labels.unique()}\"\n",
    "\n",
    "        # # 🚀 **确保 batch 长度非零**\n",
    "        # if batch_lengths.max() == 0:\n",
    "        #     continue  # 🟢 跳过空 batch\n",
    "\n",
    "        optimizer.zero_grad()\n",
    "        outputs = model(batch_texts, batch_lengths)\n",
    "        # loss = criterion(outputs, batch_labels)\n",
    "        loss = criterion(outputs, batch_labels.float())  # 转换为 float\n",
    "        loss.backward()\n",
    "        optimizer.step()\n",
    "        total_loss += loss.item()\n",
    "    \n",
    "    scheduler.step()\n",
    "    \n",
    "    # 评估模型\n",
    "    correct, total = 0, 0\n",
    "    model.eval()\n",
    "    with torch.no_grad():\n",
    "        for batch_texts, batch_lengths, batch_labels in val_loader:\n",
    "            batch_texts, batch_labels, batch_lengths = batch_texts.to(device), batch_labels.to(device), batch_lengths.to(device)\n",
    "            outputs = model(batch_texts, batch_lengths)\n",
    "            preds = get_predictions(outputs)\n",
    "            correct += (preds == batch_labels).sum().item()\n",
    "            total += batch_labels.size(0)\n",
    "    acc = correct / total\n",
    "    avg_loss = total_loss / len(train_loader)\n",
    "    print(f\"Epoch {epoch+1}, Loss: {avg_loss:.4f}, Val Accuracy: {acc:.4f}\")\n",
    "    if acc > best_acc:\n",
    "        best_acc = acc\n",
    "        patience = 3\n",
    "    else:\n",
    "        patience -= 1\n",
    "        if patience == 0:\n",
    "            print(\"Early stopping 触发\")\n",
    "            break\n",
    "\n",
    "print(\"训练完成，最佳验证集准确率:\", best_acc)"
   ]
  },
  {
   "cell_type": "code",
   "execution_count": 11,
   "metadata": {},
   "outputs": [
    {
     "name": "stderr",
     "output_type": "stream",
     "text": [
      "Testing: 100%|██████████| 4368/4368 [00:53<00:00, 82.40it/s]\n"
     ]
    },
    {
     "name": "stdout",
     "output_type": "stream",
     "text": [
      "\n",
      "Test Accuracy: 0.8290\n",
      "              precision    recall  f1-score   support\n",
      "\n",
      "    Negative       0.81      0.85      0.83    279479\n",
      "    Positive       0.85      0.80      0.82    279565\n",
      "\n",
      "    accuracy                           0.83    559044\n",
      "   macro avg       0.83      0.83      0.83    559044\n",
      "weighted avg       0.83      0.83      0.83    559044\n",
      "\n"
     ]
    }
   ],
   "source": [
    "def evaluate_test(model, test_loader, device):\n",
    "    model.eval()\n",
    "    all_preds = []\n",
    "    all_labels = []\n",
    "    \n",
    "    with torch.no_grad():\n",
    "        for batch_texts, batch_lengths, batch_labels in tqdm(test_loader, desc=\"Testing\"):\n",
    "            batch_texts = batch_texts.to(device)\n",
    "            batch_labels = batch_labels.to(device)\n",
    "            \n",
    "            outputs = model(batch_texts, batch_lengths.to(device))\n",
    "            preds = (outputs > 0.5).long()\n",
    "            \n",
    "            all_preds.extend(preds.cpu().numpy())\n",
    "            all_labels.extend(batch_labels.cpu().numpy())\n",
    "    \n",
    "    # 计算指标\n",
    "    accuracy = (np.array(all_preds) == np.array(all_labels)).mean()\n",
    "    print(f\"\\nTest Accuracy: {accuracy:.4f}\")\n",
    "    print(classification_report(all_labels, all_preds, target_names=[\"Negative\", \"Positive\"]))\n",
    "    return accuracy, all_preds, all_labels\n",
    "\n",
    "# 3. 执行测试\n",
    "test_acc, all_preds, all_labels = evaluate_test(model, test_loader, device)\n",
    "\n"
   ]
  },
  {
   "cell_type": "markdown",
   "metadata": {},
   "source": [
    "###even support transfer learning, no improvment."
   ]
  }
 ],
 "metadata": {
  "kernelspec": {
   "display_name": "gaoqiang_env",
   "language": "python",
   "name": "python3"
  },
  "language_info": {
   "codemirror_mode": {
    "name": "ipython",
    "version": 3
   },
   "file_extension": ".py",
   "mimetype": "text/x-python",
   "name": "python",
   "nbconvert_exporter": "python",
   "pygments_lexer": "ipython3",
   "version": "3.11.9"
  }
 },
 "nbformat": 4,
 "nbformat_minor": 2
}
