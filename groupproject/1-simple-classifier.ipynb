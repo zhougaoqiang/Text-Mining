{
 "cells": [
  {
   "cell_type": "code",
   "execution_count": 1,
   "metadata": {},
   "outputs": [],
   "source": [
    "from sklearn.feature_extraction.text import TfidfVectorizer, CountVectorizer\n",
    "from sklearn.model_selection import train_test_split\n",
    "import pandas as pd\n",
    "import nltk, numpy, textblob, string\n",
    "from sklearn import model_selection, preprocessing, linear_model, naive_bayes, metrics\n",
    "from sklearn.metrics import classification_report, accuracy_score\n"
   ]
  },
  {
   "cell_type": "code",
   "execution_count": 2,
   "metadata": {},
   "outputs": [
    {
     "name": "stdout",
     "output_type": "stream",
     "text": [
      "<class 'pandas.core.frame.DataFrame'>\n",
      "RangeIndex: 1599999 entries, 0 to 1599998\n",
      "Data columns (total 2 columns):\n",
      " #   Column    Non-Null Count    Dtype \n",
      "---  ------    --------------    ----- \n",
      " 0   polarity  1599999 non-null  int64 \n",
      " 1   text      1599999 non-null  object\n",
      "dtypes: int64(1), object(1)\n",
      "memory usage: 24.4+ MB\n",
      "None\n"
     ]
    }
   ],
   "source": [
    "file_path = \"data/noemoticon_with_header.csv\"\n",
    "df = pd.read_csv(file_path, encoding=\"latin1\")\n",
    "print(df.info())\n",
    "# X = df[\"text\"]\n",
    "# y = df[\"polarity\"]"
   ]
  },
  {
   "cell_type": "code",
   "execution_count": 3,
   "metadata": {},
   "outputs": [],
   "source": [
    "from textpreprocesshelper import TextPreprocessHelper, NumberProcessor\n",
    "helper  = TextPreprocessHelper()"
   ]
  },
  {
   "cell_type": "code",
   "execution_count": 4,
   "metadata": {},
   "outputs": [
    {
     "name": "stderr",
     "output_type": "stream",
     "text": [
      "/Users/zhougaoqiang/Desktop/TEXT WEB MINING/Text-Mining/groupproject/textpreprocesshelper.py:28: MarkupResemblesLocatorWarning: The input looks more like a filename than markup. You may want to open this file and pass the filehandle into Beautiful Soup.\n",
      "  soup = BeautifulSoup(text, \"html.parser\")\n"
     ]
    }
   ],
   "source": [
    "#backup original\n",
    "df[\"text_ori\"] = df[\"text\"].copy(deep=True)\n",
    "\n",
    "##removing HTML and brackets.\n",
    "df[\"text\"] = df[\"text\"].apply(helper.denoise_text)\n",
    "#Expands abbreviations, e.g. \"can't\" → \"cannot\", \"I'm\" → \"I am\"\n",
    "df[\"text\"] = df[\"text\"].apply(helper.expand_contractions)\n",
    "#Remove @someone and email addresses from text\n",
    "df[\"text\"] = df[\"text\"].apply(helper.remove_mentions_and_emails)"
   ]
  },
  {
   "cell_type": "code",
   "execution_count": 5,
   "metadata": {},
   "outputs": [
    {
     "data": {
      "image/png": "[encoded data removed]",
      "text/plain": [
       "<Figure size 800x500 with 1 Axes>"
      ]
     },
     "metadata": {},
     "output_type": "display_data"
    },
    {
     "name": "stdout",
     "output_type": "stream",
     "text": [
      "\n",
      "Word Count Statistics:\n",
      "count    1.599999e+06\n",
      "mean     1.314774e+01\n",
      "std      7.225456e+00\n",
      "min      0.000000e+00\n",
      "25%      7.000000e+00\n",
      "50%      1.200000e+01\n",
      "75%      1.900000e+01\n",
      "max      1.230000e+02\n",
      "Name: word_count, dtype: float64\n"
     ]
    }
   ],
   "source": [
    "import matplotlib.pyplot as plt\n",
    "import seaborn as sns\n",
    "\n",
    "text_column = \"text\"\n",
    "if text_column in df.columns:\n",
    "    df[\"word_count\"] = df[text_column].astype(str).apply(lambda x: len(x.split()))\n",
    "\n",
    "    plt.figure(figsize=(8,5))\n",
    "    sns.histplot(df[\"word_count\"], kde=True)\n",
    "    plt.title(\"Word Count Distribution\")\n",
    "    plt.xlabel(\"Word Count\")\n",
    "    plt.ylabel(\"Sample Count\")\n",
    "    plt.show()\n",
    "\n",
    "    print(\"\\nWord Count Statistics:\")\n",
    "    print(df[\"word_count\"].describe())\n"
   ]
  },
  {
   "cell_type": "code",
   "execution_count": 6,
   "metadata": {},
   "outputs": [],
   "source": [
    "from sklearn.pipeline import Pipeline\n",
    "from sklearn.model_selection import GridSearchCV\n",
    "from sklearn.naive_bayes import MultinomialNB\n",
    "from sklearn.linear_model import LogisticRegression\n",
    "from nltk.tokenize import word_tokenize"
   ]
  },
  {
   "cell_type": "code",
   "execution_count": null,
   "metadata": {},
   "outputs": [],
   "source": [
    "def getBestResult(classifier = MultinomialNB(), tokenize = 0, remove_non_ascii = True, remove_punctuation = True, number = NumberProcessor.NoAction) :\n",
    "\n",
    "    # 定义 tokenizer 选项映射\n",
    "    tokenizer_options = {\n",
    "        0: word_tokenize,  # 使用 nltk word_tokenize\n",
    "        1: lambda x: x.split()  # 使用 Python 内置 split()\n",
    "    }\n",
    "\n",
    "    # 选择 tokenizer\n",
    "    if tokenize in tokenizer_options:\n",
    "        df[\"tokens\"] = df[\"text\"].apply(tokenizer_options[tokenize])\n",
    "\n",
    "        #after tokenize do extra actions\n",
    "        if remove_non_ascii :\n",
    "            df[\"tokens\"] = df[\"tokens\"].apply(helper.remove_non_ascii)\n",
    "        if remove_punctuation : \n",
    "            df[\"tokens\"] = df[\"tokens\"].apply(helper.remove_punctuation)\n",
    "        if number == NumberProcessor.Remove :\n",
    "            df[\"tokens\"] = df[\"tokens\"].apply(helper.remove_numbers)\n",
    "        elif number == NumberProcessor.ToString :\n",
    "            df[\"tokens\"] = df[\"tokens\"].apply(helper.replace_numbers)\n",
    "\n",
    "    else:\n",
    "        raise ValueError(\"Invalid value for `tokenize`. Choose 0 (word_tokenize) or 1 (split).\")\n",
    "\n",
    "\n",
    "     # 训练/测试数据集划分\n",
    "    train_x, test_x, train_y, test_y = train_test_split(\n",
    "        df['tokens'].apply(lambda x: ' '.join(x)),  # word_tokenize 版本\n",
    "        df['polarity'],\n",
    "        random_state=34,\n",
    "        stratify=df['polarity']\n",
    "    )\n",
    "\n",
    "    pipeline = Pipeline([ # 构建 Pipeline\n",
    "        ('tfidf', TfidfVectorizer(analyzer='word', token_pattern=r'\\w{1,}')),  # TF-IDF 向量化\n",
    "        ('clf', classifier)  # 分类器，默认 Naive Bayes\n",
    "    ])\n",
    "\n",
    "    # 定义 GridSearch 参数\n",
    "    parameters = {\n",
    "        'tfidf__ngram_range': [(1,1), (1,2)],  # 1-gram 和 1,2-gram\n",
    "        'tfidf__lowercase': [True, False], \n",
    "        'tfidf__max_features': [30000, 50000, 100000],  # 词汇表大小\n",
    "        'tfidf__stop_words': [None, 'english'],  # 是否使用停用词\n",
    "        'clf': [classifier]\n",
    "    }\n",
    "\n",
    "    '''\n",
    "    (1,1) (Unigram)\t['I', 'love', 'NLP']\t基础 NLP 任务，如情感分析\n",
    "    (1,2) (Unigram + Bigram)\t['I', 'love', 'NLP', 'I love', 'love NLP']\t适合上下文敏感的 NLP 任务\n",
    "    (2,2) (Bigram only)\t['I love', 'love NLP']\t更关注短语，但可能信息量不足\n",
    "    (1,3) (Unigram + Bigram + Trigram)\t['I', 'love', 'NLP', 'I love', 'love NLP', 'I love NLP']\t适用于复杂文本建模\n",
    "    '''\n",
    "\n",
    "    if any(isinstance(clf, LogisticRegression) for clf in parameters['clf']):\n",
    "        parameters['clf__C'] = [0.1, 1.0, 10.0]  # 只有 Logistic Regression 用这个参数\n",
    "\n",
    "    # 执行 Grid Search\n",
    "    grid_search = GridSearchCV(pipeline, parameters, n_jobs=6, verbose=1, scoring='accuracy', cv=3)\n",
    "    grid_search.fit(train_x, train_y)\n",
    "\n",
    "    # 打印最佳分数和参数\n",
    "    print(\"Best score: %0.3f\" % grid_search.best_score_)\n",
    "    print(\"Best parameters set:\")\n",
    "    best_parameters = grid_search.best_estimator_.get_params()\n",
    "    for param_name in sorted(parameters.keys()):\n",
    "        print(\"\\t%s: %r\" % (param_name, best_parameters[param_name]))\n",
    "\n",
    "    # 预测测试集\n",
    "    predictions = grid_search.best_estimator_.predict(test_x)\n",
    "\n",
    "    label_mapping = {0: \"Negative\", 4: \"Positive\"}\n",
    "    test_y_labels = test_y.map(label_mapping)\n",
    "    predictions_labels = pd.Series(predictions).map(label_mapping)\n",
    "\n",
    "    # 评估模型性能\n",
    "    print(\"Accuracy:\", metrics.accuracy_score(test_y_labels, predictions_labels))\n",
    "    print(\"Precision:\", metrics.precision_score(test_y_labels, predictions_labels, average='macro'))\n",
    "    print(\"Recall:\", metrics.recall_score(test_y_labels, predictions_labels, average='macro'))\n",
    "    print(\"F1 Score:\", metrics.f1_score(test_y_labels, predictions_labels, average='macro'))"
   ]
  },
  {
   "cell_type": "code",
   "execution_count": 9,
   "metadata": {},
   "outputs": [
    {
     "name": "stdout",
     "output_type": "stream",
     "text": [
      "Fitting 3 folds for each of 24 candidates, totalling 72 fits\n",
      "[CV 2/3; 1/24] START clf=MultinomialNB(), tfidf__lowercase=True, tfidf__max_features=10000, tfidf__ngram_range=(1, 1), tfidf__stop_words=None\n",
      "[CV 1/3; 1/24] START clf=MultinomialNB(), tfidf__lowercase=True, tfidf__max_features=10000, tfidf__ngram_range=(1, 1), tfidf__stop_words=None\n",
      "[CV 3/3; 1/24] START clf=MultinomialNB(), tfidf__lowercase=True, tfidf__max_features=10000, tfidf__ngram_range=(1, 1), tfidf__stop_words=None\n",
      "[CV 1/3; 2/24] START clf=MultinomialNB(), tfidf__lowercase=True, tfidf__max_features=10000, tfidf__ngram_range=(1, 1), tfidf__stop_words=english\n",
      "[CV 2/3; 2/24] START clf=MultinomialNB(), tfidf__lowercase=True, tfidf__max_features=10000, tfidf__ngram_range=(1, 1), tfidf__stop_words=english\n",
      "[CV 3/3; 2/24] START clf=MultinomialNB(), tfidf__lowercase=True, tfidf__max_features=10000, tfidf__ngram_range=(1, 1), tfidf__stop_words=english\n",
      "[CV 1/3; 2/24] END clf=MultinomialNB(), tfidf__lowercase=True, tfidf__max_features=10000, tfidf__ngram_range=(1, 1), tfidf__stop_words=english;, score=0.755 total time=   8.7s\n",
      "[CV 1/3; 1/24] END clf=MultinomialNB(), tfidf__lowercase=True, tfidf__max_features=10000, tfidf__ngram_range=(1, 1), tfidf__stop_words=None;, score=0.773 total time=   9.9s\n",
      "[CV 2/3; 1/24] END clf=MultinomialNB(), tfidf__lowercase=True, tfidf__max_features=10000, tfidf__ngram_range=(1, 1), tfidf__stop_words=None;, score=0.773 total time=   9.9s\n",
      "[CV 3/3; 1/24] END clf=MultinomialNB(), tfidf__lowercase=True, tfidf__max_features=10000, tfidf__ngram_range=(1, 1), tfidf__stop_words=None;, score=0.772 total time=   9.7s\n",
      "[CV 1/3; 3/24] START clf=MultinomialNB(), tfidf__lowercase=True, tfidf__max_features=10000, tfidf__ngram_range=(1, 2), tfidf__stop_words=None\n",
      "[CV 2/3; 2/24] END clf=MultinomialNB(), tfidf__lowercase=True, tfidf__max_features=10000, tfidf__ngram_range=(1, 1), tfidf__stop_words=english;, score=0.755 total time=   8.3s\n",
      "[CV 2/3; 3/24] START clf=MultinomialNB(), tfidf__lowercase=True, tfidf__max_features=10000, tfidf__ngram_range=(1, 2), tfidf__stop_words=None\n",
      "[CV 3/3; 2/24] END clf=MultinomialNB(), tfidf__lowercase=True, tfidf__max_features=10000, tfidf__ngram_range=(1, 1), tfidf__stop_words=english;, score=0.754 total time=   8.1s\n",
      "[CV 3/3; 3/24] START clf=MultinomialNB(), tfidf__lowercase=True, tfidf__max_features=10000, tfidf__ngram_range=(1, 2), tfidf__stop_words=None\n",
      "[CV 1/3; 4/24] START clf=MultinomialNB(), tfidf__lowercase=True, tfidf__max_features=10000, tfidf__ngram_range=(1, 2), tfidf__stop_words=english\n",
      "[CV 2/3; 4/24] START clf=MultinomialNB(), tfidf__lowercase=True, tfidf__max_features=10000, tfidf__ngram_range=(1, 2), tfidf__stop_words=english\n",
      "[CV 3/3; 4/24] START clf=MultinomialNB(), tfidf__lowercase=True, tfidf__max_features=10000, tfidf__ngram_range=(1, 2), tfidf__stop_words=english\n",
      "[CV 1/3; 4/24] END clf=MultinomialNB(), tfidf__lowercase=True, tfidf__max_features=10000, tfidf__ngram_range=(1, 2), tfidf__stop_words=english;, score=0.756 total time= 1.3min\n",
      "[CV 1/3; 5/24] START clf=MultinomialNB(), tfidf__lowercase=True, tfidf__max_features=50000, tfidf__ngram_range=(1, 1), tfidf__stop_words=None\n",
      "[CV 2/3; 4/24] END clf=MultinomialNB(), tfidf__lowercase=True, tfidf__max_features=10000, tfidf__ngram_range=(1, 2), tfidf__stop_words=english;, score=0.756 total time= 1.4min\n",
      "[CV 2/3; 5/24] START clf=MultinomialNB(), tfidf__lowercase=True, tfidf__max_features=50000, tfidf__ngram_range=(1, 1), tfidf__stop_words=None\n",
      "[CV 3/3; 4/24] END clf=MultinomialNB(), tfidf__lowercase=True, tfidf__max_features=10000, tfidf__ngram_range=(1, 2), tfidf__stop_words=english;, score=0.755 total time= 1.4min\n",
      "[CV 3/3; 5/24] START clf=MultinomialNB(), tfidf__lowercase=True, tfidf__max_features=50000, tfidf__ngram_range=(1, 1), tfidf__stop_words=None\n",
      "[CV 3/3; 3/24] END clf=MultinomialNB(), tfidf__lowercase=True, tfidf__max_features=10000, tfidf__ngram_range=(1, 2), tfidf__stop_words=None;, score=0.784 total time= 1.4min\n",
      "[CV 1/3; 3/24] END clf=MultinomialNB(), tfidf__lowercase=True, tfidf__max_features=10000, tfidf__ngram_range=(1, 2), tfidf__stop_words=None;, score=0.786 total time= 1.5min\n",
      "[CV 2/3; 3/24] END clf=MultinomialNB(), tfidf__lowercase=True, tfidf__max_features=10000, tfidf__ngram_range=(1, 2), tfidf__stop_words=None;, score=0.787 total time= 1.5min\n",
      "[CV 1/3; 6/24] START clf=MultinomialNB(), tfidf__lowercase=True, tfidf__max_features=50000, tfidf__ngram_range=(1, 1), tfidf__stop_words=english\n",
      "[CV 2/3; 6/24] START clf=MultinomialNB(), tfidf__lowercase=True, tfidf__max_features=50000, tfidf__ngram_range=(1, 1), tfidf__stop_words=english\n",
      "[CV 3/3; 6/24] START clf=MultinomialNB(), tfidf__lowercase=True, tfidf__max_features=50000, tfidf__ngram_range=(1, 1), tfidf__stop_words=english\n",
      "[CV 1/3; 5/24] END clf=MultinomialNB(), tfidf__lowercase=True, tfidf__max_features=50000, tfidf__ngram_range=(1, 1), tfidf__stop_words=None;, score=0.773 total time=  10.7s\n",
      "[CV 1/3; 7/24] START clf=MultinomialNB(), tfidf__lowercase=True, tfidf__max_features=50000, tfidf__ngram_range=(1, 2), tfidf__stop_words=None\n",
      "[CV 2/3; 5/24] END clf=MultinomialNB(), tfidf__lowercase=True, tfidf__max_features=50000, tfidf__ngram_range=(1, 1), tfidf__stop_words=None;, score=0.773 total time=   9.5s\n",
      "[CV 2/3; 7/24] START clf=MultinomialNB(), tfidf__lowercase=True, tfidf__max_features=50000, tfidf__ngram_range=(1, 2), tfidf__stop_words=None\n",
      "[CV 3/3; 5/24] END clf=MultinomialNB(), tfidf__lowercase=True, tfidf__max_features=50000, tfidf__ngram_range=(1, 1), tfidf__stop_words=None;, score=0.772 total time=   9.4s\n",
      "[CV 3/3; 7/24] START clf=MultinomialNB(), tfidf__lowercase=True, tfidf__max_features=50000, tfidf__ngram_range=(1, 2), tfidf__stop_words=None\n",
      "[CV 1/3; 6/24] END clf=MultinomialNB(), tfidf__lowercase=True, tfidf__max_features=50000, tfidf__ngram_range=(1, 1), tfidf__stop_words=english;, score=0.756 total time=   8.5s\n",
      "[CV 1/3; 8/24] START clf=MultinomialNB(), tfidf__lowercase=True, tfidf__max_features=50000, tfidf__ngram_range=(1, 2), tfidf__stop_words=english\n",
      "[CV 2/3; 6/24] END clf=MultinomialNB(), tfidf__lowercase=True, tfidf__max_features=50000, tfidf__ngram_range=(1, 1), tfidf__stop_words=english;, score=0.757 total time=   9.0s\n",
      "[CV 3/3; 6/24] END clf=MultinomialNB(), tfidf__lowercase=True, tfidf__max_features=50000, tfidf__ngram_range=(1, 1), tfidf__stop_words=english;, score=0.756 total time=   8.6s\n",
      "[CV 2/3; 8/24] START clf=MultinomialNB(), tfidf__lowercase=True, tfidf__max_features=50000, tfidf__ngram_range=(1, 2), tfidf__stop_words=english\n",
      "[CV 3/3; 8/24] START clf=MultinomialNB(), tfidf__lowercase=True, tfidf__max_features=50000, tfidf__ngram_range=(1, 2), tfidf__stop_words=english\n",
      "[CV 1/3; 7/24] END clf=MultinomialNB(), tfidf__lowercase=True, tfidf__max_features=50000, tfidf__ngram_range=(1, 2), tfidf__stop_words=None;, score=0.799 total time=  31.4s\n",
      "[CV 1/3; 9/24] START clf=MultinomialNB(), tfidf__lowercase=True, tfidf__max_features=None, tfidf__ngram_range=(1, 1), tfidf__stop_words=None\n",
      "[CV 1/3; 8/24] END clf=MultinomialNB(), tfidf__lowercase=True, tfidf__max_features=50000, tfidf__ngram_range=(1, 2), tfidf__stop_words=english;, score=0.763 total time=  26.0s\n",
      "[CV 2/3; 9/24] START clf=MultinomialNB(), tfidf__lowercase=True, tfidf__max_features=None, tfidf__ngram_range=(1, 1), tfidf__stop_words=None\n",
      "[CV 2/3; 8/24] END clf=MultinomialNB(), tfidf__lowercase=True, tfidf__max_features=50000, tfidf__ngram_range=(1, 2), tfidf__stop_words=english;, score=0.764 total time=  26.5s\n",
      "[CV 3/3; 8/24] END clf=MultinomialNB(), tfidf__lowercase=True, tfidf__max_features=50000, tfidf__ngram_range=(1, 2), tfidf__stop_words=english;, score=0.763 total time=  26.6s\n",
      "[CV 3/3; 9/24] START clf=MultinomialNB(), tfidf__lowercase=True, tfidf__max_features=None, tfidf__ngram_range=(1, 1), tfidf__stop_words=None\n",
      "[CV 1/3; 10/24] START clf=MultinomialNB(), tfidf__lowercase=True, tfidf__max_features=None, tfidf__ngram_range=(1, 1), tfidf__stop_words=english\n",
      "[CV 2/3; 7/24] END clf=MultinomialNB(), tfidf__lowercase=True, tfidf__max_features=50000, tfidf__ngram_range=(1, 2), tfidf__stop_words=None;, score=0.800 total time=  32.6s\n",
      "[CV 2/3; 10/24] START clf=MultinomialNB(), tfidf__lowercase=True, tfidf__max_features=None, tfidf__ngram_range=(1, 1), tfidf__stop_words=english\n",
      "[CV 3/3; 7/24] END clf=MultinomialNB(), tfidf__lowercase=True, tfidf__max_features=50000, tfidf__ngram_range=(1, 2), tfidf__stop_words=None;, score=0.797 total time=  32.2s\n",
      "[CV 3/3; 10/24] START clf=MultinomialNB(), tfidf__lowercase=True, tfidf__max_features=None, tfidf__ngram_range=(1, 1), tfidf__stop_words=english\n",
      "[CV 1/3; 9/24] END clf=MultinomialNB(), tfidf__lowercase=True, tfidf__max_features=None, tfidf__ngram_range=(1, 1), tfidf__stop_words=None;, score=0.772 total time=   9.6s\n",
      "[CV 1/3; 11/24] START clf=MultinomialNB(), tfidf__lowercase=True, tfidf__max_features=None, tfidf__ngram_range=(1, 2), tfidf__stop_words=None\n",
      "[CV 2/3; 9/24] END clf=MultinomialNB(), tfidf__lowercase=True, tfidf__max_features=None, tfidf__ngram_range=(1, 1), tfidf__stop_words=None;, score=0.773 total time=   9.3s\n",
      "[CV 2/3; 11/24] START clf=MultinomialNB(), tfidf__lowercase=True, tfidf__max_features=None, tfidf__ngram_range=(1, 2), tfidf__stop_words=None\n",
      "[CV 1/3; 10/24] END clf=MultinomialNB(), tfidf__lowercase=True, tfidf__max_features=None, tfidf__ngram_range=(1, 1), tfidf__stop_words=english;, score=0.756 total time=   8.4s\n",
      "[CV 3/3; 9/24] END clf=MultinomialNB(), tfidf__lowercase=True, tfidf__max_features=None, tfidf__ngram_range=(1, 1), tfidf__stop_words=None;, score=0.771 total time=   9.4s\n",
      "[CV 3/3; 11/24] START clf=MultinomialNB(), tfidf__lowercase=True, tfidf__max_features=None, tfidf__ngram_range=(1, 2), tfidf__stop_words=None\n",
      "[CV 1/3; 12/24] START clf=MultinomialNB(), tfidf__lowercase=True, tfidf__max_features=None, tfidf__ngram_range=(1, 2), tfidf__stop_words=english\n",
      "[CV 2/3; 10/24] END clf=MultinomialNB(), tfidf__lowercase=True, tfidf__max_features=None, tfidf__ngram_range=(1, 1), tfidf__stop_words=english;, score=0.756 total time=   8.4s\n",
      "[CV 2/3; 12/24] START clf=MultinomialNB(), tfidf__lowercase=True, tfidf__max_features=None, tfidf__ngram_range=(1, 2), tfidf__stop_words=english\n",
      "[CV 3/3; 10/24] END clf=MultinomialNB(), tfidf__lowercase=True, tfidf__max_features=None, tfidf__ngram_range=(1, 1), tfidf__stop_words=english;, score=0.755 total time=   8.4s\n",
      "[CV 3/3; 12/24] START clf=MultinomialNB(), tfidf__lowercase=True, tfidf__max_features=None, tfidf__ngram_range=(1, 2), tfidf__stop_words=english\n",
      "[CV 1/3; 11/24] END clf=MultinomialNB(), tfidf__lowercase=True, tfidf__max_features=None, tfidf__ngram_range=(1, 2), tfidf__stop_words=None;, score=0.800 total time= 1.2min\n",
      "[CV 1/3; 12/24] END clf=MultinomialNB(), tfidf__lowercase=True, tfidf__max_features=None, tfidf__ngram_range=(1, 2), tfidf__stop_words=english;, score=0.767 total time= 1.2min\n",
      "[CV 1/3; 13/24] START clf=MultinomialNB(), tfidf__lowercase=False, tfidf__max_features=10000, tfidf__ngram_range=(1, 1), tfidf__stop_words=None\n",
      "[CV 2/3; 13/24] START clf=MultinomialNB(), tfidf__lowercase=False, tfidf__max_features=10000, tfidf__ngram_range=(1, 1), tfidf__stop_words=None\n",
      "[CV 3/3; 12/24] END clf=MultinomialNB(), tfidf__lowercase=True, tfidf__max_features=None, tfidf__ngram_range=(1, 2), tfidf__stop_words=english;, score=0.767 total time= 1.2min\n",
      "[CV 2/3; 12/24] END clf=MultinomialNB(), tfidf__lowercase=True, tfidf__max_features=None, tfidf__ngram_range=(1, 2), tfidf__stop_words=english;, score=0.768 total time= 1.2min\n",
      "[CV 3/3; 13/24] START clf=MultinomialNB(), tfidf__lowercase=False, tfidf__max_features=10000, tfidf__ngram_range=(1, 1), tfidf__stop_words=None\n",
      "[CV 1/3; 14/24] START clf=MultinomialNB(), tfidf__lowercase=False, tfidf__max_features=10000, tfidf__ngram_range=(1, 1), tfidf__stop_words=english\n",
      "[CV 3/3; 11/24] END clf=MultinomialNB(), tfidf__lowercase=True, tfidf__max_features=None, tfidf__ngram_range=(1, 2), tfidf__stop_words=None;, score=0.800 total time= 1.3min\n",
      "[CV 2/3; 11/24] END clf=MultinomialNB(), tfidf__lowercase=True, tfidf__max_features=None, tfidf__ngram_range=(1, 2), tfidf__stop_words=None;, score=0.801 total time= 1.3min\n",
      "[CV 2/3; 14/24] START clf=MultinomialNB(), tfidf__lowercase=False, tfidf__max_features=10000, tfidf__ngram_range=(1, 1), tfidf__stop_words=english\n",
      "[CV 3/3; 14/24] START clf=MultinomialNB(), tfidf__lowercase=False, tfidf__max_features=10000, tfidf__ngram_range=(1, 1), tfidf__stop_words=english\n",
      "[CV 1/3; 13/24] END clf=MultinomialNB(), tfidf__lowercase=False, tfidf__max_features=10000, tfidf__ngram_range=(1, 1), tfidf__stop_words=None;, score=0.773 total time=   9.2s\n",
      "[CV 1/3; 15/24] START clf=MultinomialNB(), tfidf__lowercase=False, tfidf__max_features=10000, tfidf__ngram_range=(1, 2), tfidf__stop_words=None\n",
      "[CV 2/3; 13/24] END clf=MultinomialNB(), tfidf__lowercase=False, tfidf__max_features=10000, tfidf__ngram_range=(1, 1), tfidf__stop_words=None;, score=0.773 total time=   9.2s\n",
      "[CV 2/3; 15/24] START clf=MultinomialNB(), tfidf__lowercase=False, tfidf__max_features=10000, tfidf__ngram_range=(1, 2), tfidf__stop_words=None\n",
      "[CV 1/3; 14/24] END clf=MultinomialNB(), tfidf__lowercase=False, tfidf__max_features=10000, tfidf__ngram_range=(1, 1), tfidf__stop_words=english;, score=0.755 total time=   8.3s\n",
      "[CV 3/3; 13/24] END clf=MultinomialNB(), tfidf__lowercase=False, tfidf__max_features=10000, tfidf__ngram_range=(1, 1), tfidf__stop_words=None;, score=0.772 total time=   9.3s\n",
      "[CV 3/3; 15/24] START clf=MultinomialNB(), tfidf__lowercase=False, tfidf__max_features=10000, tfidf__ngram_range=(1, 2), tfidf__stop_words=None\n",
      "[CV 1/3; 16/24] START clf=MultinomialNB(), tfidf__lowercase=False, tfidf__max_features=10000, tfidf__ngram_range=(1, 2), tfidf__stop_words=english\n",
      "[CV 2/3; 14/24] END clf=MultinomialNB(), tfidf__lowercase=False, tfidf__max_features=10000, tfidf__ngram_range=(1, 1), tfidf__stop_words=english;, score=0.755 total time=   8.4s\n",
      "[CV 2/3; 16/24] START clf=MultinomialNB(), tfidf__lowercase=False, tfidf__max_features=10000, tfidf__ngram_range=(1, 2), tfidf__stop_words=english\n",
      "[CV 3/3; 14/24] END clf=MultinomialNB(), tfidf__lowercase=False, tfidf__max_features=10000, tfidf__ngram_range=(1, 1), tfidf__stop_words=english;, score=0.754 total time=   8.4s\n",
      "[CV 3/3; 16/24] START clf=MultinomialNB(), tfidf__lowercase=False, tfidf__max_features=10000, tfidf__ngram_range=(1, 2), tfidf__stop_words=english\n",
      "[CV 1/3; 16/24] END clf=MultinomialNB(), tfidf__lowercase=False, tfidf__max_features=10000, tfidf__ngram_range=(1, 2), tfidf__stop_words=english;, score=0.756 total time=  35.1s\n",
      "[CV 1/3; 17/24] START clf=MultinomialNB(), tfidf__lowercase=False, tfidf__max_features=50000, tfidf__ngram_range=(1, 1), tfidf__stop_words=None\n",
      "[CV 1/3; 15/24] END clf=MultinomialNB(), tfidf__lowercase=False, tfidf__max_features=10000, tfidf__ngram_range=(1, 2), tfidf__stop_words=None;, score=0.786 total time=  41.5s\n",
      "[CV 2/3; 16/24] END clf=MultinomialNB(), tfidf__lowercase=False, tfidf__max_features=10000, tfidf__ngram_range=(1, 2), tfidf__stop_words=english;, score=0.756 total time=  38.4s\n",
      "[CV 2/3; 17/24] START clf=MultinomialNB(), tfidf__lowercase=False, tfidf__max_features=50000, tfidf__ngram_range=(1, 1), tfidf__stop_words=None\n",
      "[CV 3/3; 16/24] END clf=MultinomialNB(), tfidf__lowercase=False, tfidf__max_features=10000, tfidf__ngram_range=(1, 2), tfidf__stop_words=english;, score=0.755 total time=  38.3s\n",
      "[CV 3/3; 17/24] START clf=MultinomialNB(), tfidf__lowercase=False, tfidf__max_features=50000, tfidf__ngram_range=(1, 1), tfidf__stop_words=None\n",
      "[CV 2/3; 15/24] END clf=MultinomialNB(), tfidf__lowercase=False, tfidf__max_features=10000, tfidf__ngram_range=(1, 2), tfidf__stop_words=None;, score=0.787 total time=  42.2s\n",
      "[CV 1/3; 18/24] START clf=MultinomialNB(), tfidf__lowercase=False, tfidf__max_features=50000, tfidf__ngram_range=(1, 1), tfidf__stop_words=english\n",
      "[CV 2/3; 18/24] START clf=MultinomialNB(), tfidf__lowercase=False, tfidf__max_features=50000, tfidf__ngram_range=(1, 1), tfidf__stop_words=english\n",
      "[CV 3/3; 15/24] END clf=MultinomialNB(), tfidf__lowercase=False, tfidf__max_features=10000, tfidf__ngram_range=(1, 2), tfidf__stop_words=None;, score=0.784 total time=  41.4s\n",
      "[CV 3/3; 18/24] START clf=MultinomialNB(), tfidf__lowercase=False, tfidf__max_features=50000, tfidf__ngram_range=(1, 1), tfidf__stop_words=english\n",
      "[CV 1/3; 17/24] END clf=MultinomialNB(), tfidf__lowercase=False, tfidf__max_features=50000, tfidf__ngram_range=(1, 1), tfidf__stop_words=None;, score=0.773 total time=   9.3s\n",
      "[CV 1/3; 19/24] START clf=MultinomialNB(), tfidf__lowercase=False, tfidf__max_features=50000, tfidf__ngram_range=(1, 2), tfidf__stop_words=None\n",
      "[CV 2/3; 17/24] END clf=MultinomialNB(), tfidf__lowercase=False, tfidf__max_features=50000, tfidf__ngram_range=(1, 1), tfidf__stop_words=None;, score=0.773 total time=   9.3s\n",
      "[CV 1/3; 18/24] END clf=MultinomialNB(), tfidf__lowercase=False, tfidf__max_features=50000, tfidf__ngram_range=(1, 1), tfidf__stop_words=english;, score=0.756 total time=   8.5s\n",
      "[CV 2/3; 19/24] START clf=MultinomialNB(), tfidf__lowercase=False, tfidf__max_features=50000, tfidf__ngram_range=(1, 2), tfidf__stop_words=None\n",
      "[CV 3/3; 17/24] END clf=MultinomialNB(), tfidf__lowercase=False, tfidf__max_features=50000, tfidf__ngram_range=(1, 1), tfidf__stop_words=None;, score=0.772 total time=   9.4s\n",
      "[CV 2/3; 18/24] END clf=MultinomialNB(), tfidf__lowercase=False, tfidf__max_features=50000, tfidf__ngram_range=(1, 1), tfidf__stop_words=english;, score=0.757 total time=   8.5s\n",
      "[CV 3/3; 19/24] START clf=MultinomialNB(), tfidf__lowercase=False, tfidf__max_features=50000, tfidf__ngram_range=(1, 2), tfidf__stop_words=None\n",
      "[CV 1/3; 20/24] START clf=MultinomialNB(), tfidf__lowercase=False, tfidf__max_features=50000, tfidf__ngram_range=(1, 2), tfidf__stop_words=english\n",
      "[CV 3/3; 18/24] END clf=MultinomialNB(), tfidf__lowercase=False, tfidf__max_features=50000, tfidf__ngram_range=(1, 1), tfidf__stop_words=english;, score=0.756 total time=   8.4s\n",
      "[CV 2/3; 20/24] START clf=MultinomialNB(), tfidf__lowercase=False, tfidf__max_features=50000, tfidf__ngram_range=(1, 2), tfidf__stop_words=english\n",
      "[CV 3/3; 20/24] START clf=MultinomialNB(), tfidf__lowercase=False, tfidf__max_features=50000, tfidf__ngram_range=(1, 2), tfidf__stop_words=english\n",
      "[CV 1/3; 20/24] END clf=MultinomialNB(), tfidf__lowercase=False, tfidf__max_features=50000, tfidf__ngram_range=(1, 2), tfidf__stop_words=english;, score=0.763 total time=  28.7s\n",
      "[CV 1/3; 21/24] START clf=MultinomialNB(), tfidf__lowercase=False, tfidf__max_features=None, tfidf__ngram_range=(1, 1), tfidf__stop_words=None\n",
      "[CV 1/3; 19/24] END clf=MultinomialNB(), tfidf__lowercase=False, tfidf__max_features=50000, tfidf__ngram_range=(1, 2), tfidf__stop_words=None;, score=0.799 total time=  34.1s\n",
      "[CV 2/3; 21/24] START clf=MultinomialNB(), tfidf__lowercase=False, tfidf__max_features=None, tfidf__ngram_range=(1, 1), tfidf__stop_words=None\n",
      "[CV 2/3; 20/24] END clf=MultinomialNB(), tfidf__lowercase=False, tfidf__max_features=50000, tfidf__ngram_range=(1, 2), tfidf__stop_words=english;, score=0.764 total time=  30.4s\n",
      "[CV 3/3; 21/24] START clf=MultinomialNB(), tfidf__lowercase=False, tfidf__max_features=None, tfidf__ngram_range=(1, 1), tfidf__stop_words=None\n",
      "[CV 3/3; 20/24] END clf=MultinomialNB(), tfidf__lowercase=False, tfidf__max_features=50000, tfidf__ngram_range=(1, 2), tfidf__stop_words=english;, score=0.763 total time=  30.8s\n",
      "[CV 1/3; 22/24] START clf=MultinomialNB(), tfidf__lowercase=False, tfidf__max_features=None, tfidf__ngram_range=(1, 1), tfidf__stop_words=english\n",
      "[CV 2/3; 19/24] END clf=MultinomialNB(), tfidf__lowercase=False, tfidf__max_features=50000, tfidf__ngram_range=(1, 2), tfidf__stop_words=None;, score=0.800 total time=  36.6s\n",
      "[CV 3/3; 19/24] END clf=MultinomialNB(), tfidf__lowercase=False, tfidf__max_features=50000, tfidf__ngram_range=(1, 2), tfidf__stop_words=None;, score=0.797 total time=  36.3s\n",
      "[CV 2/3; 22/24] START clf=MultinomialNB(), tfidf__lowercase=False, tfidf__max_features=None, tfidf__ngram_range=(1, 1), tfidf__stop_words=english\n",
      "[CV 3/3; 22/24] START clf=MultinomialNB(), tfidf__lowercase=False, tfidf__max_features=None, tfidf__ngram_range=(1, 1), tfidf__stop_words=english\n",
      "[CV 1/3; 21/24] END clf=MultinomialNB(), tfidf__lowercase=False, tfidf__max_features=None, tfidf__ngram_range=(1, 1), tfidf__stop_words=None;, score=0.772 total time=  10.0s\n",
      "[CV 1/3; 23/24] START clf=MultinomialNB(), tfidf__lowercase=False, tfidf__max_features=None, tfidf__ngram_range=(1, 2), tfidf__stop_words=None\n",
      "[CV 2/3; 21/24] END clf=MultinomialNB(), tfidf__lowercase=False, tfidf__max_features=None, tfidf__ngram_range=(1, 1), tfidf__stop_words=None;, score=0.773 total time=  10.0s\n",
      "[CV 2/3; 23/24] START clf=MultinomialNB(), tfidf__lowercase=False, tfidf__max_features=None, tfidf__ngram_range=(1, 2), tfidf__stop_words=None\n",
      "[CV 3/3; 21/24] END clf=MultinomialNB(), tfidf__lowercase=False, tfidf__max_features=None, tfidf__ngram_range=(1, 1), tfidf__stop_words=None;, score=0.771 total time=   9.4s\n",
      "[CV 1/3; 22/24] END clf=MultinomialNB(), tfidf__lowercase=False, tfidf__max_features=None, tfidf__ngram_range=(1, 1), tfidf__stop_words=english;, score=0.756 total time=   8.5s\n",
      "[CV 3/3; 23/24] START clf=MultinomialNB(), tfidf__lowercase=False, tfidf__max_features=None, tfidf__ngram_range=(1, 2), tfidf__stop_words=None\n",
      "[CV 1/3; 24/24] START clf=MultinomialNB(), tfidf__lowercase=False, tfidf__max_features=None, tfidf__ngram_range=(1, 2), tfidf__stop_words=english\n",
      "[CV 2/3; 22/24] END clf=MultinomialNB(), tfidf__lowercase=False, tfidf__max_features=None, tfidf__ngram_range=(1, 1), tfidf__stop_words=english;, score=0.756 total time=   8.6s\n",
      "[CV 2/3; 24/24] START clf=MultinomialNB(), tfidf__lowercase=False, tfidf__max_features=None, tfidf__ngram_range=(1, 2), tfidf__stop_words=english\n",
      "[CV 3/3; 22/24] END clf=MultinomialNB(), tfidf__lowercase=False, tfidf__max_features=None, tfidf__ngram_range=(1, 1), tfidf__stop_words=english;, score=0.755 total time=   8.7s\n",
      "[CV 3/3; 24/24] START clf=MultinomialNB(), tfidf__lowercase=False, tfidf__max_features=None, tfidf__ngram_range=(1, 2), tfidf__stop_words=english\n",
      "[CV 1/3; 24/24] END clf=MultinomialNB(), tfidf__lowercase=False, tfidf__max_features=None, tfidf__ngram_range=(1, 2), tfidf__stop_words=english;, score=0.767 total time=  54.1s\n",
      "[CV 1/3; 23/24] END clf=MultinomialNB(), tfidf__lowercase=False, tfidf__max_features=None, tfidf__ngram_range=(1, 2), tfidf__stop_words=None;, score=0.800 total time= 1.1min\n",
      "[CV 3/3; 24/24] END clf=MultinomialNB(), tfidf__lowercase=False, tfidf__max_features=None, tfidf__ngram_range=(1, 2), tfidf__stop_words=english;, score=0.767 total time= 1.0min\n",
      "[CV 2/3; 24/24] END clf=MultinomialNB(), tfidf__lowercase=False, tfidf__max_features=None, tfidf__ngram_range=(1, 2), tfidf__stop_words=english;, score=0.768 total time= 1.0min\n",
      "[CV 3/3; 23/24] END clf=MultinomialNB(), tfidf__lowercase=False, tfidf__max_features=None, tfidf__ngram_range=(1, 2), tfidf__stop_words=None;, score=0.800 total time= 1.1min\n",
      "[CV 2/3; 23/24] END clf=MultinomialNB(), tfidf__lowercase=False, tfidf__max_features=None, tfidf__ngram_range=(1, 2), tfidf__stop_words=None;, score=0.801 total time= 1.1min\n",
      "Best score: 0.801\n",
      "Best parameters set:\n",
      "\tclf: MultinomialNB()\n",
      "\ttfidf__lowercase: True\n",
      "\ttfidf__max_features: None\n",
      "\ttfidf__ngram_range: (1, 2)\n",
      "\ttfidf__stop_words: None\n",
      "Accuracy: 0.8018575\n",
      "Precision: 0.8049198238862081\n",
      "Recall: 0.8018575\n",
      "F1 Score: 0.8013587592091365\n"
     ]
    }
   ],
   "source": [
    "getBestResult(classifier = MultinomialNB(), tokenize = 0, remove_non_ascii = True, remove_punctuation = True, number = NumberProcessor.Remove)"
   ]
  },
  {
   "cell_type": "markdown",
   "metadata": {},
   "source": [
    "Best score: 0.801\n",
    "\n",
    "Best parameters set:\n",
    "\tclf: MultinomialNB()\n",
    "\ttfidf__lowercase: True\n",
    "\ttfidf__max_features: None\n",
    "\ttfidf__ngram_range: (1, 2)\n",
    "\ttfidf__stop_words: None\n",
    "\n",
    "Accuracy: 0.8018575\n",
    "\n",
    "Precision: 0.8049198238862081\n",
    "\n",
    "Recall: 0.8018575\n",
    "\n",
    "F1 Score: 0.8013587592091365"
   ]
  },
  {
   "cell_type": "code",
   "execution_count": 10,
   "metadata": {},
   "outputs": [
    {
     "name": "stdout",
     "output_type": "stream",
     "text": [
      "Fitting 3 folds for each of 24 candidates, totalling 72 fits\n",
      "[CV 1/3; 1/24] START clf=MultinomialNB(), tfidf__lowercase=True, tfidf__max_features=10000, tfidf__ngram_range=(1, 1), tfidf__stop_words=None\n",
      "[CV 2/3; 1/24] START clf=MultinomialNB(), tfidf__lowercase=True, tfidf__max_features=10000, tfidf__ngram_range=(1, 1), tfidf__stop_words=None\n",
      "[CV 3/3; 1/24] START clf=MultinomialNB(), tfidf__lowercase=True, tfidf__max_features=10000, tfidf__ngram_range=(1, 1), tfidf__stop_words=None\n",
      "[CV 2/3; 2/24] START clf=MultinomialNB(), tfidf__lowercase=True, tfidf__max_features=10000, tfidf__ngram_range=(1, 1), tfidf__stop_words=english\n",
      "[CV 1/3; 2/24] START clf=MultinomialNB(), tfidf__lowercase=True, tfidf__max_features=10000, tfidf__ngram_range=(1, 1), tfidf__stop_words=english\n",
      "[CV 3/3; 2/24] START clf=MultinomialNB(), tfidf__lowercase=True, tfidf__max_features=10000, tfidf__ngram_range=(1, 1), tfidf__stop_words=english\n",
      "[CV 1/3; 1/24] END clf=MultinomialNB(), tfidf__lowercase=True, tfidf__max_features=10000, tfidf__ngram_range=(1, 1), tfidf__stop_words=None;, score=0.773 total time=   9.1s\n",
      "[CV 2/3; 1/24] END clf=MultinomialNB(), tfidf__lowercase=True, tfidf__max_features=10000, tfidf__ngram_range=(1, 1), tfidf__stop_words=None;, score=0.773 total time=   9.1s\n",
      "[CV 1/3; 3/24] START clf=MultinomialNB(), tfidf__lowercase=True, tfidf__max_features=10000, tfidf__ngram_range=(1, 2), tfidf__stop_words=None\n",
      "[CV 2/3; 2/24] END clf=MultinomialNB(), tfidf__lowercase=True, tfidf__max_features=10000, tfidf__ngram_range=(1, 1), tfidf__stop_words=english;, score=0.755 total time=   8.5s\n",
      "[CV 3/3; 1/24] END clf=MultinomialNB(), tfidf__lowercase=True, tfidf__max_features=10000, tfidf__ngram_range=(1, 1), tfidf__stop_words=None;, score=0.771 total time=   9.3s\n",
      "[CV 2/3; 3/24] START clf=MultinomialNB(), tfidf__lowercase=True, tfidf__max_features=10000, tfidf__ngram_range=(1, 2), tfidf__stop_words=None\n",
      "[CV 3/3; 2/24] END clf=MultinomialNB(), tfidf__lowercase=True, tfidf__max_features=10000, tfidf__ngram_range=(1, 1), tfidf__stop_words=english;, score=0.754 total time=   8.3s\n",
      "[CV 3/3; 3/24] START clf=MultinomialNB(), tfidf__lowercase=True, tfidf__max_features=10000, tfidf__ngram_range=(1, 2), tfidf__stop_words=None\n",
      "[CV 1/3; 2/24] END clf=MultinomialNB(), tfidf__lowercase=True, tfidf__max_features=10000, tfidf__ngram_range=(1, 1), tfidf__stop_words=english;, score=0.755 total time=   8.5s\n",
      "[CV 1/3; 4/24] START clf=MultinomialNB(), tfidf__lowercase=True, tfidf__max_features=10000, tfidf__ngram_range=(1, 2), tfidf__stop_words=english\n",
      "[CV 2/3; 4/24] START clf=MultinomialNB(), tfidf__lowercase=True, tfidf__max_features=10000, tfidf__ngram_range=(1, 2), tfidf__stop_words=english\n",
      "[CV 3/3; 4/24] START clf=MultinomialNB(), tfidf__lowercase=True, tfidf__max_features=10000, tfidf__ngram_range=(1, 2), tfidf__stop_words=english\n",
      "[CV 1/3; 4/24] END clf=MultinomialNB(), tfidf__lowercase=True, tfidf__max_features=10000, tfidf__ngram_range=(1, 2), tfidf__stop_words=english;, score=0.756 total time=  36.0s\n",
      "[CV 1/3; 5/24] START clf=MultinomialNB(), tfidf__lowercase=True, tfidf__max_features=50000, tfidf__ngram_range=(1, 1), tfidf__stop_words=None\n",
      "[CV 1/3; 5/24] END clf=MultinomialNB(), tfidf__lowercase=True, tfidf__max_features=50000, tfidf__ngram_range=(1, 1), tfidf__stop_words=None;, score=0.773 total time=  20.9s\n",
      "[CV 2/3; 5/24] START clf=MultinomialNB(), tfidf__lowercase=True, tfidf__max_features=50000, tfidf__ngram_range=(1, 1), tfidf__stop_words=None\n",
      "[CV 2/3; 4/24] END clf=MultinomialNB(), tfidf__lowercase=True, tfidf__max_features=10000, tfidf__ngram_range=(1, 2), tfidf__stop_words=english;, score=0.756 total time= 1.1min\n",
      "[CV 3/3; 5/24] START clf=MultinomialNB(), tfidf__lowercase=True, tfidf__max_features=50000, tfidf__ngram_range=(1, 1), tfidf__stop_words=None\n",
      "[CV 3/3; 4/24] END clf=MultinomialNB(), tfidf__lowercase=True, tfidf__max_features=10000, tfidf__ngram_range=(1, 2), tfidf__stop_words=english;, score=0.755 total time= 1.2min\n",
      "[CV 1/3; 6/24] START clf=MultinomialNB(), tfidf__lowercase=True, tfidf__max_features=50000, tfidf__ngram_range=(1, 1), tfidf__stop_words=english\n",
      "[CV 2/3; 5/24] END clf=MultinomialNB(), tfidf__lowercase=True, tfidf__max_features=50000, tfidf__ngram_range=(1, 1), tfidf__stop_words=None;, score=0.773 total time=  12.5s\n",
      "[CV 2/3; 6/24] START clf=MultinomialNB(), tfidf__lowercase=True, tfidf__max_features=50000, tfidf__ngram_range=(1, 1), tfidf__stop_words=english\n",
      "[CV 2/3; 3/24] END clf=MultinomialNB(), tfidf__lowercase=True, tfidf__max_features=10000, tfidf__ngram_range=(1, 2), tfidf__stop_words=None;, score=0.787 total time= 1.3min\n",
      "[CV 3/3; 3/24] END clf=MultinomialNB(), tfidf__lowercase=True, tfidf__max_features=10000, tfidf__ngram_range=(1, 2), tfidf__stop_words=None;, score=0.784 total time= 1.3min\n",
      "[CV 1/3; 3/24] END clf=MultinomialNB(), tfidf__lowercase=True, tfidf__max_features=10000, tfidf__ngram_range=(1, 2), tfidf__stop_words=None;, score=0.786 total time= 1.3min\n",
      "[CV 3/3; 6/24] START clf=MultinomialNB(), tfidf__lowercase=True, tfidf__max_features=50000, tfidf__ngram_range=(1, 1), tfidf__stop_words=english\n",
      "[CV 1/3; 7/24] START clf=MultinomialNB(), tfidf__lowercase=True, tfidf__max_features=50000, tfidf__ngram_range=(1, 2), tfidf__stop_words=None\n",
      "[CV 2/3; 7/24] START clf=MultinomialNB(), tfidf__lowercase=True, tfidf__max_features=50000, tfidf__ngram_range=(1, 2), tfidf__stop_words=None\n",
      "[CV 3/3; 5/24] END clf=MultinomialNB(), tfidf__lowercase=True, tfidf__max_features=50000, tfidf__ngram_range=(1, 1), tfidf__stop_words=None;, score=0.772 total time=   9.8s\n",
      "[CV 3/3; 7/24] START clf=MultinomialNB(), tfidf__lowercase=True, tfidf__max_features=50000, tfidf__ngram_range=(1, 2), tfidf__stop_words=None\n",
      "[CV 1/3; 6/24] END clf=MultinomialNB(), tfidf__lowercase=True, tfidf__max_features=50000, tfidf__ngram_range=(1, 1), tfidf__stop_words=english;, score=0.756 total time=   8.8s\n",
      "[CV 1/3; 8/24] START clf=MultinomialNB(), tfidf__lowercase=True, tfidf__max_features=50000, tfidf__ngram_range=(1, 2), tfidf__stop_words=english\n",
      "[CV 2/3; 6/24] END clf=MultinomialNB(), tfidf__lowercase=True, tfidf__max_features=50000, tfidf__ngram_range=(1, 1), tfidf__stop_words=english;, score=0.757 total time=   8.7s\n",
      "[CV 2/3; 8/24] START clf=MultinomialNB(), tfidf__lowercase=True, tfidf__max_features=50000, tfidf__ngram_range=(1, 2), tfidf__stop_words=english\n",
      "[CV 3/3; 6/24] END clf=MultinomialNB(), tfidf__lowercase=True, tfidf__max_features=50000, tfidf__ngram_range=(1, 1), tfidf__stop_words=english;, score=0.756 total time=   8.7s\n",
      "[CV 3/3; 8/24] START clf=MultinomialNB(), tfidf__lowercase=True, tfidf__max_features=50000, tfidf__ngram_range=(1, 2), tfidf__stop_words=english\n",
      "[CV 1/3; 7/24] END clf=MultinomialNB(), tfidf__lowercase=True, tfidf__max_features=50000, tfidf__ngram_range=(1, 2), tfidf__stop_words=None;, score=0.799 total time=  41.6s\n",
      "[CV 1/3; 9/24] START clf=MultinomialNB(), tfidf__lowercase=True, tfidf__max_features=None, tfidf__ngram_range=(1, 1), tfidf__stop_words=None\n",
      "[CV 2/3; 7/24] END clf=MultinomialNB(), tfidf__lowercase=True, tfidf__max_features=50000, tfidf__ngram_range=(1, 2), tfidf__stop_words=None;, score=0.800 total time=  47.0s\n",
      "[CV 2/3; 9/24] START clf=MultinomialNB(), tfidf__lowercase=True, tfidf__max_features=None, tfidf__ngram_range=(1, 1), tfidf__stop_words=None\n",
      "[CV 1/3; 8/24] END clf=MultinomialNB(), tfidf__lowercase=True, tfidf__max_features=50000, tfidf__ngram_range=(1, 2), tfidf__stop_words=english;, score=0.764 total time=  51.1s\n",
      "[CV 3/3; 9/24] START clf=MultinomialNB(), tfidf__lowercase=True, tfidf__max_features=None, tfidf__ngram_range=(1, 1), tfidf__stop_words=None\n",
      "[CV 1/3; 9/24] END clf=MultinomialNB(), tfidf__lowercase=True, tfidf__max_features=None, tfidf__ngram_range=(1, 1), tfidf__stop_words=None;, score=0.772 total time=  14.6s\n",
      "[CV 3/3; 7/24] END clf=MultinomialNB(), tfidf__lowercase=True, tfidf__max_features=50000, tfidf__ngram_range=(1, 2), tfidf__stop_words=None;, score=0.797 total time=  55.4s\n",
      "[CV 1/3; 10/24] START clf=MultinomialNB(), tfidf__lowercase=True, tfidf__max_features=None, tfidf__ngram_range=(1, 1), tfidf__stop_words=english\n",
      "[CV 2/3; 10/24] START clf=MultinomialNB(), tfidf__lowercase=True, tfidf__max_features=None, tfidf__ngram_range=(1, 1), tfidf__stop_words=english\n",
      "[CV 2/3; 8/24] END clf=MultinomialNB(), tfidf__lowercase=True, tfidf__max_features=50000, tfidf__ngram_range=(1, 2), tfidf__stop_words=english;, score=0.764 total time=  53.2s\n",
      "[CV 3/3; 8/24] END clf=MultinomialNB(), tfidf__lowercase=True, tfidf__max_features=50000, tfidf__ngram_range=(1, 2), tfidf__stop_words=english;, score=0.762 total time=  51.7s\n",
      "[CV 3/3; 10/24] START clf=MultinomialNB(), tfidf__lowercase=True, tfidf__max_features=None, tfidf__ngram_range=(1, 1), tfidf__stop_words=english\n",
      "[CV 1/3; 11/24] START clf=MultinomialNB(), tfidf__lowercase=True, tfidf__max_features=None, tfidf__ngram_range=(1, 2), tfidf__stop_words=None\n",
      "[CV 2/3; 9/24] END clf=MultinomialNB(), tfidf__lowercase=True, tfidf__max_features=None, tfidf__ngram_range=(1, 1), tfidf__stop_words=None;, score=0.772 total time=  11.5s\n",
      "[CV 2/3; 11/24] START clf=MultinomialNB(), tfidf__lowercase=True, tfidf__max_features=None, tfidf__ngram_range=(1, 2), tfidf__stop_words=None\n",
      "[CV 3/3; 9/24] END clf=MultinomialNB(), tfidf__lowercase=True, tfidf__max_features=None, tfidf__ngram_range=(1, 1), tfidf__stop_words=None;, score=0.771 total time=  11.1s\n",
      "[CV 1/3; 10/24] END clf=MultinomialNB(), tfidf__lowercase=True, tfidf__max_features=None, tfidf__ngram_range=(1, 1), tfidf__stop_words=english;, score=0.756 total time=  10.4s\n",
      "[CV 3/3; 11/24] START clf=MultinomialNB(), tfidf__lowercase=True, tfidf__max_features=None, tfidf__ngram_range=(1, 2), tfidf__stop_words=None\n",
      "[CV 2/3; 10/24] END clf=MultinomialNB(), tfidf__lowercase=True, tfidf__max_features=None, tfidf__ngram_range=(1, 1), tfidf__stop_words=english;, score=0.757 total time=  10.5s\n",
      "[CV 1/3; 12/24] START clf=MultinomialNB(), tfidf__lowercase=True, tfidf__max_features=None, tfidf__ngram_range=(1, 2), tfidf__stop_words=english\n",
      "[CV 3/3; 10/24] END clf=MultinomialNB(), tfidf__lowercase=True, tfidf__max_features=None, tfidf__ngram_range=(1, 1), tfidf__stop_words=english;, score=0.755 total time=  10.8s\n",
      "[CV 2/3; 12/24] START clf=MultinomialNB(), tfidf__lowercase=True, tfidf__max_features=None, tfidf__ngram_range=(1, 2), tfidf__stop_words=english\n",
      "[CV 3/3; 12/24] START clf=MultinomialNB(), tfidf__lowercase=True, tfidf__max_features=None, tfidf__ngram_range=(1, 2), tfidf__stop_words=english\n",
      "[CV 1/3; 11/24] END clf=MultinomialNB(), tfidf__lowercase=True, tfidf__max_features=None, tfidf__ngram_range=(1, 2), tfidf__stop_words=None;, score=0.801 total time=  43.4s\n",
      "[CV 1/3; 12/24] END clf=MultinomialNB(), tfidf__lowercase=True, tfidf__max_features=None, tfidf__ngram_range=(1, 2), tfidf__stop_words=english;, score=0.767 total time=  34.4s\n",
      "[CV 1/3; 13/24] START clf=MultinomialNB(), tfidf__lowercase=False, tfidf__max_features=10000, tfidf__ngram_range=(1, 1), tfidf__stop_words=None\n",
      "[CV 2/3; 11/24] END clf=MultinomialNB(), tfidf__lowercase=True, tfidf__max_features=None, tfidf__ngram_range=(1, 2), tfidf__stop_words=None;, score=0.801 total time=  43.7s\n",
      "[CV 2/3; 13/24] START clf=MultinomialNB(), tfidf__lowercase=False, tfidf__max_features=10000, tfidf__ngram_range=(1, 1), tfidf__stop_words=None\n",
      "[CV 2/3; 12/24] END clf=MultinomialNB(), tfidf__lowercase=True, tfidf__max_features=None, tfidf__ngram_range=(1, 2), tfidf__stop_words=english;, score=0.768 total time=  35.1s\n",
      "[CV 3/3; 13/24] START clf=MultinomialNB(), tfidf__lowercase=False, tfidf__max_features=10000, tfidf__ngram_range=(1, 1), tfidf__stop_words=None\n",
      "[CV 3/3; 12/24] END clf=MultinomialNB(), tfidf__lowercase=True, tfidf__max_features=None, tfidf__ngram_range=(1, 2), tfidf__stop_words=english;, score=0.767 total time=  34.8s\n",
      "[CV 1/3; 14/24] START clf=MultinomialNB(), tfidf__lowercase=False, tfidf__max_features=10000, tfidf__ngram_range=(1, 1), tfidf__stop_words=english\n",
      "[CV 2/3; 14/24] START clf=MultinomialNB(), tfidf__lowercase=False, tfidf__max_features=10000, tfidf__ngram_range=(1, 1), tfidf__stop_words=english\n",
      "[CV 3/3; 11/24] END clf=MultinomialNB(), tfidf__lowercase=True, tfidf__max_features=None, tfidf__ngram_range=(1, 2), tfidf__stop_words=None;, score=0.799 total time=  42.3s\n",
      "[CV 3/3; 14/24] START clf=MultinomialNB(), tfidf__lowercase=False, tfidf__max_features=10000, tfidf__ngram_range=(1, 1), tfidf__stop_words=english\n",
      "[CV 1/3; 13/24] END clf=MultinomialNB(), tfidf__lowercase=False, tfidf__max_features=10000, tfidf__ngram_range=(1, 1), tfidf__stop_words=None;, score=0.773 total time=  10.0s\n",
      "[CV 1/3; 15/24] START clf=MultinomialNB(), tfidf__lowercase=False, tfidf__max_features=10000, tfidf__ngram_range=(1, 2), tfidf__stop_words=None\n",
      "[CV 2/3; 13/24] END clf=MultinomialNB(), tfidf__lowercase=False, tfidf__max_features=10000, tfidf__ngram_range=(1, 1), tfidf__stop_words=None;, score=0.773 total time=  10.2s\n",
      "[CV 1/3; 14/24] END clf=MultinomialNB(), tfidf__lowercase=False, tfidf__max_features=10000, tfidf__ngram_range=(1, 1), tfidf__stop_words=english;, score=0.755 total time=   9.1s\n",
      "[CV 2/3; 15/24] START clf=MultinomialNB(), tfidf__lowercase=False, tfidf__max_features=10000, tfidf__ngram_range=(1, 2), tfidf__stop_words=None\n",
      "[CV 2/3; 14/24] END clf=MultinomialNB(), tfidf__lowercase=False, tfidf__max_features=10000, tfidf__ngram_range=(1, 1), tfidf__stop_words=english;, score=0.755 total time=   8.9s\n",
      "[CV 3/3; 13/24] END clf=MultinomialNB(), tfidf__lowercase=False, tfidf__max_features=10000, tfidf__ngram_range=(1, 1), tfidf__stop_words=None;, score=0.771 total time=  10.1s\n",
      "[CV 3/3; 15/24] START clf=MultinomialNB(), tfidf__lowercase=False, tfidf__max_features=10000, tfidf__ngram_range=(1, 2), tfidf__stop_words=None\n",
      "[CV 1/3; 16/24] START clf=MultinomialNB(), tfidf__lowercase=False, tfidf__max_features=10000, tfidf__ngram_range=(1, 2), tfidf__stop_words=english\n",
      "[CV 2/3; 16/24] START clf=MultinomialNB(), tfidf__lowercase=False, tfidf__max_features=10000, tfidf__ngram_range=(1, 2), tfidf__stop_words=english\n",
      "[CV 3/3; 14/24] END clf=MultinomialNB(), tfidf__lowercase=False, tfidf__max_features=10000, tfidf__ngram_range=(1, 1), tfidf__stop_words=english;, score=0.754 total time=   8.7s\n",
      "[CV 3/3; 16/24] START clf=MultinomialNB(), tfidf__lowercase=False, tfidf__max_features=10000, tfidf__ngram_range=(1, 2), tfidf__stop_words=english\n",
      "[CV 1/3; 16/24] END clf=MultinomialNB(), tfidf__lowercase=False, tfidf__max_features=10000, tfidf__ngram_range=(1, 2), tfidf__stop_words=english;, score=0.756 total time=  34.8s\n",
      "[CV 1/3; 17/24] START clf=MultinomialNB(), tfidf__lowercase=False, tfidf__max_features=50000, tfidf__ngram_range=(1, 1), tfidf__stop_words=None\n",
      "[CV 2/3; 16/24] END clf=MultinomialNB(), tfidf__lowercase=False, tfidf__max_features=10000, tfidf__ngram_range=(1, 2), tfidf__stop_words=english;, score=0.756 total time=  38.8s\n",
      "[CV 1/3; 15/24] END clf=MultinomialNB(), tfidf__lowercase=False, tfidf__max_features=10000, tfidf__ngram_range=(1, 2), tfidf__stop_words=None;, score=0.786 total time=  41.7s\n",
      "[CV 2/3; 17/24] START clf=MultinomialNB(), tfidf__lowercase=False, tfidf__max_features=50000, tfidf__ngram_range=(1, 1), tfidf__stop_words=None\n",
      "[CV 3/3; 17/24] START clf=MultinomialNB(), tfidf__lowercase=False, tfidf__max_features=50000, tfidf__ngram_range=(1, 1), tfidf__stop_words=None\n",
      "[CV 3/3; 16/24] END clf=MultinomialNB(), tfidf__lowercase=False, tfidf__max_features=10000, tfidf__ngram_range=(1, 2), tfidf__stop_words=english;, score=0.755 total time=  37.2s\n",
      "[CV 1/3; 18/24] START clf=MultinomialNB(), tfidf__lowercase=False, tfidf__max_features=50000, tfidf__ngram_range=(1, 1), tfidf__stop_words=english\n",
      "[CV 2/3; 15/24] END clf=MultinomialNB(), tfidf__lowercase=False, tfidf__max_features=10000, tfidf__ngram_range=(1, 2), tfidf__stop_words=None;, score=0.787 total time=  43.4s\n",
      "[CV 3/3; 15/24] END clf=MultinomialNB(), tfidf__lowercase=False, tfidf__max_features=10000, tfidf__ngram_range=(1, 2), tfidf__stop_words=None;, score=0.784 total time=  42.9s\n",
      "[CV 2/3; 18/24] START clf=MultinomialNB(), tfidf__lowercase=False, tfidf__max_features=50000, tfidf__ngram_range=(1, 1), tfidf__stop_words=english\n",
      "[CV 3/3; 18/24] START clf=MultinomialNB(), tfidf__lowercase=False, tfidf__max_features=50000, tfidf__ngram_range=(1, 1), tfidf__stop_words=english\n",
      "[CV 1/3; 17/24] END clf=MultinomialNB(), tfidf__lowercase=False, tfidf__max_features=50000, tfidf__ngram_range=(1, 1), tfidf__stop_words=None;, score=0.773 total time=  10.0s\n",
      "[CV 1/3; 19/24] START clf=MultinomialNB(), tfidf__lowercase=False, tfidf__max_features=50000, tfidf__ngram_range=(1, 2), tfidf__stop_words=None\n",
      "[CV 2/3; 17/24] END clf=MultinomialNB(), tfidf__lowercase=False, tfidf__max_features=50000, tfidf__ngram_range=(1, 1), tfidf__stop_words=None;, score=0.773 total time=   9.9s\n",
      "[CV 2/3; 19/24] START clf=MultinomialNB(), tfidf__lowercase=False, tfidf__max_features=50000, tfidf__ngram_range=(1, 2), tfidf__stop_words=None\n",
      "[CV 1/3; 18/24] END clf=MultinomialNB(), tfidf__lowercase=False, tfidf__max_features=50000, tfidf__ngram_range=(1, 1), tfidf__stop_words=english;, score=0.756 total time=   9.0s\n",
      "[CV 3/3; 17/24] END clf=MultinomialNB(), tfidf__lowercase=False, tfidf__max_features=50000, tfidf__ngram_range=(1, 1), tfidf__stop_words=None;, score=0.772 total time=   9.9s\n",
      "[CV 3/3; 19/24] START clf=MultinomialNB(), tfidf__lowercase=False, tfidf__max_features=50000, tfidf__ngram_range=(1, 2), tfidf__stop_words=None\n",
      "[CV 1/3; 20/24] START clf=MultinomialNB(), tfidf__lowercase=False, tfidf__max_features=50000, tfidf__ngram_range=(1, 2), tfidf__stop_words=english\n",
      "[CV 2/3; 18/24] END clf=MultinomialNB(), tfidf__lowercase=False, tfidf__max_features=50000, tfidf__ngram_range=(1, 1), tfidf__stop_words=english;, score=0.757 total time=   8.9s\n",
      "[CV 2/3; 20/24] START clf=MultinomialNB(), tfidf__lowercase=False, tfidf__max_features=50000, tfidf__ngram_range=(1, 2), tfidf__stop_words=english\n",
      "[CV 3/3; 18/24] END clf=MultinomialNB(), tfidf__lowercase=False, tfidf__max_features=50000, tfidf__ngram_range=(1, 1), tfidf__stop_words=english;, score=0.756 total time=   8.9s\n",
      "[CV 3/3; 20/24] START clf=MultinomialNB(), tfidf__lowercase=False, tfidf__max_features=50000, tfidf__ngram_range=(1, 2), tfidf__stop_words=english\n",
      "[CV 1/3; 19/24] END clf=MultinomialNB(), tfidf__lowercase=False, tfidf__max_features=50000, tfidf__ngram_range=(1, 2), tfidf__stop_words=None;, score=0.799 total time=  34.7s\n",
      "[CV 1/3; 21/24] START clf=MultinomialNB(), tfidf__lowercase=False, tfidf__max_features=None, tfidf__ngram_range=(1, 1), tfidf__stop_words=None\n",
      "[CV 1/3; 20/24] END clf=MultinomialNB(), tfidf__lowercase=False, tfidf__max_features=50000, tfidf__ngram_range=(1, 2), tfidf__stop_words=english;, score=0.764 total time=  31.6s\n",
      "[CV 2/3; 21/24] START clf=MultinomialNB(), tfidf__lowercase=False, tfidf__max_features=None, tfidf__ngram_range=(1, 1), tfidf__stop_words=None\n",
      "[CV 2/3; 20/24] END clf=MultinomialNB(), tfidf__lowercase=False, tfidf__max_features=50000, tfidf__ngram_range=(1, 2), tfidf__stop_words=english;, score=0.764 total time=  32.2s\n",
      "[CV 3/3; 21/24] START clf=MultinomialNB(), tfidf__lowercase=False, tfidf__max_features=None, tfidf__ngram_range=(1, 1), tfidf__stop_words=None\n",
      "[CV 3/3; 20/24] END clf=MultinomialNB(), tfidf__lowercase=False, tfidf__max_features=50000, tfidf__ngram_range=(1, 2), tfidf__stop_words=english;, score=0.762 total time=  33.5s\n",
      "[CV 1/3; 22/24] START clf=MultinomialNB(), tfidf__lowercase=False, tfidf__max_features=None, tfidf__ngram_range=(1, 1), tfidf__stop_words=english\n",
      "[CV 3/3; 19/24] END clf=MultinomialNB(), tfidf__lowercase=False, tfidf__max_features=50000, tfidf__ngram_range=(1, 2), tfidf__stop_words=None;, score=0.797 total time=  37.9s\n",
      "[CV 2/3; 19/24] END clf=MultinomialNB(), tfidf__lowercase=False, tfidf__max_features=50000, tfidf__ngram_range=(1, 2), tfidf__stop_words=None;, score=0.800 total time=  38.6s\n"
     ]
    },
    {
     "name": "stderr",
     "output_type": "stream",
     "text": [
      "/Users/zhougaoqiang/.pyenv/versions/3.11.8/lib/python3.11/site-packages/joblib/externals/loky/process_executor.py:752: UserWarning: A worker stopped while some jobs were given to the executor. This can be caused by a too short worker timeout or by a memory leak.\n",
      "  warnings.warn(\n"
     ]
    },
    {
     "name": "stdout",
     "output_type": "stream",
     "text": [
      "[CV 2/3; 22/24] START clf=MultinomialNB(), tfidf__lowercase=False, tfidf__max_features=None, tfidf__ngram_range=(1, 1), tfidf__stop_words=english\n",
      "[CV 3/3; 22/24] START clf=MultinomialNB(), tfidf__lowercase=False, tfidf__max_features=None, tfidf__ngram_range=(1, 1), tfidf__stop_words=english\n",
      "[CV 1/3; 21/24] END clf=MultinomialNB(), tfidf__lowercase=False, tfidf__max_features=None, tfidf__ngram_range=(1, 1), tfidf__stop_words=None;, score=0.772 total time=  10.0s\n",
      "[CV 1/3; 23/24] START clf=MultinomialNB(), tfidf__lowercase=False, tfidf__max_features=None, tfidf__ngram_range=(1, 2), tfidf__stop_words=None\n",
      "[CV 2/3; 21/24] END clf=MultinomialNB(), tfidf__lowercase=False, tfidf__max_features=None, tfidf__ngram_range=(1, 1), tfidf__stop_words=None;, score=0.772 total time=   9.8s\n",
      "[CV 2/3; 23/24] START clf=MultinomialNB(), tfidf__lowercase=False, tfidf__max_features=None, tfidf__ngram_range=(1, 2), tfidf__stop_words=None\n",
      "[CV 3/3; 21/24] END clf=MultinomialNB(), tfidf__lowercase=False, tfidf__max_features=None, tfidf__ngram_range=(1, 1), tfidf__stop_words=None;, score=0.771 total time=   9.8s\n",
      "[CV 3/3; 23/24] START clf=MultinomialNB(), tfidf__lowercase=False, tfidf__max_features=None, tfidf__ngram_range=(1, 2), tfidf__stop_words=None\n",
      "[CV 1/3; 22/24] END clf=MultinomialNB(), tfidf__lowercase=False, tfidf__max_features=None, tfidf__ngram_range=(1, 1), tfidf__stop_words=english;, score=0.756 total time=   8.9s\n",
      "[CV 1/3; 24/24] START clf=MultinomialNB(), tfidf__lowercase=False, tfidf__max_features=None, tfidf__ngram_range=(1, 2), tfidf__stop_words=english\n",
      "[CV 2/3; 22/24] END clf=MultinomialNB(), tfidf__lowercase=False, tfidf__max_features=None, tfidf__ngram_range=(1, 1), tfidf__stop_words=english;, score=0.757 total time=   9.1s\n",
      "[CV 2/3; 24/24] START clf=MultinomialNB(), tfidf__lowercase=False, tfidf__max_features=None, tfidf__ngram_range=(1, 2), tfidf__stop_words=english\n",
      "[CV 3/3; 22/24] END clf=MultinomialNB(), tfidf__lowercase=False, tfidf__max_features=None, tfidf__ngram_range=(1, 1), tfidf__stop_words=english;, score=0.755 total time=   8.9s\n",
      "[CV 3/3; 24/24] START clf=MultinomialNB(), tfidf__lowercase=False, tfidf__max_features=None, tfidf__ngram_range=(1, 2), tfidf__stop_words=english\n",
      "[CV 1/3; 23/24] END clf=MultinomialNB(), tfidf__lowercase=False, tfidf__max_features=None, tfidf__ngram_range=(1, 2), tfidf__stop_words=None;, score=0.801 total time= 1.0min\n",
      "[CV 1/3; 24/24] END clf=MultinomialNB(), tfidf__lowercase=False, tfidf__max_features=None, tfidf__ngram_range=(1, 2), tfidf__stop_words=english;, score=0.767 total time= 1.1min\n",
      "[CV 2/3; 24/24] END clf=MultinomialNB(), tfidf__lowercase=False, tfidf__max_features=None, tfidf__ngram_range=(1, 2), tfidf__stop_words=english;, score=0.768 total time= 1.1min\n",
      "[CV 2/3; 23/24] END clf=MultinomialNB(), tfidf__lowercase=False, tfidf__max_features=None, tfidf__ngram_range=(1, 2), tfidf__stop_words=None;, score=0.801 total time= 1.2min\n",
      "[CV 3/3; 24/24] END clf=MultinomialNB(), tfidf__lowercase=False, tfidf__max_features=None, tfidf__ngram_range=(1, 2), tfidf__stop_words=english;, score=0.767 total time= 1.1min\n",
      "[CV 3/3; 23/24] END clf=MultinomialNB(), tfidf__lowercase=False, tfidf__max_features=None, tfidf__ngram_range=(1, 2), tfidf__stop_words=None;, score=0.799 total time= 1.2min\n",
      "Best score: 0.800\n",
      "Best parameters set:\n",
      "\tclf: MultinomialNB()\n",
      "\ttfidf__lowercase: True\n",
      "\ttfidf__max_features: None\n",
      "\ttfidf__ngram_range: (1, 2)\n",
      "\ttfidf__stop_words: None\n",
      "Accuracy: 0.8015225\n",
      "Precision: 0.8046953481221668\n",
      "Recall: 0.8015224999999999\n",
      "F1 Score: 0.8010044557940048\n"
     ]
    }
   ],
   "source": [
    "getBestResult(classifier = MultinomialNB(), tokenize = 0, remove_non_ascii = True, remove_punctuation = True, number = NumberProcessor.NoAction)"
   ]
  },
  {
   "cell_type": "markdown",
   "metadata": {},
   "source": [
    "Best score: 0.800\n",
    "\n",
    "Best parameters set:\n",
    "\n",
    "\tclf: MultinomialNB()\n",
    "\ttfidf__lowercase: True\n",
    "\ttfidf__max_features: None\n",
    "...\n",
    "Accuracy: 0.8015225\n",
    "Precision: 0.8046953481221668\n",
    "Recall: 0.8015224999999999\n",
    "F1 Score: 0.8010044557940048\n",
    "\n",
    "NumberProcessor.Remove better than NoAction"
   ]
  },
  {
   "cell_type": "code",
   "execution_count": 12,
   "metadata": {},
   "outputs": [
    {
     "name": "stdout",
     "output_type": "stream",
     "text": [
      "Fitting 3 folds for each of 24 candidates, totalling 72 fits\n"
     ]
    },
    {
     "name": "stderr",
     "output_type": "stream",
     "text": [
      "/Users/zhougaoqiang/.pyenv/versions/3.11.8/lib/python3.11/site-packages/joblib/externals/loky/process_executor.py:752: UserWarning: A worker stopped while some jobs were given to the executor. This can be caused by a too short worker timeout or by a memory leak.\n",
      "  warnings.warn(\n"
     ]
    },
    {
     "name": "stdout",
     "output_type": "stream",
     "text": [
      "Best score: 0.801\n",
      "Best parameters set:\n",
      "\tclf: MultinomialNB()\n",
      "\ttfidf__lowercase: True\n",
      "\ttfidf__max_features: None\n",
      "\ttfidf__ngram_range: (1, 2)\n",
      "\ttfidf__stop_words: None\n",
      "Accuracy: 0.8018775\n",
      "Precision: 0.8049573388875978\n",
      "Recall: 0.8018775\n",
      "F1 Score: 0.8013760119191322\n"
     ]
    }
   ],
   "source": [
    "getBestResult(classifier = MultinomialNB(), tokenize = 0, remove_non_ascii = False, remove_punctuation = True, number = NumberProcessor.Remove)"
   ]
  },
  {
   "cell_type": "markdown",
   "metadata": {},
   "source": [
    "#keep non ascii seems no improvement, to enhance robust, keep remove_non_ascii = True\n",
    "\n",
    "#to test whether remove punctuation"
   ]
  },
  {
   "cell_type": "code",
   "execution_count": 13,
   "metadata": {},
   "outputs": [
    {
     "name": "stdout",
     "output_type": "stream",
     "text": [
      "Fitting 3 folds for each of 24 candidates, totalling 72 fits\n"
     ]
    },
    {
     "name": "stderr",
     "output_type": "stream",
     "text": [
      "/Users/zhougaoqiang/.pyenv/versions/3.11.8/lib/python3.11/site-packages/joblib/externals/loky/process_executor.py:752: UserWarning: A worker stopped while some jobs were given to the executor. This can be caused by a too short worker timeout or by a memory leak.\n",
      "  warnings.warn(\n"
     ]
    },
    {
     "name": "stdout",
     "output_type": "stream",
     "text": [
      "Best score: 0.801\n",
      "Best parameters set:\n",
      "\tclf: MultinomialNB()\n",
      "\ttfidf__lowercase: True\n",
      "\ttfidf__max_features: None\n",
      "\ttfidf__ngram_range: (1, 2)\n",
      "\ttfidf__stop_words: None\n",
      "Accuracy: 0.801635\n",
      "Precision: 0.8043686421871769\n",
      "Recall: 0.801635\n",
      "F1 Score: 0.8011886011666337\n"
     ]
    }
   ],
   "source": [
    "getBestResult(classifier = MultinomialNB(), tokenize = 0, remove_non_ascii = True, remove_punctuation = False, number = NumberProcessor.Remove)"
   ]
  },
  {
   "cell_type": "markdown",
   "metadata": {},
   "source": [
    "#keep punctuation also no improvement, to enhance robust, keep remove_punctuation = True\n",
    "\n",
    "#to test whether remove punctuation"
   ]
  },
  {
   "cell_type": "code",
   "execution_count": 14,
   "metadata": {},
   "outputs": [
    {
     "name": "stdout",
     "output_type": "stream",
     "text": [
      "Fitting 3 folds for each of 24 candidates, totalling 72 fits\n",
      "Best score: 0.799\n",
      "Best parameters set:\n",
      "\tclf: MultinomialNB()\n",
      "\ttfidf__lowercase: True\n",
      "\ttfidf__max_features: None\n",
      "\ttfidf__ngram_range: (1, 2)\n",
      "\ttfidf__stop_words: None\n",
      "Accuracy: 0.80069\n",
      "Precision: 0.8038518950038713\n",
      "Recall: 0.80069\n",
      "F1 Score: 0.8001701406175221\n"
     ]
    }
   ],
   "source": [
    "getBestResult(classifier = MultinomialNB(), tokenize = 1, remove_non_ascii = True, remove_punctuation = True, number = NumberProcessor.Remove)"
   ]
  },
  {
   "cell_type": "markdown",
   "metadata": {},
   "source": [
    "###getBestResult(classifier = MultinomialNB(), tokenize = 0, remove_non_ascii = True, remove_punctuation = True, number = NumberProcessor.Remove)\n",
    "\n",
    "with \n",
    "\ttfidf__lowercase: True\n",
    "\ttfidf__max_features: None\n",
    "\ttfidf__ngram_range: (1, 2)\n",
    "\ttfidf__stop_words: None\n",
    "\n",
    "seem this group is the best"
   ]
  },
  {
   "cell_type": "markdown",
   "metadata": {},
   "source": [
    "### Trying to get the best parameters for logistic regression from naive bayes, as logistic regression is very time consuming"
   ]
  },
  {
   "cell_type": "code",
   "execution_count": 18,
   "metadata": {},
   "outputs": [],
   "source": [
    "def getLogisticRegressionBestResult(maxIter = 100) :\n",
    "    df[\"tokens\"] = df[\"text\"].apply(word_tokenize)\n",
    "    df[\"tokens\"] = df[\"tokens\"].apply(helper.remove_non_ascii)\n",
    "    df[\"tokens\"] = df[\"tokens\"].apply(helper.remove_punctuation)\n",
    "    df[\"tokens\"] = df[\"tokens\"].apply(helper.remove_numbers)\n",
    "\n",
    "     # 训练/测试数据集划分\n",
    "    train_x, test_x, train_y, test_y = train_test_split(\n",
    "        df['tokens'].apply(lambda x: ' '.join(x)),  # word_tokenize 版本\n",
    "        df['polarity'],\n",
    "        random_state=34,\n",
    "        stratify=df['polarity']\n",
    "    )\n",
    "\n",
    "    pipeline = Pipeline([ # 构建 Pipeline\n",
    "        ('tfidf', TfidfVectorizer(analyzer='word', token_pattern=r'\\w{1,}')),  # TF-IDF 向量化\n",
    "        ('clf', LogisticRegression(max_iter= maxIter))  # 分类器，默认 Naive Bayes\n",
    "    ])\n",
    "\n",
    "    # 定义 GridSearch 参数\n",
    "    parameters = {\n",
    "        'tfidf__ngram_range': [(1,2)],  # 1-gram 和 1,2-gram\n",
    "        'tfidf__lowercase': [True], \n",
    "        'tfidf__max_features': [None],  # 词汇表大小\n",
    "        'tfidf__stop_words': [None],  # 是否使用停用词\n",
    "        'clf__C': [0.1, 1.0, 10.0],\n",
    "        'clf': [LogisticRegression(max_iter= maxIter)]\n",
    "\n",
    "    }\n",
    "\n",
    "    # 执行 Grid Search\n",
    "    grid_search = GridSearchCV(pipeline, parameters, n_jobs=6, verbose=1, scoring='accuracy', cv=3)\n",
    "    grid_search.fit(train_x, train_y)\n",
    "\n",
    "    # 打印最佳分数和参数\n",
    "    print(\"Best score: %0.3f\" % grid_search.best_score_)\n",
    "    print(\"Best parameters set:\")\n",
    "    best_parameters = grid_search.best_estimator_.get_params()\n",
    "    for param_name in sorted(parameters.keys()):\n",
    "        print(\"\\t%s: %r\" % (param_name, best_parameters[param_name]))\n",
    "\n",
    "    # 预测测试集\n",
    "    predictions = grid_search.best_estimator_.predict(test_x)\n",
    "\n",
    "    label_mapping = {0: \"Negative\", 4: \"Positive\"}\n",
    "    test_y_labels = test_y.map(label_mapping)\n",
    "    predictions_labels = pd.Series(predictions).map(label_mapping)\n",
    "\n",
    "    # 评估模型性能\n",
    "    print(\"Accuracy:\", metrics.accuracy_score(test_y_labels, predictions_labels))\n",
    "    print(\"Precision:\", metrics.precision_score(test_y_labels, predictions_labels, average='macro'))\n",
    "    print(\"Recall:\", metrics.recall_score(test_y_labels, predictions_labels, average='macro'))\n",
    "    print(\"F1 Score:\", metrics.f1_score(test_y_labels, predictions_labels, average='macro'))"
   ]
  },
  {
   "cell_type": "code",
   "execution_count": 19,
   "metadata": {},
   "outputs": [
    {
     "name": "stdout",
     "output_type": "stream",
     "text": [
      "Fitting 3 folds for each of 3 candidates, totalling 9 fits\n"
     ]
    },
    {
     "name": "stderr",
     "output_type": "stream",
     "text": [
      "/Users/zhougaoqiang/.pyenv/versions/3.11.8/lib/python3.11/site-packages/sklearn/linear_model/_logistic.py:469: ConvergenceWarning: lbfgs failed to converge (status=1):\n",
      "STOP: TOTAL NO. of ITERATIONS REACHED LIMIT.\n",
      "\n",
      "Increase the number of iterations (max_iter) or scale the data as shown in:\n",
      "    https://scikit-learn.org/stable/modules/preprocessing.html\n",
      "Please also refer to the documentation for alternative solver options:\n",
      "    https://scikit-learn.org/stable/modules/linear_model.html#logistic-regression\n",
      "  n_iter_i = _check_optimize_result(\n"
     ]
    },
    {
     "name": "stdout",
     "output_type": "stream",
     "text": [
      "Best score: 0.819\n",
      "Best parameters set:\n",
      "\tclf: LogisticRegression()\n",
      "\tclf__C: 1.0\n",
      "\ttfidf__lowercase: True\n",
      "\ttfidf__max_features: None\n",
      "\ttfidf__ngram_range: (1, 2)\n",
      "\ttfidf__stop_words: None\n",
      "Accuracy: 0.82243\n",
      "Precision: 0.8224428384162987\n",
      "Recall: 0.82243\n",
      "F1 Score: 0.8224282324461865\n"
     ]
    }
   ],
   "source": [
    "getLogisticRegressionBestResult(maxIter=100)"
   ]
  }
 ],
 "metadata": {
  "kernelspec": {
   "display_name": "gaoqiang_env",
   "language": "python",
   "name": "python3"
  },
  "language_info": {
   "codemirror_mode": {
    "name": "ipython",
    "version": 3
   },
   "file_extension": ".py",
   "mimetype": "text/x-python",
   "name": "python",
   "nbconvert_exporter": "python",
   "pygments_lexer": "ipython3",
   "version": "3.11.9"
  }
 },
 "nbformat": 4,
 "nbformat_minor": 2
}
